{
 "metadata": {
  "language_info": {
   "codemirror_mode": {
    "name": "ipython",
    "version": 3
   },
   "file_extension": ".py",
   "mimetype": "text/x-python",
   "name": "python",
   "nbconvert_exporter": "python",
   "pygments_lexer": "ipython3",
   "version": "3.7.9-final"
  },
  "orig_nbformat": 2,
  "kernelspec": {
   "name": "python3",
   "display_name": "Python 3",
   "language": "python"
  }
 },
 "nbformat": 4,
 "nbformat_minor": 2,
 "cells": [
  {
   "source": [
    "# Estimando o coeficiente de transmissão R0"
   ],
   "cell_type": "markdown",
   "metadata": {}
  },
  {
   "source": [],
   "cell_type": "markdown",
   "metadata": {}
  },
  {
   "source": [
    "aula do prof. Flavio Figueiredo UFMG:\n",
    "\n",
    "Fluxo I (infectados) para R (recuperados):\n",
    "- Tinfec: duração de uma infecção em dias até a recuperação (ou morte?)\n",
    "- gamma: 1/Tinfec (taxa de recuperação dos individulos por unidade de tempo)\n",
    "\n",
    "- I(t): parcela de infectados hj  (está transmitindo a doença)\n",
    "- R(t): parcela de 'curados' hoje (não transmite a doença)\n",
    "- S(t) \n",
    "\n",
    "- (parcela de infectados hj se 'curando' amanhã): g*I(t)  (taxa de recuperação * número de infectados hoje)\n",
    "\n",
    "- R amanha    = R hj      + (parcela de infectados hj se 'curando' amanhã)   ( R(t+1) = R(t) + g*I(t) )\n",
    "- I de amanha = I de hoje - (parcela de infectados hj se 'curando' amanhã)   ( I(t+1) = I(t) -  g*I(t) )  \n",
    ":: notar que nessa eq. (I amanha + R amanha)  = (I hoje  + R hj) ou (Iamanha - I hoje) = - (Ramanha - Rhoje) \n",
    "\n",
    "\n",
    "\n",
    "Fluxo S para R:\n",
    "- N = S + R +I ---> transforma N=1 (100%) para obter 100% = S/N + R/N + I/N  (parcela % de expostos, recuperados e infectados no instante atual hj)\n",
    "- "
   ],
   "cell_type": "markdown",
   "metadata": {}
  },
  {
   "source": [
    "Susceptible-Infected-Recovered (**SIR**) model\n",
    "describes the spread of a disease in a population split into three non-intersecting classes: \n",
    "- susceptible ($S$) are individuals who are healthy but can contract the disease; \n",
    "- Infected ($I$) are individuals who are sick; \n",
    "- Recovered ($R$) are individuals who recovered from the disease\n",
    "\n",
    "Due to the evolution of the disease, the size of each of these classes change over time and the total population size N is the sum of these classes  \n",
    "$N(t) = S(t) + I(t) + R(t)$\n",
    "\n",
    "\n",
    "- $\\beta$ be the average number of contacts that are sufficient for transmission of a person per unit of time $t$  \n",
    "- $\\beta \\times \\dfrac{I}{N}$ is the average number of contacts that are sufficient for transmission with infective individuals per unit of time of one susceptible  \n",
    "- $\\beta \\times \\dfrac{I}{N} \\times S $ is the number of new cases per unit of time due to the $S$ susceptible individuals.  \n",
    "- $\\gamma$ be the recovery rate, which is the rate that infected individuals recover or die, leaving the infected class, at constant per capita probability per unit of time.  \n",
    "\n",
    "- $\\dfrac{\\Delta S}{\\Delta t} = - \\beta \\times \\dfrac{I}{N} \\times S $ \n",
    "- $\\dfrac{\\Delta I}{\\Delta t} = \\beta \\times \\dfrac{I}{N} \\times S  - \\gamma I$ \n",
    "- $ \\dfrac{\\Delta R}{\\Delta t} = \\gamma I$\n",
    "\n",
    "the population is constant.  \n",
    "modeling a short term pandemic, we do not consider the demographic effects and we assume that an individual does not contract the disease twice\n",
    "\n",
    "\n",
    "From ref \\[2\\]: \n",
    "- \"The canonical form of SIR modeling assumes $N = S(t) + I(t) + R(t)$, while the transmission rate $\\beta$ and the rate of recovery rate $\\gamma$ are taken as real constants. The so-called basic reproduction number $R_0$, which is one of the key metrics in epidemiology, is defined by $R_0 = \\dfrac{\\beta}{\\gamma}$ \\[21,38\\]\".\n",
    "- \"The ODE system (2) with $\\beta = \\beta(t)$ is also known as\n",
    "  - _variable coefficient Susceptible-Infected-Removal_ (vSIR) \\[21\\], \n",
    "  - _time-varying SIR epidemic_ \\[22\\], \n",
    "  - _time-dependent SIR model_ \\[19,23\\]\".\n"
   ],
   "cell_type": "markdown",
   "metadata": {}
  },
  {
   "source": [
    "**SIRD**\n",
    "\n",
    "Modificação (modelo **SIRD**):\n",
    "\n",
    "- $\\rho$ a probability of an individual in the class I dying from infection before recovering  \n",
    "- $\\dfrac{\\rho}{\\left( 1−\\rho \\right)} \\gamma I$ is the number of people in the population that die due to the disease per unity of time  \n",
    "- $D$ is the number of people that die due to the disease\n",
    "\n",
    "- $\\dfrac{\\Delta I}{\\Delta t} = \\beta \\times \\dfrac{I}{N} \\times S  - \\gamma I - \\dfrac{\\rho}{\\left( 1−\\rho \\right)} \\gamma I = \\beta \\times \\dfrac{I}{N} \\times S  - \\dfrac{\\gamma I }{\\left( 1−\\rho \\right)} $\n",
    "\n",
    "the number of individuals in the population reduces due to the infection according to  \n",
    "- $\\dfrac{\\Delta N}{\\Delta t} = − \\dfrac{\\rho}{\\left( 1−\\rho \\right)} \\gamma I$\n",
    "\n",
    "$R_0 = (1 − \\rho)\\dfrac{\\beta}{\\gamma}$\n"
   ],
   "cell_type": "markdown",
   "metadata": {}
  },
  {
   "source": [
    "**SIRD**\n",
    "\n",
    "We estimate all parameters of our model by minimizing the squared error of integrated variables and their real values.  \n",
    "We proceed in a hierarchical procedure. We start by estimating the parameters of the SIRD model, namely $\\beta$, $\\gamma$ and $\\rho$ by minimizing the squared error where  \n",
    "- $\\min _{\\beta, \\gamma, \\rho} \\frac{1}{2}\\left(\\sum_{t} f\\left(\\left[\\left(I_{t}^{\\text{cum}}-D_{t}\\right)-\\left(\\hat{I}_{t}+\\hat{R}_{t}\\right)\\right]^{2}\\right)+f\\left(\\left[D_{t}-\\hat{D}_{t}\\right]^{2}\\right)\\right)$  \n",
    "- $I_{t}^{ \\text{cum} }$ isthe cumulative number of infected individuals \n",
    "- $D_t$ is the cumulative number of deaths,  \n",
    "which are the real data provided by the Ministry of Health of Brazil, and \n",
    "- $\\hat{I_t}$ is the estimated value of the infected\n",
    "- $\\hat{R_t}$ is the estimated value of the recovered\n",
    "- $\\hat{D_t}$ is the estimated value of the deaths\n",
    "\n",
    "We use the nonlinear function $f (z) = 2 C^2 \\log{\\left( \\dfrac{g(z)}{C} \\right)}$ to correct the exponential characteristic of the series so that the errors of the last values of the series do not dominate the minimization, where $g(z)=\\log(1+z)$"
   ],
   "cell_type": "markdown",
   "metadata": {}
  },
  {
   "source": [
    "**SIRASD**\n",
    "\n",
    "Modificação modelo Susceptible-InfectedRecovered for Asymptomatic-Symptomatic and Dead (**SIRASD**) :\n",
    "\n",
    "- $I_A$ is the number of asymptomatic individuals, \n",
    "- $I_S$ is the number of symptomatic individuals, \n",
    "- $R_A$ and $R_S$ are the recovered individuals from the asymptomatic and symptomatic infection, respectively, \n",
    "- and $p$ is the proportion of individuals who develop symptoms\n",
    "\n",
    "$\\begin{aligned} \\frac{d S}{d t} &=-\\left(\\beta_{A} I_{A}+\\beta_{S} I_{S}\\right) \\frac{S}{N} \\\\ \\frac{d I_{A}}{d t} &=(1-p)\\left(\\beta_{A} I_{A}+\\beta_{S} I_{S}\\right) \\frac{S}{N}-\\left(\\gamma_{A}\\right) I_{A} \\\\ \\frac{d I_{S}}{d t} &=p\\left(\\beta_{A} I_{A}+\\beta_{S} I_{S}\\right) \\frac{S}{N}-\\frac{\\gamma_{S} I_{S}}{1-\\rho} \\\\ \\frac{d R_{A}}{d t} &=\\gamma_{A} I_{A} \\\\ \\frac{d R_{S}}{d t} &=\\gamma_{S} I_{S} \\\\ \\frac{d D}{d t} &=\\frac{\\rho}{1-\\rho} \\gamma_{S} I_{S} \\end{aligned}$\n",
    "\n",
    "$\\dfrac{\\Delta N}{\\Delta t} = − \\dfrac{\\rho}{\\left( 1−\\rho \\right)} \\gamma_S I_S$\n",
    "\n",
    "Note that we lack information on the number of asymptomatic individuals, since the clear recommendation of the Ministry of Health is to test for the virus only if one has moderate or severe symptoms. Otherwise, follow the “stay at home” policy, which recommends individuals with mild symptoms to stay at home and do not seek for medical attention.\n",
    "\n",
    "The mortality rate is evaluated mostly over the symptomatic ones, since the asymptomatic are in many cases not tested.  \n",
    "Therefore, we suppose that $\\beta_S = \\beta$, $\\gamma_S = \\gamma$ and we keep the value of $\\rho$. \n",
    "\n",
    "$\\min\\limits_{\\beta_{A}, \\gamma_{A}, p} \\frac{1}{2}\\left(\\sum_{t} f\\left(\\left[\\left(I_{t}^{c u m}-D_{t}\\right)-\\left(\\hat{I}_{S, t}+\\hat{R}_{S, t}\\right)\\right]^{2}\\right)+f\\left(\\left[D_{t}-\\hat{D}_{t}\\right]^{2}\\right)\\right)$\n",
    "\n",
    "$\\hat{I_{S,t}}$, $\\hat{R_{S,t}}$ and $\\hat{D_t}$ are estimated values of the symptomatic infected and recovered individuals, and deaths.\n",
    "\n",
    "\n",
    "$R_A = (1 − p)\\dfrac{\\beta_A}{\\gamma_A}$ and $R_S = p  (1 − \\rho) \\dfrac{\\beta_S}{\\gamma_S}$ and $R_0 = R_A + R_S$.\n"
   ],
   "cell_type": "markdown",
   "metadata": {}
  },
  {
   "cell_type": "code",
   "execution_count": null,
   "metadata": {},
   "outputs": [],
   "source": []
  },
  {
   "source": [
    "\\[1\\] Bastos, S.B., Cajueiro, D.O. [Modeling and forecasting the early evolution of the Covid-19 pandemic in Brazil](https://www.nature.com/articles/s41598-020-76257-1). Sci Rep 10, 19457 (Nov 10, 2020). [DOI 10.1038/s41598-020-76257-1](https://doi.org/10.1038/s41598-020-76257-1)\n",
    "\n",
    "\\[2\\] Amaral F, Casaca W, Oishi CM, Cuminato JA. [Towards Providing Effective Data-Driven Responses to Predict the Covid-19 in São Paulo and Brazil](https://www.mdpi.com/1424-8220/21/2/540). Sensors. 2021; 21(2):540. [DOI: 10.3390/s21020540](https://doi.org/10.3390/s21020540)"
   ],
   "cell_type": "markdown",
   "metadata": {}
  },
  {
   "cell_type": "code",
   "execution_count": null,
   "metadata": {},
   "outputs": [],
   "source": []
  }
 ]
}