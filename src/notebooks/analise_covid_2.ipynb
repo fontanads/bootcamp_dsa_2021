{
 "metadata": {
  "language_info": {
   "codemirror_mode": {
    "name": "ipython",
    "version": 3
   },
   "file_extension": ".py",
   "mimetype": "text/x-python",
   "name": "python",
   "nbconvert_exporter": "python",
   "pygments_lexer": "ipython3",
   "version": "3.7.9-final"
  },
  "orig_nbformat": 2,
  "kernelspec": {
   "name": "python3",
   "display_name": "Python 3",
   "language": "python"
  }
 },
 "nbformat": 4,
 "nbformat_minor": 2,
 "cells": [
  {
   "cell_type": "code",
   "execution_count": 28,
   "metadata": {},
   "outputs": [],
   "source": [
    "import pandas as pd \n",
    "import matplotlib.pyplot as plt \n",
    "import seaborn as sns\n",
    "import numpy as np\n",
    "\n",
    "import plotly\n",
    "import plotly.offline as pyo\n",
    "import plotly.graph_objs as go\n"
   ]
  },
  {
   "cell_type": "code",
   "execution_count": 8,
   "metadata": {},
   "outputs": [],
   "source": [
    "# !dir"
   ]
  },
  {
   "cell_type": "code",
   "execution_count": 47,
   "metadata": {},
   "outputs": [
    {
     "output_type": "stream",
     "name": "stdout",
     "text": [
      "<class 'pandas.core.frame.DataFrame'>\nRangeIndex: 8694 entries, 0 to 8693\nData columns (total 18 columns):\n #   Column                           Non-Null Count  Dtype         \n---  ------                           --------------  -----         \n 0   epi_week                         8694 non-null   int64         \n 1   date                             8694 non-null   datetime64[ns]\n 2   country                          8694 non-null   object        \n 3   state                            8694 non-null   object        \n 4   city                             8694 non-null   object        \n 5   newDeaths                        8694 non-null   int64         \n 6   deaths                           8694 non-null   int64         \n 7   newCases                         8694 non-null   int64         \n 8   totalCases                       8694 non-null   int64         \n 9   deathsMS                         8694 non-null   int64         \n 10  totalCasesMS                     8694 non-null   int64         \n 11  deaths_per_100k_inhabitants      8694 non-null   float64       \n 12  totalCases_per_100k_inhabitants  8694 non-null   float64       \n 13  deaths_by_totalCases             8694 non-null   float64       \n 14  recovered                        7972 non-null   float64       \n 15  suspects                         6150 non-null   float64       \n 16  tests                            7350 non-null   float64       \n 17  tests_per_100k_inhabitants       7350 non-null   float64       \ndtypes: datetime64[ns](1), float64(7), int64(7), object(3)\nmemory usage: 1.2+ MB\nNone\n(8694, 18)\n"
     ]
    },
    {
     "output_type": "execute_result",
     "data": {
      "text/plain": [
       "   epi_week       date country  state   city  newDeaths  deaths  newCases  \\\n",
       "0         9 2020-02-25  Brazil     SP  TOTAL          0       0         1   \n",
       "1         9 2020-02-25  Brazil  TOTAL  TOTAL          0       0         1   \n",
       "2         9 2020-02-26  Brazil     SP  TOTAL          0       0         0   \n",
       "3         9 2020-02-26  Brazil  TOTAL  TOTAL          0       0         0   \n",
       "4         9 2020-02-27  Brazil     SP  TOTAL          0       0         0   \n",
       "\n",
       "   totalCases  deathsMS  totalCasesMS  deaths_per_100k_inhabitants  \\\n",
       "0           1         0             0                          0.0   \n",
       "1           1         0             0                          0.0   \n",
       "2           1         0             1                          0.0   \n",
       "3           1         0             1                          0.0   \n",
       "4           1         0             1                          0.0   \n",
       "\n",
       "   totalCases_per_100k_inhabitants  deaths_by_totalCases  recovered  suspects  \\\n",
       "0                          0.00218                   0.0        NaN       NaN   \n",
       "1                          0.00047                   0.0        NaN       NaN   \n",
       "2                          0.00218                   0.0        NaN       NaN   \n",
       "3                          0.00047                   0.0        NaN       NaN   \n",
       "4                          0.00218                   0.0        NaN       NaN   \n",
       "\n",
       "   tests  tests_per_100k_inhabitants  \n",
       "0    NaN                         NaN  \n",
       "1    NaN                         NaN  \n",
       "2    NaN                         NaN  \n",
       "3    NaN                         NaN  \n",
       "4    NaN                         NaN  "
      ],
      "text/html": "<div>\n<style scoped>\n    .dataframe tbody tr th:only-of-type {\n        vertical-align: middle;\n    }\n\n    .dataframe tbody tr th {\n        vertical-align: top;\n    }\n\n    .dataframe thead th {\n        text-align: right;\n    }\n</style>\n<table border=\"1\" class=\"dataframe\">\n  <thead>\n    <tr style=\"text-align: right;\">\n      <th></th>\n      <th>epi_week</th>\n      <th>date</th>\n      <th>country</th>\n      <th>state</th>\n      <th>city</th>\n      <th>newDeaths</th>\n      <th>deaths</th>\n      <th>newCases</th>\n      <th>totalCases</th>\n      <th>deathsMS</th>\n      <th>totalCasesMS</th>\n      <th>deaths_per_100k_inhabitants</th>\n      <th>totalCases_per_100k_inhabitants</th>\n      <th>deaths_by_totalCases</th>\n      <th>recovered</th>\n      <th>suspects</th>\n      <th>tests</th>\n      <th>tests_per_100k_inhabitants</th>\n    </tr>\n  </thead>\n  <tbody>\n    <tr>\n      <th>0</th>\n      <td>9</td>\n      <td>2020-02-25</td>\n      <td>Brazil</td>\n      <td>SP</td>\n      <td>TOTAL</td>\n      <td>0</td>\n      <td>0</td>\n      <td>1</td>\n      <td>1</td>\n      <td>0</td>\n      <td>0</td>\n      <td>0.0</td>\n      <td>0.00218</td>\n      <td>0.0</td>\n      <td>NaN</td>\n      <td>NaN</td>\n      <td>NaN</td>\n      <td>NaN</td>\n    </tr>\n    <tr>\n      <th>1</th>\n      <td>9</td>\n      <td>2020-02-25</td>\n      <td>Brazil</td>\n      <td>TOTAL</td>\n      <td>TOTAL</td>\n      <td>0</td>\n      <td>0</td>\n      <td>1</td>\n      <td>1</td>\n      <td>0</td>\n      <td>0</td>\n      <td>0.0</td>\n      <td>0.00047</td>\n      <td>0.0</td>\n      <td>NaN</td>\n      <td>NaN</td>\n      <td>NaN</td>\n      <td>NaN</td>\n    </tr>\n    <tr>\n      <th>2</th>\n      <td>9</td>\n      <td>2020-02-26</td>\n      <td>Brazil</td>\n      <td>SP</td>\n      <td>TOTAL</td>\n      <td>0</td>\n      <td>0</td>\n      <td>0</td>\n      <td>1</td>\n      <td>0</td>\n      <td>1</td>\n      <td>0.0</td>\n      <td>0.00218</td>\n      <td>0.0</td>\n      <td>NaN</td>\n      <td>NaN</td>\n      <td>NaN</td>\n      <td>NaN</td>\n    </tr>\n    <tr>\n      <th>3</th>\n      <td>9</td>\n      <td>2020-02-26</td>\n      <td>Brazil</td>\n      <td>TOTAL</td>\n      <td>TOTAL</td>\n      <td>0</td>\n      <td>0</td>\n      <td>0</td>\n      <td>1</td>\n      <td>0</td>\n      <td>1</td>\n      <td>0.0</td>\n      <td>0.00047</td>\n      <td>0.0</td>\n      <td>NaN</td>\n      <td>NaN</td>\n      <td>NaN</td>\n      <td>NaN</td>\n    </tr>\n    <tr>\n      <th>4</th>\n      <td>9</td>\n      <td>2020-02-27</td>\n      <td>Brazil</td>\n      <td>SP</td>\n      <td>TOTAL</td>\n      <td>0</td>\n      <td>0</td>\n      <td>0</td>\n      <td>1</td>\n      <td>0</td>\n      <td>1</td>\n      <td>0.0</td>\n      <td>0.00218</td>\n      <td>0.0</td>\n      <td>NaN</td>\n      <td>NaN</td>\n      <td>NaN</td>\n      <td>NaN</td>\n    </tr>\n  </tbody>\n</table>\n</div>"
     },
     "metadata": {},
     "execution_count": 47
    }
   ],
   "source": [
    "\n",
    "# dealing with local dataset\n",
    "# df = pd.read_csv('../../data/cases-brazil-cities-time.csv.gz', compression='gzip', sep=',')\n",
    "# df.head()\n",
    "\n",
    "df_woca = pd.read_csv('../../data/cases-brazil-states.csv')\n",
    "df_woca['date'] = pd.to_datetime(df['date'])\n",
    "\n",
    "print(df_woca.info())\n",
    "print(df_woca.shape)\n",
    "df_woca.head()\n"
   ]
  },
  {
   "cell_type": "code",
   "execution_count": 22,
   "metadata": {},
   "outputs": [
    {
     "output_type": "execute_result",
     "data": {
      "text/plain": [
       "array(['SP', 'TOTAL', 'RJ', 'BA', 'ES', 'DF', 'AL', 'MG', 'RS', 'GO',\n",
       "       'PE', 'PR', 'RN', 'SC', 'AM', 'MS', 'SE', 'CE', 'AC', 'PA', 'PB',\n",
       "       'TO', 'PI', 'AP', 'MA', 'MT', 'RO', 'RR'], dtype=object)"
      ]
     },
     "metadata": {},
     "execution_count": 22
    }
   ],
   "source": [
    "df_woca['state'].unique()"
   ]
  },
  {
   "cell_type": "code",
   "execution_count": 56,
   "metadata": {},
   "outputs": [],
   "source": [
    "df_woca['testes_caso_confirmado'] = df_woca['tests']/df_woca['totalCases']"
   ]
  },
  {
   "cell_type": "code",
   "execution_count": 57,
   "metadata": {},
   "outputs": [],
   "source": [
    "def get_plotly_lineplot_trace_object(x, y, name=''):\n",
    "    # marker_dict = dict(size=12,\n",
    "    #                 color ='rgb(51,204,153)',\n",
    "    #                 symbol='pentagon',\n",
    "    #                 line={'width':2}\n",
    "                #   )\n",
    "    # trace\n",
    "    trace = go.Scatter(x=x, y=y, \n",
    "                       mode='lines', name=name)\n",
    "                    #    marker=marker_dict)\n",
    "    return trace\n",
    "\n",
    "def get_state_tests_df(df, state_str, xvar, yvar):\n",
    "    return df.query(f\"state == '{state_str}' \")[[xvar,yvar]]\n",
    "    \n",
    "def get_xy_data_from_state_df(state_df):\n",
    "    x=state_df.iloc[:,0]\n",
    "    y=state_df.iloc[:,1]\n",
    "    return (x,y)\n"
   ]
  },
  {
   "cell_type": "code",
   "execution_count": 59,
   "metadata": {},
   "outputs": [
    {
     "output_type": "execute_result",
     "data": {
      "text/plain": [
       "'lineplot.html'"
      ]
     },
     "metadata": {},
     "execution_count": 59
    }
   ],
   "source": [
    "xvar = 'date'\n",
    "yvar = 'testes_caso_confirmado'#'tests_per_100k_inhabitants'\n",
    "\n",
    "traces = [get_plotly_lineplot_trace_object( *get_xy_data_from_state_df(get_state_tests_df(df, state_str, xvar=xvar, yvar=yvar)), name=state_str) for state_str in ['SP','RJ','RS','SC']]\n",
    "data = [*traces]\n",
    "\n",
    "layout = go.Layout(title='COVID-BR',\n",
    "                  xaxis={'title':'Data'},\n",
    "                  yaxis=dict(title='Testes por caso'),\n",
    "                  hovermode='closest')\n",
    "\n",
    "fig = go.Figure(data=data, layout=layout)\n",
    "\n",
    "pyo.plot(fig, filename='lineplot.html')"
   ]
  },
  {
   "cell_type": "code",
   "execution_count": null,
   "metadata": {},
   "outputs": [],
   "source": [
    "\n",
    "\n",
    "data = [get_plotly_lineplot_trace_object(df_woca['date'], df_woca['totalCases'], name='w'), # https://github.com/wcota/covid19br/\n",
    "        get_plotly_lineplot_trace_object(df_gov['date'], df_gov['totalCases'], name='w'),\n",
    "        ] # https://covid.saude.gov.br/\n",
    "\n",
    "fig = go.Figure(data=data)\n",
    "\n",
    "pyo.plot(fig, filename='lineplot.html')"
   ]
  }
 ]
}