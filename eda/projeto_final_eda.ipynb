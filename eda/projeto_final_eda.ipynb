{
 "metadata": {
  "language_info": {
   "codemirror_mode": {
    "name": "ipython",
    "version": 3
   },
   "file_extension": ".py",
   "mimetype": "text/x-python",
   "name": "python",
   "nbconvert_exporter": "python",
   "pygments_lexer": "ipython3",
   "version": "3.7.9-final"
  },
  "orig_nbformat": 2,
  "kernelspec": {
   "name": "python3",
   "display_name": "Python 3",
   "language": "python"
  }
 },
 "nbformat": 4,
 "nbformat_minor": 2,
 "cells": [
  {
   "cell_type": "code",
   "execution_count": 1,
   "metadata": {},
   "outputs": [],
   "source": [
    "import pandas as pd\n",
    "import numpy as np \n",
    "import matplotlib.pyplot as plt\n",
    "import seaborn as sns\n",
    "import plotly.offline as pyo\n",
    "import plotly.graph_objs as go\n",
    "# from plotly.subplots import make_subplots"
   ]
  },
  {
   "cell_type": "code",
   "execution_count": 2,
   "metadata": {},
   "outputs": [],
   "source": [
    "SEED = 45678\n",
    "np.random.seed(SEED)"
   ]
  },
  {
   "cell_type": "code",
   "execution_count": 3,
   "metadata": {},
   "outputs": [
    {
     "output_type": "execute_result",
     "data": {
      "text/plain": [
       "   PATIENT_VISIT_IDENTIFIER  AGE_ABOVE65 AGE_PERCENTIL  GENDER  \\\n",
       "0                         0            1          60th       0   \n",
       "1                         0            1          60th       0   \n",
       "2                         0            1          60th       0   \n",
       "3                         0            1          60th       0   \n",
       "4                         0            1          60th       0   \n",
       "\n",
       "   DISEASE GROUPING 1  DISEASE GROUPING 2  DISEASE GROUPING 3  \\\n",
       "0                 0.0                 0.0                 0.0   \n",
       "1                 0.0                 0.0                 0.0   \n",
       "2                 0.0                 0.0                 0.0   \n",
       "3                 0.0                 0.0                 0.0   \n",
       "4                 0.0                 0.0                 0.0   \n",
       "\n",
       "   DISEASE GROUPING 4  DISEASE GROUPING 5  DISEASE GROUPING 6  ...  \\\n",
       "0                 0.0                 1.0                 1.0  ...   \n",
       "1                 0.0                 1.0                 1.0  ...   \n",
       "2                 0.0                 1.0                 1.0  ...   \n",
       "3                 0.0                 1.0                 1.0  ...   \n",
       "4                 0.0                 1.0                 1.0  ...   \n",
       "\n",
       "   TEMPERATURE_DIFF  OXYGEN_SATURATION_DIFF  BLOODPRESSURE_DIASTOLIC_DIFF_REL  \\\n",
       "0         -1.000000               -1.000000                         -1.000000   \n",
       "1         -1.000000               -1.000000                         -1.000000   \n",
       "2               NaN                     NaN                               NaN   \n",
       "3         -1.000000               -1.000000                               NaN   \n",
       "4         -0.238095               -0.818182                         -0.389967   \n",
       "\n",
       "   BLOODPRESSURE_SISTOLIC_DIFF_REL  HEART_RATE_DIFF_REL  \\\n",
       "0                        -1.000000            -1.000000   \n",
       "1                        -1.000000            -1.000000   \n",
       "2                              NaN                  NaN   \n",
       "3                              NaN                  NaN   \n",
       "4                         0.407558            -0.230462   \n",
       "\n",
       "   RESPIRATORY_RATE_DIFF_REL  TEMPERATURE_DIFF_REL  \\\n",
       "0                  -1.000000             -1.000000   \n",
       "1                  -1.000000             -1.000000   \n",
       "2                        NaN                   NaN   \n",
       "3                        NaN             -1.000000   \n",
       "4                   0.096774             -0.242282   \n",
       "\n",
       "   OXYGEN_SATURATION_DIFF_REL    WINDOW  ICU  \n",
       "0                   -1.000000       0-2    0  \n",
       "1                   -1.000000       2-4    0  \n",
       "2                         NaN       4-6    0  \n",
       "3                   -1.000000      6-12    0  \n",
       "4                   -0.814433  ABOVE_12    1  \n",
       "\n",
       "[5 rows x 231 columns]"
      ],
      "text/html": "<div>\n<style scoped>\n    .dataframe tbody tr th:only-of-type {\n        vertical-align: middle;\n    }\n\n    .dataframe tbody tr th {\n        vertical-align: top;\n    }\n\n    .dataframe thead th {\n        text-align: right;\n    }\n</style>\n<table border=\"1\" class=\"dataframe\">\n  <thead>\n    <tr style=\"text-align: right;\">\n      <th></th>\n      <th>PATIENT_VISIT_IDENTIFIER</th>\n      <th>AGE_ABOVE65</th>\n      <th>AGE_PERCENTIL</th>\n      <th>GENDER</th>\n      <th>DISEASE GROUPING 1</th>\n      <th>DISEASE GROUPING 2</th>\n      <th>DISEASE GROUPING 3</th>\n      <th>DISEASE GROUPING 4</th>\n      <th>DISEASE GROUPING 5</th>\n      <th>DISEASE GROUPING 6</th>\n      <th>...</th>\n      <th>TEMPERATURE_DIFF</th>\n      <th>OXYGEN_SATURATION_DIFF</th>\n      <th>BLOODPRESSURE_DIASTOLIC_DIFF_REL</th>\n      <th>BLOODPRESSURE_SISTOLIC_DIFF_REL</th>\n      <th>HEART_RATE_DIFF_REL</th>\n      <th>RESPIRATORY_RATE_DIFF_REL</th>\n      <th>TEMPERATURE_DIFF_REL</th>\n      <th>OXYGEN_SATURATION_DIFF_REL</th>\n      <th>WINDOW</th>\n      <th>ICU</th>\n    </tr>\n  </thead>\n  <tbody>\n    <tr>\n      <th>0</th>\n      <td>0</td>\n      <td>1</td>\n      <td>60th</td>\n      <td>0</td>\n      <td>0.0</td>\n      <td>0.0</td>\n      <td>0.0</td>\n      <td>0.0</td>\n      <td>1.0</td>\n      <td>1.0</td>\n      <td>...</td>\n      <td>-1.000000</td>\n      <td>-1.000000</td>\n      <td>-1.000000</td>\n      <td>-1.000000</td>\n      <td>-1.000000</td>\n      <td>-1.000000</td>\n      <td>-1.000000</td>\n      <td>-1.000000</td>\n      <td>0-2</td>\n      <td>0</td>\n    </tr>\n    <tr>\n      <th>1</th>\n      <td>0</td>\n      <td>1</td>\n      <td>60th</td>\n      <td>0</td>\n      <td>0.0</td>\n      <td>0.0</td>\n      <td>0.0</td>\n      <td>0.0</td>\n      <td>1.0</td>\n      <td>1.0</td>\n      <td>...</td>\n      <td>-1.000000</td>\n      <td>-1.000000</td>\n      <td>-1.000000</td>\n      <td>-1.000000</td>\n      <td>-1.000000</td>\n      <td>-1.000000</td>\n      <td>-1.000000</td>\n      <td>-1.000000</td>\n      <td>2-4</td>\n      <td>0</td>\n    </tr>\n    <tr>\n      <th>2</th>\n      <td>0</td>\n      <td>1</td>\n      <td>60th</td>\n      <td>0</td>\n      <td>0.0</td>\n      <td>0.0</td>\n      <td>0.0</td>\n      <td>0.0</td>\n      <td>1.0</td>\n      <td>1.0</td>\n      <td>...</td>\n      <td>NaN</td>\n      <td>NaN</td>\n      <td>NaN</td>\n      <td>NaN</td>\n      <td>NaN</td>\n      <td>NaN</td>\n      <td>NaN</td>\n      <td>NaN</td>\n      <td>4-6</td>\n      <td>0</td>\n    </tr>\n    <tr>\n      <th>3</th>\n      <td>0</td>\n      <td>1</td>\n      <td>60th</td>\n      <td>0</td>\n      <td>0.0</td>\n      <td>0.0</td>\n      <td>0.0</td>\n      <td>0.0</td>\n      <td>1.0</td>\n      <td>1.0</td>\n      <td>...</td>\n      <td>-1.000000</td>\n      <td>-1.000000</td>\n      <td>NaN</td>\n      <td>NaN</td>\n      <td>NaN</td>\n      <td>NaN</td>\n      <td>-1.000000</td>\n      <td>-1.000000</td>\n      <td>6-12</td>\n      <td>0</td>\n    </tr>\n    <tr>\n      <th>4</th>\n      <td>0</td>\n      <td>1</td>\n      <td>60th</td>\n      <td>0</td>\n      <td>0.0</td>\n      <td>0.0</td>\n      <td>0.0</td>\n      <td>0.0</td>\n      <td>1.0</td>\n      <td>1.0</td>\n      <td>...</td>\n      <td>-0.238095</td>\n      <td>-0.818182</td>\n      <td>-0.389967</td>\n      <td>0.407558</td>\n      <td>-0.230462</td>\n      <td>0.096774</td>\n      <td>-0.242282</td>\n      <td>-0.814433</td>\n      <td>ABOVE_12</td>\n      <td>1</td>\n    </tr>\n  </tbody>\n</table>\n<p>5 rows × 231 columns</p>\n</div>"
     },
     "metadata": {},
     "execution_count": 3
    }
   ],
   "source": [
    "df = pd.read_excel('../data/Kaggle_Sirio_Libanes_ICU_Prediction.xlsx')\n",
    "df.head()"
   ]
  },
  {
   "cell_type": "code",
   "execution_count": 4,
   "metadata": {},
   "outputs": [],
   "source": [
    "# Label output\n",
    "# 'ICU' should be considered, as the first version of this dataset, the target variable.\n",
    "\n",
    "# Window Concept\n",
    "# -- patient encounter\n",
    "# -- aggregated by windows in chronological order\n",
    "# e.g. '2-4': From 2 to 4 hours of the admission\n",
    "# Beware NOT to use the data when the target variable is present, as it is unknown the order of the event \n",
    "# (maybe the target event happened before the results were obtained). \n",
    "# They were kept there so we can grow this dataset in other outcomes latter on.\n",
    "# OU SEJA, quando ICU=1 (Entrada, \"admission\"), não devemos usar os dados pois não se sabe se a medição ocorreu antes ou depois da internação.\n",
    "# da mesma forma, ICU=1 (permanece ,\"stay\") não deve ser usado nas previsões\n",
    "# \n",
    "\n",
    "# Scaler\n",
    "# Data has been cleaned and scaled by column according to Min Max Scaler to fit between -1 and 1.\n",
    "# \n",
    "# Available data\n",
    "# :::: Patient demographic information (03)\n",
    "# :::: Patient previous grouped diseases (09)\n",
    "# :::: Blood results (36)\n",
    "# :::: Vital signs (06)\n",
    "# :::: In total there are 54 features, expanded when pertinent to the mean, median, max, min, diff and relative diff.\n",
    "\n",
    "# :::: diff = max - min\n",
    "# :::: relative diff = diff/median\n",
    "\n",
    "\n",
    "# Tips & Tricks\n",
    "# Missing data\n",
    "# :::: Problem: \n",
    "# :::: :::: One of the major challenges of working with health care data is that the sampling rate varies across different type of measurements. \n",
    "# :::: :::: For instance, vital signs are sampled more frequently (usually hourly) than blood labs (usually daily).\n",
    "# :::: Tips & Tricks: \n",
    "# :::: :::: It is reasonable to assume that a patient who does not have a measurement recorded in a time window is clinically stable, \n",
    "# :::: :::: potentially presenting vital signs and blood labs similar to neighboring windows. \n",
    "# :::: :::: Therefore, one may fill the missing values using the next or previous entry. \n",
    "# :::: :::: Attention to multicollinearity and zero variance issues in this data when choosing your algorithm.\n",
    "\n",
    "# The earlier, the better!\n",
    "# :::: Problem: \n",
    "# :::: :::: Early identification of those patients who will develop an adverse course of illness (and need intensive care) \n",
    "# :::: :::: is a key for an appropriate treatment (saving lives) and to managing beds and resources.\n",
    "# :::: Tips & Tricks: \n",
    "# :::: :::: Whereas a predictive model using all time windows will probably yield a greater accuracy, \n",
    "# :::: :::: a nice model using only the first (0-2) is likely to be more clinically relevant. \n",
    "# :::: :::: The creativity is very welcome though, please feel free with feature engineering and time windows. \n",
    "# :::: :::: Attention to repeated measures on individuals once these values are (positively) correlated when playing around with data.\n"
   ]
  },
  {
   "cell_type": "code",
   "execution_count": 5,
   "metadata": {},
   "outputs": [
    {
     "output_type": "stream",
     "name": "stdout",
     "text": [
      "<class 'pandas.core.frame.DataFrame'>\nRangeIndex: 1925 entries, 0 to 1924\nColumns: 231 entries, PATIENT_VISIT_IDENTIFIER to ICU\ndtypes: float64(225), int64(4), object(2)\nmemory usage: 3.4+ MB\n"
     ]
    }
   ],
   "source": [
    "df.info()"
   ]
  },
  {
   "cell_type": "code",
   "execution_count": 6,
   "metadata": {},
   "outputs": [
    {
     "output_type": "execute_result",
     "data": {
      "text/plain": [
       "Index(['PATIENT_VISIT_IDENTIFIER', 'AGE_ABOVE65', 'AGE_PERCENTIL', 'GENDER',\n",
       "       'DISEASE GROUPING 1', 'DISEASE GROUPING 2', 'DISEASE GROUPING 3',\n",
       "       'DISEASE GROUPING 4', 'DISEASE GROUPING 5', 'DISEASE GROUPING 6',\n",
       "       ...\n",
       "       'TEMPERATURE_DIFF', 'OXYGEN_SATURATION_DIFF',\n",
       "       'BLOODPRESSURE_DIASTOLIC_DIFF_REL', 'BLOODPRESSURE_SISTOLIC_DIFF_REL',\n",
       "       'HEART_RATE_DIFF_REL', 'RESPIRATORY_RATE_DIFF_REL',\n",
       "       'TEMPERATURE_DIFF_REL', 'OXYGEN_SATURATION_DIFF_REL', 'WINDOW', 'ICU'],\n",
       "      dtype='object', length=231)"
      ]
     },
     "metadata": {},
     "execution_count": 6
    }
   ],
   "source": [
    "df.columns"
   ]
  },
  {
   "source": [
    "## Separando as colunas por agrupamentos"
   ],
   "cell_type": "markdown",
   "metadata": {}
  },
  {
   "cell_type": "code",
   "execution_count": 7,
   "metadata": {},
   "outputs": [],
   "source": [
    "patient_id_col              = 'PATIENT_VISIT_IDENTIFIER'                 # 0\n",
    "patient_demo_cols           = ['AGE_ABOVE65', 'AGE_PERCENTIL', 'GENDER'] # 1:4\n",
    "patient_prev_group_dis_cols = ['DISEASE GROUPING 1', 'DISEASE GROUPING 2', 'DISEASE GROUPING 3','DISEASE GROUPING 4', 'DISEASE GROUPING 5', 'DISEASE GROUPING 6'] # 4:10\n",
    "patient_blood_cols          =  df.columns[10:193].tolist() # 10:193 \n",
    "patient_vitals_cols         =  df.columns[193:-2].tolist() # 193:-2 \n",
    "window_id_col               = 'WINDOW' # -2\n",
    "target_col                  = 'ICU'    # -1"
   ]
  },
  {
   "source": [
    "## Verificando se os dados estão ordenados conforme os valores da coluna `window`"
   ],
   "cell_type": "markdown",
   "metadata": {}
  },
  {
   "cell_type": "code",
   "execution_count": 8,
   "metadata": {},
   "outputs": [
    {
     "output_type": "execute_result",
     "data": {
      "text/plain": [
       "PATIENT_VISIT_IDENTIFIER\n",
       "99         0-2\n",
       "99         2-4\n",
       "99         4-6\n",
       "99        6-12\n",
       "99    ABOVE_12\n",
       "Name: WINDOW, dtype: object"
      ]
     },
     "metadata": {},
     "execution_count": 8
    }
   ],
   "source": [
    "df.set_index(patient_id_col).loc[99][window_id_col] #  aparentemente, todas as janelas já estão organizadas em ordem crescente"
   ]
  },
  {
   "source": [
    "## Identificando pacientes que entraram na ICU dentro da primeira janela `'0-2'`"
   ],
   "cell_type": "markdown",
   "metadata": {}
  },
  {
   "cell_type": "code",
   "execution_count": 9,
   "metadata": {},
   "outputs": [
    {
     "output_type": "execute_result",
     "data": {
      "text/plain": [
       "32"
      ]
     },
     "metadata": {},
     "execution_count": 9
    }
   ],
   "source": [
    "df_1st_window          = df[df[window_id_col]=='0-2']\n",
    "df_1st_window_ICU_is_1 = df_1st_window[ df_1st_window['ICU']==1 ]\n",
    "# esses usuários não podem ser usados para treino/teste\n",
    "# pode ser um caso interessante para analisar descritivamente, fora do problema de machine learning\n",
    "\n",
    "patients_cant_be_used = df_1st_window_ICU_is_1[patient_id_col]\n",
    "len(patients_cant_be_used)"
   ]
  },
  {
   "source": [
    "## Descartando pacientes que entraram na ICU dentro da primeira janela"
   ],
   "cell_type": "markdown",
   "metadata": {}
  },
  {
   "cell_type": "code",
   "execution_count": 10,
   "metadata": {},
   "outputs": [
    {
     "output_type": "execute_result",
     "data": {
      "text/plain": [
       "      PATIENT_VISIT_IDENTIFIER  AGE_ABOVE65 AGE_PERCENTIL  GENDER  \\\n",
       "0                            0            1          60th       0   \n",
       "1                            0            1          60th       0   \n",
       "2                            0            1          60th       0   \n",
       "3                            0            1          60th       0   \n",
       "4                            0            1          60th       0   \n",
       "...                        ...          ...           ...     ...   \n",
       "1760                       384            0          50th       1   \n",
       "1761                       384            0          50th       1   \n",
       "1762                       384            0          50th       1   \n",
       "1763                       384            0          50th       1   \n",
       "1764                       384            0          50th       1   \n",
       "\n",
       "      DISEASE GROUPING 1  DISEASE GROUPING 2  DISEASE GROUPING 3  \\\n",
       "0                    0.0                 0.0                 0.0   \n",
       "1                    0.0                 0.0                 0.0   \n",
       "2                    0.0                 0.0                 0.0   \n",
       "3                    0.0                 0.0                 0.0   \n",
       "4                    0.0                 0.0                 0.0   \n",
       "...                  ...                 ...                 ...   \n",
       "1760                 0.0                 0.0                 0.0   \n",
       "1761                 0.0                 0.0                 0.0   \n",
       "1762                 0.0                 0.0                 0.0   \n",
       "1763                 0.0                 0.0                 0.0   \n",
       "1764                 0.0                 0.0                 1.0   \n",
       "\n",
       "      DISEASE GROUPING 4  DISEASE GROUPING 5  DISEASE GROUPING 6  ...  \\\n",
       "0                    0.0                 1.0                 1.0  ...   \n",
       "1                    0.0                 1.0                 1.0  ...   \n",
       "2                    0.0                 1.0                 1.0  ...   \n",
       "3                    0.0                 1.0                 1.0  ...   \n",
       "4                    0.0                 1.0                 1.0  ...   \n",
       "...                  ...                 ...                 ...  ...   \n",
       "1760                 0.0                 0.0                 0.0  ...   \n",
       "1761                 0.0                 0.0                 0.0  ...   \n",
       "1762                 0.0                 0.0                 0.0  ...   \n",
       "1763                 0.0                 0.0                 0.0  ...   \n",
       "1764                 0.0                 0.0                 0.0  ...   \n",
       "\n",
       "      TEMPERATURE_DIFF  OXYGEN_SATURATION_DIFF  \\\n",
       "0            -1.000000               -1.000000   \n",
       "1            -1.000000               -1.000000   \n",
       "2                  NaN                     NaN   \n",
       "3            -1.000000               -1.000000   \n",
       "4            -0.238095               -0.818182   \n",
       "...                ...                     ...   \n",
       "1760         -1.000000               -1.000000   \n",
       "1761         -1.000000               -1.000000   \n",
       "1762         -1.000000               -1.000000   \n",
       "1763         -1.000000               -1.000000   \n",
       "1764         -0.547619               -0.838384   \n",
       "\n",
       "      BLOODPRESSURE_DIASTOLIC_DIFF_REL  BLOODPRESSURE_SISTOLIC_DIFF_REL  \\\n",
       "0                            -1.000000                        -1.000000   \n",
       "1                            -1.000000                        -1.000000   \n",
       "2                                  NaN                              NaN   \n",
       "3                                  NaN                              NaN   \n",
       "4                            -0.389967                         0.407558   \n",
       "...                                ...                              ...   \n",
       "1760                         -1.000000                        -1.000000   \n",
       "1761                         -1.000000                        -1.000000   \n",
       "1762                         -1.000000                        -1.000000   \n",
       "1763                         -1.000000                        -1.000000   \n",
       "1764                         -0.701863                        -0.585967   \n",
       "\n",
       "      HEART_RATE_DIFF_REL  RESPIRATORY_RATE_DIFF_REL  TEMPERATURE_DIFF_REL  \\\n",
       "0               -1.000000                  -1.000000             -1.000000   \n",
       "1               -1.000000                  -1.000000             -1.000000   \n",
       "2                     NaN                        NaN                   NaN   \n",
       "3                     NaN                        NaN             -1.000000   \n",
       "4               -0.230462                   0.096774             -0.242282   \n",
       "...                   ...                        ...                   ...   \n",
       "1760            -1.000000                  -1.000000             -1.000000   \n",
       "1761            -1.000000                  -1.000000             -1.000000   \n",
       "1762            -1.000000                  -1.000000             -1.000000   \n",
       "1763            -1.000000                  -1.000000             -1.000000   \n",
       "1764            -0.763868                  -0.612903             -0.551337   \n",
       "\n",
       "      OXYGEN_SATURATION_DIFF_REL    WINDOW  ICU  \n",
       "0                      -1.000000       0-2    0  \n",
       "1                      -1.000000       2-4    0  \n",
       "2                            NaN       4-6    0  \n",
       "3                      -1.000000      6-12    0  \n",
       "4                      -0.814433  ABOVE_12    1  \n",
       "...                          ...       ...  ...  \n",
       "1760                   -1.000000       0-2    0  \n",
       "1761                   -1.000000       2-4    0  \n",
       "1762                   -1.000000       4-6    0  \n",
       "1763                   -1.000000      6-12    0  \n",
       "1764                   -0.835052  ABOVE_12    0  \n",
       "\n",
       "[1765 rows x 231 columns]"
      ],
      "text/html": "<div>\n<style scoped>\n    .dataframe tbody tr th:only-of-type {\n        vertical-align: middle;\n    }\n\n    .dataframe tbody tr th {\n        vertical-align: top;\n    }\n\n    .dataframe thead th {\n        text-align: right;\n    }\n</style>\n<table border=\"1\" class=\"dataframe\">\n  <thead>\n    <tr style=\"text-align: right;\">\n      <th></th>\n      <th>PATIENT_VISIT_IDENTIFIER</th>\n      <th>AGE_ABOVE65</th>\n      <th>AGE_PERCENTIL</th>\n      <th>GENDER</th>\n      <th>DISEASE GROUPING 1</th>\n      <th>DISEASE GROUPING 2</th>\n      <th>DISEASE GROUPING 3</th>\n      <th>DISEASE GROUPING 4</th>\n      <th>DISEASE GROUPING 5</th>\n      <th>DISEASE GROUPING 6</th>\n      <th>...</th>\n      <th>TEMPERATURE_DIFF</th>\n      <th>OXYGEN_SATURATION_DIFF</th>\n      <th>BLOODPRESSURE_DIASTOLIC_DIFF_REL</th>\n      <th>BLOODPRESSURE_SISTOLIC_DIFF_REL</th>\n      <th>HEART_RATE_DIFF_REL</th>\n      <th>RESPIRATORY_RATE_DIFF_REL</th>\n      <th>TEMPERATURE_DIFF_REL</th>\n      <th>OXYGEN_SATURATION_DIFF_REL</th>\n      <th>WINDOW</th>\n      <th>ICU</th>\n    </tr>\n  </thead>\n  <tbody>\n    <tr>\n      <th>0</th>\n      <td>0</td>\n      <td>1</td>\n      <td>60th</td>\n      <td>0</td>\n      <td>0.0</td>\n      <td>0.0</td>\n      <td>0.0</td>\n      <td>0.0</td>\n      <td>1.0</td>\n      <td>1.0</td>\n      <td>...</td>\n      <td>-1.000000</td>\n      <td>-1.000000</td>\n      <td>-1.000000</td>\n      <td>-1.000000</td>\n      <td>-1.000000</td>\n      <td>-1.000000</td>\n      <td>-1.000000</td>\n      <td>-1.000000</td>\n      <td>0-2</td>\n      <td>0</td>\n    </tr>\n    <tr>\n      <th>1</th>\n      <td>0</td>\n      <td>1</td>\n      <td>60th</td>\n      <td>0</td>\n      <td>0.0</td>\n      <td>0.0</td>\n      <td>0.0</td>\n      <td>0.0</td>\n      <td>1.0</td>\n      <td>1.0</td>\n      <td>...</td>\n      <td>-1.000000</td>\n      <td>-1.000000</td>\n      <td>-1.000000</td>\n      <td>-1.000000</td>\n      <td>-1.000000</td>\n      <td>-1.000000</td>\n      <td>-1.000000</td>\n      <td>-1.000000</td>\n      <td>2-4</td>\n      <td>0</td>\n    </tr>\n    <tr>\n      <th>2</th>\n      <td>0</td>\n      <td>1</td>\n      <td>60th</td>\n      <td>0</td>\n      <td>0.0</td>\n      <td>0.0</td>\n      <td>0.0</td>\n      <td>0.0</td>\n      <td>1.0</td>\n      <td>1.0</td>\n      <td>...</td>\n      <td>NaN</td>\n      <td>NaN</td>\n      <td>NaN</td>\n      <td>NaN</td>\n      <td>NaN</td>\n      <td>NaN</td>\n      <td>NaN</td>\n      <td>NaN</td>\n      <td>4-6</td>\n      <td>0</td>\n    </tr>\n    <tr>\n      <th>3</th>\n      <td>0</td>\n      <td>1</td>\n      <td>60th</td>\n      <td>0</td>\n      <td>0.0</td>\n      <td>0.0</td>\n      <td>0.0</td>\n      <td>0.0</td>\n      <td>1.0</td>\n      <td>1.0</td>\n      <td>...</td>\n      <td>-1.000000</td>\n      <td>-1.000000</td>\n      <td>NaN</td>\n      <td>NaN</td>\n      <td>NaN</td>\n      <td>NaN</td>\n      <td>-1.000000</td>\n      <td>-1.000000</td>\n      <td>6-12</td>\n      <td>0</td>\n    </tr>\n    <tr>\n      <th>4</th>\n      <td>0</td>\n      <td>1</td>\n      <td>60th</td>\n      <td>0</td>\n      <td>0.0</td>\n      <td>0.0</td>\n      <td>0.0</td>\n      <td>0.0</td>\n      <td>1.0</td>\n      <td>1.0</td>\n      <td>...</td>\n      <td>-0.238095</td>\n      <td>-0.818182</td>\n      <td>-0.389967</td>\n      <td>0.407558</td>\n      <td>-0.230462</td>\n      <td>0.096774</td>\n      <td>-0.242282</td>\n      <td>-0.814433</td>\n      <td>ABOVE_12</td>\n      <td>1</td>\n    </tr>\n    <tr>\n      <th>...</th>\n      <td>...</td>\n      <td>...</td>\n      <td>...</td>\n      <td>...</td>\n      <td>...</td>\n      <td>...</td>\n      <td>...</td>\n      <td>...</td>\n      <td>...</td>\n      <td>...</td>\n      <td>...</td>\n      <td>...</td>\n      <td>...</td>\n      <td>...</td>\n      <td>...</td>\n      <td>...</td>\n      <td>...</td>\n      <td>...</td>\n      <td>...</td>\n      <td>...</td>\n      <td>...</td>\n    </tr>\n    <tr>\n      <th>1760</th>\n      <td>384</td>\n      <td>0</td>\n      <td>50th</td>\n      <td>1</td>\n      <td>0.0</td>\n      <td>0.0</td>\n      <td>0.0</td>\n      <td>0.0</td>\n      <td>0.0</td>\n      <td>0.0</td>\n      <td>...</td>\n      <td>-1.000000</td>\n      <td>-1.000000</td>\n      <td>-1.000000</td>\n      <td>-1.000000</td>\n      <td>-1.000000</td>\n      <td>-1.000000</td>\n      <td>-1.000000</td>\n      <td>-1.000000</td>\n      <td>0-2</td>\n      <td>0</td>\n    </tr>\n    <tr>\n      <th>1761</th>\n      <td>384</td>\n      <td>0</td>\n      <td>50th</td>\n      <td>1</td>\n      <td>0.0</td>\n      <td>0.0</td>\n      <td>0.0</td>\n      <td>0.0</td>\n      <td>0.0</td>\n      <td>0.0</td>\n      <td>...</td>\n      <td>-1.000000</td>\n      <td>-1.000000</td>\n      <td>-1.000000</td>\n      <td>-1.000000</td>\n      <td>-1.000000</td>\n      <td>-1.000000</td>\n      <td>-1.000000</td>\n      <td>-1.000000</td>\n      <td>2-4</td>\n      <td>0</td>\n    </tr>\n    <tr>\n      <th>1762</th>\n      <td>384</td>\n      <td>0</td>\n      <td>50th</td>\n      <td>1</td>\n      <td>0.0</td>\n      <td>0.0</td>\n      <td>0.0</td>\n      <td>0.0</td>\n      <td>0.0</td>\n      <td>0.0</td>\n      <td>...</td>\n      <td>-1.000000</td>\n      <td>-1.000000</td>\n      <td>-1.000000</td>\n      <td>-1.000000</td>\n      <td>-1.000000</td>\n      <td>-1.000000</td>\n      <td>-1.000000</td>\n      <td>-1.000000</td>\n      <td>4-6</td>\n      <td>0</td>\n    </tr>\n    <tr>\n      <th>1763</th>\n      <td>384</td>\n      <td>0</td>\n      <td>50th</td>\n      <td>1</td>\n      <td>0.0</td>\n      <td>0.0</td>\n      <td>0.0</td>\n      <td>0.0</td>\n      <td>0.0</td>\n      <td>0.0</td>\n      <td>...</td>\n      <td>-1.000000</td>\n      <td>-1.000000</td>\n      <td>-1.000000</td>\n      <td>-1.000000</td>\n      <td>-1.000000</td>\n      <td>-1.000000</td>\n      <td>-1.000000</td>\n      <td>-1.000000</td>\n      <td>6-12</td>\n      <td>0</td>\n    </tr>\n    <tr>\n      <th>1764</th>\n      <td>384</td>\n      <td>0</td>\n      <td>50th</td>\n      <td>1</td>\n      <td>0.0</td>\n      <td>0.0</td>\n      <td>1.0</td>\n      <td>0.0</td>\n      <td>0.0</td>\n      <td>0.0</td>\n      <td>...</td>\n      <td>-0.547619</td>\n      <td>-0.838384</td>\n      <td>-0.701863</td>\n      <td>-0.585967</td>\n      <td>-0.763868</td>\n      <td>-0.612903</td>\n      <td>-0.551337</td>\n      <td>-0.835052</td>\n      <td>ABOVE_12</td>\n      <td>0</td>\n    </tr>\n  </tbody>\n</table>\n<p>1765 rows × 231 columns</p>\n</div>"
     },
     "metadata": {},
     "execution_count": 10
    }
   ],
   "source": [
    "df_useful = df.set_index(patient_id_col).drop(patients_cant_be_used).reset_index()\n",
    "df_useful"
   ]
  },
  {
   "cell_type": "code",
   "execution_count": 11,
   "metadata": {},
   "outputs": [
    {
     "output_type": "stream",
     "name": "stdout",
     "text": [
      "163 190\n"
     ]
    }
   ],
   "source": [
    "ICU_by_patient = df_useful.groupby(patient_id_col)['ICU'].max() # identificando quais pacientes foram para ICU e quais não foram\n",
    "\n",
    "ICU_patients     = ICU_by_patient[ICU_by_patient==1]\n",
    "NOT_ICU_patients = ICU_by_patient[ICU_by_patient==0]\n",
    "print(len(ICU_patients), len(NOT_ICU_patients))\n",
    "# df.groupby(patient_id_col)['ICU'].max().value_counts()"
   ]
  },
  {
   "cell_type": "code",
   "execution_count": 12,
   "metadata": {},
   "outputs": [
    {
     "output_type": "execute_result",
     "data": {
      "text/plain": [
       "PATIENT_VISIT_IDENTIFIER\n",
       "0      1\n",
       "2      1\n",
       "3      0\n",
       "4      0\n",
       "5      0\n",
       "      ..\n",
       "380    1\n",
       "381    0\n",
       "382    1\n",
       "383    0\n",
       "384    0\n",
       "Name: ICU, Length: 353, dtype: int64"
      ]
     },
     "metadata": {},
     "execution_count": 12
    }
   ],
   "source": [
    "ICU_by_patient"
   ]
  },
  {
   "cell_type": "code",
   "execution_count": null,
   "metadata": {},
   "outputs": [],
   "source": []
  },
  {
   "cell_type": "code",
   "execution_count": 13,
   "metadata": {},
   "outputs": [],
   "source": [
    "df_useful['ICU_timeless'] = 0\n",
    "df_useful = df_useful.set_index(patient_id_col)\n",
    "df_useful.loc[ICU_patients.index,'ICU_timeless'] = 1\n",
    "df_useful = df_useful.reset_index()"
   ]
  },
  {
   "cell_type": "code",
   "execution_count": 14,
   "metadata": {},
   "outputs": [
    {
     "output_type": "execute_result",
     "data": {
      "text/plain": [
       "815"
      ]
     },
     "metadata": {},
     "execution_count": 14
    }
   ],
   "source": [
    "df_useful['ICU_timeless'].sum()"
   ]
  },
  {
   "source": [
    "## Estratégias"
   ],
   "cell_type": "markdown",
   "metadata": {}
  },
  {
   "cell_type": "code",
   "execution_count": 15,
   "metadata": {},
   "outputs": [],
   "source": [
    "# Estratégia TOGO (relay de modelos)\n",
    "# :::: apesar de ter menos dados disponíveis, treinar um modelo que considera 1 só janela, depois um que considera 2 janelas, depois um que considera 3 janelas\n",
    "# Estratégia \"entra na ICU na próxima janela?\" vs. \"entra na ICU em qualquer das próximas janelas\""
   ]
  },
  {
   "source": [
    "## Separando o Teste"
   ],
   "cell_type": "markdown",
   "metadata": {}
  },
  {
   "cell_type": "code",
   "execution_count": 16,
   "metadata": {},
   "outputs": [
    {
     "output_type": "execute_result",
     "data": {
      "text/plain": [
       "      PATIENT_VISIT_IDENTIFIER  AGE_ABOVE65 AGE_PERCENTIL  GENDER  \\\n",
       "0                            0            1          60th       0   \n",
       "1                            0            1          60th       0   \n",
       "2                            0            1          60th       0   \n",
       "3                            0            1          60th       0   \n",
       "4                            0            1          60th       0   \n",
       "...                        ...          ...           ...     ...   \n",
       "1760                       384            0          50th       1   \n",
       "1761                       384            0          50th       1   \n",
       "1762                       384            0          50th       1   \n",
       "1763                       384            0          50th       1   \n",
       "1764                       384            0          50th       1   \n",
       "\n",
       "      DISEASE GROUPING 1  DISEASE GROUPING 2  DISEASE GROUPING 3  \\\n",
       "0                    0.0                 0.0                 0.0   \n",
       "1                    0.0                 0.0                 0.0   \n",
       "2                    0.0                 0.0                 0.0   \n",
       "3                    0.0                 0.0                 0.0   \n",
       "4                    0.0                 0.0                 0.0   \n",
       "...                  ...                 ...                 ...   \n",
       "1760                 0.0                 0.0                 0.0   \n",
       "1761                 0.0                 0.0                 0.0   \n",
       "1762                 0.0                 0.0                 0.0   \n",
       "1763                 0.0                 0.0                 0.0   \n",
       "1764                 0.0                 0.0                 1.0   \n",
       "\n",
       "      DISEASE GROUPING 4  DISEASE GROUPING 5  DISEASE GROUPING 6  ...  \\\n",
       "0                    0.0                 1.0                 1.0  ...   \n",
       "1                    0.0                 1.0                 1.0  ...   \n",
       "2                    0.0                 1.0                 1.0  ...   \n",
       "3                    0.0                 1.0                 1.0  ...   \n",
       "4                    0.0                 1.0                 1.0  ...   \n",
       "...                  ...                 ...                 ...  ...   \n",
       "1760                 0.0                 0.0                 0.0  ...   \n",
       "1761                 0.0                 0.0                 0.0  ...   \n",
       "1762                 0.0                 0.0                 0.0  ...   \n",
       "1763                 0.0                 0.0                 0.0  ...   \n",
       "1764                 0.0                 0.0                 0.0  ...   \n",
       "\n",
       "      OXYGEN_SATURATION_DIFF  BLOODPRESSURE_DIASTOLIC_DIFF_REL  \\\n",
       "0                  -1.000000                         -1.000000   \n",
       "1                  -1.000000                         -1.000000   \n",
       "2                        NaN                               NaN   \n",
       "3                  -1.000000                               NaN   \n",
       "4                  -0.818182                         -0.389967   \n",
       "...                      ...                               ...   \n",
       "1760               -1.000000                         -1.000000   \n",
       "1761               -1.000000                         -1.000000   \n",
       "1762               -1.000000                         -1.000000   \n",
       "1763               -1.000000                         -1.000000   \n",
       "1764               -0.838384                         -0.701863   \n",
       "\n",
       "      BLOODPRESSURE_SISTOLIC_DIFF_REL  HEART_RATE_DIFF_REL  \\\n",
       "0                           -1.000000            -1.000000   \n",
       "1                           -1.000000            -1.000000   \n",
       "2                                 NaN                  NaN   \n",
       "3                                 NaN                  NaN   \n",
       "4                            0.407558            -0.230462   \n",
       "...                               ...                  ...   \n",
       "1760                        -1.000000            -1.000000   \n",
       "1761                        -1.000000            -1.000000   \n",
       "1762                        -1.000000            -1.000000   \n",
       "1763                        -1.000000            -1.000000   \n",
       "1764                        -0.585967            -0.763868   \n",
       "\n",
       "      RESPIRATORY_RATE_DIFF_REL  TEMPERATURE_DIFF_REL  \\\n",
       "0                     -1.000000             -1.000000   \n",
       "1                     -1.000000             -1.000000   \n",
       "2                           NaN                   NaN   \n",
       "3                           NaN             -1.000000   \n",
       "4                      0.096774             -0.242282   \n",
       "...                         ...                   ...   \n",
       "1760                  -1.000000             -1.000000   \n",
       "1761                  -1.000000             -1.000000   \n",
       "1762                  -1.000000             -1.000000   \n",
       "1763                  -1.000000             -1.000000   \n",
       "1764                  -0.612903             -0.551337   \n",
       "\n",
       "      OXYGEN_SATURATION_DIFF_REL    WINDOW  ICU  ICU_timeless  \n",
       "0                      -1.000000       0-2    0             1  \n",
       "1                      -1.000000       2-4    0             1  \n",
       "2                            NaN       4-6    0             1  \n",
       "3                      -1.000000      6-12    0             1  \n",
       "4                      -0.814433  ABOVE_12    1             1  \n",
       "...                          ...       ...  ...           ...  \n",
       "1760                   -1.000000       0-2    0             0  \n",
       "1761                   -1.000000       2-4    0             0  \n",
       "1762                   -1.000000       4-6    0             0  \n",
       "1763                   -1.000000      6-12    0             0  \n",
       "1764                   -0.835052  ABOVE_12    0             0  \n",
       "\n",
       "[1765 rows x 232 columns]"
      ],
      "text/html": "<div>\n<style scoped>\n    .dataframe tbody tr th:only-of-type {\n        vertical-align: middle;\n    }\n\n    .dataframe tbody tr th {\n        vertical-align: top;\n    }\n\n    .dataframe thead th {\n        text-align: right;\n    }\n</style>\n<table border=\"1\" class=\"dataframe\">\n  <thead>\n    <tr style=\"text-align: right;\">\n      <th></th>\n      <th>PATIENT_VISIT_IDENTIFIER</th>\n      <th>AGE_ABOVE65</th>\n      <th>AGE_PERCENTIL</th>\n      <th>GENDER</th>\n      <th>DISEASE GROUPING 1</th>\n      <th>DISEASE GROUPING 2</th>\n      <th>DISEASE GROUPING 3</th>\n      <th>DISEASE GROUPING 4</th>\n      <th>DISEASE GROUPING 5</th>\n      <th>DISEASE GROUPING 6</th>\n      <th>...</th>\n      <th>OXYGEN_SATURATION_DIFF</th>\n      <th>BLOODPRESSURE_DIASTOLIC_DIFF_REL</th>\n      <th>BLOODPRESSURE_SISTOLIC_DIFF_REL</th>\n      <th>HEART_RATE_DIFF_REL</th>\n      <th>RESPIRATORY_RATE_DIFF_REL</th>\n      <th>TEMPERATURE_DIFF_REL</th>\n      <th>OXYGEN_SATURATION_DIFF_REL</th>\n      <th>WINDOW</th>\n      <th>ICU</th>\n      <th>ICU_timeless</th>\n    </tr>\n  </thead>\n  <tbody>\n    <tr>\n      <th>0</th>\n      <td>0</td>\n      <td>1</td>\n      <td>60th</td>\n      <td>0</td>\n      <td>0.0</td>\n      <td>0.0</td>\n      <td>0.0</td>\n      <td>0.0</td>\n      <td>1.0</td>\n      <td>1.0</td>\n      <td>...</td>\n      <td>-1.000000</td>\n      <td>-1.000000</td>\n      <td>-1.000000</td>\n      <td>-1.000000</td>\n      <td>-1.000000</td>\n      <td>-1.000000</td>\n      <td>-1.000000</td>\n      <td>0-2</td>\n      <td>0</td>\n      <td>1</td>\n    </tr>\n    <tr>\n      <th>1</th>\n      <td>0</td>\n      <td>1</td>\n      <td>60th</td>\n      <td>0</td>\n      <td>0.0</td>\n      <td>0.0</td>\n      <td>0.0</td>\n      <td>0.0</td>\n      <td>1.0</td>\n      <td>1.0</td>\n      <td>...</td>\n      <td>-1.000000</td>\n      <td>-1.000000</td>\n      <td>-1.000000</td>\n      <td>-1.000000</td>\n      <td>-1.000000</td>\n      <td>-1.000000</td>\n      <td>-1.000000</td>\n      <td>2-4</td>\n      <td>0</td>\n      <td>1</td>\n    </tr>\n    <tr>\n      <th>2</th>\n      <td>0</td>\n      <td>1</td>\n      <td>60th</td>\n      <td>0</td>\n      <td>0.0</td>\n      <td>0.0</td>\n      <td>0.0</td>\n      <td>0.0</td>\n      <td>1.0</td>\n      <td>1.0</td>\n      <td>...</td>\n      <td>NaN</td>\n      <td>NaN</td>\n      <td>NaN</td>\n      <td>NaN</td>\n      <td>NaN</td>\n      <td>NaN</td>\n      <td>NaN</td>\n      <td>4-6</td>\n      <td>0</td>\n      <td>1</td>\n    </tr>\n    <tr>\n      <th>3</th>\n      <td>0</td>\n      <td>1</td>\n      <td>60th</td>\n      <td>0</td>\n      <td>0.0</td>\n      <td>0.0</td>\n      <td>0.0</td>\n      <td>0.0</td>\n      <td>1.0</td>\n      <td>1.0</td>\n      <td>...</td>\n      <td>-1.000000</td>\n      <td>NaN</td>\n      <td>NaN</td>\n      <td>NaN</td>\n      <td>NaN</td>\n      <td>-1.000000</td>\n      <td>-1.000000</td>\n      <td>6-12</td>\n      <td>0</td>\n      <td>1</td>\n    </tr>\n    <tr>\n      <th>4</th>\n      <td>0</td>\n      <td>1</td>\n      <td>60th</td>\n      <td>0</td>\n      <td>0.0</td>\n      <td>0.0</td>\n      <td>0.0</td>\n      <td>0.0</td>\n      <td>1.0</td>\n      <td>1.0</td>\n      <td>...</td>\n      <td>-0.818182</td>\n      <td>-0.389967</td>\n      <td>0.407558</td>\n      <td>-0.230462</td>\n      <td>0.096774</td>\n      <td>-0.242282</td>\n      <td>-0.814433</td>\n      <td>ABOVE_12</td>\n      <td>1</td>\n      <td>1</td>\n    </tr>\n    <tr>\n      <th>...</th>\n      <td>...</td>\n      <td>...</td>\n      <td>...</td>\n      <td>...</td>\n      <td>...</td>\n      <td>...</td>\n      <td>...</td>\n      <td>...</td>\n      <td>...</td>\n      <td>...</td>\n      <td>...</td>\n      <td>...</td>\n      <td>...</td>\n      <td>...</td>\n      <td>...</td>\n      <td>...</td>\n      <td>...</td>\n      <td>...</td>\n      <td>...</td>\n      <td>...</td>\n      <td>...</td>\n    </tr>\n    <tr>\n      <th>1760</th>\n      <td>384</td>\n      <td>0</td>\n      <td>50th</td>\n      <td>1</td>\n      <td>0.0</td>\n      <td>0.0</td>\n      <td>0.0</td>\n      <td>0.0</td>\n      <td>0.0</td>\n      <td>0.0</td>\n      <td>...</td>\n      <td>-1.000000</td>\n      <td>-1.000000</td>\n      <td>-1.000000</td>\n      <td>-1.000000</td>\n      <td>-1.000000</td>\n      <td>-1.000000</td>\n      <td>-1.000000</td>\n      <td>0-2</td>\n      <td>0</td>\n      <td>0</td>\n    </tr>\n    <tr>\n      <th>1761</th>\n      <td>384</td>\n      <td>0</td>\n      <td>50th</td>\n      <td>1</td>\n      <td>0.0</td>\n      <td>0.0</td>\n      <td>0.0</td>\n      <td>0.0</td>\n      <td>0.0</td>\n      <td>0.0</td>\n      <td>...</td>\n      <td>-1.000000</td>\n      <td>-1.000000</td>\n      <td>-1.000000</td>\n      <td>-1.000000</td>\n      <td>-1.000000</td>\n      <td>-1.000000</td>\n      <td>-1.000000</td>\n      <td>2-4</td>\n      <td>0</td>\n      <td>0</td>\n    </tr>\n    <tr>\n      <th>1762</th>\n      <td>384</td>\n      <td>0</td>\n      <td>50th</td>\n      <td>1</td>\n      <td>0.0</td>\n      <td>0.0</td>\n      <td>0.0</td>\n      <td>0.0</td>\n      <td>0.0</td>\n      <td>0.0</td>\n      <td>...</td>\n      <td>-1.000000</td>\n      <td>-1.000000</td>\n      <td>-1.000000</td>\n      <td>-1.000000</td>\n      <td>-1.000000</td>\n      <td>-1.000000</td>\n      <td>-1.000000</td>\n      <td>4-6</td>\n      <td>0</td>\n      <td>0</td>\n    </tr>\n    <tr>\n      <th>1763</th>\n      <td>384</td>\n      <td>0</td>\n      <td>50th</td>\n      <td>1</td>\n      <td>0.0</td>\n      <td>0.0</td>\n      <td>0.0</td>\n      <td>0.0</td>\n      <td>0.0</td>\n      <td>0.0</td>\n      <td>...</td>\n      <td>-1.000000</td>\n      <td>-1.000000</td>\n      <td>-1.000000</td>\n      <td>-1.000000</td>\n      <td>-1.000000</td>\n      <td>-1.000000</td>\n      <td>-1.000000</td>\n      <td>6-12</td>\n      <td>0</td>\n      <td>0</td>\n    </tr>\n    <tr>\n      <th>1764</th>\n      <td>384</td>\n      <td>0</td>\n      <td>50th</td>\n      <td>1</td>\n      <td>0.0</td>\n      <td>0.0</td>\n      <td>1.0</td>\n      <td>0.0</td>\n      <td>0.0</td>\n      <td>0.0</td>\n      <td>...</td>\n      <td>-0.838384</td>\n      <td>-0.701863</td>\n      <td>-0.585967</td>\n      <td>-0.763868</td>\n      <td>-0.612903</td>\n      <td>-0.551337</td>\n      <td>-0.835052</td>\n      <td>ABOVE_12</td>\n      <td>0</td>\n      <td>0</td>\n    </tr>\n  </tbody>\n</table>\n<p>1765 rows × 232 columns</p>\n</div>"
     },
     "metadata": {},
     "execution_count": 16
    }
   ],
   "source": [
    "df_useful"
   ]
  },
  {
   "cell_type": "code",
   "execution_count": 17,
   "metadata": {},
   "outputs": [
    {
     "output_type": "execute_result",
     "data": {
      "text/plain": [
       "WINDOW    ICU\n",
       "0-2       0      353\n",
       "2-4       0      326\n",
       "          1       27\n",
       "4-6       0      286\n",
       "          1       67\n",
       "6-12      0      255\n",
       "          1       98\n",
       "ABOVE_12  0      190\n",
       "          1      163\n",
       "Name: ICU, dtype: int64"
      ]
     },
     "metadata": {},
     "execution_count": 17
    }
   ],
   "source": [
    "# 32 pacientes entraram na ICU na primeira janela ('0-2')\n",
    "# dos 163 pacientes que vão pra ICU após a primeira janela:\n",
    "# -- 27 (~16.5%) entram na segunda  janela ('2-4') \n",
    "# -- 40 (~24.5%) entram na terceira janela ('4-6')\n",
    "# -- 31 (~19.0%) entram na quarta   janela ('6-12')\n",
    "# -- 71 (~43.5%) entram na quinta   janela ('above 12')\n",
    "\n",
    "df_useful.groupby([window_id_col,target_col])['ICU'].count()"
   ]
  },
  {
   "cell_type": "code",
   "execution_count": 18,
   "metadata": {},
   "outputs": [],
   "source": [
    "ICU_1_win_2 = df_useful.query(f' ICU==1 and {window_id_col} == \"2-4\" ')\n",
    "\n",
    "ICU_1_win_3 = df_useful.query(f' ICU==1 and {window_id_col} == \"4-6\" ')\n",
    "ICU_1_win_3 = ICU_1_win_3.set_index(patient_id_col).drop(set(ICU_1_win_3[patient_id_col]).intersection(set(ICU_1_win_2[patient_id_col]))).reset_index()\n",
    "\n",
    "ICU_1_win_4 = df_useful.query(f' ICU==1 and {window_id_col} == \"6-12\" ')\n",
    "ICU_1_win_4 = ICU_1_win_4.set_index(patient_id_col).drop(set(ICU_1_win_4[patient_id_col]).intersection(set(ICU_1_win_3[patient_id_col]).union(set(ICU_1_win_2[patient_id_col])))).reset_index()\n",
    "\n",
    "ICU_1_win_5 = df_useful.query(f' ICU==1 and {window_id_col} == \"ABOVE_12\" ')\n",
    "ICU_1_win_5 = ICU_1_win_5.set_index(patient_id_col).drop(set(ICU_1_win_5[patient_id_col]).intersection(set(ICU_1_win_4[patient_id_col]).union(set(ICU_1_win_3[patient_id_col])).union(set(ICU_1_win_2[patient_id_col])))).reset_index()\n",
    "\n",
    "# len(set(pd.concat([ICU_1_win_2[patient_id_col], ICU_1_win_3[patient_id_col], ICU_1_win_4[patient_id_col], ICU_1_win_5[patient_id_col]])))\n"
   ]
  },
  {
   "cell_type": "code",
   "execution_count": 64,
   "metadata": {},
   "outputs": [
    {
     "output_type": "execute_result",
     "data": {
      "text/plain": [
       "(31, 232)"
      ]
     },
     "metadata": {},
     "execution_count": 64
    }
   ],
   "source": [
    "ICU_1_win_4.shape"
   ]
  },
  {
   "cell_type": "code",
   "execution_count": 19,
   "metadata": {},
   "outputs": [],
   "source": [
    "from sklearn.model_selection import train_test_split"
   ]
  },
  {
   "cell_type": "code",
   "execution_count": null,
   "metadata": {},
   "outputs": [],
   "source": []
  },
  {
   "cell_type": "code",
   "execution_count": 20,
   "metadata": {},
   "outputs": [],
   "source": [
    "ICU_1_win_2_patients_train, ICU_1_win_2_patients_test = train_test_split(ICU_1_win_2[patient_id_col].tolist(), test_size = 0.1)\n",
    "ICU_1_win_3_patients_train, ICU_1_win_3_patients_test = train_test_split(ICU_1_win_3[patient_id_col].tolist(), test_size = 0.1)\n",
    "ICU_1_win_4_patients_train, ICU_1_win_4_patients_test = train_test_split(ICU_1_win_4[patient_id_col].tolist(), test_size = 0.1)\n",
    "ICU_1_win_5_patients_train, ICU_1_win_5_patients_test = train_test_split(ICU_1_win_5[patient_id_col].tolist(), test_size = 0.1)"
   ]
  },
  {
   "cell_type": "code",
   "execution_count": 21,
   "metadata": {},
   "outputs": [],
   "source": [
    "ICU_0_patients_train, ICU_0_patients_test = train_test_split(NOT_ICU_patients.index.tolist(), test_size = 0.1)\n"
   ]
  },
  {
   "cell_type": "code",
   "execution_count": 22,
   "metadata": {},
   "outputs": [],
   "source": [
    "patients_train = ICU_0_patients_train + (ICU_1_win_2_patients_train + ICU_1_win_3_patients_train + ICU_1_win_4_patients_train + ICU_1_win_5_patients_train)\n",
    "patients_test  = ICU_0_patients_test + (ICU_1_win_2_patients_test + ICU_1_win_3_patients_test + ICU_1_win_4_patients_test + ICU_1_win_5_patients_test)"
   ]
  },
  {
   "cell_type": "code",
   "execution_count": 59,
   "metadata": {},
   "outputs": [
    {
     "output_type": "execute_result",
     "data": {
      "text/plain": [
       "353"
      ]
     },
     "metadata": {},
     "execution_count": 59
    }
   ],
   "source": [
    "len(set(patients_train)) + len(set(patients_test))"
   ]
  },
  {
   "cell_type": "code",
   "execution_count": 23,
   "metadata": {},
   "outputs": [],
   "source": [
    "# len(set(patients_train)) + len(set(patients_test)) == 353\n",
    "# len(ICU_0_patients_train) + len(ICU_0_patients_test) == 190\n",
    "# pd.Series(patients_train).duplicated().sum() == 0\n",
    "# pd.Series(patients_test).duplicated().sum() == 0\n",
    "# set(patients_train).intersection(patients_test) == empty set"
   ]
  },
  {
   "cell_type": "code",
   "execution_count": 24,
   "metadata": {},
   "outputs": [],
   "source": [
    "df_useful_train = df_useful.set_index(patient_id_col).loc[patients_train].reset_index()\n",
    "df_useful_test  = df_useful.set_index(patient_id_col).loc[patients_test].reset_index()"
   ]
  },
  {
   "source": [
    "## FFILL e BFILL"
   ],
   "cell_type": "markdown",
   "metadata": {}
  },
  {
   "cell_type": "code",
   "execution_count": 25,
   "metadata": {},
   "outputs": [
    {
     "output_type": "execute_result",
     "data": {
      "text/plain": [
       "Int64Index([  0,   2,   3,   4,   5,   6,   7,   8,   9,  10,\n",
       "            ...\n",
       "            373, 374, 375, 377, 378, 380, 381, 382, 383, 384],\n",
       "           dtype='int64', name='PATIENT_VISIT_IDENTIFIER', length=316)"
      ]
     },
     "metadata": {},
     "execution_count": 25
    }
   ],
   "source": [
    "train_ids = df_useful_train.set_index(patient_id_col).index.unique().sort_values()\n",
    "train_ids"
   ]
  },
  {
   "cell_type": "code",
   "execution_count": 26,
   "metadata": {},
   "outputs": [
    {
     "output_type": "execute_result",
     "data": {
      "text/plain": [
       "                          HTN  IMMUNOCOMPROMISED  OTHER  ALBUMIN_MEDIAN  \\\n",
       "PATIENT_VISIT_IDENTIFIER                                                  \n",
       "12                        0.0                0.0    1.0        0.605263   \n",
       "12                        0.0                0.0    1.0        0.605263   \n",
       "12                        0.0                0.0    1.0        0.605263   \n",
       "12                        0.0                0.0    1.0        0.605263   \n",
       "12                        0.0                0.0    1.0        0.605263   \n",
       "\n",
       "                          ALBUMIN_MEAN  ALBUMIN_MIN  ALBUMIN_MAX  \\\n",
       "PATIENT_VISIT_IDENTIFIER                                           \n",
       "12                            0.605263     0.605263     0.605263   \n",
       "12                            0.605263     0.605263     0.605263   \n",
       "12                            0.605263     0.605263     0.605263   \n",
       "12                            0.605263     0.605263     0.605263   \n",
       "12                            0.605263     0.605263     0.605263   \n",
       "\n",
       "                          ALBUMIN_DIFF  BE_ARTERIAL_MEDIAN  BE_ARTERIAL_MEAN  \\\n",
       "PATIENT_VISIT_IDENTIFIER                                                       \n",
       "12                                -1.0                -1.0              -1.0   \n",
       "12                                -1.0                -1.0              -1.0   \n",
       "12                                -1.0                -1.0              -1.0   \n",
       "12                                -1.0                -1.0              -1.0   \n",
       "12                                -1.0                -1.0              -1.0   \n",
       "\n",
       "                          ...  UREA_MEAN  UREA_MIN  UREA_MAX  UREA_DIFF  \\\n",
       "PATIENT_VISIT_IDENTIFIER  ...                                             \n",
       "12                        ...  -0.937349 -0.937349 -0.937349       -1.0   \n",
       "12                        ...  -0.937349 -0.937349 -0.937349       -1.0   \n",
       "12                        ...  -0.937349 -0.937349 -0.937349       -1.0   \n",
       "12                        ...  -0.937349 -0.937349 -0.937349       -1.0   \n",
       "12                        ...  -0.932530 -0.932530 -0.932530       -1.0   \n",
       "\n",
       "                          DIMER_MEDIAN  DIMER_MEAN  DIMER_MIN  DIMER_MAX  \\\n",
       "PATIENT_VISIT_IDENTIFIER                                                   \n",
       "12                           -0.978029   -0.978029  -0.978029  -0.978029   \n",
       "12                           -0.978029   -0.978029  -0.978029  -0.978029   \n",
       "12                           -0.978029   -0.978029  -0.978029  -0.978029   \n",
       "12                           -0.978029   -0.978029  -0.978029  -0.978029   \n",
       "12                           -0.978029   -0.978029  -0.978029  -0.978029   \n",
       "\n",
       "                          DIMER_DIFF  ICU  \n",
       "PATIENT_VISIT_IDENTIFIER                   \n",
       "12                              -1.0    0  \n",
       "12                              -1.0    0  \n",
       "12                              -1.0    0  \n",
       "12                              -1.0    0  \n",
       "12                              -1.0    0  \n",
       "\n",
       "[5 rows x 184 columns]"
      ],
      "text/html": "<div>\n<style scoped>\n    .dataframe tbody tr th:only-of-type {\n        vertical-align: middle;\n    }\n\n    .dataframe tbody tr th {\n        vertical-align: top;\n    }\n\n    .dataframe thead th {\n        text-align: right;\n    }\n</style>\n<table border=\"1\" class=\"dataframe\">\n  <thead>\n    <tr style=\"text-align: right;\">\n      <th></th>\n      <th>HTN</th>\n      <th>IMMUNOCOMPROMISED</th>\n      <th>OTHER</th>\n      <th>ALBUMIN_MEDIAN</th>\n      <th>ALBUMIN_MEAN</th>\n      <th>ALBUMIN_MIN</th>\n      <th>ALBUMIN_MAX</th>\n      <th>ALBUMIN_DIFF</th>\n      <th>BE_ARTERIAL_MEDIAN</th>\n      <th>BE_ARTERIAL_MEAN</th>\n      <th>...</th>\n      <th>UREA_MEAN</th>\n      <th>UREA_MIN</th>\n      <th>UREA_MAX</th>\n      <th>UREA_DIFF</th>\n      <th>DIMER_MEDIAN</th>\n      <th>DIMER_MEAN</th>\n      <th>DIMER_MIN</th>\n      <th>DIMER_MAX</th>\n      <th>DIMER_DIFF</th>\n      <th>ICU</th>\n    </tr>\n    <tr>\n      <th>PATIENT_VISIT_IDENTIFIER</th>\n      <th></th>\n      <th></th>\n      <th></th>\n      <th></th>\n      <th></th>\n      <th></th>\n      <th></th>\n      <th></th>\n      <th></th>\n      <th></th>\n      <th></th>\n      <th></th>\n      <th></th>\n      <th></th>\n      <th></th>\n      <th></th>\n      <th></th>\n      <th></th>\n      <th></th>\n      <th></th>\n      <th></th>\n    </tr>\n  </thead>\n  <tbody>\n    <tr>\n      <th>12</th>\n      <td>0.0</td>\n      <td>0.0</td>\n      <td>1.0</td>\n      <td>0.605263</td>\n      <td>0.605263</td>\n      <td>0.605263</td>\n      <td>0.605263</td>\n      <td>-1.0</td>\n      <td>-1.0</td>\n      <td>-1.0</td>\n      <td>...</td>\n      <td>-0.937349</td>\n      <td>-0.937349</td>\n      <td>-0.937349</td>\n      <td>-1.0</td>\n      <td>-0.978029</td>\n      <td>-0.978029</td>\n      <td>-0.978029</td>\n      <td>-0.978029</td>\n      <td>-1.0</td>\n      <td>0</td>\n    </tr>\n    <tr>\n      <th>12</th>\n      <td>0.0</td>\n      <td>0.0</td>\n      <td>1.0</td>\n      <td>0.605263</td>\n      <td>0.605263</td>\n      <td>0.605263</td>\n      <td>0.605263</td>\n      <td>-1.0</td>\n      <td>-1.0</td>\n      <td>-1.0</td>\n      <td>...</td>\n      <td>-0.937349</td>\n      <td>-0.937349</td>\n      <td>-0.937349</td>\n      <td>-1.0</td>\n      <td>-0.978029</td>\n      <td>-0.978029</td>\n      <td>-0.978029</td>\n      <td>-0.978029</td>\n      <td>-1.0</td>\n      <td>0</td>\n    </tr>\n    <tr>\n      <th>12</th>\n      <td>0.0</td>\n      <td>0.0</td>\n      <td>1.0</td>\n      <td>0.605263</td>\n      <td>0.605263</td>\n      <td>0.605263</td>\n      <td>0.605263</td>\n      <td>-1.0</td>\n      <td>-1.0</td>\n      <td>-1.0</td>\n      <td>...</td>\n      <td>-0.937349</td>\n      <td>-0.937349</td>\n      <td>-0.937349</td>\n      <td>-1.0</td>\n      <td>-0.978029</td>\n      <td>-0.978029</td>\n      <td>-0.978029</td>\n      <td>-0.978029</td>\n      <td>-1.0</td>\n      <td>0</td>\n    </tr>\n    <tr>\n      <th>12</th>\n      <td>0.0</td>\n      <td>0.0</td>\n      <td>1.0</td>\n      <td>0.605263</td>\n      <td>0.605263</td>\n      <td>0.605263</td>\n      <td>0.605263</td>\n      <td>-1.0</td>\n      <td>-1.0</td>\n      <td>-1.0</td>\n      <td>...</td>\n      <td>-0.937349</td>\n      <td>-0.937349</td>\n      <td>-0.937349</td>\n      <td>-1.0</td>\n      <td>-0.978029</td>\n      <td>-0.978029</td>\n      <td>-0.978029</td>\n      <td>-0.978029</td>\n      <td>-1.0</td>\n      <td>0</td>\n    </tr>\n    <tr>\n      <th>12</th>\n      <td>0.0</td>\n      <td>0.0</td>\n      <td>1.0</td>\n      <td>0.605263</td>\n      <td>0.605263</td>\n      <td>0.605263</td>\n      <td>0.605263</td>\n      <td>-1.0</td>\n      <td>-1.0</td>\n      <td>-1.0</td>\n      <td>...</td>\n      <td>-0.932530</td>\n      <td>-0.932530</td>\n      <td>-0.932530</td>\n      <td>-1.0</td>\n      <td>-0.978029</td>\n      <td>-0.978029</td>\n      <td>-0.978029</td>\n      <td>-0.978029</td>\n      <td>-1.0</td>\n      <td>0</td>\n    </tr>\n  </tbody>\n</table>\n<p>5 rows × 184 columns</p>\n</div>"
     },
     "metadata": {},
     "execution_count": 26
    }
   ],
   "source": [
    " df_useful_train.set_index(patient_id_col).loc[train_ids[11]][patient_blood_cols +[target_col]].ffill().bfill()\n",
    "# "
   ]
  },
  {
   "cell_type": "code",
   "execution_count": 27,
   "metadata": {},
   "outputs": [
    {
     "output_type": "execute_result",
     "data": {
      "text/plain": [
       "      PATIENT_VISIT_IDENTIFIER  AGE_ABOVE65 AGE_PERCENTIL  GENDER  \\\n",
       "0                          135            0          20th       0   \n",
       "1                          135            0          20th       0   \n",
       "2                          135            0          20th       0   \n",
       "3                          135            0          20th       0   \n",
       "4                          135            0          20th       0   \n",
       "...                        ...          ...           ...     ...   \n",
       "1575                       275            1          80th       0   \n",
       "1576                       275            1          80th       0   \n",
       "1577                       275            1          80th       0   \n",
       "1578                       275            1          80th       0   \n",
       "1579                       275            1          80th       0   \n",
       "\n",
       "      DISEASE GROUPING 1  DISEASE GROUPING 2  DISEASE GROUPING 3  \\\n",
       "0                    0.0                 0.0                 0.0   \n",
       "1                    0.0                 0.0                 0.0   \n",
       "2                    0.0                 0.0                 0.0   \n",
       "3                    0.0                 0.0                 0.0   \n",
       "4                    0.0                 0.0                 0.0   \n",
       "...                  ...                 ...                 ...   \n",
       "1575                 0.0                 0.0                 0.0   \n",
       "1576                 0.0                 0.0                 0.0   \n",
       "1577                 0.0                 0.0                 0.0   \n",
       "1578                 0.0                 0.0                 0.0   \n",
       "1579                 0.0                 1.0                 0.0   \n",
       "\n",
       "      DISEASE GROUPING 4  DISEASE GROUPING 5  DISEASE GROUPING 6  ...  \\\n",
       "0                    0.0                 0.0                 0.0  ...   \n",
       "1                    0.0                 0.0                 0.0  ...   \n",
       "2                    0.0                 0.0                 0.0  ...   \n",
       "3                    0.0                 0.0                 0.0  ...   \n",
       "4                    0.0                 0.0                 0.0  ...   \n",
       "...                  ...                 ...                 ...  ...   \n",
       "1575                 0.0                 0.0                 0.0  ...   \n",
       "1576                 0.0                 0.0                 0.0  ...   \n",
       "1577                 0.0                 0.0                 0.0  ...   \n",
       "1578                 0.0                 0.0                 0.0  ...   \n",
       "1579                 0.0                 0.0                 0.0  ...   \n",
       "\n",
       "      OXYGEN_SATURATION_DIFF  BLOODPRESSURE_DIASTOLIC_DIFF_REL  \\\n",
       "0                  -1.000000                         -1.000000   \n",
       "1                  -1.000000                         -1.000000   \n",
       "2                  -1.000000                         -1.000000   \n",
       "3                  -1.000000                         -1.000000   \n",
       "4                  -0.898990                         -0.739130   \n",
       "...                      ...                               ...   \n",
       "1575               -1.000000                         -1.000000   \n",
       "1576               -1.000000                         -1.000000   \n",
       "1577               -1.000000                         -1.000000   \n",
       "1578               -1.000000                         -1.000000   \n",
       "1579               -0.414141                         -0.405797   \n",
       "\n",
       "      BLOODPRESSURE_SISTOLIC_DIFF_REL  HEART_RATE_DIFF_REL  \\\n",
       "0                           -1.000000            -1.000000   \n",
       "1                           -1.000000            -1.000000   \n",
       "2                           -1.000000            -1.000000   \n",
       "3                           -1.000000            -1.000000   \n",
       "4                           -0.698993            -0.609340   \n",
       "...                               ...                  ...   \n",
       "1575                        -1.000000            -1.000000   \n",
       "1576                        -1.000000            -1.000000   \n",
       "1577                        -1.000000            -1.000000   \n",
       "1578                        -1.000000            -1.000000   \n",
       "1579                         0.313484            -0.468702   \n",
       "\n",
       "      RESPIRATORY_RATE_DIFF_REL  TEMPERATURE_DIFF_REL  \\\n",
       "0                     -1.000000             -1.000000   \n",
       "1                     -1.000000             -1.000000   \n",
       "2                     -1.000000             -1.000000   \n",
       "3                     -1.000000             -1.000000   \n",
       "4                     -0.817204             -0.641868   \n",
       "...                         ...                   ...   \n",
       "1575                  -1.000000             -1.000000   \n",
       "1576                  -1.000000             -1.000000   \n",
       "1577                  -1.000000             -1.000000   \n",
       "1578                  -1.000000             -1.000000   \n",
       "1579                   0.327674              0.071429   \n",
       "\n",
       "      OXYGEN_SATURATION_DIFF_REL    WINDOW  ICU  ICU_timeless  \n",
       "0                      -1.000000       0-2    0             0  \n",
       "1                      -1.000000       2-4    0             0  \n",
       "2                      -1.000000       4-6    0             0  \n",
       "3                      -1.000000      6-12    0             0  \n",
       "4                      -0.900129  ABOVE_12    0             0  \n",
       "...                          ...       ...  ...           ...  \n",
       "1575                   -1.000000       0-2    0             1  \n",
       "1576                   -1.000000       2-4    0             1  \n",
       "1577                   -1.000000       4-6    0             1  \n",
       "1578                   -1.000000      6-12    0             1  \n",
       "1579                   -0.414650  ABOVE_12    1             1  \n",
       "\n",
       "[1580 rows x 232 columns]"
      ],
      "text/html": "<div>\n<style scoped>\n    .dataframe tbody tr th:only-of-type {\n        vertical-align: middle;\n    }\n\n    .dataframe tbody tr th {\n        vertical-align: top;\n    }\n\n    .dataframe thead th {\n        text-align: right;\n    }\n</style>\n<table border=\"1\" class=\"dataframe\">\n  <thead>\n    <tr style=\"text-align: right;\">\n      <th></th>\n      <th>PATIENT_VISIT_IDENTIFIER</th>\n      <th>AGE_ABOVE65</th>\n      <th>AGE_PERCENTIL</th>\n      <th>GENDER</th>\n      <th>DISEASE GROUPING 1</th>\n      <th>DISEASE GROUPING 2</th>\n      <th>DISEASE GROUPING 3</th>\n      <th>DISEASE GROUPING 4</th>\n      <th>DISEASE GROUPING 5</th>\n      <th>DISEASE GROUPING 6</th>\n      <th>...</th>\n      <th>OXYGEN_SATURATION_DIFF</th>\n      <th>BLOODPRESSURE_DIASTOLIC_DIFF_REL</th>\n      <th>BLOODPRESSURE_SISTOLIC_DIFF_REL</th>\n      <th>HEART_RATE_DIFF_REL</th>\n      <th>RESPIRATORY_RATE_DIFF_REL</th>\n      <th>TEMPERATURE_DIFF_REL</th>\n      <th>OXYGEN_SATURATION_DIFF_REL</th>\n      <th>WINDOW</th>\n      <th>ICU</th>\n      <th>ICU_timeless</th>\n    </tr>\n  </thead>\n  <tbody>\n    <tr>\n      <th>0</th>\n      <td>135</td>\n      <td>0</td>\n      <td>20th</td>\n      <td>0</td>\n      <td>0.0</td>\n      <td>0.0</td>\n      <td>0.0</td>\n      <td>0.0</td>\n      <td>0.0</td>\n      <td>0.0</td>\n      <td>...</td>\n      <td>-1.000000</td>\n      <td>-1.000000</td>\n      <td>-1.000000</td>\n      <td>-1.000000</td>\n      <td>-1.000000</td>\n      <td>-1.000000</td>\n      <td>-1.000000</td>\n      <td>0-2</td>\n      <td>0</td>\n      <td>0</td>\n    </tr>\n    <tr>\n      <th>1</th>\n      <td>135</td>\n      <td>0</td>\n      <td>20th</td>\n      <td>0</td>\n      <td>0.0</td>\n      <td>0.0</td>\n      <td>0.0</td>\n      <td>0.0</td>\n      <td>0.0</td>\n      <td>0.0</td>\n      <td>...</td>\n      <td>-1.000000</td>\n      <td>-1.000000</td>\n      <td>-1.000000</td>\n      <td>-1.000000</td>\n      <td>-1.000000</td>\n      <td>-1.000000</td>\n      <td>-1.000000</td>\n      <td>2-4</td>\n      <td>0</td>\n      <td>0</td>\n    </tr>\n    <tr>\n      <th>2</th>\n      <td>135</td>\n      <td>0</td>\n      <td>20th</td>\n      <td>0</td>\n      <td>0.0</td>\n      <td>0.0</td>\n      <td>0.0</td>\n      <td>0.0</td>\n      <td>0.0</td>\n      <td>0.0</td>\n      <td>...</td>\n      <td>-1.000000</td>\n      <td>-1.000000</td>\n      <td>-1.000000</td>\n      <td>-1.000000</td>\n      <td>-1.000000</td>\n      <td>-1.000000</td>\n      <td>-1.000000</td>\n      <td>4-6</td>\n      <td>0</td>\n      <td>0</td>\n    </tr>\n    <tr>\n      <th>3</th>\n      <td>135</td>\n      <td>0</td>\n      <td>20th</td>\n      <td>0</td>\n      <td>0.0</td>\n      <td>0.0</td>\n      <td>0.0</td>\n      <td>0.0</td>\n      <td>0.0</td>\n      <td>0.0</td>\n      <td>...</td>\n      <td>-1.000000</td>\n      <td>-1.000000</td>\n      <td>-1.000000</td>\n      <td>-1.000000</td>\n      <td>-1.000000</td>\n      <td>-1.000000</td>\n      <td>-1.000000</td>\n      <td>6-12</td>\n      <td>0</td>\n      <td>0</td>\n    </tr>\n    <tr>\n      <th>4</th>\n      <td>135</td>\n      <td>0</td>\n      <td>20th</td>\n      <td>0</td>\n      <td>0.0</td>\n      <td>0.0</td>\n      <td>0.0</td>\n      <td>0.0</td>\n      <td>0.0</td>\n      <td>0.0</td>\n      <td>...</td>\n      <td>-0.898990</td>\n      <td>-0.739130</td>\n      <td>-0.698993</td>\n      <td>-0.609340</td>\n      <td>-0.817204</td>\n      <td>-0.641868</td>\n      <td>-0.900129</td>\n      <td>ABOVE_12</td>\n      <td>0</td>\n      <td>0</td>\n    </tr>\n    <tr>\n      <th>...</th>\n      <td>...</td>\n      <td>...</td>\n      <td>...</td>\n      <td>...</td>\n      <td>...</td>\n      <td>...</td>\n      <td>...</td>\n      <td>...</td>\n      <td>...</td>\n      <td>...</td>\n      <td>...</td>\n      <td>...</td>\n      <td>...</td>\n      <td>...</td>\n      <td>...</td>\n      <td>...</td>\n      <td>...</td>\n      <td>...</td>\n      <td>...</td>\n      <td>...</td>\n      <td>...</td>\n    </tr>\n    <tr>\n      <th>1575</th>\n      <td>275</td>\n      <td>1</td>\n      <td>80th</td>\n      <td>0</td>\n      <td>0.0</td>\n      <td>0.0</td>\n      <td>0.0</td>\n      <td>0.0</td>\n      <td>0.0</td>\n      <td>0.0</td>\n      <td>...</td>\n      <td>-1.000000</td>\n      <td>-1.000000</td>\n      <td>-1.000000</td>\n      <td>-1.000000</td>\n      <td>-1.000000</td>\n      <td>-1.000000</td>\n      <td>-1.000000</td>\n      <td>0-2</td>\n      <td>0</td>\n      <td>1</td>\n    </tr>\n    <tr>\n      <th>1576</th>\n      <td>275</td>\n      <td>1</td>\n      <td>80th</td>\n      <td>0</td>\n      <td>0.0</td>\n      <td>0.0</td>\n      <td>0.0</td>\n      <td>0.0</td>\n      <td>0.0</td>\n      <td>0.0</td>\n      <td>...</td>\n      <td>-1.000000</td>\n      <td>-1.000000</td>\n      <td>-1.000000</td>\n      <td>-1.000000</td>\n      <td>-1.000000</td>\n      <td>-1.000000</td>\n      <td>-1.000000</td>\n      <td>2-4</td>\n      <td>0</td>\n      <td>1</td>\n    </tr>\n    <tr>\n      <th>1577</th>\n      <td>275</td>\n      <td>1</td>\n      <td>80th</td>\n      <td>0</td>\n      <td>0.0</td>\n      <td>0.0</td>\n      <td>0.0</td>\n      <td>0.0</td>\n      <td>0.0</td>\n      <td>0.0</td>\n      <td>...</td>\n      <td>-1.000000</td>\n      <td>-1.000000</td>\n      <td>-1.000000</td>\n      <td>-1.000000</td>\n      <td>-1.000000</td>\n      <td>-1.000000</td>\n      <td>-1.000000</td>\n      <td>4-6</td>\n      <td>0</td>\n      <td>1</td>\n    </tr>\n    <tr>\n      <th>1578</th>\n      <td>275</td>\n      <td>1</td>\n      <td>80th</td>\n      <td>0</td>\n      <td>0.0</td>\n      <td>0.0</td>\n      <td>0.0</td>\n      <td>0.0</td>\n      <td>0.0</td>\n      <td>0.0</td>\n      <td>...</td>\n      <td>-1.000000</td>\n      <td>-1.000000</td>\n      <td>-1.000000</td>\n      <td>-1.000000</td>\n      <td>-1.000000</td>\n      <td>-1.000000</td>\n      <td>-1.000000</td>\n      <td>6-12</td>\n      <td>0</td>\n      <td>1</td>\n    </tr>\n    <tr>\n      <th>1579</th>\n      <td>275</td>\n      <td>1</td>\n      <td>80th</td>\n      <td>0</td>\n      <td>0.0</td>\n      <td>1.0</td>\n      <td>0.0</td>\n      <td>0.0</td>\n      <td>0.0</td>\n      <td>0.0</td>\n      <td>...</td>\n      <td>-0.414141</td>\n      <td>-0.405797</td>\n      <td>0.313484</td>\n      <td>-0.468702</td>\n      <td>0.327674</td>\n      <td>0.071429</td>\n      <td>-0.414650</td>\n      <td>ABOVE_12</td>\n      <td>1</td>\n      <td>1</td>\n    </tr>\n  </tbody>\n</table>\n<p>1580 rows × 232 columns</p>\n</div>"
     },
     "metadata": {},
     "execution_count": 27
    }
   ],
   "source": [
    "\n",
    "# o dilema aqui é o seguinte: usar dados de pacientes na ICU com bfill para completar os missing values anteriores\n",
    "# para minimizar o efeito, estou fazendo ffill primeiro (projeta os missing a partir dos primeiros valores, priorizando medições em janelas ICU=0) \n",
    "# qundo ffill não funciona, significa que havia ausência de dados logo no começo, então é inevitável um bfill para preencher os dados\n",
    "# FUTURO: preencher com random a partir de média e desvio padrão pré-calculados\n",
    "\n",
    "df_useful_train_ffill_by_patient = df_useful_train.groupby(patient_id_col).ffill()\n",
    "df_useful_train_ffill_by_patient = pd.concat([df_useful_train[patient_id_col],df_useful_train_ffill_by_patient], join='outer',axis=1)\n",
    "\n",
    "df_useful_train_bfill_by_patient = df_useful_train_ffill_by_patient.groupby(patient_id_col).bfill()\n",
    "df_useful_train_bfill_by_patient = pd.concat([df_useful_train[patient_id_col],df_useful_train_bfill_by_patient], join='outer',axis=1)\n",
    "\n",
    "df_useful_train_filled_by_patient = df_useful_train_bfill_by_patient[[patient_id_col] + df_useful_train_bfill_by_patient.drop(patient_id_col,axis=1).columns.tolist()]\n",
    "\n",
    "\n",
    "df_useful_test_ffill_by_patient = df_useful_test.groupby(patient_id_col).ffill()\n",
    "df_useful_test_ffill_by_patient = pd.concat([df_useful_test[patient_id_col],df_useful_test_ffill_by_patient], join='outer',axis=1)\n",
    "\n",
    "df_useful_test_bfill_by_patient = df_useful_test_ffill_by_patient.groupby(patient_id_col).bfill()\n",
    "df_useful_test_bfill_by_patient = pd.concat([df_useful_test[patient_id_col],df_useful_test_bfill_by_patient], join='outer',axis=1)\n",
    "\n",
    "df_useful_test_filled_by_patient = df_useful_test_bfill_by_patient[[patient_id_col] + df_useful_test_bfill_by_patient.drop(patient_id_col,axis=1).columns.tolist()]\n",
    "\n",
    "\n",
    "df_useful_train_filled_by_patient"
   ]
  },
  {
   "cell_type": "code",
   "execution_count": 28,
   "metadata": {},
   "outputs": [
    {
     "output_type": "execute_result",
     "data": {
      "text/plain": [
       "                          AGE_ABOVE65 AGE_PERCENTIL  GENDER  \\\n",
       "PATIENT_VISIT_IDENTIFIER                                      \n",
       "2                                   0          10th       0   \n",
       "2                                   0          10th       0   \n",
       "2                                   0          10th       0   \n",
       "2                                   0          10th       0   \n",
       "2                                   0          10th       0   \n",
       "\n",
       "                          DISEASE GROUPING 1  DISEASE GROUPING 2  \\\n",
       "PATIENT_VISIT_IDENTIFIER                                           \n",
       "2                                        0.0                 0.0   \n",
       "2                                        0.0                 0.0   \n",
       "2                                        0.0                 0.0   \n",
       "2                                        0.0                 0.0   \n",
       "2                                        0.0                 0.0   \n",
       "\n",
       "                          DISEASE GROUPING 3  DISEASE GROUPING 4  \\\n",
       "PATIENT_VISIT_IDENTIFIER                                           \n",
       "2                                        0.0                 0.0   \n",
       "2                                        0.0                 0.0   \n",
       "2                                        0.0                 0.0   \n",
       "2                                        0.0                 0.0   \n",
       "2                                        0.0                 0.0   \n",
       "\n",
       "                          DISEASE GROUPING 5  DISEASE GROUPING 6  HTN  ...  \\\n",
       "PATIENT_VISIT_IDENTIFIER                                               ...   \n",
       "2                                        0.0                 0.0  0.0  ...   \n",
       "2                                        0.0                 0.0  0.0  ...   \n",
       "2                                        0.0                 0.0  0.0  ...   \n",
       "2                                        0.0                 0.0  0.0  ...   \n",
       "2                                        0.0                 0.0  0.0  ...   \n",
       "\n",
       "                          OXYGEN_SATURATION_DIFF  \\\n",
       "PATIENT_VISIT_IDENTIFIER                           \n",
       "2                                      -0.959596   \n",
       "2                                      -0.959596   \n",
       "2                                      -0.959596   \n",
       "2                                      -0.797980   \n",
       "2                                      -0.898990   \n",
       "\n",
       "                          BLOODPRESSURE_DIASTOLIC_DIFF_REL  \\\n",
       "PATIENT_VISIT_IDENTIFIER                                     \n",
       "2                                                -0.515528   \n",
       "2                                                -0.515528   \n",
       "2                                                -0.515528   \n",
       "2                                                -0.658863   \n",
       "2                                                -0.612422   \n",
       "\n",
       "                          BLOODPRESSURE_SISTOLIC_DIFF_REL  \\\n",
       "PATIENT_VISIT_IDENTIFIER                                    \n",
       "2                                               -0.351328   \n",
       "2                                               -0.351328   \n",
       "2                                               -0.351328   \n",
       "2                                               -0.563758   \n",
       "2                                               -0.343258   \n",
       "\n",
       "                          HEART_RATE_DIFF_REL  RESPIRATORY_RATE_DIFF_REL  \\\n",
       "PATIENT_VISIT_IDENTIFIER                                                   \n",
       "2                                   -0.747001                  -0.756272   \n",
       "2                                   -0.747001                  -0.756272   \n",
       "2                                   -0.747001                  -0.756272   \n",
       "2                                   -0.721834                  -0.926882   \n",
       "2                                   -0.576744                  -0.695341   \n",
       "\n",
       "                          TEMPERATURE_DIFF_REL  OXYGEN_SATURATION_DIFF_REL  \\\n",
       "PATIENT_VISIT_IDENTIFIER                                                     \n",
       "2                                    -1.000000                   -0.961262   \n",
       "2                                    -1.000000                   -0.961262   \n",
       "2                                    -1.000000                   -0.961262   \n",
       "2                                    -1.000000                   -0.801293   \n",
       "2                                    -0.505464                   -0.900129   \n",
       "\n",
       "                            WINDOW  ICU  ICU_timeless  \n",
       "PATIENT_VISIT_IDENTIFIER                               \n",
       "2                              0-2    0             1  \n",
       "2                              2-4    0             1  \n",
       "2                              4-6    0             1  \n",
       "2                             6-12    0             1  \n",
       "2                         ABOVE_12    1             1  \n",
       "\n",
       "[5 rows x 231 columns]"
      ],
      "text/html": "<div>\n<style scoped>\n    .dataframe tbody tr th:only-of-type {\n        vertical-align: middle;\n    }\n\n    .dataframe tbody tr th {\n        vertical-align: top;\n    }\n\n    .dataframe thead th {\n        text-align: right;\n    }\n</style>\n<table border=\"1\" class=\"dataframe\">\n  <thead>\n    <tr style=\"text-align: right;\">\n      <th></th>\n      <th>AGE_ABOVE65</th>\n      <th>AGE_PERCENTIL</th>\n      <th>GENDER</th>\n      <th>DISEASE GROUPING 1</th>\n      <th>DISEASE GROUPING 2</th>\n      <th>DISEASE GROUPING 3</th>\n      <th>DISEASE GROUPING 4</th>\n      <th>DISEASE GROUPING 5</th>\n      <th>DISEASE GROUPING 6</th>\n      <th>HTN</th>\n      <th>...</th>\n      <th>OXYGEN_SATURATION_DIFF</th>\n      <th>BLOODPRESSURE_DIASTOLIC_DIFF_REL</th>\n      <th>BLOODPRESSURE_SISTOLIC_DIFF_REL</th>\n      <th>HEART_RATE_DIFF_REL</th>\n      <th>RESPIRATORY_RATE_DIFF_REL</th>\n      <th>TEMPERATURE_DIFF_REL</th>\n      <th>OXYGEN_SATURATION_DIFF_REL</th>\n      <th>WINDOW</th>\n      <th>ICU</th>\n      <th>ICU_timeless</th>\n    </tr>\n    <tr>\n      <th>PATIENT_VISIT_IDENTIFIER</th>\n      <th></th>\n      <th></th>\n      <th></th>\n      <th></th>\n      <th></th>\n      <th></th>\n      <th></th>\n      <th></th>\n      <th></th>\n      <th></th>\n      <th></th>\n      <th></th>\n      <th></th>\n      <th></th>\n      <th></th>\n      <th></th>\n      <th></th>\n      <th></th>\n      <th></th>\n      <th></th>\n      <th></th>\n    </tr>\n  </thead>\n  <tbody>\n    <tr>\n      <th>2</th>\n      <td>0</td>\n      <td>10th</td>\n      <td>0</td>\n      <td>0.0</td>\n      <td>0.0</td>\n      <td>0.0</td>\n      <td>0.0</td>\n      <td>0.0</td>\n      <td>0.0</td>\n      <td>0.0</td>\n      <td>...</td>\n      <td>-0.959596</td>\n      <td>-0.515528</td>\n      <td>-0.351328</td>\n      <td>-0.747001</td>\n      <td>-0.756272</td>\n      <td>-1.000000</td>\n      <td>-0.961262</td>\n      <td>0-2</td>\n      <td>0</td>\n      <td>1</td>\n    </tr>\n    <tr>\n      <th>2</th>\n      <td>0</td>\n      <td>10th</td>\n      <td>0</td>\n      <td>0.0</td>\n      <td>0.0</td>\n      <td>0.0</td>\n      <td>0.0</td>\n      <td>0.0</td>\n      <td>0.0</td>\n      <td>0.0</td>\n      <td>...</td>\n      <td>-0.959596</td>\n      <td>-0.515528</td>\n      <td>-0.351328</td>\n      <td>-0.747001</td>\n      <td>-0.756272</td>\n      <td>-1.000000</td>\n      <td>-0.961262</td>\n      <td>2-4</td>\n      <td>0</td>\n      <td>1</td>\n    </tr>\n    <tr>\n      <th>2</th>\n      <td>0</td>\n      <td>10th</td>\n      <td>0</td>\n      <td>0.0</td>\n      <td>0.0</td>\n      <td>0.0</td>\n      <td>0.0</td>\n      <td>0.0</td>\n      <td>0.0</td>\n      <td>0.0</td>\n      <td>...</td>\n      <td>-0.959596</td>\n      <td>-0.515528</td>\n      <td>-0.351328</td>\n      <td>-0.747001</td>\n      <td>-0.756272</td>\n      <td>-1.000000</td>\n      <td>-0.961262</td>\n      <td>4-6</td>\n      <td>0</td>\n      <td>1</td>\n    </tr>\n    <tr>\n      <th>2</th>\n      <td>0</td>\n      <td>10th</td>\n      <td>0</td>\n      <td>0.0</td>\n      <td>0.0</td>\n      <td>0.0</td>\n      <td>0.0</td>\n      <td>0.0</td>\n      <td>0.0</td>\n      <td>0.0</td>\n      <td>...</td>\n      <td>-0.797980</td>\n      <td>-0.658863</td>\n      <td>-0.563758</td>\n      <td>-0.721834</td>\n      <td>-0.926882</td>\n      <td>-1.000000</td>\n      <td>-0.801293</td>\n      <td>6-12</td>\n      <td>0</td>\n      <td>1</td>\n    </tr>\n    <tr>\n      <th>2</th>\n      <td>0</td>\n      <td>10th</td>\n      <td>0</td>\n      <td>0.0</td>\n      <td>0.0</td>\n      <td>0.0</td>\n      <td>0.0</td>\n      <td>0.0</td>\n      <td>0.0</td>\n      <td>0.0</td>\n      <td>...</td>\n      <td>-0.898990</td>\n      <td>-0.612422</td>\n      <td>-0.343258</td>\n      <td>-0.576744</td>\n      <td>-0.695341</td>\n      <td>-0.505464</td>\n      <td>-0.900129</td>\n      <td>ABOVE_12</td>\n      <td>1</td>\n      <td>1</td>\n    </tr>\n  </tbody>\n</table>\n<p>5 rows × 231 columns</p>\n</div>"
     },
     "metadata": {},
     "execution_count": 28
    }
   ],
   "source": [
    "df_useful_train_filled_by_patient.set_index(patient_id_col).loc[2]"
   ]
  },
  {
   "source": [
    "## Organizando o Dataset com PIVOT e MULTIINDEX"
   ],
   "cell_type": "markdown",
   "metadata": {}
  },
  {
   "cell_type": "code",
   "execution_count": 29,
   "metadata": {},
   "outputs": [],
   "source": [
    "# cool function: https://numpy.org/doc/stable/reference/generated/numpy.in1d.html"
   ]
  },
  {
   "cell_type": "code",
   "execution_count": 30,
   "metadata": {},
   "outputs": [],
   "source": [
    "# pivot_test = df_useful_train_filled_by_patient.set_index(patient_id_col).loc[train_ids[11]].reset_index()[[patient_id_col, window_id_col, target_col] + patient_blood_cols[0:5]].pivot(index=patient_id_col, columns=[window_id_col, target_col], values=patient_blood_cols[0:5])\n",
    "# pivot_test"
   ]
  },
  {
   "cell_type": "code",
   "execution_count": 31,
   "metadata": {},
   "outputs": [],
   "source": [
    "# pivot_test.columns"
   ]
  },
  {
   "cell_type": "code",
   "execution_count": 32,
   "metadata": {},
   "outputs": [],
   "source": [
    "# pivot_test.index"
   ]
  },
  {
   "cell_type": "code",
   "execution_count": 33,
   "metadata": {},
   "outputs": [],
   "source": [
    "# pivot_test_2 = df_useful_train_filled_by_patient[[patient_id_col, window_id_col, target_col] + patient_blood_cols[0:5]].pivot(index=patient_id_col, columns=[window_id_col, target_col], values=patient_blood_cols[0:5])\n",
    "# pivot_test_2\n"
   ]
  },
  {
   "cell_type": "code",
   "execution_count": 34,
   "metadata": {},
   "outputs": [
    {
     "output_type": "execute_result",
     "data": {
      "text/plain": [
       "                                      AGE_ABOVE65                              \\\n",
       "WINDOW                                        0-2  2-4  4-6 6-12 ABOVE_12 2-4   \n",
       "ICU                                             0    0    0    0        0   1   \n",
       "PATIENT_VISIT_IDENTIFIER ICU_timeless                                           \n",
       "0                        1                    1.0  1.0  1.0  1.0      NaN NaN   \n",
       "2                        1                    0.0  0.0  0.0  0.0      NaN NaN   \n",
       "3                        0                    0.0  0.0  0.0  0.0      0.0 NaN   \n",
       "4                        0                    0.0  0.0  0.0  0.0      0.0 NaN   \n",
       "5                        0                    0.0  0.0  0.0  0.0      0.0 NaN   \n",
       "...                                           ...  ...  ...  ...      ...  ..   \n",
       "380                      1                    0.0  0.0  0.0  0.0      NaN NaN   \n",
       "381                      0                    1.0  1.0  1.0  1.0      1.0 NaN   \n",
       "382                      1                    0.0  0.0  0.0  0.0      NaN NaN   \n",
       "383                      0                    0.0  0.0  0.0  0.0      0.0 NaN   \n",
       "384                      0                    0.0  0.0  0.0  0.0      0.0 NaN   \n",
       "\n",
       "                                                        AGE_PERCENTIL  ...  \\\n",
       "WINDOW                                4-6 6-12 ABOVE_12           0-2  ...   \n",
       "ICU                                     1    1        1             0  ...   \n",
       "PATIENT_VISIT_IDENTIFIER ICU_timeless                                  ...   \n",
       "0                        1            NaN  NaN      1.0          60th  ...   \n",
       "2                        1            NaN  NaN      0.0          10th  ...   \n",
       "3                        0            NaN  NaN      NaN          40th  ...   \n",
       "4                        0            NaN  NaN      NaN          10th  ...   \n",
       "5                        0            NaN  NaN      NaN          10th  ...   \n",
       "...                                    ..  ...      ...           ...  ...   \n",
       "380                      1            NaN  NaN      0.0          40th  ...   \n",
       "381                      0            NaN  NaN      NaN    Above 90th  ...   \n",
       "382                      1            NaN  NaN      0.0          50th  ...   \n",
       "383                      0            NaN  NaN      NaN          40th  ...   \n",
       "384                      0            NaN  NaN      NaN          50th  ...   \n",
       "\n",
       "                                      TEMPERATURE_DIFF_REL  \\\n",
       "WINDOW                                            ABOVE_12   \n",
       "ICU                                                      1   \n",
       "PATIENT_VISIT_IDENTIFIER ICU_timeless                        \n",
       "0                        1                       -0.242282   \n",
       "2                        1                       -0.505464   \n",
       "3                        0                             NaN   \n",
       "4                        0                             NaN   \n",
       "5                        0                             NaN   \n",
       "...                                                    ...   \n",
       "380                      1                       -0.535361   \n",
       "381                      0                             NaN   \n",
       "382                      1                       -0.498615   \n",
       "383                      0                             NaN   \n",
       "384                      0                             NaN   \n",
       "\n",
       "                                      OXYGEN_SATURATION_DIFF_REL            \\\n",
       "WINDOW                                                       0-2       2-4   \n",
       "ICU                                                            0         0   \n",
       "PATIENT_VISIT_IDENTIFIER ICU_timeless                                        \n",
       "0                        1                             -1.000000 -1.000000   \n",
       "2                        1                             -0.961262 -0.961262   \n",
       "3                        0                             -1.000000 -1.000000   \n",
       "4                        0                             -0.980333 -0.980333   \n",
       "5                        0                             -0.980129 -0.980129   \n",
       "...                                                          ...       ...   \n",
       "380                      1                             -1.000000 -1.000000   \n",
       "381                      0                             -1.000000 -1.000000   \n",
       "382                      1                             -1.000000 -1.000000   \n",
       "383                      0                             -1.000000 -1.000000   \n",
       "384                      0                             -1.000000 -1.000000   \n",
       "\n",
       "                                                                             \\\n",
       "WINDOW                                      4-6      6-12  ABOVE_12 2-4 4-6   \n",
       "ICU                                           0         0         0   1   1   \n",
       "PATIENT_VISIT_IDENTIFIER ICU_timeless                                         \n",
       "0                        1            -1.000000 -1.000000       NaN NaN NaN   \n",
       "2                        1            -0.961262 -0.801293       NaN NaN NaN   \n",
       "3                        0            -1.000000 -1.000000 -0.172436 NaN NaN   \n",
       "4                        0            -0.980333 -0.960463 -0.940077 NaN NaN   \n",
       "5                        0            -0.980129 -1.000000 -0.920927 NaN NaN   \n",
       "...                                         ...       ...       ...  ..  ..   \n",
       "380                      1            -1.000000 -1.000000       NaN NaN NaN   \n",
       "381                      0            -1.000000 -1.000000 -0.960052 NaN NaN   \n",
       "382                      1            -1.000000 -1.000000       NaN NaN NaN   \n",
       "383                      0            -1.000000 -1.000000 -0.838524 NaN NaN   \n",
       "384                      0            -1.000000 -1.000000 -0.835052 NaN NaN   \n",
       "\n",
       "                                                      \n",
       "WINDOW                                6-12  ABOVE_12  \n",
       "ICU                                      1         1  \n",
       "PATIENT_VISIT_IDENTIFIER ICU_timeless                 \n",
       "0                        1             NaN -0.814433  \n",
       "2                        1             NaN -0.900129  \n",
       "3                        0             NaN       NaN  \n",
       "4                        0             NaN       NaN  \n",
       "5                        0             NaN       NaN  \n",
       "...                                    ...       ...  \n",
       "380                      1             NaN -0.717417  \n",
       "381                      0             NaN       NaN  \n",
       "382                      1             NaN -0.835052  \n",
       "383                      0             NaN       NaN  \n",
       "384                      0             NaN       NaN  \n",
       "\n",
       "[316 rows x 2052 columns]"
      ],
      "text/html": "<div>\n<style scoped>\n    .dataframe tbody tr th:only-of-type {\n        vertical-align: middle;\n    }\n\n    .dataframe tbody tr th {\n        vertical-align: top;\n    }\n\n    .dataframe thead tr th {\n        text-align: left;\n    }\n\n    .dataframe thead tr:last-of-type th {\n        text-align: right;\n    }\n</style>\n<table border=\"1\" class=\"dataframe\">\n  <thead>\n    <tr>\n      <th></th>\n      <th></th>\n      <th colspan=\"9\" halign=\"left\">AGE_ABOVE65</th>\n      <th>AGE_PERCENTIL</th>\n      <th>...</th>\n      <th>TEMPERATURE_DIFF_REL</th>\n      <th colspan=\"9\" halign=\"left\">OXYGEN_SATURATION_DIFF_REL</th>\n    </tr>\n    <tr>\n      <th></th>\n      <th>WINDOW</th>\n      <th>0-2</th>\n      <th>2-4</th>\n      <th>4-6</th>\n      <th>6-12</th>\n      <th>ABOVE_12</th>\n      <th>2-4</th>\n      <th>4-6</th>\n      <th>6-12</th>\n      <th>ABOVE_12</th>\n      <th>0-2</th>\n      <th>...</th>\n      <th>ABOVE_12</th>\n      <th>0-2</th>\n      <th>2-4</th>\n      <th>4-6</th>\n      <th>6-12</th>\n      <th>ABOVE_12</th>\n      <th>2-4</th>\n      <th>4-6</th>\n      <th>6-12</th>\n      <th>ABOVE_12</th>\n    </tr>\n    <tr>\n      <th></th>\n      <th>ICU</th>\n      <th>0</th>\n      <th>0</th>\n      <th>0</th>\n      <th>0</th>\n      <th>0</th>\n      <th>1</th>\n      <th>1</th>\n      <th>1</th>\n      <th>1</th>\n      <th>0</th>\n      <th>...</th>\n      <th>1</th>\n      <th>0</th>\n      <th>0</th>\n      <th>0</th>\n      <th>0</th>\n      <th>0</th>\n      <th>1</th>\n      <th>1</th>\n      <th>1</th>\n      <th>1</th>\n    </tr>\n    <tr>\n      <th>PATIENT_VISIT_IDENTIFIER</th>\n      <th>ICU_timeless</th>\n      <th></th>\n      <th></th>\n      <th></th>\n      <th></th>\n      <th></th>\n      <th></th>\n      <th></th>\n      <th></th>\n      <th></th>\n      <th></th>\n      <th></th>\n      <th></th>\n      <th></th>\n      <th></th>\n      <th></th>\n      <th></th>\n      <th></th>\n      <th></th>\n      <th></th>\n      <th></th>\n      <th></th>\n    </tr>\n  </thead>\n  <tbody>\n    <tr>\n      <th>0</th>\n      <th>1</th>\n      <td>1.0</td>\n      <td>1.0</td>\n      <td>1.0</td>\n      <td>1.0</td>\n      <td>NaN</td>\n      <td>NaN</td>\n      <td>NaN</td>\n      <td>NaN</td>\n      <td>1.0</td>\n      <td>60th</td>\n      <td>...</td>\n      <td>-0.242282</td>\n      <td>-1.000000</td>\n      <td>-1.000000</td>\n      <td>-1.000000</td>\n      <td>-1.000000</td>\n      <td>NaN</td>\n      <td>NaN</td>\n      <td>NaN</td>\n      <td>NaN</td>\n      <td>-0.814433</td>\n    </tr>\n    <tr>\n      <th>2</th>\n      <th>1</th>\n      <td>0.0</td>\n      <td>0.0</td>\n      <td>0.0</td>\n      <td>0.0</td>\n      <td>NaN</td>\n      <td>NaN</td>\n      <td>NaN</td>\n      <td>NaN</td>\n      <td>0.0</td>\n      <td>10th</td>\n      <td>...</td>\n      <td>-0.505464</td>\n      <td>-0.961262</td>\n      <td>-0.961262</td>\n      <td>-0.961262</td>\n      <td>-0.801293</td>\n      <td>NaN</td>\n      <td>NaN</td>\n      <td>NaN</td>\n      <td>NaN</td>\n      <td>-0.900129</td>\n    </tr>\n    <tr>\n      <th>3</th>\n      <th>0</th>\n      <td>0.0</td>\n      <td>0.0</td>\n      <td>0.0</td>\n      <td>0.0</td>\n      <td>0.0</td>\n      <td>NaN</td>\n      <td>NaN</td>\n      <td>NaN</td>\n      <td>NaN</td>\n      <td>40th</td>\n      <td>...</td>\n      <td>NaN</td>\n      <td>-1.000000</td>\n      <td>-1.000000</td>\n      <td>-1.000000</td>\n      <td>-1.000000</td>\n      <td>-0.172436</td>\n      <td>NaN</td>\n      <td>NaN</td>\n      <td>NaN</td>\n      <td>NaN</td>\n    </tr>\n    <tr>\n      <th>4</th>\n      <th>0</th>\n      <td>0.0</td>\n      <td>0.0</td>\n      <td>0.0</td>\n      <td>0.0</td>\n      <td>0.0</td>\n      <td>NaN</td>\n      <td>NaN</td>\n      <td>NaN</td>\n      <td>NaN</td>\n      <td>10th</td>\n      <td>...</td>\n      <td>NaN</td>\n      <td>-0.980333</td>\n      <td>-0.980333</td>\n      <td>-0.980333</td>\n      <td>-0.960463</td>\n      <td>-0.940077</td>\n      <td>NaN</td>\n      <td>NaN</td>\n      <td>NaN</td>\n      <td>NaN</td>\n    </tr>\n    <tr>\n      <th>5</th>\n      <th>0</th>\n      <td>0.0</td>\n      <td>0.0</td>\n      <td>0.0</td>\n      <td>0.0</td>\n      <td>0.0</td>\n      <td>NaN</td>\n      <td>NaN</td>\n      <td>NaN</td>\n      <td>NaN</td>\n      <td>10th</td>\n      <td>...</td>\n      <td>NaN</td>\n      <td>-0.980129</td>\n      <td>-0.980129</td>\n      <td>-0.980129</td>\n      <td>-1.000000</td>\n      <td>-0.920927</td>\n      <td>NaN</td>\n      <td>NaN</td>\n      <td>NaN</td>\n      <td>NaN</td>\n    </tr>\n    <tr>\n      <th>...</th>\n      <th>...</th>\n      <td>...</td>\n      <td>...</td>\n      <td>...</td>\n      <td>...</td>\n      <td>...</td>\n      <td>...</td>\n      <td>...</td>\n      <td>...</td>\n      <td>...</td>\n      <td>...</td>\n      <td>...</td>\n      <td>...</td>\n      <td>...</td>\n      <td>...</td>\n      <td>...</td>\n      <td>...</td>\n      <td>...</td>\n      <td>...</td>\n      <td>...</td>\n      <td>...</td>\n      <td>...</td>\n    </tr>\n    <tr>\n      <th>380</th>\n      <th>1</th>\n      <td>0.0</td>\n      <td>0.0</td>\n      <td>0.0</td>\n      <td>0.0</td>\n      <td>NaN</td>\n      <td>NaN</td>\n      <td>NaN</td>\n      <td>NaN</td>\n      <td>0.0</td>\n      <td>40th</td>\n      <td>...</td>\n      <td>-0.535361</td>\n      <td>-1.000000</td>\n      <td>-1.000000</td>\n      <td>-1.000000</td>\n      <td>-1.000000</td>\n      <td>NaN</td>\n      <td>NaN</td>\n      <td>NaN</td>\n      <td>NaN</td>\n      <td>-0.717417</td>\n    </tr>\n    <tr>\n      <th>381</th>\n      <th>0</th>\n      <td>1.0</td>\n      <td>1.0</td>\n      <td>1.0</td>\n      <td>1.0</td>\n      <td>1.0</td>\n      <td>NaN</td>\n      <td>NaN</td>\n      <td>NaN</td>\n      <td>NaN</td>\n      <td>Above 90th</td>\n      <td>...</td>\n      <td>NaN</td>\n      <td>-1.000000</td>\n      <td>-1.000000</td>\n      <td>-1.000000</td>\n      <td>-1.000000</td>\n      <td>-0.960052</td>\n      <td>NaN</td>\n      <td>NaN</td>\n      <td>NaN</td>\n      <td>NaN</td>\n    </tr>\n    <tr>\n      <th>382</th>\n      <th>1</th>\n      <td>0.0</td>\n      <td>0.0</td>\n      <td>0.0</td>\n      <td>0.0</td>\n      <td>NaN</td>\n      <td>NaN</td>\n      <td>NaN</td>\n      <td>NaN</td>\n      <td>0.0</td>\n      <td>50th</td>\n      <td>...</td>\n      <td>-0.498615</td>\n      <td>-1.000000</td>\n      <td>-1.000000</td>\n      <td>-1.000000</td>\n      <td>-1.000000</td>\n      <td>NaN</td>\n      <td>NaN</td>\n      <td>NaN</td>\n      <td>NaN</td>\n      <td>-0.835052</td>\n    </tr>\n    <tr>\n      <th>383</th>\n      <th>0</th>\n      <td>0.0</td>\n      <td>0.0</td>\n      <td>0.0</td>\n      <td>0.0</td>\n      <td>0.0</td>\n      <td>NaN</td>\n      <td>NaN</td>\n      <td>NaN</td>\n      <td>NaN</td>\n      <td>40th</td>\n      <td>...</td>\n      <td>NaN</td>\n      <td>-1.000000</td>\n      <td>-1.000000</td>\n      <td>-1.000000</td>\n      <td>-1.000000</td>\n      <td>-0.838524</td>\n      <td>NaN</td>\n      <td>NaN</td>\n      <td>NaN</td>\n      <td>NaN</td>\n    </tr>\n    <tr>\n      <th>384</th>\n      <th>0</th>\n      <td>0.0</td>\n      <td>0.0</td>\n      <td>0.0</td>\n      <td>0.0</td>\n      <td>0.0</td>\n      <td>NaN</td>\n      <td>NaN</td>\n      <td>NaN</td>\n      <td>NaN</td>\n      <td>50th</td>\n      <td>...</td>\n      <td>NaN</td>\n      <td>-1.000000</td>\n      <td>-1.000000</td>\n      <td>-1.000000</td>\n      <td>-1.000000</td>\n      <td>-0.835052</td>\n      <td>NaN</td>\n      <td>NaN</td>\n      <td>NaN</td>\n      <td>NaN</td>\n    </tr>\n  </tbody>\n</table>\n<p>316 rows × 2052 columns</p>\n</div>"
     },
     "metadata": {},
     "execution_count": 34
    }
   ],
   "source": [
    "df_useful_train_filled_by_patient_pivot = df_useful_train_filled_by_patient.pivot(index=[patient_id_col,'ICU_timeless'], columns=[window_id_col, target_col])\n",
    "df_useful_test_filled_by_patient_pivot  = df_useful_test_filled_by_patient.pivot(index=[patient_id_col,'ICU_timeless'], columns=[window_id_col, target_col])\n",
    "\n",
    "df_useful_train_filled_by_patient_pivot"
   ]
  },
  {
   "cell_type": "code",
   "execution_count": 35,
   "metadata": {},
   "outputs": [
    {
     "output_type": "execute_result",
     "data": {
      "text/plain": [
       "MultiIndex([(               'AGE_ABOVE65',      '0-2', 0),\n",
       "            (               'AGE_ABOVE65',      '2-4', 0),\n",
       "            (               'AGE_ABOVE65',      '4-6', 0),\n",
       "            (               'AGE_ABOVE65',     '6-12', 0),\n",
       "            (               'AGE_ABOVE65', 'ABOVE_12', 0),\n",
       "            (               'AGE_ABOVE65',      '2-4', 1),\n",
       "            (               'AGE_ABOVE65',      '4-6', 1),\n",
       "            (               'AGE_ABOVE65',     '6-12', 1),\n",
       "            (               'AGE_ABOVE65', 'ABOVE_12', 1),\n",
       "            (             'AGE_PERCENTIL',      '0-2', 0),\n",
       "            ...\n",
       "            (      'TEMPERATURE_DIFF_REL', 'ABOVE_12', 1),\n",
       "            ('OXYGEN_SATURATION_DIFF_REL',      '0-2', 0),\n",
       "            ('OXYGEN_SATURATION_DIFF_REL',      '2-4', 0),\n",
       "            ('OXYGEN_SATURATION_DIFF_REL',      '4-6', 0),\n",
       "            ('OXYGEN_SATURATION_DIFF_REL',     '6-12', 0),\n",
       "            ('OXYGEN_SATURATION_DIFF_REL', 'ABOVE_12', 0),\n",
       "            ('OXYGEN_SATURATION_DIFF_REL',      '2-4', 1),\n",
       "            ('OXYGEN_SATURATION_DIFF_REL',      '4-6', 1),\n",
       "            ('OXYGEN_SATURATION_DIFF_REL',     '6-12', 1),\n",
       "            ('OXYGEN_SATURATION_DIFF_REL', 'ABOVE_12', 1)],\n",
       "           names=[None, 'WINDOW', 'ICU'], length=2052)"
      ]
     },
     "metadata": {},
     "execution_count": 35
    }
   ],
   "source": [
    "df_useful_train_filled_by_patient_pivot.columns"
   ]
  },
  {
   "cell_type": "code",
   "execution_count": 36,
   "metadata": {},
   "outputs": [
    {
     "output_type": "execute_result",
     "data": {
      "text/plain": [
       "MultiIndex([(  0, 1),\n",
       "            (  2, 1),\n",
       "            (  3, 0),\n",
       "            (  4, 0),\n",
       "            (  5, 0),\n",
       "            (  6, 0),\n",
       "            (  7, 0),\n",
       "            (  8, 0),\n",
       "            (  9, 0),\n",
       "            ( 10, 0),\n",
       "            ...\n",
       "            (373, 1),\n",
       "            (374, 0),\n",
       "            (375, 0),\n",
       "            (377, 0),\n",
       "            (378, 0),\n",
       "            (380, 1),\n",
       "            (381, 0),\n",
       "            (382, 1),\n",
       "            (383, 0),\n",
       "            (384, 0)],\n",
       "           names=['PATIENT_VISIT_IDENTIFIER', 'ICU_timeless'], length=316)"
      ]
     },
     "metadata": {},
     "execution_count": 36
    }
   ],
   "source": [
    "df_useful_train_filled_by_patient_pivot.index"
   ]
  },
  {
   "cell_type": "code",
   "execution_count": 37,
   "metadata": {},
   "outputs": [
    {
     "output_type": "execute_result",
     "data": {
      "text/plain": [
       "                                       HTN IMMUNOCOMPROMISED OTHER  \\\n",
       "WINDOW                                 0-2               0-2   0-2   \n",
       "ICU                                      0                 0     0   \n",
       "PATIENT_VISIT_IDENTIFIER ICU_timeless                                \n",
       "0                        1             0.0               0.0   1.0   \n",
       "2                        1             0.0               0.0   1.0   \n",
       "3                        0             0.0               1.0   1.0   \n",
       "4                        0             0.0               0.0   1.0   \n",
       "5                        0             0.0               0.0   1.0   \n",
       "...                                    ...               ...   ...   \n",
       "380                      1             0.0               1.0   1.0   \n",
       "381                      0             0.0               1.0   1.0   \n",
       "382                      1             0.0               0.0   0.0   \n",
       "383                      0             0.0               0.0   0.0   \n",
       "384                      0             0.0               0.0   1.0   \n",
       "\n",
       "                                      ALBUMIN_MEDIAN ALBUMIN_MEAN ALBUMIN_MIN  \\\n",
       "WINDOW                                           0-2          0-2         0-2   \n",
       "ICU                                                0            0           0   \n",
       "PATIENT_VISIT_IDENTIFIER ICU_timeless                                           \n",
       "0                        1                  0.605263     0.605263    0.605263   \n",
       "2                        1                  0.605263     0.605263    0.605263   \n",
       "3                        0                 -0.263158    -0.263158   -0.263158   \n",
       "4                        0                  0.605263     0.605263    0.605263   \n",
       "5                        0                  0.605263     0.605263    0.605263   \n",
       "...                                              ...          ...         ...   \n",
       "380                      1                 -0.578947    -0.578947   -0.578947   \n",
       "381                      0                  0.605263     0.605263    0.605263   \n",
       "382                      1                  0.605263     0.605263    0.605263   \n",
       "383                      0                  0.605263     0.605263    0.605263   \n",
       "384                      0                  0.605263     0.605263    0.605263   \n",
       "\n",
       "                                      ALBUMIN_MAX ALBUMIN_DIFF  \\\n",
       "WINDOW                                        0-2          0-2   \n",
       "ICU                                             0            0   \n",
       "PATIENT_VISIT_IDENTIFIER ICU_timeless                            \n",
       "0                        1               0.605263         -1.0   \n",
       "2                        1               0.605263         -1.0   \n",
       "3                        0              -0.263158         -1.0   \n",
       "4                        0               0.605263         -1.0   \n",
       "5                        0               0.605263         -1.0   \n",
       "...                                           ...          ...   \n",
       "380                      1              -0.578947         -1.0   \n",
       "381                      0               0.605263         -1.0   \n",
       "382                      1               0.605263         -1.0   \n",
       "383                      0               0.605263         -1.0   \n",
       "384                      0               0.605263         -1.0   \n",
       "\n",
       "                                      BE_ARTERIAL_MEDIAN BE_ARTERIAL_MEAN  \\\n",
       "WINDOW                                               0-2              0-2   \n",
       "ICU                                                    0                0   \n",
       "PATIENT_VISIT_IDENTIFIER ICU_timeless                                       \n",
       "0                        1                          -1.0             -1.0   \n",
       "2                        1                          -1.0             -1.0   \n",
       "3                        0                          -1.0             -1.0   \n",
       "4                        0                          -1.0             -1.0   \n",
       "5                        0                          -1.0             -1.0   \n",
       "...                                                  ...              ...   \n",
       "380                      1                          -1.0             -1.0   \n",
       "381                      0                          -1.0             -1.0   \n",
       "382                      1                          -1.0             -1.0   \n",
       "383                      0                          -1.0             -1.0   \n",
       "384                      0                          -1.0             -1.0   \n",
       "\n",
       "                                       ... UREA_MEDIAN UREA_MEAN  UREA_MIN  \\\n",
       "WINDOW                                 ...         0-2       0-2       0-2   \n",
       "ICU                                    ...           0         0         0   \n",
       "PATIENT_VISIT_IDENTIFIER ICU_timeless  ...                                   \n",
       "0                        1             ...   -0.836145 -0.836145 -0.836145   \n",
       "2                        1             ...   -0.836145 -0.836145 -0.836145   \n",
       "3                        0             ...   -0.937349 -0.937349 -0.937349   \n",
       "4                        0             ...   -0.903614 -0.903614 -0.903614   \n",
       "5                        0             ...   -0.884337 -0.884337 -0.884337   \n",
       "...                                    ...         ...       ...       ...   \n",
       "380                      1             ...   -0.860241 -0.860241 -0.860241   \n",
       "381                      0             ...   -0.855422 -0.855422 -0.855422   \n",
       "382                      1             ...   -0.787952 -0.787952 -0.787952   \n",
       "383                      0             ...   -0.937349 -0.937349 -0.937349   \n",
       "384                      0             ...   -0.879518 -0.879518 -0.879518   \n",
       "\n",
       "                                       UREA_MAX UREA_DIFF DIMER_MEDIAN  \\\n",
       "WINDOW                                      0-2       0-2          0-2   \n",
       "ICU                                           0         0            0   \n",
       "PATIENT_VISIT_IDENTIFIER ICU_timeless                                    \n",
       "0                        1            -0.836145      -1.0    -0.994912   \n",
       "2                        1            -0.836145      -1.0    -0.978029   \n",
       "3                        0            -0.937349      -1.0    -0.978029   \n",
       "4                        0            -0.903614      -1.0    -1.000000   \n",
       "5                        0            -0.884337      -1.0    -1.000000   \n",
       "...                                         ...       ...          ...   \n",
       "380                      1            -0.860241      -1.0    -0.978029   \n",
       "381                      0            -0.855422      -1.0    -0.978029   \n",
       "382                      1            -0.787952      -1.0    -0.964461   \n",
       "383                      0            -0.937349      -1.0    -0.978029   \n",
       "384                      0            -0.879518      -1.0    -0.979571   \n",
       "\n",
       "                                      DIMER_MEAN DIMER_MIN DIMER_MAX  \\\n",
       "WINDOW                                       0-2       0-2       0-2   \n",
       "ICU                                            0         0         0   \n",
       "PATIENT_VISIT_IDENTIFIER ICU_timeless                                  \n",
       "0                        1             -0.994912 -0.994912 -0.994912   \n",
       "2                        1             -0.978029 -0.978029 -0.978029   \n",
       "3                        0             -0.978029 -0.978029 -0.978029   \n",
       "4                        0             -1.000000 -1.000000 -1.000000   \n",
       "5                        0             -1.000000 -1.000000 -1.000000   \n",
       "...                                          ...       ...       ...   \n",
       "380                      1             -0.978029 -0.978029 -0.978029   \n",
       "381                      0             -0.978029 -0.978029 -0.978029   \n",
       "382                      1             -0.964461 -0.964461 -0.964461   \n",
       "383                      0             -0.978029 -0.978029 -0.978029   \n",
       "384                      0             -0.979571 -0.979571 -0.979571   \n",
       "\n",
       "                                      DIMER_DIFF  \n",
       "WINDOW                                       0-2  \n",
       "ICU                                            0  \n",
       "PATIENT_VISIT_IDENTIFIER ICU_timeless             \n",
       "0                        1                  -1.0  \n",
       "2                        1                  -1.0  \n",
       "3                        0                  -1.0  \n",
       "4                        0                  -1.0  \n",
       "5                        0                  -1.0  \n",
       "...                                          ...  \n",
       "380                      1                  -1.0  \n",
       "381                      0                  -1.0  \n",
       "382                      1                  -1.0  \n",
       "383                      0                  -1.0  \n",
       "384                      0                  -1.0  \n",
       "\n",
       "[316 rows x 183 columns]"
      ],
      "text/html": "<div>\n<style scoped>\n    .dataframe tbody tr th:only-of-type {\n        vertical-align: middle;\n    }\n\n    .dataframe tbody tr th {\n        vertical-align: top;\n    }\n\n    .dataframe thead tr th {\n        text-align: left;\n    }\n\n    .dataframe thead tr:last-of-type th {\n        text-align: right;\n    }\n</style>\n<table border=\"1\" class=\"dataframe\">\n  <thead>\n    <tr>\n      <th></th>\n      <th></th>\n      <th>HTN</th>\n      <th>IMMUNOCOMPROMISED</th>\n      <th>OTHER</th>\n      <th>ALBUMIN_MEDIAN</th>\n      <th>ALBUMIN_MEAN</th>\n      <th>ALBUMIN_MIN</th>\n      <th>ALBUMIN_MAX</th>\n      <th>ALBUMIN_DIFF</th>\n      <th>BE_ARTERIAL_MEDIAN</th>\n      <th>BE_ARTERIAL_MEAN</th>\n      <th>...</th>\n      <th>UREA_MEDIAN</th>\n      <th>UREA_MEAN</th>\n      <th>UREA_MIN</th>\n      <th>UREA_MAX</th>\n      <th>UREA_DIFF</th>\n      <th>DIMER_MEDIAN</th>\n      <th>DIMER_MEAN</th>\n      <th>DIMER_MIN</th>\n      <th>DIMER_MAX</th>\n      <th>DIMER_DIFF</th>\n    </tr>\n    <tr>\n      <th></th>\n      <th>WINDOW</th>\n      <th>0-2</th>\n      <th>0-2</th>\n      <th>0-2</th>\n      <th>0-2</th>\n      <th>0-2</th>\n      <th>0-2</th>\n      <th>0-2</th>\n      <th>0-2</th>\n      <th>0-2</th>\n      <th>0-2</th>\n      <th>...</th>\n      <th>0-2</th>\n      <th>0-2</th>\n      <th>0-2</th>\n      <th>0-2</th>\n      <th>0-2</th>\n      <th>0-2</th>\n      <th>0-2</th>\n      <th>0-2</th>\n      <th>0-2</th>\n      <th>0-2</th>\n    </tr>\n    <tr>\n      <th></th>\n      <th>ICU</th>\n      <th>0</th>\n      <th>0</th>\n      <th>0</th>\n      <th>0</th>\n      <th>0</th>\n      <th>0</th>\n      <th>0</th>\n      <th>0</th>\n      <th>0</th>\n      <th>0</th>\n      <th>...</th>\n      <th>0</th>\n      <th>0</th>\n      <th>0</th>\n      <th>0</th>\n      <th>0</th>\n      <th>0</th>\n      <th>0</th>\n      <th>0</th>\n      <th>0</th>\n      <th>0</th>\n    </tr>\n    <tr>\n      <th>PATIENT_VISIT_IDENTIFIER</th>\n      <th>ICU_timeless</th>\n      <th></th>\n      <th></th>\n      <th></th>\n      <th></th>\n      <th></th>\n      <th></th>\n      <th></th>\n      <th></th>\n      <th></th>\n      <th></th>\n      <th></th>\n      <th></th>\n      <th></th>\n      <th></th>\n      <th></th>\n      <th></th>\n      <th></th>\n      <th></th>\n      <th></th>\n      <th></th>\n      <th></th>\n    </tr>\n  </thead>\n  <tbody>\n    <tr>\n      <th>0</th>\n      <th>1</th>\n      <td>0.0</td>\n      <td>0.0</td>\n      <td>1.0</td>\n      <td>0.605263</td>\n      <td>0.605263</td>\n      <td>0.605263</td>\n      <td>0.605263</td>\n      <td>-1.0</td>\n      <td>-1.0</td>\n      <td>-1.0</td>\n      <td>...</td>\n      <td>-0.836145</td>\n      <td>-0.836145</td>\n      <td>-0.836145</td>\n      <td>-0.836145</td>\n      <td>-1.0</td>\n      <td>-0.994912</td>\n      <td>-0.994912</td>\n      <td>-0.994912</td>\n      <td>-0.994912</td>\n      <td>-1.0</td>\n    </tr>\n    <tr>\n      <th>2</th>\n      <th>1</th>\n      <td>0.0</td>\n      <td>0.0</td>\n      <td>1.0</td>\n      <td>0.605263</td>\n      <td>0.605263</td>\n      <td>0.605263</td>\n      <td>0.605263</td>\n      <td>-1.0</td>\n      <td>-1.0</td>\n      <td>-1.0</td>\n      <td>...</td>\n      <td>-0.836145</td>\n      <td>-0.836145</td>\n      <td>-0.836145</td>\n      <td>-0.836145</td>\n      <td>-1.0</td>\n      <td>-0.978029</td>\n      <td>-0.978029</td>\n      <td>-0.978029</td>\n      <td>-0.978029</td>\n      <td>-1.0</td>\n    </tr>\n    <tr>\n      <th>3</th>\n      <th>0</th>\n      <td>0.0</td>\n      <td>1.0</td>\n      <td>1.0</td>\n      <td>-0.263158</td>\n      <td>-0.263158</td>\n      <td>-0.263158</td>\n      <td>-0.263158</td>\n      <td>-1.0</td>\n      <td>-1.0</td>\n      <td>-1.0</td>\n      <td>...</td>\n      <td>-0.937349</td>\n      <td>-0.937349</td>\n      <td>-0.937349</td>\n      <td>-0.937349</td>\n      <td>-1.0</td>\n      <td>-0.978029</td>\n      <td>-0.978029</td>\n      <td>-0.978029</td>\n      <td>-0.978029</td>\n      <td>-1.0</td>\n    </tr>\n    <tr>\n      <th>4</th>\n      <th>0</th>\n      <td>0.0</td>\n      <td>0.0</td>\n      <td>1.0</td>\n      <td>0.605263</td>\n      <td>0.605263</td>\n      <td>0.605263</td>\n      <td>0.605263</td>\n      <td>-1.0</td>\n      <td>-1.0</td>\n      <td>-1.0</td>\n      <td>...</td>\n      <td>-0.903614</td>\n      <td>-0.903614</td>\n      <td>-0.903614</td>\n      <td>-0.903614</td>\n      <td>-1.0</td>\n      <td>-1.000000</td>\n      <td>-1.000000</td>\n      <td>-1.000000</td>\n      <td>-1.000000</td>\n      <td>-1.0</td>\n    </tr>\n    <tr>\n      <th>5</th>\n      <th>0</th>\n      <td>0.0</td>\n      <td>0.0</td>\n      <td>1.0</td>\n      <td>0.605263</td>\n      <td>0.605263</td>\n      <td>0.605263</td>\n      <td>0.605263</td>\n      <td>-1.0</td>\n      <td>-1.0</td>\n      <td>-1.0</td>\n      <td>...</td>\n      <td>-0.884337</td>\n      <td>-0.884337</td>\n      <td>-0.884337</td>\n      <td>-0.884337</td>\n      <td>-1.0</td>\n      <td>-1.000000</td>\n      <td>-1.000000</td>\n      <td>-1.000000</td>\n      <td>-1.000000</td>\n      <td>-1.0</td>\n    </tr>\n    <tr>\n      <th>...</th>\n      <th>...</th>\n      <td>...</td>\n      <td>...</td>\n      <td>...</td>\n      <td>...</td>\n      <td>...</td>\n      <td>...</td>\n      <td>...</td>\n      <td>...</td>\n      <td>...</td>\n      <td>...</td>\n      <td>...</td>\n      <td>...</td>\n      <td>...</td>\n      <td>...</td>\n      <td>...</td>\n      <td>...</td>\n      <td>...</td>\n      <td>...</td>\n      <td>...</td>\n      <td>...</td>\n      <td>...</td>\n    </tr>\n    <tr>\n      <th>380</th>\n      <th>1</th>\n      <td>0.0</td>\n      <td>1.0</td>\n      <td>1.0</td>\n      <td>-0.578947</td>\n      <td>-0.578947</td>\n      <td>-0.578947</td>\n      <td>-0.578947</td>\n      <td>-1.0</td>\n      <td>-1.0</td>\n      <td>-1.0</td>\n      <td>...</td>\n      <td>-0.860241</td>\n      <td>-0.860241</td>\n      <td>-0.860241</td>\n      <td>-0.860241</td>\n      <td>-1.0</td>\n      <td>-0.978029</td>\n      <td>-0.978029</td>\n      <td>-0.978029</td>\n      <td>-0.978029</td>\n      <td>-1.0</td>\n    </tr>\n    <tr>\n      <th>381</th>\n      <th>0</th>\n      <td>0.0</td>\n      <td>1.0</td>\n      <td>1.0</td>\n      <td>0.605263</td>\n      <td>0.605263</td>\n      <td>0.605263</td>\n      <td>0.605263</td>\n      <td>-1.0</td>\n      <td>-1.0</td>\n      <td>-1.0</td>\n      <td>...</td>\n      <td>-0.855422</td>\n      <td>-0.855422</td>\n      <td>-0.855422</td>\n      <td>-0.855422</td>\n      <td>-1.0</td>\n      <td>-0.978029</td>\n      <td>-0.978029</td>\n      <td>-0.978029</td>\n      <td>-0.978029</td>\n      <td>-1.0</td>\n    </tr>\n    <tr>\n      <th>382</th>\n      <th>1</th>\n      <td>0.0</td>\n      <td>0.0</td>\n      <td>0.0</td>\n      <td>0.605263</td>\n      <td>0.605263</td>\n      <td>0.605263</td>\n      <td>0.605263</td>\n      <td>-1.0</td>\n      <td>-1.0</td>\n      <td>-1.0</td>\n      <td>...</td>\n      <td>-0.787952</td>\n      <td>-0.787952</td>\n      <td>-0.787952</td>\n      <td>-0.787952</td>\n      <td>-1.0</td>\n      <td>-0.964461</td>\n      <td>-0.964461</td>\n      <td>-0.964461</td>\n      <td>-0.964461</td>\n      <td>-1.0</td>\n    </tr>\n    <tr>\n      <th>383</th>\n      <th>0</th>\n      <td>0.0</td>\n      <td>0.0</td>\n      <td>0.0</td>\n      <td>0.605263</td>\n      <td>0.605263</td>\n      <td>0.605263</td>\n      <td>0.605263</td>\n      <td>-1.0</td>\n      <td>-1.0</td>\n      <td>-1.0</td>\n      <td>...</td>\n      <td>-0.937349</td>\n      <td>-0.937349</td>\n      <td>-0.937349</td>\n      <td>-0.937349</td>\n      <td>-1.0</td>\n      <td>-0.978029</td>\n      <td>-0.978029</td>\n      <td>-0.978029</td>\n      <td>-0.978029</td>\n      <td>-1.0</td>\n    </tr>\n    <tr>\n      <th>384</th>\n      <th>0</th>\n      <td>0.0</td>\n      <td>0.0</td>\n      <td>1.0</td>\n      <td>0.605263</td>\n      <td>0.605263</td>\n      <td>0.605263</td>\n      <td>0.605263</td>\n      <td>-1.0</td>\n      <td>-1.0</td>\n      <td>-1.0</td>\n      <td>...</td>\n      <td>-0.879518</td>\n      <td>-0.879518</td>\n      <td>-0.879518</td>\n      <td>-0.879518</td>\n      <td>-1.0</td>\n      <td>-0.979571</td>\n      <td>-0.979571</td>\n      <td>-0.979571</td>\n      <td>-0.979571</td>\n      <td>-1.0</td>\n    </tr>\n  </tbody>\n</table>\n<p>316 rows × 183 columns</p>\n</div>"
     },
     "metadata": {},
     "execution_count": 37
    }
   ],
   "source": [
    "df_useful_train_filled_by_patient_pivot[[(x, '0-2', 0) for x in patient_blood_cols]]"
   ]
  },
  {
   "cell_type": "code",
   "execution_count": 38,
   "metadata": {},
   "outputs": [
    {
     "output_type": "execute_result",
     "data": {
      "text/plain": [
       "                                       HTN IMMUNOCOMPROMISED OTHER  \\\n",
       "WINDOW                                 2-4               2-4   2-4   \n",
       "ICU                                      1                 1     1   \n",
       "PATIENT_VISIT_IDENTIFIER ICU_timeless                                \n",
       "28                       1             0.0               0.0   0.0   \n",
       "52                       1             0.0               0.0   1.0   \n",
       "64                       1             0.0               0.0   0.0   \n",
       "82                       1             0.0               0.0   1.0   \n",
       "87                       1             0.0               0.0   1.0   \n",
       "100                      1             1.0               0.0   1.0   \n",
       "103                      1             0.0               0.0   1.0   \n",
       "119                      1             1.0               0.0   1.0   \n",
       "139                      1             0.0               0.0   0.0   \n",
       "191                      1             0.0               0.0   0.0   \n",
       "215                      1             1.0               1.0   1.0   \n",
       "219                      1             1.0               1.0   1.0   \n",
       "222                      1             0.0               0.0   0.0   \n",
       "227                      1             0.0               0.0   1.0   \n",
       "234                      1             1.0               0.0   1.0   \n",
       "235                      1             0.0               0.0   0.0   \n",
       "243                      1             1.0               1.0   1.0   \n",
       "255                      1             1.0               0.0   1.0   \n",
       "288                      1             1.0               0.0   1.0   \n",
       "325                      1             0.0               0.0   0.0   \n",
       "357                      1             1.0               0.0   1.0   \n",
       "364                      1             0.0               1.0   1.0   \n",
       "372                      1             1.0               1.0   1.0   \n",
       "373                      1             0.0               0.0   0.0   \n",
       "\n",
       "                                      ALBUMIN_MEDIAN ALBUMIN_MEAN ALBUMIN_MIN  \\\n",
       "WINDOW                                           2-4          2-4         2-4   \n",
       "ICU                                                1            1           1   \n",
       "PATIENT_VISIT_IDENTIFIER ICU_timeless                                           \n",
       "28                       1                  0.605263     0.605263    0.605263   \n",
       "52                       1                  0.157895     0.157895    0.157895   \n",
       "64                       1                  0.605263     0.605263    0.605263   \n",
       "82                       1                  0.605263     0.605263    0.605263   \n",
       "87                       1                  0.605263     0.605263    0.605263   \n",
       "100                      1                  0.315789     0.315789    0.315789   \n",
       "103                      1                  0.605263     0.605263    0.605263   \n",
       "119                      1                  0.605263     0.605263    0.605263   \n",
       "139                      1                  0.605263     0.605263    0.605263   \n",
       "191                      1                  0.605263     0.605263    0.605263   \n",
       "215                      1                  0.605263     0.605263    0.605263   \n",
       "219                      1                  0.605263     0.605263    0.605263   \n",
       "222                      1                  0.605263     0.605263    0.605263   \n",
       "227                      1                  0.684211     0.684211    0.684211   \n",
       "234                      1                  0.605263     0.605263    0.605263   \n",
       "235                      1                  0.605263     0.605263    0.605263   \n",
       "243                      1                  0.605263     0.605263    0.605263   \n",
       "255                      1                  0.605263     0.605263    0.605263   \n",
       "288                      1                  0.605263     0.605263    0.605263   \n",
       "325                      1                  0.605263     0.605263    0.605263   \n",
       "357                      1                  0.605263     0.605263    0.605263   \n",
       "364                      1                 -0.263158    -0.263158   -0.263158   \n",
       "372                      1                  0.605263     0.605263    0.605263   \n",
       "373                      1                  0.605263     0.605263    0.605263   \n",
       "\n",
       "                                      ALBUMIN_MAX ALBUMIN_DIFF  \\\n",
       "WINDOW                                        2-4          2-4   \n",
       "ICU                                             1            1   \n",
       "PATIENT_VISIT_IDENTIFIER ICU_timeless                            \n",
       "28                       1               0.605263         -1.0   \n",
       "52                       1               0.157895         -1.0   \n",
       "64                       1               0.605263         -1.0   \n",
       "82                       1               0.605263         -1.0   \n",
       "87                       1               0.605263         -1.0   \n",
       "100                      1               0.315789         -1.0   \n",
       "103                      1               0.605263         -1.0   \n",
       "119                      1               0.605263         -1.0   \n",
       "139                      1               0.605263         -1.0   \n",
       "191                      1               0.605263         -1.0   \n",
       "215                      1               0.605263         -1.0   \n",
       "219                      1               0.605263         -1.0   \n",
       "222                      1               0.605263         -1.0   \n",
       "227                      1               0.684211         -1.0   \n",
       "234                      1               0.605263         -1.0   \n",
       "235                      1               0.605263         -1.0   \n",
       "243                      1               0.605263         -1.0   \n",
       "255                      1               0.605263         -1.0   \n",
       "288                      1               0.605263         -1.0   \n",
       "325                      1               0.605263         -1.0   \n",
       "357                      1               0.605263         -1.0   \n",
       "364                      1              -0.263158         -1.0   \n",
       "372                      1               0.605263         -1.0   \n",
       "373                      1               0.605263         -1.0   \n",
       "\n",
       "                                      BE_ARTERIAL_MEDIAN BE_ARTERIAL_MEAN  \\\n",
       "WINDOW                                               2-4              2-4   \n",
       "ICU                                                    1                1   \n",
       "PATIENT_VISIT_IDENTIFIER ICU_timeless                                       \n",
       "28                       1                          -1.0             -1.0   \n",
       "52                       1                          -1.0             -1.0   \n",
       "64                       1                          -1.0             -1.0   \n",
       "82                       1                          -1.0             -1.0   \n",
       "87                       1                          -1.0             -1.0   \n",
       "100                      1                          -1.0             -1.0   \n",
       "103                      1                          -1.0             -1.0   \n",
       "119                      1                          -1.0             -1.0   \n",
       "139                      1                          -1.0             -1.0   \n",
       "191                      1                          -1.0             -1.0   \n",
       "215                      1                          -1.0             -1.0   \n",
       "219                      1                          -1.0             -1.0   \n",
       "222                      1                          -1.0             -1.0   \n",
       "227                      1                          -1.0             -1.0   \n",
       "234                      1                          -1.0             -1.0   \n",
       "235                      1                          -1.0             -1.0   \n",
       "243                      1                          -1.0             -1.0   \n",
       "255                      1                          -1.0             -1.0   \n",
       "288                      1                          -1.0             -1.0   \n",
       "325                      1                          -1.0             -1.0   \n",
       "357                      1                          -1.0             -1.0   \n",
       "364                      1                          -1.0             -1.0   \n",
       "372                      1                          -1.0             -1.0   \n",
       "373                      1                          -1.0             -1.0   \n",
       "\n",
       "                                       ... UREA_MEDIAN UREA_MEAN  UREA_MIN  \\\n",
       "WINDOW                                 ...         2-4       2-4       2-4   \n",
       "ICU                                    ...           1         1         1   \n",
       "PATIENT_VISIT_IDENTIFIER ICU_timeless  ...                                   \n",
       "28                       1             ...   -0.865060 -0.865060 -0.865060   \n",
       "52                       1             ...   -0.821687 -0.821687 -0.821687   \n",
       "64                       1             ...   -0.840964 -0.840964 -0.840964   \n",
       "82                       1             ...   -0.826506 -0.826506 -0.826506   \n",
       "87                       1             ...   -0.879518 -0.879518 -0.879518   \n",
       "100                      1             ...   -0.802410 -0.802410 -0.802410   \n",
       "103                      1             ...   -0.749398 -0.749398 -0.749398   \n",
       "119                      1             ...   -0.826506 -0.826506 -0.826506   \n",
       "139                      1             ...   -0.913253 -0.913253 -0.913253   \n",
       "191                      1             ...   -0.937349 -0.937349 -0.937349   \n",
       "215                      1             ...   -0.643373 -0.643373 -0.643373   \n",
       "219                      1             ...   -0.816867 -0.816867 -0.816867   \n",
       "222                      1             ...   -0.754217 -0.754217 -0.754217   \n",
       "227                      1             ...   -0.903614 -0.903614 -0.903614   \n",
       "234                      1             ...   -0.749398 -0.749398 -0.749398   \n",
       "235                      1             ...   -0.918072 -0.918072 -0.918072   \n",
       "243                      1             ...   -0.879518 -0.879518 -0.879518   \n",
       "255                      1             ...   -0.807229 -0.807229 -0.807229   \n",
       "288                      1             ...   -0.513253 -0.513253 -0.513253   \n",
       "325                      1             ...   -0.773494 -0.773494 -0.773494   \n",
       "357                      1             ...   -0.571084 -0.571084 -0.571084   \n",
       "364                      1             ...   -0.826506 -0.826506 -0.826506   \n",
       "372                      1             ...   -0.807229 -0.807229 -0.807229   \n",
       "373                      1             ...   -0.763855 -0.763855 -0.763855   \n",
       "\n",
       "                                       UREA_MAX UREA_DIFF DIMER_MEDIAN  \\\n",
       "WINDOW                                      2-4       2-4          2-4   \n",
       "ICU                                           1         1            1   \n",
       "PATIENT_VISIT_IDENTIFIER ICU_timeless                                    \n",
       "28                       1            -0.865060      -1.0    -0.989515   \n",
       "52                       1            -0.821687      -1.0    -0.924989   \n",
       "64                       1            -0.840964      -1.0    -0.888062   \n",
       "82                       1            -0.826506      -1.0    -0.978029   \n",
       "87                       1            -0.879518      -1.0    -0.969857   \n",
       "100                      1            -0.802410      -1.0    -0.989053   \n",
       "103                      1            -0.749398      -1.0    -0.907567   \n",
       "119                      1            -0.826506      -1.0    -0.978029   \n",
       "139                      1            -0.913253      -1.0    -0.936168   \n",
       "191                      1            -0.937349      -1.0    -1.000000   \n",
       "215                      1            -0.643373      -1.0    -1.000000   \n",
       "219                      1            -0.816867      -1.0    -0.986355   \n",
       "222                      1            -0.754217      -1.0    -0.956751   \n",
       "227                      1            -0.903614      -1.0    -0.951663   \n",
       "234                      1            -0.749398      -1.0    -0.978029   \n",
       "235                      1            -0.918072      -1.0    -0.994835   \n",
       "243                      1            -0.879518      -1.0    -0.978029   \n",
       "255                      1            -0.807229      -1.0    -0.985738   \n",
       "288                      1            -0.513253      -1.0    -0.557646   \n",
       "325                      1            -0.773494      -1.0    -0.978029   \n",
       "357                      1            -0.571084      -1.0    -0.961223   \n",
       "364                      1            -0.826506      -1.0    -0.912038   \n",
       "372                      1            -0.807229      -1.0    -0.998998   \n",
       "373                      1            -0.763855      -1.0    -0.978029   \n",
       "\n",
       "                                      DIMER_MEAN DIMER_MIN DIMER_MAX  \\\n",
       "WINDOW                                       2-4       2-4       2-4   \n",
       "ICU                                            1         1         1   \n",
       "PATIENT_VISIT_IDENTIFIER ICU_timeless                                  \n",
       "28                       1             -0.989515 -0.989515 -0.989515   \n",
       "52                       1             -0.924989 -0.924989 -0.924989   \n",
       "64                       1             -0.888062 -0.888062 -0.888062   \n",
       "82                       1             -0.978029 -0.978029 -0.978029   \n",
       "87                       1             -0.969857 -0.969857 -0.969857   \n",
       "100                      1             -0.989053 -0.989053 -0.989053   \n",
       "103                      1             -0.907567 -0.907567 -0.907567   \n",
       "119                      1             -0.978029 -0.978029 -0.978029   \n",
       "139                      1             -0.936168 -0.936168 -0.936168   \n",
       "191                      1             -1.000000 -1.000000 -1.000000   \n",
       "215                      1             -1.000000 -1.000000 -1.000000   \n",
       "219                      1             -0.986355 -0.986355 -0.986355   \n",
       "222                      1             -0.956751 -0.956751 -0.956751   \n",
       "227                      1             -0.951663 -0.951663 -0.951663   \n",
       "234                      1             -0.978029 -0.978029 -0.978029   \n",
       "235                      1             -0.994835 -0.994835 -0.994835   \n",
       "243                      1             -0.978029 -0.978029 -0.978029   \n",
       "255                      1             -0.985738 -0.985738 -0.985738   \n",
       "288                      1             -0.557646 -0.557646 -0.557646   \n",
       "325                      1             -0.978029 -0.978029 -0.978029   \n",
       "357                      1             -0.961223 -0.961223 -0.961223   \n",
       "364                      1             -0.912038 -0.912038 -0.912038   \n",
       "372                      1             -0.998998 -0.998998 -0.998998   \n",
       "373                      1             -0.978029 -0.978029 -0.978029   \n",
       "\n",
       "                                      DIMER_DIFF  \n",
       "WINDOW                                       2-4  \n",
       "ICU                                            1  \n",
       "PATIENT_VISIT_IDENTIFIER ICU_timeless             \n",
       "28                       1                  -1.0  \n",
       "52                       1                  -1.0  \n",
       "64                       1                  -1.0  \n",
       "82                       1                  -1.0  \n",
       "87                       1                  -1.0  \n",
       "100                      1                  -1.0  \n",
       "103                      1                  -1.0  \n",
       "119                      1                  -1.0  \n",
       "139                      1                  -1.0  \n",
       "191                      1                  -1.0  \n",
       "215                      1                  -1.0  \n",
       "219                      1                  -1.0  \n",
       "222                      1                  -1.0  \n",
       "227                      1                  -1.0  \n",
       "234                      1                  -1.0  \n",
       "235                      1                  -1.0  \n",
       "243                      1                  -1.0  \n",
       "255                      1                  -1.0  \n",
       "288                      1                  -1.0  \n",
       "325                      1                  -1.0  \n",
       "357                      1                  -1.0  \n",
       "364                      1                  -1.0  \n",
       "372                      1                  -1.0  \n",
       "373                      1                  -1.0  \n",
       "\n",
       "[24 rows x 183 columns]"
      ],
      "text/html": "<div>\n<style scoped>\n    .dataframe tbody tr th:only-of-type {\n        vertical-align: middle;\n    }\n\n    .dataframe tbody tr th {\n        vertical-align: top;\n    }\n\n    .dataframe thead tr th {\n        text-align: left;\n    }\n\n    .dataframe thead tr:last-of-type th {\n        text-align: right;\n    }\n</style>\n<table border=\"1\" class=\"dataframe\">\n  <thead>\n    <tr>\n      <th></th>\n      <th></th>\n      <th>HTN</th>\n      <th>IMMUNOCOMPROMISED</th>\n      <th>OTHER</th>\n      <th>ALBUMIN_MEDIAN</th>\n      <th>ALBUMIN_MEAN</th>\n      <th>ALBUMIN_MIN</th>\n      <th>ALBUMIN_MAX</th>\n      <th>ALBUMIN_DIFF</th>\n      <th>BE_ARTERIAL_MEDIAN</th>\n      <th>BE_ARTERIAL_MEAN</th>\n      <th>...</th>\n      <th>UREA_MEDIAN</th>\n      <th>UREA_MEAN</th>\n      <th>UREA_MIN</th>\n      <th>UREA_MAX</th>\n      <th>UREA_DIFF</th>\n      <th>DIMER_MEDIAN</th>\n      <th>DIMER_MEAN</th>\n      <th>DIMER_MIN</th>\n      <th>DIMER_MAX</th>\n      <th>DIMER_DIFF</th>\n    </tr>\n    <tr>\n      <th></th>\n      <th>WINDOW</th>\n      <th>2-4</th>\n      <th>2-4</th>\n      <th>2-4</th>\n      <th>2-4</th>\n      <th>2-4</th>\n      <th>2-4</th>\n      <th>2-4</th>\n      <th>2-4</th>\n      <th>2-4</th>\n      <th>2-4</th>\n      <th>...</th>\n      <th>2-4</th>\n      <th>2-4</th>\n      <th>2-4</th>\n      <th>2-4</th>\n      <th>2-4</th>\n      <th>2-4</th>\n      <th>2-4</th>\n      <th>2-4</th>\n      <th>2-4</th>\n      <th>2-4</th>\n    </tr>\n    <tr>\n      <th></th>\n      <th>ICU</th>\n      <th>1</th>\n      <th>1</th>\n      <th>1</th>\n      <th>1</th>\n      <th>1</th>\n      <th>1</th>\n      <th>1</th>\n      <th>1</th>\n      <th>1</th>\n      <th>1</th>\n      <th>...</th>\n      <th>1</th>\n      <th>1</th>\n      <th>1</th>\n      <th>1</th>\n      <th>1</th>\n      <th>1</th>\n      <th>1</th>\n      <th>1</th>\n      <th>1</th>\n      <th>1</th>\n    </tr>\n    <tr>\n      <th>PATIENT_VISIT_IDENTIFIER</th>\n      <th>ICU_timeless</th>\n      <th></th>\n      <th></th>\n      <th></th>\n      <th></th>\n      <th></th>\n      <th></th>\n      <th></th>\n      <th></th>\n      <th></th>\n      <th></th>\n      <th></th>\n      <th></th>\n      <th></th>\n      <th></th>\n      <th></th>\n      <th></th>\n      <th></th>\n      <th></th>\n      <th></th>\n      <th></th>\n      <th></th>\n    </tr>\n  </thead>\n  <tbody>\n    <tr>\n      <th>28</th>\n      <th>1</th>\n      <td>0.0</td>\n      <td>0.0</td>\n      <td>0.0</td>\n      <td>0.605263</td>\n      <td>0.605263</td>\n      <td>0.605263</td>\n      <td>0.605263</td>\n      <td>-1.0</td>\n      <td>-1.0</td>\n      <td>-1.0</td>\n      <td>...</td>\n      <td>-0.865060</td>\n      <td>-0.865060</td>\n      <td>-0.865060</td>\n      <td>-0.865060</td>\n      <td>-1.0</td>\n      <td>-0.989515</td>\n      <td>-0.989515</td>\n      <td>-0.989515</td>\n      <td>-0.989515</td>\n      <td>-1.0</td>\n    </tr>\n    <tr>\n      <th>52</th>\n      <th>1</th>\n      <td>0.0</td>\n      <td>0.0</td>\n      <td>1.0</td>\n      <td>0.157895</td>\n      <td>0.157895</td>\n      <td>0.157895</td>\n      <td>0.157895</td>\n      <td>-1.0</td>\n      <td>-1.0</td>\n      <td>-1.0</td>\n      <td>...</td>\n      <td>-0.821687</td>\n      <td>-0.821687</td>\n      <td>-0.821687</td>\n      <td>-0.821687</td>\n      <td>-1.0</td>\n      <td>-0.924989</td>\n      <td>-0.924989</td>\n      <td>-0.924989</td>\n      <td>-0.924989</td>\n      <td>-1.0</td>\n    </tr>\n    <tr>\n      <th>64</th>\n      <th>1</th>\n      <td>0.0</td>\n      <td>0.0</td>\n      <td>0.0</td>\n      <td>0.605263</td>\n      <td>0.605263</td>\n      <td>0.605263</td>\n      <td>0.605263</td>\n      <td>-1.0</td>\n      <td>-1.0</td>\n      <td>-1.0</td>\n      <td>...</td>\n      <td>-0.840964</td>\n      <td>-0.840964</td>\n      <td>-0.840964</td>\n      <td>-0.840964</td>\n      <td>-1.0</td>\n      <td>-0.888062</td>\n      <td>-0.888062</td>\n      <td>-0.888062</td>\n      <td>-0.888062</td>\n      <td>-1.0</td>\n    </tr>\n    <tr>\n      <th>82</th>\n      <th>1</th>\n      <td>0.0</td>\n      <td>0.0</td>\n      <td>1.0</td>\n      <td>0.605263</td>\n      <td>0.605263</td>\n      <td>0.605263</td>\n      <td>0.605263</td>\n      <td>-1.0</td>\n      <td>-1.0</td>\n      <td>-1.0</td>\n      <td>...</td>\n      <td>-0.826506</td>\n      <td>-0.826506</td>\n      <td>-0.826506</td>\n      <td>-0.826506</td>\n      <td>-1.0</td>\n      <td>-0.978029</td>\n      <td>-0.978029</td>\n      <td>-0.978029</td>\n      <td>-0.978029</td>\n      <td>-1.0</td>\n    </tr>\n    <tr>\n      <th>87</th>\n      <th>1</th>\n      <td>0.0</td>\n      <td>0.0</td>\n      <td>1.0</td>\n      <td>0.605263</td>\n      <td>0.605263</td>\n      <td>0.605263</td>\n      <td>0.605263</td>\n      <td>-1.0</td>\n      <td>-1.0</td>\n      <td>-1.0</td>\n      <td>...</td>\n      <td>-0.879518</td>\n      <td>-0.879518</td>\n      <td>-0.879518</td>\n      <td>-0.879518</td>\n      <td>-1.0</td>\n      <td>-0.969857</td>\n      <td>-0.969857</td>\n      <td>-0.969857</td>\n      <td>-0.969857</td>\n      <td>-1.0</td>\n    </tr>\n    <tr>\n      <th>100</th>\n      <th>1</th>\n      <td>1.0</td>\n      <td>0.0</td>\n      <td>1.0</td>\n      <td>0.315789</td>\n      <td>0.315789</td>\n      <td>0.315789</td>\n      <td>0.315789</td>\n      <td>-1.0</td>\n      <td>-1.0</td>\n      <td>-1.0</td>\n      <td>...</td>\n      <td>-0.802410</td>\n      <td>-0.802410</td>\n      <td>-0.802410</td>\n      <td>-0.802410</td>\n      <td>-1.0</td>\n      <td>-0.989053</td>\n      <td>-0.989053</td>\n      <td>-0.989053</td>\n      <td>-0.989053</td>\n      <td>-1.0</td>\n    </tr>\n    <tr>\n      <th>103</th>\n      <th>1</th>\n      <td>0.0</td>\n      <td>0.0</td>\n      <td>1.0</td>\n      <td>0.605263</td>\n      <td>0.605263</td>\n      <td>0.605263</td>\n      <td>0.605263</td>\n      <td>-1.0</td>\n      <td>-1.0</td>\n      <td>-1.0</td>\n      <td>...</td>\n      <td>-0.749398</td>\n      <td>-0.749398</td>\n      <td>-0.749398</td>\n      <td>-0.749398</td>\n      <td>-1.0</td>\n      <td>-0.907567</td>\n      <td>-0.907567</td>\n      <td>-0.907567</td>\n      <td>-0.907567</td>\n      <td>-1.0</td>\n    </tr>\n    <tr>\n      <th>119</th>\n      <th>1</th>\n      <td>1.0</td>\n      <td>0.0</td>\n      <td>1.0</td>\n      <td>0.605263</td>\n      <td>0.605263</td>\n      <td>0.605263</td>\n      <td>0.605263</td>\n      <td>-1.0</td>\n      <td>-1.0</td>\n      <td>-1.0</td>\n      <td>...</td>\n      <td>-0.826506</td>\n      <td>-0.826506</td>\n      <td>-0.826506</td>\n      <td>-0.826506</td>\n      <td>-1.0</td>\n      <td>-0.978029</td>\n      <td>-0.978029</td>\n      <td>-0.978029</td>\n      <td>-0.978029</td>\n      <td>-1.0</td>\n    </tr>\n    <tr>\n      <th>139</th>\n      <th>1</th>\n      <td>0.0</td>\n      <td>0.0</td>\n      <td>0.0</td>\n      <td>0.605263</td>\n      <td>0.605263</td>\n      <td>0.605263</td>\n      <td>0.605263</td>\n      <td>-1.0</td>\n      <td>-1.0</td>\n      <td>-1.0</td>\n      <td>...</td>\n      <td>-0.913253</td>\n      <td>-0.913253</td>\n      <td>-0.913253</td>\n      <td>-0.913253</td>\n      <td>-1.0</td>\n      <td>-0.936168</td>\n      <td>-0.936168</td>\n      <td>-0.936168</td>\n      <td>-0.936168</td>\n      <td>-1.0</td>\n    </tr>\n    <tr>\n      <th>191</th>\n      <th>1</th>\n      <td>0.0</td>\n      <td>0.0</td>\n      <td>0.0</td>\n      <td>0.605263</td>\n      <td>0.605263</td>\n      <td>0.605263</td>\n      <td>0.605263</td>\n      <td>-1.0</td>\n      <td>-1.0</td>\n      <td>-1.0</td>\n      <td>...</td>\n      <td>-0.937349</td>\n      <td>-0.937349</td>\n      <td>-0.937349</td>\n      <td>-0.937349</td>\n      <td>-1.0</td>\n      <td>-1.000000</td>\n      <td>-1.000000</td>\n      <td>-1.000000</td>\n      <td>-1.000000</td>\n      <td>-1.0</td>\n    </tr>\n    <tr>\n      <th>215</th>\n      <th>1</th>\n      <td>1.0</td>\n      <td>1.0</td>\n      <td>1.0</td>\n      <td>0.605263</td>\n      <td>0.605263</td>\n      <td>0.605263</td>\n      <td>0.605263</td>\n      <td>-1.0</td>\n      <td>-1.0</td>\n      <td>-1.0</td>\n      <td>...</td>\n      <td>-0.643373</td>\n      <td>-0.643373</td>\n      <td>-0.643373</td>\n      <td>-0.643373</td>\n      <td>-1.0</td>\n      <td>-1.000000</td>\n      <td>-1.000000</td>\n      <td>-1.000000</td>\n      <td>-1.000000</td>\n      <td>-1.0</td>\n    </tr>\n    <tr>\n      <th>219</th>\n      <th>1</th>\n      <td>1.0</td>\n      <td>1.0</td>\n      <td>1.0</td>\n      <td>0.605263</td>\n      <td>0.605263</td>\n      <td>0.605263</td>\n      <td>0.605263</td>\n      <td>-1.0</td>\n      <td>-1.0</td>\n      <td>-1.0</td>\n      <td>...</td>\n      <td>-0.816867</td>\n      <td>-0.816867</td>\n      <td>-0.816867</td>\n      <td>-0.816867</td>\n      <td>-1.0</td>\n      <td>-0.986355</td>\n      <td>-0.986355</td>\n      <td>-0.986355</td>\n      <td>-0.986355</td>\n      <td>-1.0</td>\n    </tr>\n    <tr>\n      <th>222</th>\n      <th>1</th>\n      <td>0.0</td>\n      <td>0.0</td>\n      <td>0.0</td>\n      <td>0.605263</td>\n      <td>0.605263</td>\n      <td>0.605263</td>\n      <td>0.605263</td>\n      <td>-1.0</td>\n      <td>-1.0</td>\n      <td>-1.0</td>\n      <td>...</td>\n      <td>-0.754217</td>\n      <td>-0.754217</td>\n      <td>-0.754217</td>\n      <td>-0.754217</td>\n      <td>-1.0</td>\n      <td>-0.956751</td>\n      <td>-0.956751</td>\n      <td>-0.956751</td>\n      <td>-0.956751</td>\n      <td>-1.0</td>\n    </tr>\n    <tr>\n      <th>227</th>\n      <th>1</th>\n      <td>0.0</td>\n      <td>0.0</td>\n      <td>1.0</td>\n      <td>0.684211</td>\n      <td>0.684211</td>\n      <td>0.684211</td>\n      <td>0.684211</td>\n      <td>-1.0</td>\n      <td>-1.0</td>\n      <td>-1.0</td>\n      <td>...</td>\n      <td>-0.903614</td>\n      <td>-0.903614</td>\n      <td>-0.903614</td>\n      <td>-0.903614</td>\n      <td>-1.0</td>\n      <td>-0.951663</td>\n      <td>-0.951663</td>\n      <td>-0.951663</td>\n      <td>-0.951663</td>\n      <td>-1.0</td>\n    </tr>\n    <tr>\n      <th>234</th>\n      <th>1</th>\n      <td>1.0</td>\n      <td>0.0</td>\n      <td>1.0</td>\n      <td>0.605263</td>\n      <td>0.605263</td>\n      <td>0.605263</td>\n      <td>0.605263</td>\n      <td>-1.0</td>\n      <td>-1.0</td>\n      <td>-1.0</td>\n      <td>...</td>\n      <td>-0.749398</td>\n      <td>-0.749398</td>\n      <td>-0.749398</td>\n      <td>-0.749398</td>\n      <td>-1.0</td>\n      <td>-0.978029</td>\n      <td>-0.978029</td>\n      <td>-0.978029</td>\n      <td>-0.978029</td>\n      <td>-1.0</td>\n    </tr>\n    <tr>\n      <th>235</th>\n      <th>1</th>\n      <td>0.0</td>\n      <td>0.0</td>\n      <td>0.0</td>\n      <td>0.605263</td>\n      <td>0.605263</td>\n      <td>0.605263</td>\n      <td>0.605263</td>\n      <td>-1.0</td>\n      <td>-1.0</td>\n      <td>-1.0</td>\n      <td>...</td>\n      <td>-0.918072</td>\n      <td>-0.918072</td>\n      <td>-0.918072</td>\n      <td>-0.918072</td>\n      <td>-1.0</td>\n      <td>-0.994835</td>\n      <td>-0.994835</td>\n      <td>-0.994835</td>\n      <td>-0.994835</td>\n      <td>-1.0</td>\n    </tr>\n    <tr>\n      <th>243</th>\n      <th>1</th>\n      <td>1.0</td>\n      <td>1.0</td>\n      <td>1.0</td>\n      <td>0.605263</td>\n      <td>0.605263</td>\n      <td>0.605263</td>\n      <td>0.605263</td>\n      <td>-1.0</td>\n      <td>-1.0</td>\n      <td>-1.0</td>\n      <td>...</td>\n      <td>-0.879518</td>\n      <td>-0.879518</td>\n      <td>-0.879518</td>\n      <td>-0.879518</td>\n      <td>-1.0</td>\n      <td>-0.978029</td>\n      <td>-0.978029</td>\n      <td>-0.978029</td>\n      <td>-0.978029</td>\n      <td>-1.0</td>\n    </tr>\n    <tr>\n      <th>255</th>\n      <th>1</th>\n      <td>1.0</td>\n      <td>0.0</td>\n      <td>1.0</td>\n      <td>0.605263</td>\n      <td>0.605263</td>\n      <td>0.605263</td>\n      <td>0.605263</td>\n      <td>-1.0</td>\n      <td>-1.0</td>\n      <td>-1.0</td>\n      <td>...</td>\n      <td>-0.807229</td>\n      <td>-0.807229</td>\n      <td>-0.807229</td>\n      <td>-0.807229</td>\n      <td>-1.0</td>\n      <td>-0.985738</td>\n      <td>-0.985738</td>\n      <td>-0.985738</td>\n      <td>-0.985738</td>\n      <td>-1.0</td>\n    </tr>\n    <tr>\n      <th>288</th>\n      <th>1</th>\n      <td>1.0</td>\n      <td>0.0</td>\n      <td>1.0</td>\n      <td>0.605263</td>\n      <td>0.605263</td>\n      <td>0.605263</td>\n      <td>0.605263</td>\n      <td>-1.0</td>\n      <td>-1.0</td>\n      <td>-1.0</td>\n      <td>...</td>\n      <td>-0.513253</td>\n      <td>-0.513253</td>\n      <td>-0.513253</td>\n      <td>-0.513253</td>\n      <td>-1.0</td>\n      <td>-0.557646</td>\n      <td>-0.557646</td>\n      <td>-0.557646</td>\n      <td>-0.557646</td>\n      <td>-1.0</td>\n    </tr>\n    <tr>\n      <th>325</th>\n      <th>1</th>\n      <td>0.0</td>\n      <td>0.0</td>\n      <td>0.0</td>\n      <td>0.605263</td>\n      <td>0.605263</td>\n      <td>0.605263</td>\n      <td>0.605263</td>\n      <td>-1.0</td>\n      <td>-1.0</td>\n      <td>-1.0</td>\n      <td>...</td>\n      <td>-0.773494</td>\n      <td>-0.773494</td>\n      <td>-0.773494</td>\n      <td>-0.773494</td>\n      <td>-1.0</td>\n      <td>-0.978029</td>\n      <td>-0.978029</td>\n      <td>-0.978029</td>\n      <td>-0.978029</td>\n      <td>-1.0</td>\n    </tr>\n    <tr>\n      <th>357</th>\n      <th>1</th>\n      <td>1.0</td>\n      <td>0.0</td>\n      <td>1.0</td>\n      <td>0.605263</td>\n      <td>0.605263</td>\n      <td>0.605263</td>\n      <td>0.605263</td>\n      <td>-1.0</td>\n      <td>-1.0</td>\n      <td>-1.0</td>\n      <td>...</td>\n      <td>-0.571084</td>\n      <td>-0.571084</td>\n      <td>-0.571084</td>\n      <td>-0.571084</td>\n      <td>-1.0</td>\n      <td>-0.961223</td>\n      <td>-0.961223</td>\n      <td>-0.961223</td>\n      <td>-0.961223</td>\n      <td>-1.0</td>\n    </tr>\n    <tr>\n      <th>364</th>\n      <th>1</th>\n      <td>0.0</td>\n      <td>1.0</td>\n      <td>1.0</td>\n      <td>-0.263158</td>\n      <td>-0.263158</td>\n      <td>-0.263158</td>\n      <td>-0.263158</td>\n      <td>-1.0</td>\n      <td>-1.0</td>\n      <td>-1.0</td>\n      <td>...</td>\n      <td>-0.826506</td>\n      <td>-0.826506</td>\n      <td>-0.826506</td>\n      <td>-0.826506</td>\n      <td>-1.0</td>\n      <td>-0.912038</td>\n      <td>-0.912038</td>\n      <td>-0.912038</td>\n      <td>-0.912038</td>\n      <td>-1.0</td>\n    </tr>\n    <tr>\n      <th>372</th>\n      <th>1</th>\n      <td>1.0</td>\n      <td>1.0</td>\n      <td>1.0</td>\n      <td>0.605263</td>\n      <td>0.605263</td>\n      <td>0.605263</td>\n      <td>0.605263</td>\n      <td>-1.0</td>\n      <td>-1.0</td>\n      <td>-1.0</td>\n      <td>...</td>\n      <td>-0.807229</td>\n      <td>-0.807229</td>\n      <td>-0.807229</td>\n      <td>-0.807229</td>\n      <td>-1.0</td>\n      <td>-0.998998</td>\n      <td>-0.998998</td>\n      <td>-0.998998</td>\n      <td>-0.998998</td>\n      <td>-1.0</td>\n    </tr>\n    <tr>\n      <th>373</th>\n      <th>1</th>\n      <td>0.0</td>\n      <td>0.0</td>\n      <td>0.0</td>\n      <td>0.605263</td>\n      <td>0.605263</td>\n      <td>0.605263</td>\n      <td>0.605263</td>\n      <td>-1.0</td>\n      <td>-1.0</td>\n      <td>-1.0</td>\n      <td>...</td>\n      <td>-0.763855</td>\n      <td>-0.763855</td>\n      <td>-0.763855</td>\n      <td>-0.763855</td>\n      <td>-1.0</td>\n      <td>-0.978029</td>\n      <td>-0.978029</td>\n      <td>-0.978029</td>\n      <td>-0.978029</td>\n      <td>-1.0</td>\n    </tr>\n  </tbody>\n</table>\n<p>24 rows × 183 columns</p>\n</div>"
     },
     "metadata": {},
     "execution_count": 38
    }
   ],
   "source": [
    "df_useful_train_filled_by_patient_pivot[[(x, '2-4', 1) for x in patient_blood_cols]].dropna()"
   ]
  },
  {
   "cell_type": "code",
   "execution_count": 39,
   "metadata": {},
   "outputs": [
    {
     "output_type": "execute_result",
     "data": {
      "text/plain": [
       "                                       HTN      IMMUNOCOMPROMISED      OTHER  \\\n",
       "WINDOW                                 2-4                    2-4        2-4   \n",
       "ICU                                      0    1                 0    1     0   \n",
       "PATIENT_VISIT_IDENTIFIER ICU_timeless                                          \n",
       "0                        1             0.0  NaN               0.0  NaN   1.0   \n",
       "2                        1             0.0  NaN               0.0  NaN   1.0   \n",
       "11                       1             0.0  NaN               0.0  NaN   0.0   \n",
       "13                       1             0.0  NaN               0.0  NaN   1.0   \n",
       "14                       1             0.0  NaN               1.0  NaN   1.0   \n",
       "...                                    ...  ...               ...  ...   ...   \n",
       "367                      1             1.0  NaN               0.0  NaN   1.0   \n",
       "372                      1             NaN  1.0               NaN  1.0   NaN   \n",
       "373                      1             NaN  0.0               NaN  0.0   NaN   \n",
       "380                      1             0.0  NaN               1.0  NaN   1.0   \n",
       "382                      1             0.0  NaN               0.0  NaN   1.0   \n",
       "\n",
       "                                           ALBUMIN_MEDIAN            \\\n",
       "WINDOW                                                2-4             \n",
       "ICU                                      1              0         1   \n",
       "PATIENT_VISIT_IDENTIFIER ICU_timeless                                 \n",
       "0                        1             NaN       0.605263       NaN   \n",
       "2                        1             NaN       0.605263       NaN   \n",
       "11                       1             NaN       0.605263       NaN   \n",
       "13                       1             NaN       0.605263       NaN   \n",
       "14                       1             NaN       0.605263       NaN   \n",
       "...                                    ...            ...       ...   \n",
       "367                      1             NaN       0.605263       NaN   \n",
       "372                      1             1.0            NaN  0.605263   \n",
       "373                      1             0.0            NaN  0.605263   \n",
       "380                      1             NaN      -0.578947       NaN   \n",
       "382                      1             NaN       0.605263       NaN   \n",
       "\n",
       "                                      ALBUMIN_MEAN            ...  \\\n",
       "WINDOW                                         2-4            ...   \n",
       "ICU                                              0         1  ...   \n",
       "PATIENT_VISIT_IDENTIFIER ICU_timeless                         ...   \n",
       "0                        1                0.605263       NaN  ...   \n",
       "2                        1                0.605263       NaN  ...   \n",
       "11                       1                0.605263       NaN  ...   \n",
       "13                       1                0.605263       NaN  ...   \n",
       "14                       1                0.605263       NaN  ...   \n",
       "...                                            ...       ...  ...   \n",
       "367                      1                0.605263       NaN  ...   \n",
       "372                      1                     NaN  0.605263  ...   \n",
       "373                      1                     NaN  0.605263  ...   \n",
       "380                      1               -0.578947       NaN  ...   \n",
       "382                      1                0.605263       NaN  ...   \n",
       "\n",
       "                                      DIMER_MEDIAN           DIMER_MEAN  \\\n",
       "WINDOW                                         2-4                  2-4   \n",
       "ICU                                              0         1          0   \n",
       "PATIENT_VISIT_IDENTIFIER ICU_timeless                                     \n",
       "0                        1               -0.994912       NaN  -0.994912   \n",
       "2                        1               -0.978029       NaN  -0.978029   \n",
       "11                       1               -0.977720       NaN  -0.977720   \n",
       "13                       1               -0.956289       NaN  -0.956289   \n",
       "14                       1               -0.992214       NaN  -0.992214   \n",
       "...                                            ...       ...        ...   \n",
       "367                      1               -0.954361       NaN  -0.954361   \n",
       "372                      1                     NaN -0.998998        NaN   \n",
       "373                      1                     NaN -0.978029        NaN   \n",
       "380                      1               -0.978029       NaN  -0.978029   \n",
       "382                      1               -0.964461       NaN  -0.964461   \n",
       "\n",
       "                                                DIMER_MIN           DIMER_MAX  \\\n",
       "WINDOW                                                2-4                 2-4   \n",
       "ICU                                           1         0         1         0   \n",
       "PATIENT_VISIT_IDENTIFIER ICU_timeless                                           \n",
       "0                        1                  NaN -0.994912       NaN -0.994912   \n",
       "2                        1                  NaN -0.978029       NaN -0.978029   \n",
       "11                       1                  NaN -0.977720       NaN -0.977720   \n",
       "13                       1                  NaN -0.956289       NaN -0.956289   \n",
       "14                       1                  NaN -0.992214       NaN -0.992214   \n",
       "...                                         ...       ...       ...       ...   \n",
       "367                      1                  NaN -0.954361       NaN -0.954361   \n",
       "372                      1            -0.998998       NaN -0.998998       NaN   \n",
       "373                      1            -0.978029       NaN -0.978029       NaN   \n",
       "380                      1                  NaN -0.978029       NaN -0.978029   \n",
       "382                      1                  NaN -0.964461       NaN -0.964461   \n",
       "\n",
       "                                                DIMER_DIFF       \n",
       "WINDOW                                                 2-4       \n",
       "ICU                                           1          0    1  \n",
       "PATIENT_VISIT_IDENTIFIER ICU_timeless                            \n",
       "0                        1                  NaN       -1.0  NaN  \n",
       "2                        1                  NaN       -1.0  NaN  \n",
       "11                       1                  NaN       -1.0  NaN  \n",
       "13                       1                  NaN       -1.0  NaN  \n",
       "14                       1                  NaN       -1.0  NaN  \n",
       "...                                         ...        ...  ...  \n",
       "367                      1                  NaN       -1.0  NaN  \n",
       "372                      1            -0.998998        NaN -1.0  \n",
       "373                      1            -0.978029        NaN -1.0  \n",
       "380                      1                  NaN       -1.0  NaN  \n",
       "382                      1                  NaN       -1.0  NaN  \n",
       "\n",
       "[145 rows x 366 columns]"
      ],
      "text/html": "<div>\n<style scoped>\n    .dataframe tbody tr th:only-of-type {\n        vertical-align: middle;\n    }\n\n    .dataframe tbody tr th {\n        vertical-align: top;\n    }\n\n    .dataframe thead tr th {\n        text-align: left;\n    }\n\n    .dataframe thead tr:last-of-type th {\n        text-align: right;\n    }\n</style>\n<table border=\"1\" class=\"dataframe\">\n  <thead>\n    <tr>\n      <th></th>\n      <th></th>\n      <th colspan=\"2\" halign=\"left\">HTN</th>\n      <th colspan=\"2\" halign=\"left\">IMMUNOCOMPROMISED</th>\n      <th colspan=\"2\" halign=\"left\">OTHER</th>\n      <th colspan=\"2\" halign=\"left\">ALBUMIN_MEDIAN</th>\n      <th colspan=\"2\" halign=\"left\">ALBUMIN_MEAN</th>\n      <th>...</th>\n      <th colspan=\"2\" halign=\"left\">DIMER_MEDIAN</th>\n      <th colspan=\"2\" halign=\"left\">DIMER_MEAN</th>\n      <th colspan=\"2\" halign=\"left\">DIMER_MIN</th>\n      <th colspan=\"2\" halign=\"left\">DIMER_MAX</th>\n      <th colspan=\"2\" halign=\"left\">DIMER_DIFF</th>\n    </tr>\n    <tr>\n      <th></th>\n      <th>WINDOW</th>\n      <th colspan=\"2\" halign=\"left\">2-4</th>\n      <th colspan=\"2\" halign=\"left\">2-4</th>\n      <th colspan=\"2\" halign=\"left\">2-4</th>\n      <th colspan=\"2\" halign=\"left\">2-4</th>\n      <th colspan=\"2\" halign=\"left\">2-4</th>\n      <th>...</th>\n      <th colspan=\"2\" halign=\"left\">2-4</th>\n      <th colspan=\"2\" halign=\"left\">2-4</th>\n      <th colspan=\"2\" halign=\"left\">2-4</th>\n      <th colspan=\"2\" halign=\"left\">2-4</th>\n      <th colspan=\"2\" halign=\"left\">2-4</th>\n    </tr>\n    <tr>\n      <th></th>\n      <th>ICU</th>\n      <th>0</th>\n      <th>1</th>\n      <th>0</th>\n      <th>1</th>\n      <th>0</th>\n      <th>1</th>\n      <th>0</th>\n      <th>1</th>\n      <th>0</th>\n      <th>1</th>\n      <th>...</th>\n      <th>0</th>\n      <th>1</th>\n      <th>0</th>\n      <th>1</th>\n      <th>0</th>\n      <th>1</th>\n      <th>0</th>\n      <th>1</th>\n      <th>0</th>\n      <th>1</th>\n    </tr>\n    <tr>\n      <th>PATIENT_VISIT_IDENTIFIER</th>\n      <th>ICU_timeless</th>\n      <th></th>\n      <th></th>\n      <th></th>\n      <th></th>\n      <th></th>\n      <th></th>\n      <th></th>\n      <th></th>\n      <th></th>\n      <th></th>\n      <th></th>\n      <th></th>\n      <th></th>\n      <th></th>\n      <th></th>\n      <th></th>\n      <th></th>\n      <th></th>\n      <th></th>\n      <th></th>\n      <th></th>\n    </tr>\n  </thead>\n  <tbody>\n    <tr>\n      <th>0</th>\n      <th>1</th>\n      <td>0.0</td>\n      <td>NaN</td>\n      <td>0.0</td>\n      <td>NaN</td>\n      <td>1.0</td>\n      <td>NaN</td>\n      <td>0.605263</td>\n      <td>NaN</td>\n      <td>0.605263</td>\n      <td>NaN</td>\n      <td>...</td>\n      <td>-0.994912</td>\n      <td>NaN</td>\n      <td>-0.994912</td>\n      <td>NaN</td>\n      <td>-0.994912</td>\n      <td>NaN</td>\n      <td>-0.994912</td>\n      <td>NaN</td>\n      <td>-1.0</td>\n      <td>NaN</td>\n    </tr>\n    <tr>\n      <th>2</th>\n      <th>1</th>\n      <td>0.0</td>\n      <td>NaN</td>\n      <td>0.0</td>\n      <td>NaN</td>\n      <td>1.0</td>\n      <td>NaN</td>\n      <td>0.605263</td>\n      <td>NaN</td>\n      <td>0.605263</td>\n      <td>NaN</td>\n      <td>...</td>\n      <td>-0.978029</td>\n      <td>NaN</td>\n      <td>-0.978029</td>\n      <td>NaN</td>\n      <td>-0.978029</td>\n      <td>NaN</td>\n      <td>-0.978029</td>\n      <td>NaN</td>\n      <td>-1.0</td>\n      <td>NaN</td>\n    </tr>\n    <tr>\n      <th>11</th>\n      <th>1</th>\n      <td>0.0</td>\n      <td>NaN</td>\n      <td>0.0</td>\n      <td>NaN</td>\n      <td>0.0</td>\n      <td>NaN</td>\n      <td>0.605263</td>\n      <td>NaN</td>\n      <td>0.605263</td>\n      <td>NaN</td>\n      <td>...</td>\n      <td>-0.977720</td>\n      <td>NaN</td>\n      <td>-0.977720</td>\n      <td>NaN</td>\n      <td>-0.977720</td>\n      <td>NaN</td>\n      <td>-0.977720</td>\n      <td>NaN</td>\n      <td>-1.0</td>\n      <td>NaN</td>\n    </tr>\n    <tr>\n      <th>13</th>\n      <th>1</th>\n      <td>0.0</td>\n      <td>NaN</td>\n      <td>0.0</td>\n      <td>NaN</td>\n      <td>1.0</td>\n      <td>NaN</td>\n      <td>0.605263</td>\n      <td>NaN</td>\n      <td>0.605263</td>\n      <td>NaN</td>\n      <td>...</td>\n      <td>-0.956289</td>\n      <td>NaN</td>\n      <td>-0.956289</td>\n      <td>NaN</td>\n      <td>-0.956289</td>\n      <td>NaN</td>\n      <td>-0.956289</td>\n      <td>NaN</td>\n      <td>-1.0</td>\n      <td>NaN</td>\n    </tr>\n    <tr>\n      <th>14</th>\n      <th>1</th>\n      <td>0.0</td>\n      <td>NaN</td>\n      <td>1.0</td>\n      <td>NaN</td>\n      <td>1.0</td>\n      <td>NaN</td>\n      <td>0.605263</td>\n      <td>NaN</td>\n      <td>0.605263</td>\n      <td>NaN</td>\n      <td>...</td>\n      <td>-0.992214</td>\n      <td>NaN</td>\n      <td>-0.992214</td>\n      <td>NaN</td>\n      <td>-0.992214</td>\n      <td>NaN</td>\n      <td>-0.992214</td>\n      <td>NaN</td>\n      <td>-1.0</td>\n      <td>NaN</td>\n    </tr>\n    <tr>\n      <th>...</th>\n      <th>...</th>\n      <td>...</td>\n      <td>...</td>\n      <td>...</td>\n      <td>...</td>\n      <td>...</td>\n      <td>...</td>\n      <td>...</td>\n      <td>...</td>\n      <td>...</td>\n      <td>...</td>\n      <td>...</td>\n      <td>...</td>\n      <td>...</td>\n      <td>...</td>\n      <td>...</td>\n      <td>...</td>\n      <td>...</td>\n      <td>...</td>\n      <td>...</td>\n      <td>...</td>\n      <td>...</td>\n    </tr>\n    <tr>\n      <th>367</th>\n      <th>1</th>\n      <td>1.0</td>\n      <td>NaN</td>\n      <td>0.0</td>\n      <td>NaN</td>\n      <td>1.0</td>\n      <td>NaN</td>\n      <td>0.605263</td>\n      <td>NaN</td>\n      <td>0.605263</td>\n      <td>NaN</td>\n      <td>...</td>\n      <td>-0.954361</td>\n      <td>NaN</td>\n      <td>-0.954361</td>\n      <td>NaN</td>\n      <td>-0.954361</td>\n      <td>NaN</td>\n      <td>-0.954361</td>\n      <td>NaN</td>\n      <td>-1.0</td>\n      <td>NaN</td>\n    </tr>\n    <tr>\n      <th>372</th>\n      <th>1</th>\n      <td>NaN</td>\n      <td>1.0</td>\n      <td>NaN</td>\n      <td>1.0</td>\n      <td>NaN</td>\n      <td>1.0</td>\n      <td>NaN</td>\n      <td>0.605263</td>\n      <td>NaN</td>\n      <td>0.605263</td>\n      <td>...</td>\n      <td>NaN</td>\n      <td>-0.998998</td>\n      <td>NaN</td>\n      <td>-0.998998</td>\n      <td>NaN</td>\n      <td>-0.998998</td>\n      <td>NaN</td>\n      <td>-0.998998</td>\n      <td>NaN</td>\n      <td>-1.0</td>\n    </tr>\n    <tr>\n      <th>373</th>\n      <th>1</th>\n      <td>NaN</td>\n      <td>0.0</td>\n      <td>NaN</td>\n      <td>0.0</td>\n      <td>NaN</td>\n      <td>0.0</td>\n      <td>NaN</td>\n      <td>0.605263</td>\n      <td>NaN</td>\n      <td>0.605263</td>\n      <td>...</td>\n      <td>NaN</td>\n      <td>-0.978029</td>\n      <td>NaN</td>\n      <td>-0.978029</td>\n      <td>NaN</td>\n      <td>-0.978029</td>\n      <td>NaN</td>\n      <td>-0.978029</td>\n      <td>NaN</td>\n      <td>-1.0</td>\n    </tr>\n    <tr>\n      <th>380</th>\n      <th>1</th>\n      <td>0.0</td>\n      <td>NaN</td>\n      <td>1.0</td>\n      <td>NaN</td>\n      <td>1.0</td>\n      <td>NaN</td>\n      <td>-0.578947</td>\n      <td>NaN</td>\n      <td>-0.578947</td>\n      <td>NaN</td>\n      <td>...</td>\n      <td>-0.978029</td>\n      <td>NaN</td>\n      <td>-0.978029</td>\n      <td>NaN</td>\n      <td>-0.978029</td>\n      <td>NaN</td>\n      <td>-0.978029</td>\n      <td>NaN</td>\n      <td>-1.0</td>\n      <td>NaN</td>\n    </tr>\n    <tr>\n      <th>382</th>\n      <th>1</th>\n      <td>0.0</td>\n      <td>NaN</td>\n      <td>0.0</td>\n      <td>NaN</td>\n      <td>1.0</td>\n      <td>NaN</td>\n      <td>0.605263</td>\n      <td>NaN</td>\n      <td>0.605263</td>\n      <td>NaN</td>\n      <td>...</td>\n      <td>-0.964461</td>\n      <td>NaN</td>\n      <td>-0.964461</td>\n      <td>NaN</td>\n      <td>-0.964461</td>\n      <td>NaN</td>\n      <td>-0.964461</td>\n      <td>NaN</td>\n      <td>-1.0</td>\n      <td>NaN</td>\n    </tr>\n  </tbody>\n</table>\n<p>145 rows × 366 columns</p>\n</div>"
     },
     "metadata": {},
     "execution_count": 39
    }
   ],
   "source": [
    "from itertools import product\n",
    "df_useful_train_filled_by_patient_pivot[[(x, '2-4', y) for x, y in product(patient_blood_cols,[0,1])]][np.in1d(df_useful_train_filled_by_patient_pivot.index.get_level_values(1), [1])]"
   ]
  },
  {
   "cell_type": "code",
   "execution_count": 40,
   "metadata": {},
   "outputs": [],
   "source": [
    "# set(df_useful.query('WINDOW == \"2-4\" and ICU==1 ')[patient_id_col].tolist()).difference(set(df_useful_train_filled_by_patient_pivot[[(x, '2-4', 1) for x in patient_blood_cols]].dropna().index.get_level_values(0).tolist()))\n",
    "# os que faltam estão no teste"
   ]
  },
  {
   "source": [
    "## Datasets de Treino e Teste (Treino na primeira janela; decisão/teste em qualquer janela)"
   ],
   "cell_type": "markdown",
   "metadata": {}
  },
  {
   "cell_type": "code",
   "execution_count": 41,
   "metadata": {},
   "outputs": [],
   "source": [
    "# df_temp = df_useful_train_filled_by_patient_pivot[[(x, '0-2', 0) for x in patient_blood_cols]]\n",
    "# for i in range(df_temp.shape[0]):\n",
    "#     if df_temp.iloc[i].isnull().values.any():\n",
    "#         print(i)\n",
    "\n",
    "# df_temp.iloc[166]\n",
    "# df_useful_train_filled_by_patient.set_index(patient_id_col).loc[199]"
   ]
  },
  {
   "cell_type": "code",
   "execution_count": 42,
   "metadata": {},
   "outputs": [],
   "source": [
    "# df_useful_train_filled_by_patient_pivot.columns.get_level_values(1)"
   ]
  },
  {
   "cell_type": "code",
   "execution_count": 43,
   "metadata": {},
   "outputs": [],
   "source": [
    "# df_useful_test_filled_by_patient_pivot.columns.get_level_values(1).unique().tolist()"
   ]
  },
  {
   "cell_type": "code",
   "execution_count": 44,
   "metadata": {},
   "outputs": [
    {
     "output_type": "stream",
     "name": "stdout",
     "text": [
      "(314, 219) (314,)\n(109, 219) (109,)\n"
     ]
    }
   ],
   "source": [
    "features = patient_blood_cols + patient_vitals_cols\n",
    "\n",
    "df_train = df_useful_train_filled_by_patient_pivot[[(x, '0-2', 0) for x in features]].dropna()\n",
    "X_train = df_train.values\n",
    "y_train = df_train.index.get_level_values(1)\n",
    "print(X_train.shape, y_train.shape)\n",
    "# df_temp = df_useful_test_filled_by_patient_pivot[[(x, y, 0) for x,y  in product(features,df_useful_test_filled_by_patient_pivot.columns.get_level_values(1).unique())]].dropna() # not good, more features than train\n",
    "\n",
    "# df_temp = df_useful_test_filled_by_patient_pivot[[(x, '0-2', 0) for x in features]].dropna()\n",
    "\n",
    "# problema: testa quando tem ICU=1\n",
    "# cnt = 0\n",
    "# for window in df_useful_test_filled_by_patient_pivot.columns.get_level_values(1).unique().tolist()[1:]: # ['2-4','4-6']:\n",
    "#     df_temp_0 = df_useful_test_filled_by_patient_pivot[[(x, window, 0) for x in features]].dropna()\n",
    "#     df_temp_0.columns = df_temp_0.columns.droplevel([1,2])\n",
    "#     df_temp_1 = df_useful_test_filled_by_patient_pivot[[(x, window, 1) for x in features]].dropna()\n",
    "#     df_temp_1.columns = df_temp_1.columns.droplevel([1,2])\n",
    "#     df_temp_concat = pd.concat([df_temp_0, df_temp_1])\n",
    "#     if cnt==0:\n",
    "#         df_temp = df_temp_concat\n",
    "#     else:\n",
    "#         df_temp = pd.concat([df_temp, df_temp_concat])\n",
    "#     cnt+=1\n",
    "\n",
    "cnt = 0\n",
    "for window in df_useful_test_filled_by_patient_pivot.columns.get_level_values(1).unique().tolist()[1:]: # ['2-4','4-6']:\n",
    "    df_temp_0 = df_useful_test_filled_by_patient_pivot[[(x, window, 0) for x in features]].dropna()\n",
    "    df_temp_0.columns = df_temp_0.columns.droplevel([1,2])\n",
    "    df_temp_concat = df_temp_0\n",
    "    if cnt==0:\n",
    "        df_test = df_temp_concat\n",
    "    else:\n",
    "        df_test = pd.concat([df_test, df_temp_concat])\n",
    "    cnt+=1\n",
    "\n",
    "X_test = df_test.values\n",
    "y_test = df_test.index.get_level_values(1)\n",
    "print(X_test.shape, y_test.shape)\n"
   ]
  },
  {
   "cell_type": "code",
   "execution_count": 45,
   "metadata": {},
   "outputs": [
    {
     "output_type": "execute_result",
     "data": {
      "text/plain": [
       "34"
      ]
     },
     "metadata": {},
     "execution_count": 45
    }
   ],
   "source": [
    "len(df_test.index.droplevel(1).unique())"
   ]
  },
  {
   "source": [
    "### Modelo Regressão Logística"
   ],
   "cell_type": "markdown",
   "metadata": {}
  },
  {
   "cell_type": "code",
   "execution_count": 46,
   "metadata": {},
   "outputs": [],
   "source": [
    "from sklearn.linear_model import LogisticRegression\n",
    "from sklearn.metrics import classification_report\n",
    "from sklearn.metrics import confusion_matrix\n",
    "from sklearn.metrics import plot_confusion_matrix\n",
    "\n",
    "from sklearn.metrics import precision_recall_curve\n",
    "from sklearn.metrics import plot_precision_recall_curve\n",
    "from sklearn.metrics import average_precision_score\n",
    "\n",
    "from sklearn.metrics import roc_curve, auc\n",
    "\n",
    "import matplotlib.pyplot as plt"
   ]
  },
  {
   "cell_type": "code",
   "execution_count": 47,
   "metadata": {},
   "outputs": [
    {
     "output_type": "stream",
     "name": "stdout",
     "text": [
      "Average precision-recall score: 0.62\n              precision    recall  f1-score   support\n\n           0       0.86      0.75      0.80        76\n           1       0.56      0.73      0.63        33\n\n    accuracy                           0.74       109\n   macro avg       0.71      0.74      0.72       109\nweighted avg       0.77      0.74      0.75       109\n\n[[57 19]\n [ 9 24]]\n"
     ]
    },
    {
     "output_type": "execute_result",
     "data": {
      "text/plain": [
       "<sklearn.metrics._plot.confusion_matrix.ConfusionMatrixDisplay at 0x1b62d310348>"
      ]
     },
     "metadata": {},
     "execution_count": 47
    },
    {
     "output_type": "display_data",
     "data": {
      "text/plain": "<Figure size 432x288 with 2 Axes>",
      "image/svg+xml": "<?xml version=\"1.0\" encoding=\"utf-8\" standalone=\"no\"?>\r\n<!DOCTYPE svg PUBLIC \"-//W3C//DTD SVG 1.1//EN\"\r\n  \"http://www.w3.org/Graphics/SVG/1.1/DTD/svg11.dtd\">\r\n<!-- Created with matplotlib (https://matplotlib.org/) -->\r\n<svg height=\"262.19625pt\" version=\"1.1\" viewBox=\"0 0 309.39575 262.19625\" width=\"309.39575pt\" xmlns=\"http://www.w3.org/2000/svg\" xmlns:xlink=\"http://www.w3.org/1999/xlink\">\r\n <metadata>\r\n  <rdf:RDF xmlns:cc=\"http://creativecommons.org/ns#\" xmlns:dc=\"http://purl.org/dc/elements/1.1/\" xmlns:rdf=\"http://www.w3.org/1999/02/22-rdf-syntax-ns#\">\r\n   <cc:Work>\r\n    <dc:type rdf:resource=\"http://purl.org/dc/dcmitype/StillImage\"/>\r\n    <dc:date>2021-02-08T13:50:50.581468</dc:date>\r\n    <dc:format>image/svg+xml</dc:format>\r\n    <dc:creator>\r\n     <cc:Agent>\r\n      <dc:title>Matplotlib v3.3.2, https://matplotlib.org/</dc:title>\r\n     </cc:Agent>\r\n    </dc:creator>\r\n   </cc:Work>\r\n  </rdf:RDF>\r\n </metadata>\r\n <defs>\r\n  <style type=\"text/css\">*{stroke-linecap:butt;stroke-linejoin:round;}</style>\r\n </defs>\r\n <g id=\"figure_1\">\r\n  <g id=\"patch_1\">\r\n   <path d=\"M 0 262.19625 \r\nL 309.39575 262.19625 \r\nL 309.39575 0 \r\nL 0 0 \r\nz\r\n\" style=\"fill:none;\"/>\r\n  </g>\r\n  <g id=\"axes_1\">\r\n   <g id=\"patch_2\">\r\n    <path d=\"M 34.240625 224.64 \r\nL 251.680625 224.64 \r\nL 251.680625 7.2 \r\nL 34.240625 7.2 \r\nz\r\n\" style=\"fill:#ffffff;\"/>\r\n   </g>\r\n   <g clip-path=\"url(#pb93475e2cd)\">\r\n    <image height=\"218\" id=\"image00b7f5961c\" transform=\"scale(1 -1)translate(0 -218)\" width=\"218\" x=\"34.240625\" xlink:href=\"data:image/png;base64,\r\niVBORw0KGgoAAAANSUhEUgAAANoAAADaCAYAAADAHVzbAAACm0lEQVR4nO3VQRHCQAAEQYIDvrwRgIsIwVV8xAgmUEElGu4zVxTdCvYztct6ex0Xfsr23mdPYNB19gD4B0KDgNAgIDQICA0CQoOA0CAgNAgIDQJCg4DQICA0CAgNAkKDgNAgIDQICA0CQoOA0CAgNAgIDQJCg4DQICA0CAgNAkKDgNAgIDQICA0CQoOA0CAgNAgIDQJCg4DQICA0CAgNAkKDgNAgIDQICA0CQoOA0CAgNAgIDQJCg4DQICA0CAgNAkKDgNAgIDQICA0CQoOA0CAgNAgIDQJCg4DQICA0CAgNAkKDgNAgIDQICA0CQoOA0CAgNAgIDQJCg4DQICA0CAgNAkKDgNAgIDQICA0CQoOA0CAgNAgIDQJCg4DQICA0CAgNAkKDgNAgIDQICA0CQoOA0CAgNAgIDQJCg4DQICA0CAgNAkKDgNAgIDQICA0CQoOA0CAgNAgIDQJCg4DQICA0CCzfz+OYPYIx6/05ewKDPBoEhAYBoUFAaBAQGgSEBgGhQUBoEBAaBIQGAaFBQGgQEBoEhAYBoUFAaBAQGgSEBgGhQUBoEBAaBIQGAaFBQGgQEBoEhAYBoUFAaBAQGgSEBgGhQUBoEBAaBIQGAaFBQGgQEBoEhAYBoUFAaBAQGgSEBgGhQUBoEBAaBIQGAaFBQGgQEBoEhAYBoUFAaBAQGgSEBgGhQUBoEBAaBIQGAaFBQGgQEBoEhAYBoUFAaBAQGgSEBgGhQUBoEBAaBIQGAaFBQGgQEBoEhAYBoUFAaBAQGgSEBgGhQUBoEBAaBIQGAaFBQGgQEBoEhAYBoUFAaBAQGgSEBgGhQUBoEBAaBIQGAaFBQGgQEBoEhAYBoUFAaBAQGgSEBgGhQUBoEBAaBIQGAaFBQGgQOAH97gkmSPWafAAAAABJRU5ErkJggg==\" y=\"-6.64\"/>\r\n   </g>\r\n   <g id=\"matplotlib.axis_1\">\r\n    <g id=\"xtick_1\">\r\n     <g id=\"line2d_1\">\r\n      <defs>\r\n       <path d=\"M 0 0 \r\nL 0 3.5 \r\n\" id=\"me94519f6d9\" style=\"stroke:#000000;stroke-width:0.8;\"/>\r\n      </defs>\r\n      <g>\r\n       <use style=\"stroke:#000000;stroke-width:0.8;\" x=\"88.600625\" xlink:href=\"#me94519f6d9\" y=\"224.64\"/>\r\n      </g>\r\n     </g>\r\n     <g id=\"text_1\">\r\n      <!-- 0 -->\r\n      <g transform=\"translate(85.419375 239.238437)scale(0.1 -0.1)\">\r\n       <defs>\r\n        <path d=\"M 31.78125 66.40625 \r\nQ 24.171875 66.40625 20.328125 58.90625 \r\nQ 16.5 51.421875 16.5 36.375 \r\nQ 16.5 21.390625 20.328125 13.890625 \r\nQ 24.171875 6.390625 31.78125 6.390625 \r\nQ 39.453125 6.390625 43.28125 13.890625 \r\nQ 47.125 21.390625 47.125 36.375 \r\nQ 47.125 51.421875 43.28125 58.90625 \r\nQ 39.453125 66.40625 31.78125 66.40625 \r\nz\r\nM 31.78125 74.21875 \r\nQ 44.046875 74.21875 50.515625 64.515625 \r\nQ 56.984375 54.828125 56.984375 36.375 \r\nQ 56.984375 17.96875 50.515625 8.265625 \r\nQ 44.046875 -1.421875 31.78125 -1.421875 \r\nQ 19.53125 -1.421875 13.0625 8.265625 \r\nQ 6.59375 17.96875 6.59375 36.375 \r\nQ 6.59375 54.828125 13.0625 64.515625 \r\nQ 19.53125 74.21875 31.78125 74.21875 \r\nz\r\n\" id=\"DejaVuSans-48\"/>\r\n       </defs>\r\n       <use xlink:href=\"#DejaVuSans-48\"/>\r\n      </g>\r\n     </g>\r\n    </g>\r\n    <g id=\"xtick_2\">\r\n     <g id=\"line2d_2\">\r\n      <g>\r\n       <use style=\"stroke:#000000;stroke-width:0.8;\" x=\"197.320625\" xlink:href=\"#me94519f6d9\" y=\"224.64\"/>\r\n      </g>\r\n     </g>\r\n     <g id=\"text_2\">\r\n      <!-- 1 -->\r\n      <g transform=\"translate(194.139375 239.238437)scale(0.1 -0.1)\">\r\n       <defs>\r\n        <path d=\"M 12.40625 8.296875 \r\nL 28.515625 8.296875 \r\nL 28.515625 63.921875 \r\nL 10.984375 60.40625 \r\nL 10.984375 69.390625 \r\nL 28.421875 72.90625 \r\nL 38.28125 72.90625 \r\nL 38.28125 8.296875 \r\nL 54.390625 8.296875 \r\nL 54.390625 0 \r\nL 12.40625 0 \r\nz\r\n\" id=\"DejaVuSans-49\"/>\r\n       </defs>\r\n       <use xlink:href=\"#DejaVuSans-49\"/>\r\n      </g>\r\n     </g>\r\n    </g>\r\n    <g id=\"text_3\">\r\n     <!-- Predicted label -->\r\n     <g transform=\"translate(105.808281 252.916562)scale(0.1 -0.1)\">\r\n      <defs>\r\n       <path d=\"M 19.671875 64.796875 \r\nL 19.671875 37.40625 \r\nL 32.078125 37.40625 \r\nQ 38.96875 37.40625 42.71875 40.96875 \r\nQ 46.484375 44.53125 46.484375 51.125 \r\nQ 46.484375 57.671875 42.71875 61.234375 \r\nQ 38.96875 64.796875 32.078125 64.796875 \r\nz\r\nM 9.8125 72.90625 \r\nL 32.078125 72.90625 \r\nQ 44.34375 72.90625 50.609375 67.359375 \r\nQ 56.890625 61.8125 56.890625 51.125 \r\nQ 56.890625 40.328125 50.609375 34.8125 \r\nQ 44.34375 29.296875 32.078125 29.296875 \r\nL 19.671875 29.296875 \r\nL 19.671875 0 \r\nL 9.8125 0 \r\nz\r\n\" id=\"DejaVuSans-80\"/>\r\n       <path d=\"M 41.109375 46.296875 \r\nQ 39.59375 47.171875 37.8125 47.578125 \r\nQ 36.03125 48 33.890625 48 \r\nQ 26.265625 48 22.1875 43.046875 \r\nQ 18.109375 38.09375 18.109375 28.8125 \r\nL 18.109375 0 \r\nL 9.078125 0 \r\nL 9.078125 54.6875 \r\nL 18.109375 54.6875 \r\nL 18.109375 46.1875 \r\nQ 20.953125 51.171875 25.484375 53.578125 \r\nQ 30.03125 56 36.53125 56 \r\nQ 37.453125 56 38.578125 55.875 \r\nQ 39.703125 55.765625 41.0625 55.515625 \r\nz\r\n\" id=\"DejaVuSans-114\"/>\r\n       <path d=\"M 56.203125 29.59375 \r\nL 56.203125 25.203125 \r\nL 14.890625 25.203125 \r\nQ 15.484375 15.921875 20.484375 11.0625 \r\nQ 25.484375 6.203125 34.421875 6.203125 \r\nQ 39.59375 6.203125 44.453125 7.46875 \r\nQ 49.3125 8.734375 54.109375 11.28125 \r\nL 54.109375 2.78125 \r\nQ 49.265625 0.734375 44.1875 -0.34375 \r\nQ 39.109375 -1.421875 33.890625 -1.421875 \r\nQ 20.796875 -1.421875 13.15625 6.1875 \r\nQ 5.515625 13.8125 5.515625 26.8125 \r\nQ 5.515625 40.234375 12.765625 48.109375 \r\nQ 20.015625 56 32.328125 56 \r\nQ 43.359375 56 49.78125 48.890625 \r\nQ 56.203125 41.796875 56.203125 29.59375 \r\nz\r\nM 47.21875 32.234375 \r\nQ 47.125 39.59375 43.09375 43.984375 \r\nQ 39.0625 48.390625 32.421875 48.390625 \r\nQ 24.90625 48.390625 20.390625 44.140625 \r\nQ 15.875 39.890625 15.1875 32.171875 \r\nz\r\n\" id=\"DejaVuSans-101\"/>\r\n       <path d=\"M 45.40625 46.390625 \r\nL 45.40625 75.984375 \r\nL 54.390625 75.984375 \r\nL 54.390625 0 \r\nL 45.40625 0 \r\nL 45.40625 8.203125 \r\nQ 42.578125 3.328125 38.25 0.953125 \r\nQ 33.9375 -1.421875 27.875 -1.421875 \r\nQ 17.96875 -1.421875 11.734375 6.484375 \r\nQ 5.515625 14.40625 5.515625 27.296875 \r\nQ 5.515625 40.1875 11.734375 48.09375 \r\nQ 17.96875 56 27.875 56 \r\nQ 33.9375 56 38.25 53.625 \r\nQ 42.578125 51.265625 45.40625 46.390625 \r\nz\r\nM 14.796875 27.296875 \r\nQ 14.796875 17.390625 18.875 11.75 \r\nQ 22.953125 6.109375 30.078125 6.109375 \r\nQ 37.203125 6.109375 41.296875 11.75 \r\nQ 45.40625 17.390625 45.40625 27.296875 \r\nQ 45.40625 37.203125 41.296875 42.84375 \r\nQ 37.203125 48.484375 30.078125 48.484375 \r\nQ 22.953125 48.484375 18.875 42.84375 \r\nQ 14.796875 37.203125 14.796875 27.296875 \r\nz\r\n\" id=\"DejaVuSans-100\"/>\r\n       <path d=\"M 9.421875 54.6875 \r\nL 18.40625 54.6875 \r\nL 18.40625 0 \r\nL 9.421875 0 \r\nz\r\nM 9.421875 75.984375 \r\nL 18.40625 75.984375 \r\nL 18.40625 64.59375 \r\nL 9.421875 64.59375 \r\nz\r\n\" id=\"DejaVuSans-105\"/>\r\n       <path d=\"M 48.78125 52.59375 \r\nL 48.78125 44.1875 \r\nQ 44.96875 46.296875 41.140625 47.34375 \r\nQ 37.3125 48.390625 33.40625 48.390625 \r\nQ 24.65625 48.390625 19.8125 42.84375 \r\nQ 14.984375 37.3125 14.984375 27.296875 \r\nQ 14.984375 17.28125 19.8125 11.734375 \r\nQ 24.65625 6.203125 33.40625 6.203125 \r\nQ 37.3125 6.203125 41.140625 7.25 \r\nQ 44.96875 8.296875 48.78125 10.40625 \r\nL 48.78125 2.09375 \r\nQ 45.015625 0.34375 40.984375 -0.53125 \r\nQ 36.96875 -1.421875 32.421875 -1.421875 \r\nQ 20.0625 -1.421875 12.78125 6.34375 \r\nQ 5.515625 14.109375 5.515625 27.296875 \r\nQ 5.515625 40.671875 12.859375 48.328125 \r\nQ 20.21875 56 33.015625 56 \r\nQ 37.15625 56 41.109375 55.140625 \r\nQ 45.0625 54.296875 48.78125 52.59375 \r\nz\r\n\" id=\"DejaVuSans-99\"/>\r\n       <path d=\"M 18.3125 70.21875 \r\nL 18.3125 54.6875 \r\nL 36.8125 54.6875 \r\nL 36.8125 47.703125 \r\nL 18.3125 47.703125 \r\nL 18.3125 18.015625 \r\nQ 18.3125 11.328125 20.140625 9.421875 \r\nQ 21.96875 7.515625 27.59375 7.515625 \r\nL 36.8125 7.515625 \r\nL 36.8125 0 \r\nL 27.59375 0 \r\nQ 17.1875 0 13.234375 3.875 \r\nQ 9.28125 7.765625 9.28125 18.015625 \r\nL 9.28125 47.703125 \r\nL 2.6875 47.703125 \r\nL 2.6875 54.6875 \r\nL 9.28125 54.6875 \r\nL 9.28125 70.21875 \r\nz\r\n\" id=\"DejaVuSans-116\"/>\r\n       <path id=\"DejaVuSans-32\"/>\r\n       <path d=\"M 9.421875 75.984375 \r\nL 18.40625 75.984375 \r\nL 18.40625 0 \r\nL 9.421875 0 \r\nz\r\n\" id=\"DejaVuSans-108\"/>\r\n       <path d=\"M 34.28125 27.484375 \r\nQ 23.390625 27.484375 19.1875 25 \r\nQ 14.984375 22.515625 14.984375 16.5 \r\nQ 14.984375 11.71875 18.140625 8.90625 \r\nQ 21.296875 6.109375 26.703125 6.109375 \r\nQ 34.1875 6.109375 38.703125 11.40625 \r\nQ 43.21875 16.703125 43.21875 25.484375 \r\nL 43.21875 27.484375 \r\nz\r\nM 52.203125 31.203125 \r\nL 52.203125 0 \r\nL 43.21875 0 \r\nL 43.21875 8.296875 \r\nQ 40.140625 3.328125 35.546875 0.953125 \r\nQ 30.953125 -1.421875 24.3125 -1.421875 \r\nQ 15.921875 -1.421875 10.953125 3.296875 \r\nQ 6 8.015625 6 15.921875 \r\nQ 6 25.140625 12.171875 29.828125 \r\nQ 18.359375 34.515625 30.609375 34.515625 \r\nL 43.21875 34.515625 \r\nL 43.21875 35.40625 \r\nQ 43.21875 41.609375 39.140625 45 \r\nQ 35.0625 48.390625 27.6875 48.390625 \r\nQ 23 48.390625 18.546875 47.265625 \r\nQ 14.109375 46.140625 10.015625 43.890625 \r\nL 10.015625 52.203125 \r\nQ 14.9375 54.109375 19.578125 55.046875 \r\nQ 24.21875 56 28.609375 56 \r\nQ 40.484375 56 46.34375 49.84375 \r\nQ 52.203125 43.703125 52.203125 31.203125 \r\nz\r\n\" id=\"DejaVuSans-97\"/>\r\n       <path d=\"M 48.6875 27.296875 \r\nQ 48.6875 37.203125 44.609375 42.84375 \r\nQ 40.53125 48.484375 33.40625 48.484375 \r\nQ 26.265625 48.484375 22.1875 42.84375 \r\nQ 18.109375 37.203125 18.109375 27.296875 \r\nQ 18.109375 17.390625 22.1875 11.75 \r\nQ 26.265625 6.109375 33.40625 6.109375 \r\nQ 40.53125 6.109375 44.609375 11.75 \r\nQ 48.6875 17.390625 48.6875 27.296875 \r\nz\r\nM 18.109375 46.390625 \r\nQ 20.953125 51.265625 25.265625 53.625 \r\nQ 29.59375 56 35.59375 56 \r\nQ 45.5625 56 51.78125 48.09375 \r\nQ 58.015625 40.1875 58.015625 27.296875 \r\nQ 58.015625 14.40625 51.78125 6.484375 \r\nQ 45.5625 -1.421875 35.59375 -1.421875 \r\nQ 29.59375 -1.421875 25.265625 0.953125 \r\nQ 20.953125 3.328125 18.109375 8.203125 \r\nL 18.109375 0 \r\nL 9.078125 0 \r\nL 9.078125 75.984375 \r\nL 18.109375 75.984375 \r\nz\r\n\" id=\"DejaVuSans-98\"/>\r\n      </defs>\r\n      <use xlink:href=\"#DejaVuSans-80\"/>\r\n      <use x=\"58.552734\" xlink:href=\"#DejaVuSans-114\"/>\r\n      <use x=\"97.416016\" xlink:href=\"#DejaVuSans-101\"/>\r\n      <use x=\"158.939453\" xlink:href=\"#DejaVuSans-100\"/>\r\n      <use x=\"222.416016\" xlink:href=\"#DejaVuSans-105\"/>\r\n      <use x=\"250.199219\" xlink:href=\"#DejaVuSans-99\"/>\r\n      <use x=\"305.179688\" xlink:href=\"#DejaVuSans-116\"/>\r\n      <use x=\"344.388672\" xlink:href=\"#DejaVuSans-101\"/>\r\n      <use x=\"405.912109\" xlink:href=\"#DejaVuSans-100\"/>\r\n      <use x=\"469.388672\" xlink:href=\"#DejaVuSans-32\"/>\r\n      <use x=\"501.175781\" xlink:href=\"#DejaVuSans-108\"/>\r\n      <use x=\"528.958984\" xlink:href=\"#DejaVuSans-97\"/>\r\n      <use x=\"590.238281\" xlink:href=\"#DejaVuSans-98\"/>\r\n      <use x=\"653.714844\" xlink:href=\"#DejaVuSans-101\"/>\r\n      <use x=\"715.238281\" xlink:href=\"#DejaVuSans-108\"/>\r\n     </g>\r\n    </g>\r\n   </g>\r\n   <g id=\"matplotlib.axis_2\">\r\n    <g id=\"ytick_1\">\r\n     <g id=\"line2d_3\">\r\n      <defs>\r\n       <path d=\"M 0 0 \r\nL -3.5 0 \r\n\" id=\"mebccfa43f2\" style=\"stroke:#000000;stroke-width:0.8;\"/>\r\n      </defs>\r\n      <g>\r\n       <use style=\"stroke:#000000;stroke-width:0.8;\" x=\"34.240625\" xlink:href=\"#mebccfa43f2\" y=\"61.56\"/>\r\n      </g>\r\n     </g>\r\n     <g id=\"text_4\">\r\n      <!-- 0 -->\r\n      <g transform=\"translate(20.878125 65.359219)scale(0.1 -0.1)\">\r\n       <use xlink:href=\"#DejaVuSans-48\"/>\r\n      </g>\r\n     </g>\r\n    </g>\r\n    <g id=\"ytick_2\">\r\n     <g id=\"line2d_4\">\r\n      <g>\r\n       <use style=\"stroke:#000000;stroke-width:0.8;\" x=\"34.240625\" xlink:href=\"#mebccfa43f2\" y=\"170.28\"/>\r\n      </g>\r\n     </g>\r\n     <g id=\"text_5\">\r\n      <!-- 1 -->\r\n      <g transform=\"translate(20.878125 174.079219)scale(0.1 -0.1)\">\r\n       <use xlink:href=\"#DejaVuSans-49\"/>\r\n      </g>\r\n     </g>\r\n    </g>\r\n    <g id=\"text_6\">\r\n     <!-- True label -->\r\n     <g transform=\"translate(14.798437 140.219219)rotate(-90)scale(0.1 -0.1)\">\r\n      <defs>\r\n       <path d=\"M -0.296875 72.90625 \r\nL 61.375 72.90625 \r\nL 61.375 64.59375 \r\nL 35.5 64.59375 \r\nL 35.5 0 \r\nL 25.59375 0 \r\nL 25.59375 64.59375 \r\nL -0.296875 64.59375 \r\nz\r\n\" id=\"DejaVuSans-84\"/>\r\n       <path d=\"M 8.5 21.578125 \r\nL 8.5 54.6875 \r\nL 17.484375 54.6875 \r\nL 17.484375 21.921875 \r\nQ 17.484375 14.15625 20.5 10.265625 \r\nQ 23.53125 6.390625 29.59375 6.390625 \r\nQ 36.859375 6.390625 41.078125 11.03125 \r\nQ 45.3125 15.671875 45.3125 23.6875 \r\nL 45.3125 54.6875 \r\nL 54.296875 54.6875 \r\nL 54.296875 0 \r\nL 45.3125 0 \r\nL 45.3125 8.40625 \r\nQ 42.046875 3.421875 37.71875 1 \r\nQ 33.40625 -1.421875 27.6875 -1.421875 \r\nQ 18.265625 -1.421875 13.375 4.4375 \r\nQ 8.5 10.296875 8.5 21.578125 \r\nz\r\nM 31.109375 56 \r\nz\r\n\" id=\"DejaVuSans-117\"/>\r\n      </defs>\r\n      <use xlink:href=\"#DejaVuSans-84\"/>\r\n      <use x=\"46.333984\" xlink:href=\"#DejaVuSans-114\"/>\r\n      <use x=\"87.447266\" xlink:href=\"#DejaVuSans-117\"/>\r\n      <use x=\"150.826172\" xlink:href=\"#DejaVuSans-101\"/>\r\n      <use x=\"212.349609\" xlink:href=\"#DejaVuSans-32\"/>\r\n      <use x=\"244.136719\" xlink:href=\"#DejaVuSans-108\"/>\r\n      <use x=\"271.919922\" xlink:href=\"#DejaVuSans-97\"/>\r\n      <use x=\"333.199219\" xlink:href=\"#DejaVuSans-98\"/>\r\n      <use x=\"396.675781\" xlink:href=\"#DejaVuSans-101\"/>\r\n      <use x=\"458.199219\" xlink:href=\"#DejaVuSans-108\"/>\r\n     </g>\r\n    </g>\r\n   </g>\r\n   <g id=\"patch_3\">\r\n    <path d=\"M 34.240625 224.64 \r\nL 34.240625 7.2 \r\n\" style=\"fill:none;stroke:#000000;stroke-linecap:square;stroke-linejoin:miter;stroke-width:0.8;\"/>\r\n   </g>\r\n   <g id=\"patch_4\">\r\n    <path d=\"M 251.680625 224.64 \r\nL 251.680625 7.2 \r\n\" style=\"fill:none;stroke:#000000;stroke-linecap:square;stroke-linejoin:miter;stroke-width:0.8;\"/>\r\n   </g>\r\n   <g id=\"patch_5\">\r\n    <path d=\"M 34.240625 224.64 \r\nL 251.680625 224.64 \r\n\" style=\"fill:none;stroke:#000000;stroke-linecap:square;stroke-linejoin:miter;stroke-width:0.8;\"/>\r\n   </g>\r\n   <g id=\"patch_6\">\r\n    <path d=\"M 34.240625 7.2 \r\nL 251.680625 7.2 \r\n\" style=\"fill:none;stroke:#000000;stroke-linecap:square;stroke-linejoin:miter;stroke-width:0.8;\"/>\r\n   </g>\r\n   <g id=\"text_7\">\r\n    <!-- 0.75 -->\r\n    <g style=\"fill:#440154;\" transform=\"translate(77.467812 64.319375)scale(0.1 -0.1)\">\r\n     <defs>\r\n      <path d=\"M 10.6875 12.40625 \r\nL 21 12.40625 \r\nL 21 0 \r\nL 10.6875 0 \r\nz\r\n\" id=\"DejaVuSans-46\"/>\r\n      <path d=\"M 8.203125 72.90625 \r\nL 55.078125 72.90625 \r\nL 55.078125 68.703125 \r\nL 28.609375 0 \r\nL 18.3125 0 \r\nL 43.21875 64.59375 \r\nL 8.203125 64.59375 \r\nz\r\n\" id=\"DejaVuSans-55\"/>\r\n      <path d=\"M 10.796875 72.90625 \r\nL 49.515625 72.90625 \r\nL 49.515625 64.59375 \r\nL 19.828125 64.59375 \r\nL 19.828125 46.734375 \r\nQ 21.96875 47.46875 24.109375 47.828125 \r\nQ 26.265625 48.1875 28.421875 48.1875 \r\nQ 40.625 48.1875 47.75 41.5 \r\nQ 54.890625 34.8125 54.890625 23.390625 \r\nQ 54.890625 11.625 47.5625 5.09375 \r\nQ 40.234375 -1.421875 26.90625 -1.421875 \r\nQ 22.3125 -1.421875 17.546875 -0.640625 \r\nQ 12.796875 0.140625 7.71875 1.703125 \r\nL 7.71875 11.625 \r\nQ 12.109375 9.234375 16.796875 8.0625 \r\nQ 21.484375 6.890625 26.703125 6.890625 \r\nQ 35.15625 6.890625 40.078125 11.328125 \r\nQ 45.015625 15.765625 45.015625 23.390625 \r\nQ 45.015625 31 40.078125 35.4375 \r\nQ 35.15625 39.890625 26.703125 39.890625 \r\nQ 22.75 39.890625 18.8125 39.015625 \r\nQ 14.890625 38.140625 10.796875 36.28125 \r\nz\r\n\" id=\"DejaVuSans-53\"/>\r\n     </defs>\r\n     <use xlink:href=\"#DejaVuSans-48\"/>\r\n     <use x=\"63.623047\" xlink:href=\"#DejaVuSans-46\"/>\r\n     <use x=\"95.410156\" xlink:href=\"#DejaVuSans-55\"/>\r\n     <use x=\"159.033203\" xlink:href=\"#DejaVuSans-53\"/>\r\n    </g>\r\n   </g>\r\n   <g id=\"text_8\">\r\n    <!-- 0.25 -->\r\n    <g style=\"fill:#fde725;\" transform=\"translate(186.187812 64.319375)scale(0.1 -0.1)\">\r\n     <defs>\r\n      <path d=\"M 19.1875 8.296875 \r\nL 53.609375 8.296875 \r\nL 53.609375 0 \r\nL 7.328125 0 \r\nL 7.328125 8.296875 \r\nQ 12.9375 14.109375 22.625 23.890625 \r\nQ 32.328125 33.6875 34.8125 36.53125 \r\nQ 39.546875 41.84375 41.421875 45.53125 \r\nQ 43.3125 49.21875 43.3125 52.78125 \r\nQ 43.3125 58.59375 39.234375 62.25 \r\nQ 35.15625 65.921875 28.609375 65.921875 \r\nQ 23.96875 65.921875 18.8125 64.3125 \r\nQ 13.671875 62.703125 7.8125 59.421875 \r\nL 7.8125 69.390625 \r\nQ 13.765625 71.78125 18.9375 73 \r\nQ 24.125 74.21875 28.421875 74.21875 \r\nQ 39.75 74.21875 46.484375 68.546875 \r\nQ 53.21875 62.890625 53.21875 53.421875 \r\nQ 53.21875 48.921875 51.53125 44.890625 \r\nQ 49.859375 40.875 45.40625 35.40625 \r\nQ 44.1875 33.984375 37.640625 27.21875 \r\nQ 31.109375 20.453125 19.1875 8.296875 \r\nz\r\n\" id=\"DejaVuSans-50\"/>\r\n     </defs>\r\n     <use xlink:href=\"#DejaVuSans-48\"/>\r\n     <use x=\"63.623047\" xlink:href=\"#DejaVuSans-46\"/>\r\n     <use x=\"95.410156\" xlink:href=\"#DejaVuSans-50\"/>\r\n     <use x=\"159.033203\" xlink:href=\"#DejaVuSans-53\"/>\r\n    </g>\r\n   </g>\r\n   <g id=\"text_9\">\r\n    <!-- 0.27 -->\r\n    <g style=\"fill:#fde725;\" transform=\"translate(77.467812 173.039375)scale(0.1 -0.1)\">\r\n     <use xlink:href=\"#DejaVuSans-48\"/>\r\n     <use x=\"63.623047\" xlink:href=\"#DejaVuSans-46\"/>\r\n     <use x=\"95.410156\" xlink:href=\"#DejaVuSans-50\"/>\r\n     <use x=\"159.033203\" xlink:href=\"#DejaVuSans-55\"/>\r\n    </g>\r\n   </g>\r\n   <g id=\"text_10\">\r\n    <!-- 0.73 -->\r\n    <g style=\"fill:#440154;\" transform=\"translate(186.187812 173.039375)scale(0.1 -0.1)\">\r\n     <defs>\r\n      <path d=\"M 40.578125 39.3125 \r\nQ 47.65625 37.796875 51.625 33 \r\nQ 55.609375 28.21875 55.609375 21.1875 \r\nQ 55.609375 10.40625 48.1875 4.484375 \r\nQ 40.765625 -1.421875 27.09375 -1.421875 \r\nQ 22.515625 -1.421875 17.65625 -0.515625 \r\nQ 12.796875 0.390625 7.625 2.203125 \r\nL 7.625 11.71875 \r\nQ 11.71875 9.328125 16.59375 8.109375 \r\nQ 21.484375 6.890625 26.8125 6.890625 \r\nQ 36.078125 6.890625 40.9375 10.546875 \r\nQ 45.796875 14.203125 45.796875 21.1875 \r\nQ 45.796875 27.640625 41.28125 31.265625 \r\nQ 36.765625 34.90625 28.71875 34.90625 \r\nL 20.21875 34.90625 \r\nL 20.21875 43.015625 \r\nL 29.109375 43.015625 \r\nQ 36.375 43.015625 40.234375 45.921875 \r\nQ 44.09375 48.828125 44.09375 54.296875 \r\nQ 44.09375 59.90625 40.109375 62.90625 \r\nQ 36.140625 65.921875 28.71875 65.921875 \r\nQ 24.65625 65.921875 20.015625 65.03125 \r\nQ 15.375 64.15625 9.8125 62.3125 \r\nL 9.8125 71.09375 \r\nQ 15.4375 72.65625 20.34375 73.4375 \r\nQ 25.25 74.21875 29.59375 74.21875 \r\nQ 40.828125 74.21875 47.359375 69.109375 \r\nQ 53.90625 64.015625 53.90625 55.328125 \r\nQ 53.90625 49.265625 50.4375 45.09375 \r\nQ 46.96875 40.921875 40.578125 39.3125 \r\nz\r\n\" id=\"DejaVuSans-51\"/>\r\n     </defs>\r\n     <use xlink:href=\"#DejaVuSans-48\"/>\r\n     <use x=\"63.623047\" xlink:href=\"#DejaVuSans-46\"/>\r\n     <use x=\"95.410156\" xlink:href=\"#DejaVuSans-55\"/>\r\n     <use x=\"159.033203\" xlink:href=\"#DejaVuSans-51\"/>\r\n    </g>\r\n   </g>\r\n  </g>\r\n  <g id=\"axes_2\">\r\n   <g id=\"patch_7\">\r\n    <path clip-path=\"url(#pdb538ad272)\" d=\"M 268.420625 224.64 \r\nL 268.420625 223.790625 \r\nL 268.420625 8.049375 \r\nL 268.420625 7.2 \r\nL 279.292625 7.2 \r\nL 279.292625 8.049375 \r\nL 279.292625 223.790625 \r\nL 279.292625 224.64 \r\nz\r\n\" style=\"fill:#ffffff;stroke:#ffffff;stroke-linejoin:miter;stroke-width:0.01;\"/>\r\n   </g>\r\n   <image height=\"217\" id=\"imagef5bbf6f450\" transform=\"scale(1 -1)translate(0 -217)\" width=\"11\" x=\"268\" xlink:href=\"data:image/png;base64,\r\niVBORw0KGgoAAAANSUhEUgAAAAsAAADZCAYAAAD2WsoCAAABYUlEQVR4nO3aQW7DMBBDUWkk52Q9Q+9/kLbptkA2egsC4yJZE8QnZ2Q7TuZHfT7H4WfPmqfaseda5+IxC8SCMaYwl2CI86A2qOce1VlAcs6J3238FcfaeK4eAYnZxt0D4/xKkMUQ5yBzynmIMy2/9UwYsTZsgrQbxgziJm0EMXLVUcAupxvE5IwBUxjoHLvI3LKNmPMd2zjX4vPGHSf4/8dNzi3GDRDv0/0iPj/fd9yNNm0Exw3MweoqhdGkDXhESrYxRi4gOM9YQOuZmE0MGNSGYZxTcMBUG6t+OmBUrI0l4hxGE+c1Ydzk3ES87xhQbhPWRn13wCgZih1YYaY2lrWR2jpqY08KmGMWZ+mZnC9pw1Y0thu5oTzmFzjHhlISkJb/koDUM16RyDm1G7T8ts/BgKkb0GPQpUCWn06KBTzWjn3ZgQXnBV8It7zd20t+yCjBuOB9lmKAMzEv+SOQYPwCBCyBaHjgE4oAAAAASUVORK5CYII=\" y=\"-7\"/>\r\n   <g id=\"matplotlib.axis_3\"/>\r\n   <g id=\"matplotlib.axis_4\">\r\n    <g id=\"ytick_3\">\r\n     <g id=\"line2d_5\">\r\n      <defs>\r\n       <path d=\"M 0 0 \r\nL 3.5 0 \r\n\" id=\"m72d57169cd\" style=\"stroke:#000000;stroke-width:0.8;\"/>\r\n      </defs>\r\n      <g>\r\n       <use style=\"stroke:#000000;stroke-width:0.8;\" x=\"279.292625\" xlink:href=\"#m72d57169cd\" y=\"202.896\"/>\r\n      </g>\r\n     </g>\r\n     <g id=\"text_11\">\r\n      <!-- 0.3 -->\r\n      <g transform=\"translate(286.292625 206.695219)scale(0.1 -0.1)\">\r\n       <use xlink:href=\"#DejaVuSans-48\"/>\r\n       <use x=\"63.623047\" xlink:href=\"#DejaVuSans-46\"/>\r\n       <use x=\"95.410156\" xlink:href=\"#DejaVuSans-51\"/>\r\n      </g>\r\n     </g>\r\n    </g>\r\n    <g id=\"ytick_4\">\r\n     <g id=\"line2d_6\">\r\n      <g>\r\n       <use style=\"stroke:#000000;stroke-width:0.8;\" x=\"279.292625\" xlink:href=\"#m72d57169cd\" y=\"159.408\"/>\r\n      </g>\r\n     </g>\r\n     <g id=\"text_12\">\r\n      <!-- 0.4 -->\r\n      <g transform=\"translate(286.292625 163.207219)scale(0.1 -0.1)\">\r\n       <defs>\r\n        <path d=\"M 37.796875 64.3125 \r\nL 12.890625 25.390625 \r\nL 37.796875 25.390625 \r\nz\r\nM 35.203125 72.90625 \r\nL 47.609375 72.90625 \r\nL 47.609375 25.390625 \r\nL 58.015625 25.390625 \r\nL 58.015625 17.1875 \r\nL 47.609375 17.1875 \r\nL 47.609375 0 \r\nL 37.796875 0 \r\nL 37.796875 17.1875 \r\nL 4.890625 17.1875 \r\nL 4.890625 26.703125 \r\nz\r\n\" id=\"DejaVuSans-52\"/>\r\n       </defs>\r\n       <use xlink:href=\"#DejaVuSans-48\"/>\r\n       <use x=\"63.623047\" xlink:href=\"#DejaVuSans-46\"/>\r\n       <use x=\"95.410156\" xlink:href=\"#DejaVuSans-52\"/>\r\n      </g>\r\n     </g>\r\n    </g>\r\n    <g id=\"ytick_5\">\r\n     <g id=\"line2d_7\">\r\n      <g>\r\n       <use style=\"stroke:#000000;stroke-width:0.8;\" x=\"279.292625\" xlink:href=\"#m72d57169cd\" y=\"115.92\"/>\r\n      </g>\r\n     </g>\r\n     <g id=\"text_13\">\r\n      <!-- 0.5 -->\r\n      <g transform=\"translate(286.292625 119.719219)scale(0.1 -0.1)\">\r\n       <use xlink:href=\"#DejaVuSans-48\"/>\r\n       <use x=\"63.623047\" xlink:href=\"#DejaVuSans-46\"/>\r\n       <use x=\"95.410156\" xlink:href=\"#DejaVuSans-53\"/>\r\n      </g>\r\n     </g>\r\n    </g>\r\n    <g id=\"ytick_6\">\r\n     <g id=\"line2d_8\">\r\n      <g>\r\n       <use style=\"stroke:#000000;stroke-width:0.8;\" x=\"279.292625\" xlink:href=\"#m72d57169cd\" y=\"72.432\"/>\r\n      </g>\r\n     </g>\r\n     <g id=\"text_14\">\r\n      <!-- 0.6 -->\r\n      <g transform=\"translate(286.292625 76.231219)scale(0.1 -0.1)\">\r\n       <defs>\r\n        <path d=\"M 33.015625 40.375 \r\nQ 26.375 40.375 22.484375 35.828125 \r\nQ 18.609375 31.296875 18.609375 23.390625 \r\nQ 18.609375 15.53125 22.484375 10.953125 \r\nQ 26.375 6.390625 33.015625 6.390625 \r\nQ 39.65625 6.390625 43.53125 10.953125 \r\nQ 47.40625 15.53125 47.40625 23.390625 \r\nQ 47.40625 31.296875 43.53125 35.828125 \r\nQ 39.65625 40.375 33.015625 40.375 \r\nz\r\nM 52.59375 71.296875 \r\nL 52.59375 62.3125 \r\nQ 48.875 64.0625 45.09375 64.984375 \r\nQ 41.3125 65.921875 37.59375 65.921875 \r\nQ 27.828125 65.921875 22.671875 59.328125 \r\nQ 17.53125 52.734375 16.796875 39.40625 \r\nQ 19.671875 43.65625 24.015625 45.921875 \r\nQ 28.375 48.1875 33.59375 48.1875 \r\nQ 44.578125 48.1875 50.953125 41.515625 \r\nQ 57.328125 34.859375 57.328125 23.390625 \r\nQ 57.328125 12.15625 50.6875 5.359375 \r\nQ 44.046875 -1.421875 33.015625 -1.421875 \r\nQ 20.359375 -1.421875 13.671875 8.265625 \r\nQ 6.984375 17.96875 6.984375 36.375 \r\nQ 6.984375 53.65625 15.1875 63.9375 \r\nQ 23.390625 74.21875 37.203125 74.21875 \r\nQ 40.921875 74.21875 44.703125 73.484375 \r\nQ 48.484375 72.75 52.59375 71.296875 \r\nz\r\n\" id=\"DejaVuSans-54\"/>\r\n       </defs>\r\n       <use xlink:href=\"#DejaVuSans-48\"/>\r\n       <use x=\"63.623047\" xlink:href=\"#DejaVuSans-46\"/>\r\n       <use x=\"95.410156\" xlink:href=\"#DejaVuSans-54\"/>\r\n      </g>\r\n     </g>\r\n    </g>\r\n    <g id=\"ytick_7\">\r\n     <g id=\"line2d_9\">\r\n      <g>\r\n       <use style=\"stroke:#000000;stroke-width:0.8;\" x=\"279.292625\" xlink:href=\"#m72d57169cd\" y=\"28.944\"/>\r\n      </g>\r\n     </g>\r\n     <g id=\"text_15\">\r\n      <!-- 0.7 -->\r\n      <g transform=\"translate(286.292625 32.743219)scale(0.1 -0.1)\">\r\n       <use xlink:href=\"#DejaVuSans-48\"/>\r\n       <use x=\"63.623047\" xlink:href=\"#DejaVuSans-46\"/>\r\n       <use x=\"95.410156\" xlink:href=\"#DejaVuSans-55\"/>\r\n      </g>\r\n     </g>\r\n    </g>\r\n   </g>\r\n   <g id=\"patch_8\">\r\n    <path d=\"M 268.420625 224.64 \r\nL 268.420625 223.790625 \r\nL 268.420625 8.049375 \r\nL 268.420625 7.2 \r\nL 279.292625 7.2 \r\nL 279.292625 8.049375 \r\nL 279.292625 223.790625 \r\nL 279.292625 224.64 \r\nz\r\n\" style=\"fill:none;stroke:#000000;stroke-linejoin:miter;stroke-width:0.8;\"/>\r\n   </g>\r\n  </g>\r\n </g>\r\n <defs>\r\n  <clipPath id=\"pb93475e2cd\">\r\n   <rect height=\"217.44\" width=\"217.44\" x=\"34.240625\" y=\"7.2\"/>\r\n  </clipPath>\r\n  <clipPath id=\"pdb538ad272\">\r\n   <rect height=\"217.44\" width=\"10.872\" x=\"268.420625\" y=\"7.2\"/>\r\n  </clipPath>\r\n </defs>\r\n</svg>\r\n",
      "image/png": "[encoded data removed]"
     },
     "metadata": {
      "needs_background": "light"
     }
    }
   ],
   "source": [
    "w = 0.62\n",
    "class_weight = dict({0:1-w, 1: w})\n",
    "# class_weight = 'balanced'\n",
    "modelo = LogisticRegression(random_state=SEED, penalty='l2', dual=False, tol=0.0001, C=1.0, fit_intercept=True, intercept_scaling=1, class_weight=class_weight, solver='liblinear', max_iter=100, multi_class='auto', verbose=0, warm_start=False, n_jobs=None, l1_ratio=None)\n",
    "modelo = modelo.fit(X_train, y_train)\n",
    "y_pred = modelo.predict(X_test)\n",
    "modelo.score(X_test, y_test)\n",
    "\n",
    "\n",
    "# replace Train by Test later\n",
    "y_score = modelo.decision_function(X_test)\n",
    "average_precision = average_precision_score(y_test, y_score)\n",
    "\n",
    "print(f'Average precision-recall score: {average_precision:0.2f}')\n",
    "print(classification_report(y_test, y_pred))\n",
    "print(confusion_matrix(y_test, y_pred))\n",
    "plot_confusion_matrix(modelo, X_test, y_test, normalize='true')  "
   ]
  },
  {
   "cell_type": "code",
   "execution_count": 48,
   "metadata": {},
   "outputs": [],
   "source": [
    "from sklearn.preprocessing import MaxAbsScaler\n",
    "scaler = MaxAbsScaler()"
   ]
  },
  {
   "cell_type": "code",
   "execution_count": 49,
   "metadata": {},
   "outputs": [
    {
     "output_type": "stream",
     "name": "stdout",
     "text": [
      "(219, 1)\n"
     ]
    }
   ],
   "source": [
    "feature_weights = (modelo.coef_**2).reshape(-1,1)\n",
    "print(feature_weights.shape)\n",
    "feature_weights = scaler.fit_transform(feature_weights).squeeze()\n",
    "feature_weights = feature_weights[feature_weights>=0.1]"
   ]
  },
  {
   "cell_type": "code",
   "execution_count": 50,
   "metadata": {},
   "outputs": [
    {
     "output_type": "execute_result",
     "data": {
      "text/plain": [
       "[(0, (1.0, 'BLAST_MEAN')),\n",
       " (1, (0.6546393375836491, 'BIC_ARTERIAL_MIN')),\n",
       " (2, (0.6546393375836491, 'BIC_ARTERIAL_MEAN')),\n",
       " (3, (0.6546393375836491, 'BIC_ARTERIAL_MEDIAN')),\n",
       " (4, (0.6546393375836491, 'BE_VENOUS_DIFF')),\n",
       " (5, (0.4734245716705988, 'BILLIRUBIN_MEAN')),\n",
       " (6, (0.38919413588968327, 'HTN')),\n",
       " (7, (0.37371929423676314, 'CREATININ_MAX')),\n",
       " (8, (0.37262100438745055, 'FFA_MEAN')),\n",
       " (9, (0.3529023589106627, 'CALCIUM_MAX')),\n",
       " (10, (0.32557248998037136, 'CALCIUM_DIFF')),\n",
       " (11, (0.2947919952589486, 'BLAST_MAX')),\n",
       " (12, (0.2614375435895351, 'CALCIUM_MEAN')),\n",
       " (13, (0.2515866327943036, 'CALCIUM_MEDIAN')),\n",
       " (14, (0.23596792636085118, 'CREATININ_DIFF')),\n",
       " (15, (0.23572565905460463, 'BILLIRUBIN_MIN')),\n",
       " (16, (0.23307066282537506, 'CREATININ_MEDIAN')),\n",
       " (17, (0.20957493177549308, 'BLAST_MEDIAN')),\n",
       " (18, (0.20596417991489693, 'BE_ARTERIAL_MEDIAN')),\n",
       " (19, (0.20596417991489693, 'ALBUMIN_DIFF')),\n",
       " (20, (0.20596417991489693, 'ALBUMIN_MAX')),\n",
       " (21, (0.20596417991489693, 'ALBUMIN_MIN')),\n",
       " (22, (0.17244816664095547, 'BILLIRUBIN_DIFF')),\n",
       " (23, (0.16737866531455398, 'BIC_VENOUS_MIN')),\n",
       " (24, (0.16737866531455398, 'BILLIRUBIN_MEDIAN')),\n",
       " (25, (0.16737866531455398, 'BIC_VENOUS_DIFF')),\n",
       " (26, (0.16737866531455398, 'BIC_VENOUS_MAX')),\n",
       " (27, (0.1624263565157798, 'BIC_VENOUS_MEAN')),\n",
       " (28, (0.1624263565157798, 'BIC_ARTERIAL_DIFF')),\n",
       " (29, (0.1624263565157798, 'BIC_ARTERIAL_MAX')),\n",
       " (30, (0.1624263565157798, 'BIC_VENOUS_MEDIAN')),\n",
       " (31, (0.16202763922775867, 'FFA_MEDIAN')),\n",
       " (32, (0.15769104195034553, 'CREATININ_MEAN')),\n",
       " (33, (0.15543283293829774, 'BE_VENOUS_MAX')),\n",
       " (34, (0.15543283293829774, 'BE_VENOUS_MIN')),\n",
       " (35, (0.15543283293829774, 'BE_VENOUS_MEAN')),\n",
       " (36, (0.15543283293829774, 'BE_VENOUS_MEDIAN')),\n",
       " (37, (0.1542976191831555, 'BLAST_DIFF')),\n",
       " (38, (0.13213469822566298, 'BILLIRUBIN_MAX')),\n",
       " (39, (0.12960351373827397, 'CREATININ_MIN')),\n",
       " (40, (0.1252111171395429, 'IMMUNOCOMPROMISED')),\n",
       " (41, (0.1252111171395429, 'ALBUMIN_MEDIAN')),\n",
       " (42, (0.1252111171395429, 'OTHER')),\n",
       " (43, (0.1252111171395429, 'ALBUMIN_MEAN')),\n",
       " (44, (0.12436406178044682, 'BE_ARTERIAL_DIFF')),\n",
       " (45, (0.12436406178044682, 'BE_ARTERIAL_MAX')),\n",
       " (46, (0.12436406178044682, 'BE_ARTERIAL_MIN')),\n",
       " (47, (0.12436406178044682, 'BE_ARTERIAL_MEAN')),\n",
       " (48, (0.11888611019697565, 'BLAST_MIN')),\n",
       " (49, (0.11246607213359332, 'CALCIUM_MIN'))]"
      ]
     },
     "metadata": {},
     "execution_count": 50
    }
   ],
   "source": [
    "feature_idx_descending = np.argsort(-feature_weights)\n",
    "list(enumerate(zip(feature_weights[feature_idx_descending],df_train.columns.droplevel([1,2])[feature_idx_descending])))"
   ]
  },
  {
   "cell_type": "code",
   "execution_count": 51,
   "metadata": {},
   "outputs": [
    {
     "output_type": "execute_result",
     "data": {
      "text/plain": [
       "Text(0.5, 1.0, '2-class Precision-Recall curve: \\n AP=0.62')"
      ]
     },
     "metadata": {},
     "execution_count": 51
    },
    {
     "output_type": "display_data",
     "data": {
      "text/plain": "<Figure size 432x288 with 1 Axes>",
      "image/svg+xml": "<?xml version=\"1.0\" encoding=\"utf-8\" standalone=\"no\"?>\r\n<!DOCTYPE svg PUBLIC \"-//W3C//DTD SVG 1.1//EN\"\r\n  \"http://www.w3.org/Graphics/SVG/1.1/DTD/svg11.dtd\">\r\n<!-- Created with matplotlib (https://matplotlib.org/) -->\r\n<svg height=\"290.75175pt\" version=\"1.1\" viewBox=\"0 0 385.78125 290.75175\" width=\"385.78125pt\" xmlns=\"http://www.w3.org/2000/svg\" xmlns:xlink=\"http://www.w3.org/1999/xlink\">\r\n <metadata>\r\n  <rdf:RDF xmlns:cc=\"http://creativecommons.org/ns#\" xmlns:dc=\"http://purl.org/dc/elements/1.1/\" xmlns:rdf=\"http://www.w3.org/1999/02/22-rdf-syntax-ns#\">\r\n   <cc:Work>\r\n    <dc:type rdf:resource=\"http://purl.org/dc/dcmitype/StillImage\"/>\r\n    <dc:date>2021-02-08T13:50:51.019297</dc:date>\r\n    <dc:format>image/svg+xml</dc:format>\r\n    <dc:creator>\r\n     <cc:Agent>\r\n      <dc:title>Matplotlib v3.3.2, https://matplotlib.org/</dc:title>\r\n     </cc:Agent>\r\n    </dc:creator>\r\n   </cc:Work>\r\n  </rdf:RDF>\r\n </metadata>\r\n <defs>\r\n  <style type=\"text/css\">*{stroke-linecap:butt;stroke-linejoin:round;}</style>\r\n </defs>\r\n <g id=\"figure_1\">\r\n  <g id=\"patch_1\">\r\n   <path d=\"M 0 290.75175 \r\nL 385.78125 290.75175 \r\nL 385.78125 0 \r\nL 0 0 \r\nz\r\n\" style=\"fill:none;\"/>\r\n  </g>\r\n  <g id=\"axes_1\">\r\n   <g id=\"patch_2\">\r\n    <path d=\"M 43.78125 253.1955 \r\nL 378.58125 253.1955 \r\nL 378.58125 35.7555 \r\nL 43.78125 35.7555 \r\nz\r\n\" style=\"fill:#ffffff;\"/>\r\n   </g>\r\n   <g id=\"matplotlib.axis_1\">\r\n    <g id=\"xtick_1\">\r\n     <g id=\"line2d_1\">\r\n      <defs>\r\n       <path d=\"M 0 0 \r\nL 0 3.5 \r\n\" id=\"mcd282fbd96\" style=\"stroke:#000000;stroke-width:0.8;\"/>\r\n      </defs>\r\n      <g>\r\n       <use style=\"stroke:#000000;stroke-width:0.8;\" x=\"58.999432\" xlink:href=\"#mcd282fbd96\" y=\"253.1955\"/>\r\n      </g>\r\n     </g>\r\n     <g id=\"text_1\">\r\n      <!-- 0.0 -->\r\n      <g transform=\"translate(51.047869 267.793937)scale(0.1 -0.1)\">\r\n       <defs>\r\n        <path d=\"M 31.78125 66.40625 \r\nQ 24.171875 66.40625 20.328125 58.90625 \r\nQ 16.5 51.421875 16.5 36.375 \r\nQ 16.5 21.390625 20.328125 13.890625 \r\nQ 24.171875 6.390625 31.78125 6.390625 \r\nQ 39.453125 6.390625 43.28125 13.890625 \r\nQ 47.125 21.390625 47.125 36.375 \r\nQ 47.125 51.421875 43.28125 58.90625 \r\nQ 39.453125 66.40625 31.78125 66.40625 \r\nz\r\nM 31.78125 74.21875 \r\nQ 44.046875 74.21875 50.515625 64.515625 \r\nQ 56.984375 54.828125 56.984375 36.375 \r\nQ 56.984375 17.96875 50.515625 8.265625 \r\nQ 44.046875 -1.421875 31.78125 -1.421875 \r\nQ 19.53125 -1.421875 13.0625 8.265625 \r\nQ 6.59375 17.96875 6.59375 36.375 \r\nQ 6.59375 54.828125 13.0625 64.515625 \r\nQ 19.53125 74.21875 31.78125 74.21875 \r\nz\r\n\" id=\"DejaVuSans-48\"/>\r\n        <path d=\"M 10.6875 12.40625 \r\nL 21 12.40625 \r\nL 21 0 \r\nL 10.6875 0 \r\nz\r\n\" id=\"DejaVuSans-46\"/>\r\n       </defs>\r\n       <use xlink:href=\"#DejaVuSans-48\"/>\r\n       <use x=\"63.623047\" xlink:href=\"#DejaVuSans-46\"/>\r\n       <use x=\"95.410156\" xlink:href=\"#DejaVuSans-48\"/>\r\n      </g>\r\n     </g>\r\n    </g>\r\n    <g id=\"xtick_2\">\r\n     <g id=\"line2d_2\">\r\n      <g>\r\n       <use style=\"stroke:#000000;stroke-width:0.8;\" x=\"119.872159\" xlink:href=\"#mcd282fbd96\" y=\"253.1955\"/>\r\n      </g>\r\n     </g>\r\n     <g id=\"text_2\">\r\n      <!-- 0.2 -->\r\n      <g transform=\"translate(111.920597 267.793937)scale(0.1 -0.1)\">\r\n       <defs>\r\n        <path d=\"M 19.1875 8.296875 \r\nL 53.609375 8.296875 \r\nL 53.609375 0 \r\nL 7.328125 0 \r\nL 7.328125 8.296875 \r\nQ 12.9375 14.109375 22.625 23.890625 \r\nQ 32.328125 33.6875 34.8125 36.53125 \r\nQ 39.546875 41.84375 41.421875 45.53125 \r\nQ 43.3125 49.21875 43.3125 52.78125 \r\nQ 43.3125 58.59375 39.234375 62.25 \r\nQ 35.15625 65.921875 28.609375 65.921875 \r\nQ 23.96875 65.921875 18.8125 64.3125 \r\nQ 13.671875 62.703125 7.8125 59.421875 \r\nL 7.8125 69.390625 \r\nQ 13.765625 71.78125 18.9375 73 \r\nQ 24.125 74.21875 28.421875 74.21875 \r\nQ 39.75 74.21875 46.484375 68.546875 \r\nQ 53.21875 62.890625 53.21875 53.421875 \r\nQ 53.21875 48.921875 51.53125 44.890625 \r\nQ 49.859375 40.875 45.40625 35.40625 \r\nQ 44.1875 33.984375 37.640625 27.21875 \r\nQ 31.109375 20.453125 19.1875 8.296875 \r\nz\r\n\" id=\"DejaVuSans-50\"/>\r\n       </defs>\r\n       <use xlink:href=\"#DejaVuSans-48\"/>\r\n       <use x=\"63.623047\" xlink:href=\"#DejaVuSans-46\"/>\r\n       <use x=\"95.410156\" xlink:href=\"#DejaVuSans-50\"/>\r\n      </g>\r\n     </g>\r\n    </g>\r\n    <g id=\"xtick_3\">\r\n     <g id=\"line2d_3\">\r\n      <g>\r\n       <use style=\"stroke:#000000;stroke-width:0.8;\" x=\"180.744886\" xlink:href=\"#mcd282fbd96\" y=\"253.1955\"/>\r\n      </g>\r\n     </g>\r\n     <g id=\"text_3\">\r\n      <!-- 0.4 -->\r\n      <g transform=\"translate(172.793324 267.793937)scale(0.1 -0.1)\">\r\n       <defs>\r\n        <path d=\"M 37.796875 64.3125 \r\nL 12.890625 25.390625 \r\nL 37.796875 25.390625 \r\nz\r\nM 35.203125 72.90625 \r\nL 47.609375 72.90625 \r\nL 47.609375 25.390625 \r\nL 58.015625 25.390625 \r\nL 58.015625 17.1875 \r\nL 47.609375 17.1875 \r\nL 47.609375 0 \r\nL 37.796875 0 \r\nL 37.796875 17.1875 \r\nL 4.890625 17.1875 \r\nL 4.890625 26.703125 \r\nz\r\n\" id=\"DejaVuSans-52\"/>\r\n       </defs>\r\n       <use xlink:href=\"#DejaVuSans-48\"/>\r\n       <use x=\"63.623047\" xlink:href=\"#DejaVuSans-46\"/>\r\n       <use x=\"95.410156\" xlink:href=\"#DejaVuSans-52\"/>\r\n      </g>\r\n     </g>\r\n    </g>\r\n    <g id=\"xtick_4\">\r\n     <g id=\"line2d_4\">\r\n      <g>\r\n       <use style=\"stroke:#000000;stroke-width:0.8;\" x=\"241.617614\" xlink:href=\"#mcd282fbd96\" y=\"253.1955\"/>\r\n      </g>\r\n     </g>\r\n     <g id=\"text_4\">\r\n      <!-- 0.6 -->\r\n      <g transform=\"translate(233.666051 267.793937)scale(0.1 -0.1)\">\r\n       <defs>\r\n        <path d=\"M 33.015625 40.375 \r\nQ 26.375 40.375 22.484375 35.828125 \r\nQ 18.609375 31.296875 18.609375 23.390625 \r\nQ 18.609375 15.53125 22.484375 10.953125 \r\nQ 26.375 6.390625 33.015625 6.390625 \r\nQ 39.65625 6.390625 43.53125 10.953125 \r\nQ 47.40625 15.53125 47.40625 23.390625 \r\nQ 47.40625 31.296875 43.53125 35.828125 \r\nQ 39.65625 40.375 33.015625 40.375 \r\nz\r\nM 52.59375 71.296875 \r\nL 52.59375 62.3125 \r\nQ 48.875 64.0625 45.09375 64.984375 \r\nQ 41.3125 65.921875 37.59375 65.921875 \r\nQ 27.828125 65.921875 22.671875 59.328125 \r\nQ 17.53125 52.734375 16.796875 39.40625 \r\nQ 19.671875 43.65625 24.015625 45.921875 \r\nQ 28.375 48.1875 33.59375 48.1875 \r\nQ 44.578125 48.1875 50.953125 41.515625 \r\nQ 57.328125 34.859375 57.328125 23.390625 \r\nQ 57.328125 12.15625 50.6875 5.359375 \r\nQ 44.046875 -1.421875 33.015625 -1.421875 \r\nQ 20.359375 -1.421875 13.671875 8.265625 \r\nQ 6.984375 17.96875 6.984375 36.375 \r\nQ 6.984375 53.65625 15.1875 63.9375 \r\nQ 23.390625 74.21875 37.203125 74.21875 \r\nQ 40.921875 74.21875 44.703125 73.484375 \r\nQ 48.484375 72.75 52.59375 71.296875 \r\nz\r\n\" id=\"DejaVuSans-54\"/>\r\n       </defs>\r\n       <use xlink:href=\"#DejaVuSans-48\"/>\r\n       <use x=\"63.623047\" xlink:href=\"#DejaVuSans-46\"/>\r\n       <use x=\"95.410156\" xlink:href=\"#DejaVuSans-54\"/>\r\n      </g>\r\n     </g>\r\n    </g>\r\n    <g id=\"xtick_5\">\r\n     <g id=\"line2d_5\">\r\n      <g>\r\n       <use style=\"stroke:#000000;stroke-width:0.8;\" x=\"302.490341\" xlink:href=\"#mcd282fbd96\" y=\"253.1955\"/>\r\n      </g>\r\n     </g>\r\n     <g id=\"text_5\">\r\n      <!-- 0.8 -->\r\n      <g transform=\"translate(294.538778 267.793937)scale(0.1 -0.1)\">\r\n       <defs>\r\n        <path d=\"M 31.78125 34.625 \r\nQ 24.75 34.625 20.71875 30.859375 \r\nQ 16.703125 27.09375 16.703125 20.515625 \r\nQ 16.703125 13.921875 20.71875 10.15625 \r\nQ 24.75 6.390625 31.78125 6.390625 \r\nQ 38.8125 6.390625 42.859375 10.171875 \r\nQ 46.921875 13.96875 46.921875 20.515625 \r\nQ 46.921875 27.09375 42.890625 30.859375 \r\nQ 38.875 34.625 31.78125 34.625 \r\nz\r\nM 21.921875 38.8125 \r\nQ 15.578125 40.375 12.03125 44.71875 \r\nQ 8.5 49.078125 8.5 55.328125 \r\nQ 8.5 64.0625 14.71875 69.140625 \r\nQ 20.953125 74.21875 31.78125 74.21875 \r\nQ 42.671875 74.21875 48.875 69.140625 \r\nQ 55.078125 64.0625 55.078125 55.328125 \r\nQ 55.078125 49.078125 51.53125 44.71875 \r\nQ 48 40.375 41.703125 38.8125 \r\nQ 48.828125 37.15625 52.796875 32.3125 \r\nQ 56.78125 27.484375 56.78125 20.515625 \r\nQ 56.78125 9.90625 50.3125 4.234375 \r\nQ 43.84375 -1.421875 31.78125 -1.421875 \r\nQ 19.734375 -1.421875 13.25 4.234375 \r\nQ 6.78125 9.90625 6.78125 20.515625 \r\nQ 6.78125 27.484375 10.78125 32.3125 \r\nQ 14.796875 37.15625 21.921875 38.8125 \r\nz\r\nM 18.3125 54.390625 \r\nQ 18.3125 48.734375 21.84375 45.5625 \r\nQ 25.390625 42.390625 31.78125 42.390625 \r\nQ 38.140625 42.390625 41.71875 45.5625 \r\nQ 45.3125 48.734375 45.3125 54.390625 \r\nQ 45.3125 60.0625 41.71875 63.234375 \r\nQ 38.140625 66.40625 31.78125 66.40625 \r\nQ 25.390625 66.40625 21.84375 63.234375 \r\nQ 18.3125 60.0625 18.3125 54.390625 \r\nz\r\n\" id=\"DejaVuSans-56\"/>\r\n       </defs>\r\n       <use xlink:href=\"#DejaVuSans-48\"/>\r\n       <use x=\"63.623047\" xlink:href=\"#DejaVuSans-46\"/>\r\n       <use x=\"95.410156\" xlink:href=\"#DejaVuSans-56\"/>\r\n      </g>\r\n     </g>\r\n    </g>\r\n    <g id=\"xtick_6\">\r\n     <g id=\"line2d_6\">\r\n      <g>\r\n       <use style=\"stroke:#000000;stroke-width:0.8;\" x=\"363.363068\" xlink:href=\"#mcd282fbd96\" y=\"253.1955\"/>\r\n      </g>\r\n     </g>\r\n     <g id=\"text_6\">\r\n      <!-- 1.0 -->\r\n      <g transform=\"translate(355.411506 267.793937)scale(0.1 -0.1)\">\r\n       <defs>\r\n        <path d=\"M 12.40625 8.296875 \r\nL 28.515625 8.296875 \r\nL 28.515625 63.921875 \r\nL 10.984375 60.40625 \r\nL 10.984375 69.390625 \r\nL 28.421875 72.90625 \r\nL 38.28125 72.90625 \r\nL 38.28125 8.296875 \r\nL 54.390625 8.296875 \r\nL 54.390625 0 \r\nL 12.40625 0 \r\nz\r\n\" id=\"DejaVuSans-49\"/>\r\n       </defs>\r\n       <use xlink:href=\"#DejaVuSans-49\"/>\r\n       <use x=\"63.623047\" xlink:href=\"#DejaVuSans-46\"/>\r\n       <use x=\"95.410156\" xlink:href=\"#DejaVuSans-48\"/>\r\n      </g>\r\n     </g>\r\n    </g>\r\n    <g id=\"text_7\">\r\n     <!-- Recall -->\r\n     <g transform=\"translate(196.264062 281.472062)scale(0.1 -0.1)\">\r\n      <defs>\r\n       <path d=\"M 44.390625 34.1875 \r\nQ 47.5625 33.109375 50.5625 29.59375 \r\nQ 53.5625 26.078125 56.59375 19.921875 \r\nL 66.609375 0 \r\nL 56 0 \r\nL 46.6875 18.703125 \r\nQ 43.0625 26.03125 39.671875 28.421875 \r\nQ 36.28125 30.8125 30.421875 30.8125 \r\nL 19.671875 30.8125 \r\nL 19.671875 0 \r\nL 9.8125 0 \r\nL 9.8125 72.90625 \r\nL 32.078125 72.90625 \r\nQ 44.578125 72.90625 50.734375 67.671875 \r\nQ 56.890625 62.453125 56.890625 51.90625 \r\nQ 56.890625 45.015625 53.6875 40.46875 \r\nQ 50.484375 35.9375 44.390625 34.1875 \r\nz\r\nM 19.671875 64.796875 \r\nL 19.671875 38.921875 \r\nL 32.078125 38.921875 \r\nQ 39.203125 38.921875 42.84375 42.21875 \r\nQ 46.484375 45.515625 46.484375 51.90625 \r\nQ 46.484375 58.296875 42.84375 61.546875 \r\nQ 39.203125 64.796875 32.078125 64.796875 \r\nz\r\n\" id=\"DejaVuSans-82\"/>\r\n       <path d=\"M 56.203125 29.59375 \r\nL 56.203125 25.203125 \r\nL 14.890625 25.203125 \r\nQ 15.484375 15.921875 20.484375 11.0625 \r\nQ 25.484375 6.203125 34.421875 6.203125 \r\nQ 39.59375 6.203125 44.453125 7.46875 \r\nQ 49.3125 8.734375 54.109375 11.28125 \r\nL 54.109375 2.78125 \r\nQ 49.265625 0.734375 44.1875 -0.34375 \r\nQ 39.109375 -1.421875 33.890625 -1.421875 \r\nQ 20.796875 -1.421875 13.15625 6.1875 \r\nQ 5.515625 13.8125 5.515625 26.8125 \r\nQ 5.515625 40.234375 12.765625 48.109375 \r\nQ 20.015625 56 32.328125 56 \r\nQ 43.359375 56 49.78125 48.890625 \r\nQ 56.203125 41.796875 56.203125 29.59375 \r\nz\r\nM 47.21875 32.234375 \r\nQ 47.125 39.59375 43.09375 43.984375 \r\nQ 39.0625 48.390625 32.421875 48.390625 \r\nQ 24.90625 48.390625 20.390625 44.140625 \r\nQ 15.875 39.890625 15.1875 32.171875 \r\nz\r\n\" id=\"DejaVuSans-101\"/>\r\n       <path d=\"M 48.78125 52.59375 \r\nL 48.78125 44.1875 \r\nQ 44.96875 46.296875 41.140625 47.34375 \r\nQ 37.3125 48.390625 33.40625 48.390625 \r\nQ 24.65625 48.390625 19.8125 42.84375 \r\nQ 14.984375 37.3125 14.984375 27.296875 \r\nQ 14.984375 17.28125 19.8125 11.734375 \r\nQ 24.65625 6.203125 33.40625 6.203125 \r\nQ 37.3125 6.203125 41.140625 7.25 \r\nQ 44.96875 8.296875 48.78125 10.40625 \r\nL 48.78125 2.09375 \r\nQ 45.015625 0.34375 40.984375 -0.53125 \r\nQ 36.96875 -1.421875 32.421875 -1.421875 \r\nQ 20.0625 -1.421875 12.78125 6.34375 \r\nQ 5.515625 14.109375 5.515625 27.296875 \r\nQ 5.515625 40.671875 12.859375 48.328125 \r\nQ 20.21875 56 33.015625 56 \r\nQ 37.15625 56 41.109375 55.140625 \r\nQ 45.0625 54.296875 48.78125 52.59375 \r\nz\r\n\" id=\"DejaVuSans-99\"/>\r\n       <path d=\"M 34.28125 27.484375 \r\nQ 23.390625 27.484375 19.1875 25 \r\nQ 14.984375 22.515625 14.984375 16.5 \r\nQ 14.984375 11.71875 18.140625 8.90625 \r\nQ 21.296875 6.109375 26.703125 6.109375 \r\nQ 34.1875 6.109375 38.703125 11.40625 \r\nQ 43.21875 16.703125 43.21875 25.484375 \r\nL 43.21875 27.484375 \r\nz\r\nM 52.203125 31.203125 \r\nL 52.203125 0 \r\nL 43.21875 0 \r\nL 43.21875 8.296875 \r\nQ 40.140625 3.328125 35.546875 0.953125 \r\nQ 30.953125 -1.421875 24.3125 -1.421875 \r\nQ 15.921875 -1.421875 10.953125 3.296875 \r\nQ 6 8.015625 6 15.921875 \r\nQ 6 25.140625 12.171875 29.828125 \r\nQ 18.359375 34.515625 30.609375 34.515625 \r\nL 43.21875 34.515625 \r\nL 43.21875 35.40625 \r\nQ 43.21875 41.609375 39.140625 45 \r\nQ 35.0625 48.390625 27.6875 48.390625 \r\nQ 23 48.390625 18.546875 47.265625 \r\nQ 14.109375 46.140625 10.015625 43.890625 \r\nL 10.015625 52.203125 \r\nQ 14.9375 54.109375 19.578125 55.046875 \r\nQ 24.21875 56 28.609375 56 \r\nQ 40.484375 56 46.34375 49.84375 \r\nQ 52.203125 43.703125 52.203125 31.203125 \r\nz\r\n\" id=\"DejaVuSans-97\"/>\r\n       <path d=\"M 9.421875 75.984375 \r\nL 18.40625 75.984375 \r\nL 18.40625 0 \r\nL 9.421875 0 \r\nz\r\n\" id=\"DejaVuSans-108\"/>\r\n      </defs>\r\n      <use xlink:href=\"#DejaVuSans-82\"/>\r\n      <use x=\"64.982422\" xlink:href=\"#DejaVuSans-101\"/>\r\n      <use x=\"126.505859\" xlink:href=\"#DejaVuSans-99\"/>\r\n      <use x=\"181.486328\" xlink:href=\"#DejaVuSans-97\"/>\r\n      <use x=\"242.765625\" xlink:href=\"#DejaVuSans-108\"/>\r\n      <use x=\"270.548828\" xlink:href=\"#DejaVuSans-108\"/>\r\n     </g>\r\n    </g>\r\n   </g>\r\n   <g id=\"matplotlib.axis_2\">\r\n    <g id=\"ytick_1\">\r\n     <g id=\"line2d_7\">\r\n      <defs>\r\n       <path d=\"M 0 0 \r\nL -3.5 0 \r\n\" id=\"mc63ddde2ad\" style=\"stroke:#000000;stroke-width:0.8;\"/>\r\n      </defs>\r\n      <g>\r\n       <use style=\"stroke:#000000;stroke-width:0.8;\" x=\"43.78125\" xlink:href=\"#mc63ddde2ad\" y=\"243.311864\"/>\r\n      </g>\r\n     </g>\r\n     <g id=\"text_8\">\r\n      <!-- 0.0 -->\r\n      <g transform=\"translate(20.878125 247.111082)scale(0.1 -0.1)\">\r\n       <use xlink:href=\"#DejaVuSans-48\"/>\r\n       <use x=\"63.623047\" xlink:href=\"#DejaVuSans-46\"/>\r\n       <use x=\"95.410156\" xlink:href=\"#DejaVuSans-48\"/>\r\n      </g>\r\n     </g>\r\n    </g>\r\n    <g id=\"ytick_2\">\r\n     <g id=\"line2d_8\">\r\n      <g>\r\n       <use style=\"stroke:#000000;stroke-width:0.8;\" x=\"43.78125\" xlink:href=\"#mc63ddde2ad\" y=\"203.777318\"/>\r\n      </g>\r\n     </g>\r\n     <g id=\"text_9\">\r\n      <!-- 0.2 -->\r\n      <g transform=\"translate(20.878125 207.576537)scale(0.1 -0.1)\">\r\n       <use xlink:href=\"#DejaVuSans-48\"/>\r\n       <use x=\"63.623047\" xlink:href=\"#DejaVuSans-46\"/>\r\n       <use x=\"95.410156\" xlink:href=\"#DejaVuSans-50\"/>\r\n      </g>\r\n     </g>\r\n    </g>\r\n    <g id=\"ytick_3\">\r\n     <g id=\"line2d_9\">\r\n      <g>\r\n       <use style=\"stroke:#000000;stroke-width:0.8;\" x=\"43.78125\" xlink:href=\"#mc63ddde2ad\" y=\"164.242773\"/>\r\n      </g>\r\n     </g>\r\n     <g id=\"text_10\">\r\n      <!-- 0.4 -->\r\n      <g transform=\"translate(20.878125 168.041991)scale(0.1 -0.1)\">\r\n       <use xlink:href=\"#DejaVuSans-48\"/>\r\n       <use x=\"63.623047\" xlink:href=\"#DejaVuSans-46\"/>\r\n       <use x=\"95.410156\" xlink:href=\"#DejaVuSans-52\"/>\r\n      </g>\r\n     </g>\r\n    </g>\r\n    <g id=\"ytick_4\">\r\n     <g id=\"line2d_10\">\r\n      <g>\r\n       <use style=\"stroke:#000000;stroke-width:0.8;\" x=\"43.78125\" xlink:href=\"#mc63ddde2ad\" y=\"124.708227\"/>\r\n      </g>\r\n     </g>\r\n     <g id=\"text_11\">\r\n      <!-- 0.6 -->\r\n      <g transform=\"translate(20.878125 128.507446)scale(0.1 -0.1)\">\r\n       <use xlink:href=\"#DejaVuSans-48\"/>\r\n       <use x=\"63.623047\" xlink:href=\"#DejaVuSans-46\"/>\r\n       <use x=\"95.410156\" xlink:href=\"#DejaVuSans-54\"/>\r\n      </g>\r\n     </g>\r\n    </g>\r\n    <g id=\"ytick_5\">\r\n     <g id=\"line2d_11\">\r\n      <g>\r\n       <use style=\"stroke:#000000;stroke-width:0.8;\" x=\"43.78125\" xlink:href=\"#mc63ddde2ad\" y=\"85.173682\"/>\r\n      </g>\r\n     </g>\r\n     <g id=\"text_12\">\r\n      <!-- 0.8 -->\r\n      <g transform=\"translate(20.878125 88.972901)scale(0.1 -0.1)\">\r\n       <use xlink:href=\"#DejaVuSans-48\"/>\r\n       <use x=\"63.623047\" xlink:href=\"#DejaVuSans-46\"/>\r\n       <use x=\"95.410156\" xlink:href=\"#DejaVuSans-56\"/>\r\n      </g>\r\n     </g>\r\n    </g>\r\n    <g id=\"ytick_6\">\r\n     <g id=\"line2d_12\">\r\n      <g>\r\n       <use style=\"stroke:#000000;stroke-width:0.8;\" x=\"43.78125\" xlink:href=\"#mc63ddde2ad\" y=\"45.639136\"/>\r\n      </g>\r\n     </g>\r\n     <g id=\"text_13\">\r\n      <!-- 1.0 -->\r\n      <g transform=\"translate(20.878125 49.438355)scale(0.1 -0.1)\">\r\n       <use xlink:href=\"#DejaVuSans-49\"/>\r\n       <use x=\"63.623047\" xlink:href=\"#DejaVuSans-46\"/>\r\n       <use x=\"95.410156\" xlink:href=\"#DejaVuSans-48\"/>\r\n      </g>\r\n     </g>\r\n    </g>\r\n    <g id=\"text_14\">\r\n     <!-- Precision -->\r\n     <g transform=\"translate(14.798438 166.782531)rotate(-90)scale(0.1 -0.1)\">\r\n      <defs>\r\n       <path d=\"M 19.671875 64.796875 \r\nL 19.671875 37.40625 \r\nL 32.078125 37.40625 \r\nQ 38.96875 37.40625 42.71875 40.96875 \r\nQ 46.484375 44.53125 46.484375 51.125 \r\nQ 46.484375 57.671875 42.71875 61.234375 \r\nQ 38.96875 64.796875 32.078125 64.796875 \r\nz\r\nM 9.8125 72.90625 \r\nL 32.078125 72.90625 \r\nQ 44.34375 72.90625 50.609375 67.359375 \r\nQ 56.890625 61.8125 56.890625 51.125 \r\nQ 56.890625 40.328125 50.609375 34.8125 \r\nQ 44.34375 29.296875 32.078125 29.296875 \r\nL 19.671875 29.296875 \r\nL 19.671875 0 \r\nL 9.8125 0 \r\nz\r\n\" id=\"DejaVuSans-80\"/>\r\n       <path d=\"M 41.109375 46.296875 \r\nQ 39.59375 47.171875 37.8125 47.578125 \r\nQ 36.03125 48 33.890625 48 \r\nQ 26.265625 48 22.1875 43.046875 \r\nQ 18.109375 38.09375 18.109375 28.8125 \r\nL 18.109375 0 \r\nL 9.078125 0 \r\nL 9.078125 54.6875 \r\nL 18.109375 54.6875 \r\nL 18.109375 46.1875 \r\nQ 20.953125 51.171875 25.484375 53.578125 \r\nQ 30.03125 56 36.53125 56 \r\nQ 37.453125 56 38.578125 55.875 \r\nQ 39.703125 55.765625 41.0625 55.515625 \r\nz\r\n\" id=\"DejaVuSans-114\"/>\r\n       <path d=\"M 9.421875 54.6875 \r\nL 18.40625 54.6875 \r\nL 18.40625 0 \r\nL 9.421875 0 \r\nz\r\nM 9.421875 75.984375 \r\nL 18.40625 75.984375 \r\nL 18.40625 64.59375 \r\nL 9.421875 64.59375 \r\nz\r\n\" id=\"DejaVuSans-105\"/>\r\n       <path d=\"M 44.28125 53.078125 \r\nL 44.28125 44.578125 \r\nQ 40.484375 46.53125 36.375 47.5 \r\nQ 32.28125 48.484375 27.875 48.484375 \r\nQ 21.1875 48.484375 17.84375 46.4375 \r\nQ 14.5 44.390625 14.5 40.28125 \r\nQ 14.5 37.15625 16.890625 35.375 \r\nQ 19.28125 33.59375 26.515625 31.984375 \r\nL 29.59375 31.296875 \r\nQ 39.15625 29.25 43.1875 25.515625 \r\nQ 47.21875 21.78125 47.21875 15.09375 \r\nQ 47.21875 7.46875 41.1875 3.015625 \r\nQ 35.15625 -1.421875 24.609375 -1.421875 \r\nQ 20.21875 -1.421875 15.453125 -0.5625 \r\nQ 10.6875 0.296875 5.421875 2 \r\nL 5.421875 11.28125 \r\nQ 10.40625 8.6875 15.234375 7.390625 \r\nQ 20.0625 6.109375 24.8125 6.109375 \r\nQ 31.15625 6.109375 34.5625 8.28125 \r\nQ 37.984375 10.453125 37.984375 14.40625 \r\nQ 37.984375 18.0625 35.515625 20.015625 \r\nQ 33.0625 21.96875 24.703125 23.78125 \r\nL 21.578125 24.515625 \r\nQ 13.234375 26.265625 9.515625 29.90625 \r\nQ 5.8125 33.546875 5.8125 39.890625 \r\nQ 5.8125 47.609375 11.28125 51.796875 \r\nQ 16.75 56 26.8125 56 \r\nQ 31.78125 56 36.171875 55.265625 \r\nQ 40.578125 54.546875 44.28125 53.078125 \r\nz\r\n\" id=\"DejaVuSans-115\"/>\r\n       <path d=\"M 30.609375 48.390625 \r\nQ 23.390625 48.390625 19.1875 42.75 \r\nQ 14.984375 37.109375 14.984375 27.296875 \r\nQ 14.984375 17.484375 19.15625 11.84375 \r\nQ 23.34375 6.203125 30.609375 6.203125 \r\nQ 37.796875 6.203125 41.984375 11.859375 \r\nQ 46.1875 17.53125 46.1875 27.296875 \r\nQ 46.1875 37.015625 41.984375 42.703125 \r\nQ 37.796875 48.390625 30.609375 48.390625 \r\nz\r\nM 30.609375 56 \r\nQ 42.328125 56 49.015625 48.375 \r\nQ 55.71875 40.765625 55.71875 27.296875 \r\nQ 55.71875 13.875 49.015625 6.21875 \r\nQ 42.328125 -1.421875 30.609375 -1.421875 \r\nQ 18.84375 -1.421875 12.171875 6.21875 \r\nQ 5.515625 13.875 5.515625 27.296875 \r\nQ 5.515625 40.765625 12.171875 48.375 \r\nQ 18.84375 56 30.609375 56 \r\nz\r\n\" id=\"DejaVuSans-111\"/>\r\n       <path d=\"M 54.890625 33.015625 \r\nL 54.890625 0 \r\nL 45.90625 0 \r\nL 45.90625 32.71875 \r\nQ 45.90625 40.484375 42.875 44.328125 \r\nQ 39.84375 48.1875 33.796875 48.1875 \r\nQ 26.515625 48.1875 22.3125 43.546875 \r\nQ 18.109375 38.921875 18.109375 30.90625 \r\nL 18.109375 0 \r\nL 9.078125 0 \r\nL 9.078125 54.6875 \r\nL 18.109375 54.6875 \r\nL 18.109375 46.1875 \r\nQ 21.34375 51.125 25.703125 53.5625 \r\nQ 30.078125 56 35.796875 56 \r\nQ 45.21875 56 50.046875 50.171875 \r\nQ 54.890625 44.34375 54.890625 33.015625 \r\nz\r\n\" id=\"DejaVuSans-110\"/>\r\n      </defs>\r\n      <use xlink:href=\"#DejaVuSans-80\"/>\r\n      <use x=\"58.552734\" xlink:href=\"#DejaVuSans-114\"/>\r\n      <use x=\"97.416016\" xlink:href=\"#DejaVuSans-101\"/>\r\n      <use x=\"158.939453\" xlink:href=\"#DejaVuSans-99\"/>\r\n      <use x=\"213.919922\" xlink:href=\"#DejaVuSans-105\"/>\r\n      <use x=\"241.703125\" xlink:href=\"#DejaVuSans-115\"/>\r\n      <use x=\"293.802734\" xlink:href=\"#DejaVuSans-105\"/>\r\n      <use x=\"321.585938\" xlink:href=\"#DejaVuSans-111\"/>\r\n      <use x=\"382.767578\" xlink:href=\"#DejaVuSans-110\"/>\r\n     </g>\r\n    </g>\r\n   </g>\r\n   <g id=\"line2d_13\">\r\n    <path clip-path=\"url(#p4a9271e98b)\" d=\"M 363.363068 182.911864 \r\nL 354.139928 182.911864 \r\nL 354.139928 184.194786 \r\nL 354.139928 183.637078 \r\nL 344.916787 183.637078 \r\nL 344.916787 184.951344 \r\nL 344.916787 178.121922 \r\nL 317.247366 178.121922 \r\nL 317.247366 182.489486 \r\nL 317.247366 169.514045 \r\nL 308.024225 169.514045 \r\nL 308.024225 171.188031 \r\nL 308.024225 167.066669 \r\nL 298.801085 167.066669 \r\nL 298.801085 168.826488 \r\nL 298.801085 146.340337 \r\nL 280.354804 146.340337 \r\nL 280.354804 150.289404 \r\nL 280.354804 132.9829 \r\nL 261.908523 132.9829 \r\nL 261.908523 137.243571 \r\nL 261.908523 111.530045 \r\nL 252.685382 111.530045 \r\nL 252.685382 113.589136 \r\nL 252.685382 95.057318 \r\nL 243.462242 95.057318 \r\nL 243.462242 96.887621 \r\nL 243.462242 71.422536 \r\nL 234.239101 71.422536 \r\nL 234.239101 72.594508 \r\nL 206.56968 72.594508 \r\nL 206.56968 76.85062 \r\nL 197.346539 76.85062 \r\nL 197.346539 78.584591 \r\nL 169.677118 78.584591 \r\nL 169.677118 85.173682 \r\nL 142.007696 85.173682 \r\nL 142.007696 95.057318 \r\nL 132.784556 95.057318 \r\nL 132.784556 99.54988 \r\nL 123.561415 99.54988 \r\nL 123.561415 104.940955 \r\nL 105.115134 104.940955 \r\nL 105.115134 119.766409 \r\nL 86.668853 119.766409 \r\nL 86.668853 144.4755 \r\nL 77.445713 144.4755 \r\nL 77.445713 164.242773 \r\nL 68.222572 164.242773 \r\nL 68.222572 193.893682 \r\nL 58.999432 193.893682 \r\nL 58.999432 243.311864 \r\nL 58.999432 45.639136 \r\nL 58.999432 45.639136 \r\n\" style=\"fill:none;stroke:#1f77b4;stroke-linecap:square;stroke-width:1.5;\"/>\r\n   </g>\r\n   <g id=\"patch_3\">\r\n    <path d=\"M 43.78125 253.1955 \r\nL 43.78125 35.7555 \r\n\" style=\"fill:none;stroke:#000000;stroke-linecap:square;stroke-linejoin:miter;stroke-width:0.8;\"/>\r\n   </g>\r\n   <g id=\"patch_4\">\r\n    <path d=\"M 378.58125 253.1955 \r\nL 378.58125 35.7555 \r\n\" style=\"fill:none;stroke:#000000;stroke-linecap:square;stroke-linejoin:miter;stroke-width:0.8;\"/>\r\n   </g>\r\n   <g id=\"patch_5\">\r\n    <path d=\"M 43.78125 253.1955 \r\nL 378.58125 253.1955 \r\n\" style=\"fill:none;stroke:#000000;stroke-linecap:square;stroke-linejoin:miter;stroke-width:0.8;\"/>\r\n   </g>\r\n   <g id=\"patch_6\">\r\n    <path d=\"M 43.78125 35.7555 \r\nL 378.58125 35.7555 \r\n\" style=\"fill:none;stroke:#000000;stroke-linecap:square;stroke-linejoin:miter;stroke-width:0.8;\"/>\r\n   </g>\r\n   <g id=\"text_15\">\r\n    <!-- 2-class Precision-Recall curve:  -->\r\n    <g transform=\"translate(118.918125 16.318125)scale(0.12 -0.12)\">\r\n     <defs>\r\n      <path d=\"M 4.890625 31.390625 \r\nL 31.203125 31.390625 \r\nL 31.203125 23.390625 \r\nL 4.890625 23.390625 \r\nz\r\n\" id=\"DejaVuSans-45\"/>\r\n      <path id=\"DejaVuSans-32\"/>\r\n      <path d=\"M 8.5 21.578125 \r\nL 8.5 54.6875 \r\nL 17.484375 54.6875 \r\nL 17.484375 21.921875 \r\nQ 17.484375 14.15625 20.5 10.265625 \r\nQ 23.53125 6.390625 29.59375 6.390625 \r\nQ 36.859375 6.390625 41.078125 11.03125 \r\nQ 45.3125 15.671875 45.3125 23.6875 \r\nL 45.3125 54.6875 \r\nL 54.296875 54.6875 \r\nL 54.296875 0 \r\nL 45.3125 0 \r\nL 45.3125 8.40625 \r\nQ 42.046875 3.421875 37.71875 1 \r\nQ 33.40625 -1.421875 27.6875 -1.421875 \r\nQ 18.265625 -1.421875 13.375 4.4375 \r\nQ 8.5 10.296875 8.5 21.578125 \r\nz\r\nM 31.109375 56 \r\nz\r\n\" id=\"DejaVuSans-117\"/>\r\n      <path d=\"M 2.984375 54.6875 \r\nL 12.5 54.6875 \r\nL 29.59375 8.796875 \r\nL 46.6875 54.6875 \r\nL 56.203125 54.6875 \r\nL 35.6875 0 \r\nL 23.484375 0 \r\nz\r\n\" id=\"DejaVuSans-118\"/>\r\n      <path d=\"M 11.71875 12.40625 \r\nL 22.015625 12.40625 \r\nL 22.015625 0 \r\nL 11.71875 0 \r\nz\r\nM 11.71875 51.703125 \r\nL 22.015625 51.703125 \r\nL 22.015625 39.3125 \r\nL 11.71875 39.3125 \r\nz\r\n\" id=\"DejaVuSans-58\"/>\r\n     </defs>\r\n     <use xlink:href=\"#DejaVuSans-50\"/>\r\n     <use x=\"63.623047\" xlink:href=\"#DejaVuSans-45\"/>\r\n     <use x=\"99.707031\" xlink:href=\"#DejaVuSans-99\"/>\r\n     <use x=\"154.6875\" xlink:href=\"#DejaVuSans-108\"/>\r\n     <use x=\"182.470703\" xlink:href=\"#DejaVuSans-97\"/>\r\n     <use x=\"243.75\" xlink:href=\"#DejaVuSans-115\"/>\r\n     <use x=\"295.849609\" xlink:href=\"#DejaVuSans-115\"/>\r\n     <use x=\"347.949219\" xlink:href=\"#DejaVuSans-32\"/>\r\n     <use x=\"379.736328\" xlink:href=\"#DejaVuSans-80\"/>\r\n     <use x=\"438.289062\" xlink:href=\"#DejaVuSans-114\"/>\r\n     <use x=\"477.152344\" xlink:href=\"#DejaVuSans-101\"/>\r\n     <use x=\"538.675781\" xlink:href=\"#DejaVuSans-99\"/>\r\n     <use x=\"593.65625\" xlink:href=\"#DejaVuSans-105\"/>\r\n     <use x=\"621.439453\" xlink:href=\"#DejaVuSans-115\"/>\r\n     <use x=\"673.539062\" xlink:href=\"#DejaVuSans-105\"/>\r\n     <use x=\"701.322266\" xlink:href=\"#DejaVuSans-111\"/>\r\n     <use x=\"762.503906\" xlink:href=\"#DejaVuSans-110\"/>\r\n     <use x=\"825.882812\" xlink:href=\"#DejaVuSans-45\"/>\r\n     <use x=\"861.966797\" xlink:href=\"#DejaVuSans-82\"/>\r\n     <use x=\"926.949219\" xlink:href=\"#DejaVuSans-101\"/>\r\n     <use x=\"988.472656\" xlink:href=\"#DejaVuSans-99\"/>\r\n     <use x=\"1043.453125\" xlink:href=\"#DejaVuSans-97\"/>\r\n     <use x=\"1104.732422\" xlink:href=\"#DejaVuSans-108\"/>\r\n     <use x=\"1132.515625\" xlink:href=\"#DejaVuSans-108\"/>\r\n     <use x=\"1160.298828\" xlink:href=\"#DejaVuSans-32\"/>\r\n     <use x=\"1192.085938\" xlink:href=\"#DejaVuSans-99\"/>\r\n     <use x=\"1247.066406\" xlink:href=\"#DejaVuSans-117\"/>\r\n     <use x=\"1310.445312\" xlink:href=\"#DejaVuSans-114\"/>\r\n     <use x=\"1351.558594\" xlink:href=\"#DejaVuSans-118\"/>\r\n     <use x=\"1410.738281\" xlink:href=\"#DejaVuSans-101\"/>\r\n     <use x=\"1472.261719\" xlink:href=\"#DejaVuSans-58\"/>\r\n     <use x=\"1505.953125\" xlink:href=\"#DejaVuSans-32\"/>\r\n    </g>\r\n    <!--  AP=0.62 -->\r\n    <g transform=\"translate(183.165 29.7555)scale(0.12 -0.12)\">\r\n     <defs>\r\n      <path d=\"M 34.1875 63.1875 \r\nL 20.796875 26.90625 \r\nL 47.609375 26.90625 \r\nz\r\nM 28.609375 72.90625 \r\nL 39.796875 72.90625 \r\nL 67.578125 0 \r\nL 57.328125 0 \r\nL 50.6875 18.703125 \r\nL 17.828125 18.703125 \r\nL 11.1875 0 \r\nL 0.78125 0 \r\nz\r\n\" id=\"DejaVuSans-65\"/>\r\n      <path d=\"M 10.59375 45.40625 \r\nL 73.1875 45.40625 \r\nL 73.1875 37.203125 \r\nL 10.59375 37.203125 \r\nz\r\nM 10.59375 25.484375 \r\nL 73.1875 25.484375 \r\nL 73.1875 17.1875 \r\nL 10.59375 17.1875 \r\nz\r\n\" id=\"DejaVuSans-61\"/>\r\n     </defs>\r\n     <use xlink:href=\"#DejaVuSans-32\"/>\r\n     <use x=\"31.787109\" xlink:href=\"#DejaVuSans-65\"/>\r\n     <use x=\"100.195312\" xlink:href=\"#DejaVuSans-80\"/>\r\n     <use x=\"160.498047\" xlink:href=\"#DejaVuSans-61\"/>\r\n     <use x=\"244.287109\" xlink:href=\"#DejaVuSans-48\"/>\r\n     <use x=\"307.910156\" xlink:href=\"#DejaVuSans-46\"/>\r\n     <use x=\"339.697266\" xlink:href=\"#DejaVuSans-54\"/>\r\n     <use x=\"403.320312\" xlink:href=\"#DejaVuSans-50\"/>\r\n    </g>\r\n   </g>\r\n   <g id=\"legend_1\">\r\n    <g id=\"patch_7\">\r\n     <path d=\"M 50.78125 248.1955 \r\nL 236.375 248.1955 \r\nQ 238.375 248.1955 238.375 246.1955 \r\nL 238.375 232.517375 \r\nQ 238.375 230.517375 236.375 230.517375 \r\nL 50.78125 230.517375 \r\nQ 48.78125 230.517375 48.78125 232.517375 \r\nL 48.78125 246.1955 \r\nQ 48.78125 248.1955 50.78125 248.1955 \r\nz\r\n\" style=\"fill:#ffffff;opacity:0.8;stroke:#cccccc;stroke-linejoin:miter;\"/>\r\n    </g>\r\n    <g id=\"line2d_14\">\r\n     <path d=\"M 52.78125 238.615812 \r\nL 72.78125 238.615812 \r\n\" style=\"fill:none;stroke:#1f77b4;stroke-linecap:square;stroke-width:1.5;\"/>\r\n    </g>\r\n    <g id=\"line2d_15\"/>\r\n    <g id=\"text_16\">\r\n     <!-- LogisticRegression (AP = 0.62) -->\r\n     <g transform=\"translate(80.78125 242.115812)scale(0.1 -0.1)\">\r\n      <defs>\r\n       <path d=\"M 9.8125 72.90625 \r\nL 19.671875 72.90625 \r\nL 19.671875 8.296875 \r\nL 55.171875 8.296875 \r\nL 55.171875 0 \r\nL 9.8125 0 \r\nz\r\n\" id=\"DejaVuSans-76\"/>\r\n       <path d=\"M 45.40625 27.984375 \r\nQ 45.40625 37.75 41.375 43.109375 \r\nQ 37.359375 48.484375 30.078125 48.484375 \r\nQ 22.859375 48.484375 18.828125 43.109375 \r\nQ 14.796875 37.75 14.796875 27.984375 \r\nQ 14.796875 18.265625 18.828125 12.890625 \r\nQ 22.859375 7.515625 30.078125 7.515625 \r\nQ 37.359375 7.515625 41.375 12.890625 \r\nQ 45.40625 18.265625 45.40625 27.984375 \r\nz\r\nM 54.390625 6.78125 \r\nQ 54.390625 -7.171875 48.1875 -13.984375 \r\nQ 42 -20.796875 29.203125 -20.796875 \r\nQ 24.46875 -20.796875 20.265625 -20.09375 \r\nQ 16.0625 -19.390625 12.109375 -17.921875 \r\nL 12.109375 -9.1875 \r\nQ 16.0625 -11.328125 19.921875 -12.34375 \r\nQ 23.78125 -13.375 27.78125 -13.375 \r\nQ 36.625 -13.375 41.015625 -8.765625 \r\nQ 45.40625 -4.15625 45.40625 5.171875 \r\nL 45.40625 9.625 \r\nQ 42.625 4.78125 38.28125 2.390625 \r\nQ 33.9375 0 27.875 0 \r\nQ 17.828125 0 11.671875 7.65625 \r\nQ 5.515625 15.328125 5.515625 27.984375 \r\nQ 5.515625 40.671875 11.671875 48.328125 \r\nQ 17.828125 56 27.875 56 \r\nQ 33.9375 56 38.28125 53.609375 \r\nQ 42.625 51.21875 45.40625 46.390625 \r\nL 45.40625 54.6875 \r\nL 54.390625 54.6875 \r\nz\r\n\" id=\"DejaVuSans-103\"/>\r\n       <path d=\"M 18.3125 70.21875 \r\nL 18.3125 54.6875 \r\nL 36.8125 54.6875 \r\nL 36.8125 47.703125 \r\nL 18.3125 47.703125 \r\nL 18.3125 18.015625 \r\nQ 18.3125 11.328125 20.140625 9.421875 \r\nQ 21.96875 7.515625 27.59375 7.515625 \r\nL 36.8125 7.515625 \r\nL 36.8125 0 \r\nL 27.59375 0 \r\nQ 17.1875 0 13.234375 3.875 \r\nQ 9.28125 7.765625 9.28125 18.015625 \r\nL 9.28125 47.703125 \r\nL 2.6875 47.703125 \r\nL 2.6875 54.6875 \r\nL 9.28125 54.6875 \r\nL 9.28125 70.21875 \r\nz\r\n\" id=\"DejaVuSans-116\"/>\r\n       <path d=\"M 31 75.875 \r\nQ 24.46875 64.65625 21.28125 53.65625 \r\nQ 18.109375 42.671875 18.109375 31.390625 \r\nQ 18.109375 20.125 21.3125 9.0625 \r\nQ 24.515625 -2 31 -13.1875 \r\nL 23.1875 -13.1875 \r\nQ 15.875 -1.703125 12.234375 9.375 \r\nQ 8.59375 20.453125 8.59375 31.390625 \r\nQ 8.59375 42.28125 12.203125 53.3125 \r\nQ 15.828125 64.359375 23.1875 75.875 \r\nz\r\n\" id=\"DejaVuSans-40\"/>\r\n       <path d=\"M 8.015625 75.875 \r\nL 15.828125 75.875 \r\nQ 23.140625 64.359375 26.78125 53.3125 \r\nQ 30.421875 42.28125 30.421875 31.390625 \r\nQ 30.421875 20.453125 26.78125 9.375 \r\nQ 23.140625 -1.703125 15.828125 -13.1875 \r\nL 8.015625 -13.1875 \r\nQ 14.5 -2 17.703125 9.0625 \r\nQ 20.90625 20.125 20.90625 31.390625 \r\nQ 20.90625 42.671875 17.703125 53.65625 \r\nQ 14.5 64.65625 8.015625 75.875 \r\nz\r\n\" id=\"DejaVuSans-41\"/>\r\n      </defs>\r\n      <use xlink:href=\"#DejaVuSans-76\"/>\r\n      <use x=\"53.962891\" xlink:href=\"#DejaVuSans-111\"/>\r\n      <use x=\"115.144531\" xlink:href=\"#DejaVuSans-103\"/>\r\n      <use x=\"178.621094\" xlink:href=\"#DejaVuSans-105\"/>\r\n      <use x=\"206.404297\" xlink:href=\"#DejaVuSans-115\"/>\r\n      <use x=\"258.503906\" xlink:href=\"#DejaVuSans-116\"/>\r\n      <use x=\"297.712891\" xlink:href=\"#DejaVuSans-105\"/>\r\n      <use x=\"325.496094\" xlink:href=\"#DejaVuSans-99\"/>\r\n      <use x=\"380.476562\" xlink:href=\"#DejaVuSans-82\"/>\r\n      <use x=\"445.458984\" xlink:href=\"#DejaVuSans-101\"/>\r\n      <use x=\"506.982422\" xlink:href=\"#DejaVuSans-103\"/>\r\n      <use x=\"570.458984\" xlink:href=\"#DejaVuSans-114\"/>\r\n      <use x=\"609.322266\" xlink:href=\"#DejaVuSans-101\"/>\r\n      <use x=\"670.845703\" xlink:href=\"#DejaVuSans-115\"/>\r\n      <use x=\"722.945312\" xlink:href=\"#DejaVuSans-115\"/>\r\n      <use x=\"775.044922\" xlink:href=\"#DejaVuSans-105\"/>\r\n      <use x=\"802.828125\" xlink:href=\"#DejaVuSans-111\"/>\r\n      <use x=\"864.009766\" xlink:href=\"#DejaVuSans-110\"/>\r\n      <use x=\"927.388672\" xlink:href=\"#DejaVuSans-32\"/>\r\n      <use x=\"959.175781\" xlink:href=\"#DejaVuSans-40\"/>\r\n      <use x=\"998.189453\" xlink:href=\"#DejaVuSans-65\"/>\r\n      <use x=\"1066.597656\" xlink:href=\"#DejaVuSans-80\"/>\r\n      <use x=\"1126.900391\" xlink:href=\"#DejaVuSans-32\"/>\r\n      <use x=\"1158.6875\" xlink:href=\"#DejaVuSans-61\"/>\r\n      <use x=\"1242.476562\" xlink:href=\"#DejaVuSans-32\"/>\r\n      <use x=\"1274.263672\" xlink:href=\"#DejaVuSans-48\"/>\r\n      <use x=\"1337.886719\" xlink:href=\"#DejaVuSans-46\"/>\r\n      <use x=\"1369.673828\" xlink:href=\"#DejaVuSans-54\"/>\r\n      <use x=\"1433.296875\" xlink:href=\"#DejaVuSans-50\"/>\r\n      <use x=\"1496.919922\" xlink:href=\"#DejaVuSans-41\"/>\r\n     </g>\r\n    </g>\r\n   </g>\r\n  </g>\r\n </g>\r\n <defs>\r\n  <clipPath id=\"p4a9271e98b\">\r\n   <rect height=\"217.44\" width=\"334.8\" x=\"43.78125\" y=\"35.7555\"/>\r\n  </clipPath>\r\n </defs>\r\n</svg>\r\n",
      "image/png": "[encoded data removed]"
     },
     "metadata": {
      "needs_background": "light"
     }
    }
   ],
   "source": [
    "disp = plot_precision_recall_curve(modelo, X_test, y_test)\n",
    "disp.ax_.set_title(f'2-class Precision-Recall curve: \\n AP={average_precision:0.2f}')"
   ]
  },
  {
   "cell_type": "code",
   "execution_count": 52,
   "metadata": {},
   "outputs": [
    {
     "output_type": "display_data",
     "data": {
      "text/plain": "<Figure size 432x288 with 1 Axes>",
      "image/svg+xml": "<?xml version=\"1.0\" encoding=\"utf-8\" standalone=\"no\"?>\r\n<!DOCTYPE svg PUBLIC \"-//W3C//DTD SVG 1.1//EN\"\r\n  \"http://www.w3.org/Graphics/SVG/1.1/DTD/svg11.dtd\">\r\n<!-- Created with matplotlib (https://matplotlib.org/) -->\r\n<svg height=\"277.314375pt\" version=\"1.1\" viewBox=\"0 0 393.732813 277.314375\" width=\"393.732813pt\" xmlns=\"http://www.w3.org/2000/svg\" xmlns:xlink=\"http://www.w3.org/1999/xlink\">\r\n <metadata>\r\n  <rdf:RDF xmlns:cc=\"http://creativecommons.org/ns#\" xmlns:dc=\"http://purl.org/dc/elements/1.1/\" xmlns:rdf=\"http://www.w3.org/1999/02/22-rdf-syntax-ns#\">\r\n   <cc:Work>\r\n    <dc:type rdf:resource=\"http://purl.org/dc/dcmitype/StillImage\"/>\r\n    <dc:date>2021-02-08T13:50:51.260652</dc:date>\r\n    <dc:format>image/svg+xml</dc:format>\r\n    <dc:creator>\r\n     <cc:Agent>\r\n      <dc:title>Matplotlib v3.3.2, https://matplotlib.org/</dc:title>\r\n     </cc:Agent>\r\n    </dc:creator>\r\n   </cc:Work>\r\n  </rdf:RDF>\r\n </metadata>\r\n <defs>\r\n  <style type=\"text/css\">*{stroke-linecap:butt;stroke-linejoin:round;}</style>\r\n </defs>\r\n <g id=\"figure_1\">\r\n  <g id=\"patch_1\">\r\n   <path d=\"M 0 277.314375 \r\nL 393.732813 277.314375 \r\nL 393.732813 0 \r\nL 0 0 \r\nz\r\n\" style=\"fill:none;\"/>\r\n  </g>\r\n  <g id=\"axes_1\">\r\n   <g id=\"patch_2\">\r\n    <path d=\"M 43.78125 239.758125 \r\nL 378.58125 239.758125 \r\nL 378.58125 22.318125 \r\nL 43.78125 22.318125 \r\nz\r\n\" style=\"fill:#ffffff;\"/>\r\n   </g>\r\n   <g id=\"matplotlib.axis_1\">\r\n    <g id=\"xtick_1\">\r\n     <g id=\"line2d_1\">\r\n      <defs>\r\n       <path d=\"M 0 0 \r\nL 0 3.5 \r\n\" id=\"m8c47d0e0fc\" style=\"stroke:#000000;stroke-width:0.8;\"/>\r\n      </defs>\r\n      <g>\r\n       <use style=\"stroke:#000000;stroke-width:0.8;\" x=\"43.78125\" xlink:href=\"#m8c47d0e0fc\" y=\"239.758125\"/>\r\n      </g>\r\n     </g>\r\n     <g id=\"text_1\">\r\n      <!-- 0.0 -->\r\n      <g transform=\"translate(35.829688 254.356562)scale(0.1 -0.1)\">\r\n       <defs>\r\n        <path d=\"M 31.78125 66.40625 \r\nQ 24.171875 66.40625 20.328125 58.90625 \r\nQ 16.5 51.421875 16.5 36.375 \r\nQ 16.5 21.390625 20.328125 13.890625 \r\nQ 24.171875 6.390625 31.78125 6.390625 \r\nQ 39.453125 6.390625 43.28125 13.890625 \r\nQ 47.125 21.390625 47.125 36.375 \r\nQ 47.125 51.421875 43.28125 58.90625 \r\nQ 39.453125 66.40625 31.78125 66.40625 \r\nz\r\nM 31.78125 74.21875 \r\nQ 44.046875 74.21875 50.515625 64.515625 \r\nQ 56.984375 54.828125 56.984375 36.375 \r\nQ 56.984375 17.96875 50.515625 8.265625 \r\nQ 44.046875 -1.421875 31.78125 -1.421875 \r\nQ 19.53125 -1.421875 13.0625 8.265625 \r\nQ 6.59375 17.96875 6.59375 36.375 \r\nQ 6.59375 54.828125 13.0625 64.515625 \r\nQ 19.53125 74.21875 31.78125 74.21875 \r\nz\r\n\" id=\"DejaVuSans-48\"/>\r\n        <path d=\"M 10.6875 12.40625 \r\nL 21 12.40625 \r\nL 21 0 \r\nL 10.6875 0 \r\nz\r\n\" id=\"DejaVuSans-46\"/>\r\n       </defs>\r\n       <use xlink:href=\"#DejaVuSans-48\"/>\r\n       <use x=\"63.623047\" xlink:href=\"#DejaVuSans-46\"/>\r\n       <use x=\"95.410156\" xlink:href=\"#DejaVuSans-48\"/>\r\n      </g>\r\n     </g>\r\n    </g>\r\n    <g id=\"xtick_2\">\r\n     <g id=\"line2d_2\">\r\n      <g>\r\n       <use style=\"stroke:#000000;stroke-width:0.8;\" x=\"110.74125\" xlink:href=\"#m8c47d0e0fc\" y=\"239.758125\"/>\r\n      </g>\r\n     </g>\r\n     <g id=\"text_2\">\r\n      <!-- 0.2 -->\r\n      <g transform=\"translate(102.789688 254.356562)scale(0.1 -0.1)\">\r\n       <defs>\r\n        <path d=\"M 19.1875 8.296875 \r\nL 53.609375 8.296875 \r\nL 53.609375 0 \r\nL 7.328125 0 \r\nL 7.328125 8.296875 \r\nQ 12.9375 14.109375 22.625 23.890625 \r\nQ 32.328125 33.6875 34.8125 36.53125 \r\nQ 39.546875 41.84375 41.421875 45.53125 \r\nQ 43.3125 49.21875 43.3125 52.78125 \r\nQ 43.3125 58.59375 39.234375 62.25 \r\nQ 35.15625 65.921875 28.609375 65.921875 \r\nQ 23.96875 65.921875 18.8125 64.3125 \r\nQ 13.671875 62.703125 7.8125 59.421875 \r\nL 7.8125 69.390625 \r\nQ 13.765625 71.78125 18.9375 73 \r\nQ 24.125 74.21875 28.421875 74.21875 \r\nQ 39.75 74.21875 46.484375 68.546875 \r\nQ 53.21875 62.890625 53.21875 53.421875 \r\nQ 53.21875 48.921875 51.53125 44.890625 \r\nQ 49.859375 40.875 45.40625 35.40625 \r\nQ 44.1875 33.984375 37.640625 27.21875 \r\nQ 31.109375 20.453125 19.1875 8.296875 \r\nz\r\n\" id=\"DejaVuSans-50\"/>\r\n       </defs>\r\n       <use xlink:href=\"#DejaVuSans-48\"/>\r\n       <use x=\"63.623047\" xlink:href=\"#DejaVuSans-46\"/>\r\n       <use x=\"95.410156\" xlink:href=\"#DejaVuSans-50\"/>\r\n      </g>\r\n     </g>\r\n    </g>\r\n    <g id=\"xtick_3\">\r\n     <g id=\"line2d_3\">\r\n      <g>\r\n       <use style=\"stroke:#000000;stroke-width:0.8;\" x=\"177.70125\" xlink:href=\"#m8c47d0e0fc\" y=\"239.758125\"/>\r\n      </g>\r\n     </g>\r\n     <g id=\"text_3\">\r\n      <!-- 0.4 -->\r\n      <g transform=\"translate(169.749688 254.356562)scale(0.1 -0.1)\">\r\n       <defs>\r\n        <path d=\"M 37.796875 64.3125 \r\nL 12.890625 25.390625 \r\nL 37.796875 25.390625 \r\nz\r\nM 35.203125 72.90625 \r\nL 47.609375 72.90625 \r\nL 47.609375 25.390625 \r\nL 58.015625 25.390625 \r\nL 58.015625 17.1875 \r\nL 47.609375 17.1875 \r\nL 47.609375 0 \r\nL 37.796875 0 \r\nL 37.796875 17.1875 \r\nL 4.890625 17.1875 \r\nL 4.890625 26.703125 \r\nz\r\n\" id=\"DejaVuSans-52\"/>\r\n       </defs>\r\n       <use xlink:href=\"#DejaVuSans-48\"/>\r\n       <use x=\"63.623047\" xlink:href=\"#DejaVuSans-46\"/>\r\n       <use x=\"95.410156\" xlink:href=\"#DejaVuSans-52\"/>\r\n      </g>\r\n     </g>\r\n    </g>\r\n    <g id=\"xtick_4\">\r\n     <g id=\"line2d_4\">\r\n      <g>\r\n       <use style=\"stroke:#000000;stroke-width:0.8;\" x=\"244.66125\" xlink:href=\"#m8c47d0e0fc\" y=\"239.758125\"/>\r\n      </g>\r\n     </g>\r\n     <g id=\"text_4\">\r\n      <!-- 0.6 -->\r\n      <g transform=\"translate(236.709688 254.356562)scale(0.1 -0.1)\">\r\n       <defs>\r\n        <path d=\"M 33.015625 40.375 \r\nQ 26.375 40.375 22.484375 35.828125 \r\nQ 18.609375 31.296875 18.609375 23.390625 \r\nQ 18.609375 15.53125 22.484375 10.953125 \r\nQ 26.375 6.390625 33.015625 6.390625 \r\nQ 39.65625 6.390625 43.53125 10.953125 \r\nQ 47.40625 15.53125 47.40625 23.390625 \r\nQ 47.40625 31.296875 43.53125 35.828125 \r\nQ 39.65625 40.375 33.015625 40.375 \r\nz\r\nM 52.59375 71.296875 \r\nL 52.59375 62.3125 \r\nQ 48.875 64.0625 45.09375 64.984375 \r\nQ 41.3125 65.921875 37.59375 65.921875 \r\nQ 27.828125 65.921875 22.671875 59.328125 \r\nQ 17.53125 52.734375 16.796875 39.40625 \r\nQ 19.671875 43.65625 24.015625 45.921875 \r\nQ 28.375 48.1875 33.59375 48.1875 \r\nQ 44.578125 48.1875 50.953125 41.515625 \r\nQ 57.328125 34.859375 57.328125 23.390625 \r\nQ 57.328125 12.15625 50.6875 5.359375 \r\nQ 44.046875 -1.421875 33.015625 -1.421875 \r\nQ 20.359375 -1.421875 13.671875 8.265625 \r\nQ 6.984375 17.96875 6.984375 36.375 \r\nQ 6.984375 53.65625 15.1875 63.9375 \r\nQ 23.390625 74.21875 37.203125 74.21875 \r\nQ 40.921875 74.21875 44.703125 73.484375 \r\nQ 48.484375 72.75 52.59375 71.296875 \r\nz\r\n\" id=\"DejaVuSans-54\"/>\r\n       </defs>\r\n       <use xlink:href=\"#DejaVuSans-48\"/>\r\n       <use x=\"63.623047\" xlink:href=\"#DejaVuSans-46\"/>\r\n       <use x=\"95.410156\" xlink:href=\"#DejaVuSans-54\"/>\r\n      </g>\r\n     </g>\r\n    </g>\r\n    <g id=\"xtick_5\">\r\n     <g id=\"line2d_5\">\r\n      <g>\r\n       <use style=\"stroke:#000000;stroke-width:0.8;\" x=\"311.62125\" xlink:href=\"#m8c47d0e0fc\" y=\"239.758125\"/>\r\n      </g>\r\n     </g>\r\n     <g id=\"text_5\">\r\n      <!-- 0.8 -->\r\n      <g transform=\"translate(303.669688 254.356562)scale(0.1 -0.1)\">\r\n       <defs>\r\n        <path d=\"M 31.78125 34.625 \r\nQ 24.75 34.625 20.71875 30.859375 \r\nQ 16.703125 27.09375 16.703125 20.515625 \r\nQ 16.703125 13.921875 20.71875 10.15625 \r\nQ 24.75 6.390625 31.78125 6.390625 \r\nQ 38.8125 6.390625 42.859375 10.171875 \r\nQ 46.921875 13.96875 46.921875 20.515625 \r\nQ 46.921875 27.09375 42.890625 30.859375 \r\nQ 38.875 34.625 31.78125 34.625 \r\nz\r\nM 21.921875 38.8125 \r\nQ 15.578125 40.375 12.03125 44.71875 \r\nQ 8.5 49.078125 8.5 55.328125 \r\nQ 8.5 64.0625 14.71875 69.140625 \r\nQ 20.953125 74.21875 31.78125 74.21875 \r\nQ 42.671875 74.21875 48.875 69.140625 \r\nQ 55.078125 64.0625 55.078125 55.328125 \r\nQ 55.078125 49.078125 51.53125 44.71875 \r\nQ 48 40.375 41.703125 38.8125 \r\nQ 48.828125 37.15625 52.796875 32.3125 \r\nQ 56.78125 27.484375 56.78125 20.515625 \r\nQ 56.78125 9.90625 50.3125 4.234375 \r\nQ 43.84375 -1.421875 31.78125 -1.421875 \r\nQ 19.734375 -1.421875 13.25 4.234375 \r\nQ 6.78125 9.90625 6.78125 20.515625 \r\nQ 6.78125 27.484375 10.78125 32.3125 \r\nQ 14.796875 37.15625 21.921875 38.8125 \r\nz\r\nM 18.3125 54.390625 \r\nQ 18.3125 48.734375 21.84375 45.5625 \r\nQ 25.390625 42.390625 31.78125 42.390625 \r\nQ 38.140625 42.390625 41.71875 45.5625 \r\nQ 45.3125 48.734375 45.3125 54.390625 \r\nQ 45.3125 60.0625 41.71875 63.234375 \r\nQ 38.140625 66.40625 31.78125 66.40625 \r\nQ 25.390625 66.40625 21.84375 63.234375 \r\nQ 18.3125 60.0625 18.3125 54.390625 \r\nz\r\n\" id=\"DejaVuSans-56\"/>\r\n       </defs>\r\n       <use xlink:href=\"#DejaVuSans-48\"/>\r\n       <use x=\"63.623047\" xlink:href=\"#DejaVuSans-46\"/>\r\n       <use x=\"95.410156\" xlink:href=\"#DejaVuSans-56\"/>\r\n      </g>\r\n     </g>\r\n    </g>\r\n    <g id=\"xtick_6\">\r\n     <g id=\"line2d_6\">\r\n      <g>\r\n       <use style=\"stroke:#000000;stroke-width:0.8;\" x=\"378.58125\" xlink:href=\"#m8c47d0e0fc\" y=\"239.758125\"/>\r\n      </g>\r\n     </g>\r\n     <g id=\"text_6\">\r\n      <!-- 1.0 -->\r\n      <g transform=\"translate(370.629687 254.356562)scale(0.1 -0.1)\">\r\n       <defs>\r\n        <path d=\"M 12.40625 8.296875 \r\nL 28.515625 8.296875 \r\nL 28.515625 63.921875 \r\nL 10.984375 60.40625 \r\nL 10.984375 69.390625 \r\nL 28.421875 72.90625 \r\nL 38.28125 72.90625 \r\nL 38.28125 8.296875 \r\nL 54.390625 8.296875 \r\nL 54.390625 0 \r\nL 12.40625 0 \r\nz\r\n\" id=\"DejaVuSans-49\"/>\r\n       </defs>\r\n       <use xlink:href=\"#DejaVuSans-49\"/>\r\n       <use x=\"63.623047\" xlink:href=\"#DejaVuSans-46\"/>\r\n       <use x=\"95.410156\" xlink:href=\"#DejaVuSans-48\"/>\r\n      </g>\r\n     </g>\r\n    </g>\r\n    <g id=\"text_7\">\r\n     <!-- False Positive Rate -->\r\n     <g transform=\"translate(164.714844 268.034687)scale(0.1 -0.1)\">\r\n      <defs>\r\n       <path d=\"M 9.8125 72.90625 \r\nL 51.703125 72.90625 \r\nL 51.703125 64.59375 \r\nL 19.671875 64.59375 \r\nL 19.671875 43.109375 \r\nL 48.578125 43.109375 \r\nL 48.578125 34.8125 \r\nL 19.671875 34.8125 \r\nL 19.671875 0 \r\nL 9.8125 0 \r\nz\r\n\" id=\"DejaVuSans-70\"/>\r\n       <path d=\"M 34.28125 27.484375 \r\nQ 23.390625 27.484375 19.1875 25 \r\nQ 14.984375 22.515625 14.984375 16.5 \r\nQ 14.984375 11.71875 18.140625 8.90625 \r\nQ 21.296875 6.109375 26.703125 6.109375 \r\nQ 34.1875 6.109375 38.703125 11.40625 \r\nQ 43.21875 16.703125 43.21875 25.484375 \r\nL 43.21875 27.484375 \r\nz\r\nM 52.203125 31.203125 \r\nL 52.203125 0 \r\nL 43.21875 0 \r\nL 43.21875 8.296875 \r\nQ 40.140625 3.328125 35.546875 0.953125 \r\nQ 30.953125 -1.421875 24.3125 -1.421875 \r\nQ 15.921875 -1.421875 10.953125 3.296875 \r\nQ 6 8.015625 6 15.921875 \r\nQ 6 25.140625 12.171875 29.828125 \r\nQ 18.359375 34.515625 30.609375 34.515625 \r\nL 43.21875 34.515625 \r\nL 43.21875 35.40625 \r\nQ 43.21875 41.609375 39.140625 45 \r\nQ 35.0625 48.390625 27.6875 48.390625 \r\nQ 23 48.390625 18.546875 47.265625 \r\nQ 14.109375 46.140625 10.015625 43.890625 \r\nL 10.015625 52.203125 \r\nQ 14.9375 54.109375 19.578125 55.046875 \r\nQ 24.21875 56 28.609375 56 \r\nQ 40.484375 56 46.34375 49.84375 \r\nQ 52.203125 43.703125 52.203125 31.203125 \r\nz\r\n\" id=\"DejaVuSans-97\"/>\r\n       <path d=\"M 9.421875 75.984375 \r\nL 18.40625 75.984375 \r\nL 18.40625 0 \r\nL 9.421875 0 \r\nz\r\n\" id=\"DejaVuSans-108\"/>\r\n       <path d=\"M 44.28125 53.078125 \r\nL 44.28125 44.578125 \r\nQ 40.484375 46.53125 36.375 47.5 \r\nQ 32.28125 48.484375 27.875 48.484375 \r\nQ 21.1875 48.484375 17.84375 46.4375 \r\nQ 14.5 44.390625 14.5 40.28125 \r\nQ 14.5 37.15625 16.890625 35.375 \r\nQ 19.28125 33.59375 26.515625 31.984375 \r\nL 29.59375 31.296875 \r\nQ 39.15625 29.25 43.1875 25.515625 \r\nQ 47.21875 21.78125 47.21875 15.09375 \r\nQ 47.21875 7.46875 41.1875 3.015625 \r\nQ 35.15625 -1.421875 24.609375 -1.421875 \r\nQ 20.21875 -1.421875 15.453125 -0.5625 \r\nQ 10.6875 0.296875 5.421875 2 \r\nL 5.421875 11.28125 \r\nQ 10.40625 8.6875 15.234375 7.390625 \r\nQ 20.0625 6.109375 24.8125 6.109375 \r\nQ 31.15625 6.109375 34.5625 8.28125 \r\nQ 37.984375 10.453125 37.984375 14.40625 \r\nQ 37.984375 18.0625 35.515625 20.015625 \r\nQ 33.0625 21.96875 24.703125 23.78125 \r\nL 21.578125 24.515625 \r\nQ 13.234375 26.265625 9.515625 29.90625 \r\nQ 5.8125 33.546875 5.8125 39.890625 \r\nQ 5.8125 47.609375 11.28125 51.796875 \r\nQ 16.75 56 26.8125 56 \r\nQ 31.78125 56 36.171875 55.265625 \r\nQ 40.578125 54.546875 44.28125 53.078125 \r\nz\r\n\" id=\"DejaVuSans-115\"/>\r\n       <path d=\"M 56.203125 29.59375 \r\nL 56.203125 25.203125 \r\nL 14.890625 25.203125 \r\nQ 15.484375 15.921875 20.484375 11.0625 \r\nQ 25.484375 6.203125 34.421875 6.203125 \r\nQ 39.59375 6.203125 44.453125 7.46875 \r\nQ 49.3125 8.734375 54.109375 11.28125 \r\nL 54.109375 2.78125 \r\nQ 49.265625 0.734375 44.1875 -0.34375 \r\nQ 39.109375 -1.421875 33.890625 -1.421875 \r\nQ 20.796875 -1.421875 13.15625 6.1875 \r\nQ 5.515625 13.8125 5.515625 26.8125 \r\nQ 5.515625 40.234375 12.765625 48.109375 \r\nQ 20.015625 56 32.328125 56 \r\nQ 43.359375 56 49.78125 48.890625 \r\nQ 56.203125 41.796875 56.203125 29.59375 \r\nz\r\nM 47.21875 32.234375 \r\nQ 47.125 39.59375 43.09375 43.984375 \r\nQ 39.0625 48.390625 32.421875 48.390625 \r\nQ 24.90625 48.390625 20.390625 44.140625 \r\nQ 15.875 39.890625 15.1875 32.171875 \r\nz\r\n\" id=\"DejaVuSans-101\"/>\r\n       <path id=\"DejaVuSans-32\"/>\r\n       <path d=\"M 19.671875 64.796875 \r\nL 19.671875 37.40625 \r\nL 32.078125 37.40625 \r\nQ 38.96875 37.40625 42.71875 40.96875 \r\nQ 46.484375 44.53125 46.484375 51.125 \r\nQ 46.484375 57.671875 42.71875 61.234375 \r\nQ 38.96875 64.796875 32.078125 64.796875 \r\nz\r\nM 9.8125 72.90625 \r\nL 32.078125 72.90625 \r\nQ 44.34375 72.90625 50.609375 67.359375 \r\nQ 56.890625 61.8125 56.890625 51.125 \r\nQ 56.890625 40.328125 50.609375 34.8125 \r\nQ 44.34375 29.296875 32.078125 29.296875 \r\nL 19.671875 29.296875 \r\nL 19.671875 0 \r\nL 9.8125 0 \r\nz\r\n\" id=\"DejaVuSans-80\"/>\r\n       <path d=\"M 30.609375 48.390625 \r\nQ 23.390625 48.390625 19.1875 42.75 \r\nQ 14.984375 37.109375 14.984375 27.296875 \r\nQ 14.984375 17.484375 19.15625 11.84375 \r\nQ 23.34375 6.203125 30.609375 6.203125 \r\nQ 37.796875 6.203125 41.984375 11.859375 \r\nQ 46.1875 17.53125 46.1875 27.296875 \r\nQ 46.1875 37.015625 41.984375 42.703125 \r\nQ 37.796875 48.390625 30.609375 48.390625 \r\nz\r\nM 30.609375 56 \r\nQ 42.328125 56 49.015625 48.375 \r\nQ 55.71875 40.765625 55.71875 27.296875 \r\nQ 55.71875 13.875 49.015625 6.21875 \r\nQ 42.328125 -1.421875 30.609375 -1.421875 \r\nQ 18.84375 -1.421875 12.171875 6.21875 \r\nQ 5.515625 13.875 5.515625 27.296875 \r\nQ 5.515625 40.765625 12.171875 48.375 \r\nQ 18.84375 56 30.609375 56 \r\nz\r\n\" id=\"DejaVuSans-111\"/>\r\n       <path d=\"M 9.421875 54.6875 \r\nL 18.40625 54.6875 \r\nL 18.40625 0 \r\nL 9.421875 0 \r\nz\r\nM 9.421875 75.984375 \r\nL 18.40625 75.984375 \r\nL 18.40625 64.59375 \r\nL 9.421875 64.59375 \r\nz\r\n\" id=\"DejaVuSans-105\"/>\r\n       <path d=\"M 18.3125 70.21875 \r\nL 18.3125 54.6875 \r\nL 36.8125 54.6875 \r\nL 36.8125 47.703125 \r\nL 18.3125 47.703125 \r\nL 18.3125 18.015625 \r\nQ 18.3125 11.328125 20.140625 9.421875 \r\nQ 21.96875 7.515625 27.59375 7.515625 \r\nL 36.8125 7.515625 \r\nL 36.8125 0 \r\nL 27.59375 0 \r\nQ 17.1875 0 13.234375 3.875 \r\nQ 9.28125 7.765625 9.28125 18.015625 \r\nL 9.28125 47.703125 \r\nL 2.6875 47.703125 \r\nL 2.6875 54.6875 \r\nL 9.28125 54.6875 \r\nL 9.28125 70.21875 \r\nz\r\n\" id=\"DejaVuSans-116\"/>\r\n       <path d=\"M 2.984375 54.6875 \r\nL 12.5 54.6875 \r\nL 29.59375 8.796875 \r\nL 46.6875 54.6875 \r\nL 56.203125 54.6875 \r\nL 35.6875 0 \r\nL 23.484375 0 \r\nz\r\n\" id=\"DejaVuSans-118\"/>\r\n       <path d=\"M 44.390625 34.1875 \r\nQ 47.5625 33.109375 50.5625 29.59375 \r\nQ 53.5625 26.078125 56.59375 19.921875 \r\nL 66.609375 0 \r\nL 56 0 \r\nL 46.6875 18.703125 \r\nQ 43.0625 26.03125 39.671875 28.421875 \r\nQ 36.28125 30.8125 30.421875 30.8125 \r\nL 19.671875 30.8125 \r\nL 19.671875 0 \r\nL 9.8125 0 \r\nL 9.8125 72.90625 \r\nL 32.078125 72.90625 \r\nQ 44.578125 72.90625 50.734375 67.671875 \r\nQ 56.890625 62.453125 56.890625 51.90625 \r\nQ 56.890625 45.015625 53.6875 40.46875 \r\nQ 50.484375 35.9375 44.390625 34.1875 \r\nz\r\nM 19.671875 64.796875 \r\nL 19.671875 38.921875 \r\nL 32.078125 38.921875 \r\nQ 39.203125 38.921875 42.84375 42.21875 \r\nQ 46.484375 45.515625 46.484375 51.90625 \r\nQ 46.484375 58.296875 42.84375 61.546875 \r\nQ 39.203125 64.796875 32.078125 64.796875 \r\nz\r\n\" id=\"DejaVuSans-82\"/>\r\n      </defs>\r\n      <use xlink:href=\"#DejaVuSans-70\"/>\r\n      <use x=\"48.394531\" xlink:href=\"#DejaVuSans-97\"/>\r\n      <use x=\"109.673828\" xlink:href=\"#DejaVuSans-108\"/>\r\n      <use x=\"137.457031\" xlink:href=\"#DejaVuSans-115\"/>\r\n      <use x=\"189.556641\" xlink:href=\"#DejaVuSans-101\"/>\r\n      <use x=\"251.080078\" xlink:href=\"#DejaVuSans-32\"/>\r\n      <use x=\"282.867188\" xlink:href=\"#DejaVuSans-80\"/>\r\n      <use x=\"339.544922\" xlink:href=\"#DejaVuSans-111\"/>\r\n      <use x=\"400.726562\" xlink:href=\"#DejaVuSans-115\"/>\r\n      <use x=\"452.826172\" xlink:href=\"#DejaVuSans-105\"/>\r\n      <use x=\"480.609375\" xlink:href=\"#DejaVuSans-116\"/>\r\n      <use x=\"519.818359\" xlink:href=\"#DejaVuSans-105\"/>\r\n      <use x=\"547.601562\" xlink:href=\"#DejaVuSans-118\"/>\r\n      <use x=\"606.78125\" xlink:href=\"#DejaVuSans-101\"/>\r\n      <use x=\"668.304688\" xlink:href=\"#DejaVuSans-32\"/>\r\n      <use x=\"700.091797\" xlink:href=\"#DejaVuSans-82\"/>\r\n      <use x=\"767.324219\" xlink:href=\"#DejaVuSans-97\"/>\r\n      <use x=\"828.603516\" xlink:href=\"#DejaVuSans-116\"/>\r\n      <use x=\"867.8125\" xlink:href=\"#DejaVuSans-101\"/>\r\n     </g>\r\n    </g>\r\n   </g>\r\n   <g id=\"matplotlib.axis_2\">\r\n    <g id=\"ytick_1\">\r\n     <g id=\"line2d_7\">\r\n      <defs>\r\n       <path d=\"M 0 0 \r\nL -3.5 0 \r\n\" id=\"m8287e85540\" style=\"stroke:#000000;stroke-width:0.8;\"/>\r\n      </defs>\r\n      <g>\r\n       <use style=\"stroke:#000000;stroke-width:0.8;\" x=\"43.78125\" xlink:href=\"#m8287e85540\" y=\"239.758125\"/>\r\n      </g>\r\n     </g>\r\n     <g id=\"text_8\">\r\n      <!-- 0.0 -->\r\n      <g transform=\"translate(20.878125 243.557344)scale(0.1 -0.1)\">\r\n       <use xlink:href=\"#DejaVuSans-48\"/>\r\n       <use x=\"63.623047\" xlink:href=\"#DejaVuSans-46\"/>\r\n       <use x=\"95.410156\" xlink:href=\"#DejaVuSans-48\"/>\r\n      </g>\r\n     </g>\r\n    </g>\r\n    <g id=\"ytick_2\">\r\n     <g id=\"line2d_8\">\r\n      <g>\r\n       <use style=\"stroke:#000000;stroke-width:0.8;\" x=\"43.78125\" xlink:href=\"#m8287e85540\" y=\"198.340982\"/>\r\n      </g>\r\n     </g>\r\n     <g id=\"text_9\">\r\n      <!-- 0.2 -->\r\n      <g transform=\"translate(20.878125 202.140201)scale(0.1 -0.1)\">\r\n       <use xlink:href=\"#DejaVuSans-48\"/>\r\n       <use x=\"63.623047\" xlink:href=\"#DejaVuSans-46\"/>\r\n       <use x=\"95.410156\" xlink:href=\"#DejaVuSans-50\"/>\r\n      </g>\r\n     </g>\r\n    </g>\r\n    <g id=\"ytick_3\">\r\n     <g id=\"line2d_9\">\r\n      <g>\r\n       <use style=\"stroke:#000000;stroke-width:0.8;\" x=\"43.78125\" xlink:href=\"#m8287e85540\" y=\"156.923839\"/>\r\n      </g>\r\n     </g>\r\n     <g id=\"text_10\">\r\n      <!-- 0.4 -->\r\n      <g transform=\"translate(20.878125 160.723058)scale(0.1 -0.1)\">\r\n       <use xlink:href=\"#DejaVuSans-48\"/>\r\n       <use x=\"63.623047\" xlink:href=\"#DejaVuSans-46\"/>\r\n       <use x=\"95.410156\" xlink:href=\"#DejaVuSans-52\"/>\r\n      </g>\r\n     </g>\r\n    </g>\r\n    <g id=\"ytick_4\">\r\n     <g id=\"line2d_10\">\r\n      <g>\r\n       <use style=\"stroke:#000000;stroke-width:0.8;\" x=\"43.78125\" xlink:href=\"#m8287e85540\" y=\"115.506696\"/>\r\n      </g>\r\n     </g>\r\n     <g id=\"text_11\">\r\n      <!-- 0.6 -->\r\n      <g transform=\"translate(20.878125 119.305915)scale(0.1 -0.1)\">\r\n       <use xlink:href=\"#DejaVuSans-48\"/>\r\n       <use x=\"63.623047\" xlink:href=\"#DejaVuSans-46\"/>\r\n       <use x=\"95.410156\" xlink:href=\"#DejaVuSans-54\"/>\r\n      </g>\r\n     </g>\r\n    </g>\r\n    <g id=\"ytick_5\">\r\n     <g id=\"line2d_11\">\r\n      <g>\r\n       <use style=\"stroke:#000000;stroke-width:0.8;\" x=\"43.78125\" xlink:href=\"#m8287e85540\" y=\"74.089554\"/>\r\n      </g>\r\n     </g>\r\n     <g id=\"text_12\">\r\n      <!-- 0.8 -->\r\n      <g transform=\"translate(20.878125 77.888772)scale(0.1 -0.1)\">\r\n       <use xlink:href=\"#DejaVuSans-48\"/>\r\n       <use x=\"63.623047\" xlink:href=\"#DejaVuSans-46\"/>\r\n       <use x=\"95.410156\" xlink:href=\"#DejaVuSans-56\"/>\r\n      </g>\r\n     </g>\r\n    </g>\r\n    <g id=\"ytick_6\">\r\n     <g id=\"line2d_12\">\r\n      <g>\r\n       <use style=\"stroke:#000000;stroke-width:0.8;\" x=\"43.78125\" xlink:href=\"#m8287e85540\" y=\"32.672411\"/>\r\n      </g>\r\n     </g>\r\n     <g id=\"text_13\">\r\n      <!-- 1.0 -->\r\n      <g transform=\"translate(20.878125 36.471629)scale(0.1 -0.1)\">\r\n       <use xlink:href=\"#DejaVuSans-49\"/>\r\n       <use x=\"63.623047\" xlink:href=\"#DejaVuSans-46\"/>\r\n       <use x=\"95.410156\" xlink:href=\"#DejaVuSans-48\"/>\r\n      </g>\r\n     </g>\r\n    </g>\r\n    <g id=\"text_14\">\r\n     <!-- True Positive Rate -->\r\n     <g transform=\"translate(14.798438 175.567812)rotate(-90)scale(0.1 -0.1)\">\r\n      <defs>\r\n       <path d=\"M -0.296875 72.90625 \r\nL 61.375 72.90625 \r\nL 61.375 64.59375 \r\nL 35.5 64.59375 \r\nL 35.5 0 \r\nL 25.59375 0 \r\nL 25.59375 64.59375 \r\nL -0.296875 64.59375 \r\nz\r\n\" id=\"DejaVuSans-84\"/>\r\n       <path d=\"M 41.109375 46.296875 \r\nQ 39.59375 47.171875 37.8125 47.578125 \r\nQ 36.03125 48 33.890625 48 \r\nQ 26.265625 48 22.1875 43.046875 \r\nQ 18.109375 38.09375 18.109375 28.8125 \r\nL 18.109375 0 \r\nL 9.078125 0 \r\nL 9.078125 54.6875 \r\nL 18.109375 54.6875 \r\nL 18.109375 46.1875 \r\nQ 20.953125 51.171875 25.484375 53.578125 \r\nQ 30.03125 56 36.53125 56 \r\nQ 37.453125 56 38.578125 55.875 \r\nQ 39.703125 55.765625 41.0625 55.515625 \r\nz\r\n\" id=\"DejaVuSans-114\"/>\r\n       <path d=\"M 8.5 21.578125 \r\nL 8.5 54.6875 \r\nL 17.484375 54.6875 \r\nL 17.484375 21.921875 \r\nQ 17.484375 14.15625 20.5 10.265625 \r\nQ 23.53125 6.390625 29.59375 6.390625 \r\nQ 36.859375 6.390625 41.078125 11.03125 \r\nQ 45.3125 15.671875 45.3125 23.6875 \r\nL 45.3125 54.6875 \r\nL 54.296875 54.6875 \r\nL 54.296875 0 \r\nL 45.3125 0 \r\nL 45.3125 8.40625 \r\nQ 42.046875 3.421875 37.71875 1 \r\nQ 33.40625 -1.421875 27.6875 -1.421875 \r\nQ 18.265625 -1.421875 13.375 4.4375 \r\nQ 8.5 10.296875 8.5 21.578125 \r\nz\r\nM 31.109375 56 \r\nz\r\n\" id=\"DejaVuSans-117\"/>\r\n      </defs>\r\n      <use xlink:href=\"#DejaVuSans-84\"/>\r\n      <use x=\"46.333984\" xlink:href=\"#DejaVuSans-114\"/>\r\n      <use x=\"87.447266\" xlink:href=\"#DejaVuSans-117\"/>\r\n      <use x=\"150.826172\" xlink:href=\"#DejaVuSans-101\"/>\r\n      <use x=\"212.349609\" xlink:href=\"#DejaVuSans-32\"/>\r\n      <use x=\"244.136719\" xlink:href=\"#DejaVuSans-80\"/>\r\n      <use x=\"300.814453\" xlink:href=\"#DejaVuSans-111\"/>\r\n      <use x=\"361.996094\" xlink:href=\"#DejaVuSans-115\"/>\r\n      <use x=\"414.095703\" xlink:href=\"#DejaVuSans-105\"/>\r\n      <use x=\"441.878906\" xlink:href=\"#DejaVuSans-116\"/>\r\n      <use x=\"481.087891\" xlink:href=\"#DejaVuSans-105\"/>\r\n      <use x=\"508.871094\" xlink:href=\"#DejaVuSans-118\"/>\r\n      <use x=\"568.050781\" xlink:href=\"#DejaVuSans-101\"/>\r\n      <use x=\"629.574219\" xlink:href=\"#DejaVuSans-32\"/>\r\n      <use x=\"661.361328\" xlink:href=\"#DejaVuSans-82\"/>\r\n      <use x=\"728.59375\" xlink:href=\"#DejaVuSans-97\"/>\r\n      <use x=\"789.873047\" xlink:href=\"#DejaVuSans-116\"/>\r\n      <use x=\"829.082031\" xlink:href=\"#DejaVuSans-101\"/>\r\n     </g>\r\n    </g>\r\n   </g>\r\n   <g id=\"line2d_13\">\r\n    <path clip-path=\"url(#p34b0b63aab)\" d=\"M 43.78125 239.758125 \r\nL 48.186513 239.758125 \r\nL 56.997039 239.758125 \r\nL 56.997039 220.932151 \r\nL 56.997039 195.830852 \r\nL 56.997039 183.280203 \r\nL 56.997039 145.628255 \r\nL 56.997039 139.35293 \r\nL 56.997039 120.526956 \r\nL 56.997039 114.251631 \r\nL 70.212829 114.251631 \r\nL 74.618092 114.251631 \r\nL 74.618092 107.976307 \r\nL 92.239145 107.976307 \r\nL 92.239145 101.700982 \r\nL 109.860197 101.700982 \r\nL 118.670724 101.700982 \r\nL 127.48125 101.700982 \r\nL 127.48125 89.150333 \r\nL 149.507566 89.150333 \r\nL 158.318092 89.150333 \r\nL 162.723355 89.150333 \r\nL 162.723355 76.599683 \r\nL 184.749671 76.599683 \r\nL 211.18125 76.599683 \r\nL 219.991776 76.599683 \r\nL 228.802303 76.599683 \r\nL 233.207566 76.599683 \r\nL 233.207566 70.324359 \r\nL 250.828618 70.324359 \r\nL 250.828618 64.049034 \r\nL 259.639145 64.049034 \r\nL 268.449671 64.049034 \r\nL 303.691776 64.049034 \r\nL 312.502303 64.049034 \r\nL 321.312829 64.049034 \r\nL 321.312829 45.22306 \r\nL 325.718092 45.22306 \r\nL 334.528618 45.22306 \r\nL 347.744408 45.22306 \r\nL 356.554934 45.22306 \r\nL 369.770724 45.22306 \r\nL 369.770724 38.947735 \r\nL 374.175987 38.947735 \r\nL 374.175987 32.672411 \r\nL 378.58125 32.672411 \r\n\" style=\"fill:none;stroke:#ff8c00;stroke-linecap:square;stroke-width:2;\"/>\r\n   </g>\r\n   <g id=\"line2d_14\">\r\n    <path clip-path=\"url(#p34b0b63aab)\" d=\"M 43.78125 239.758125 \r\nL 378.58125 32.672411 \r\n\" style=\"fill:none;stroke:#000080;stroke-dasharray:7.4,3.2;stroke-dashoffset:0;stroke-width:2;\"/>\r\n   </g>\r\n   <g id=\"patch_3\">\r\n    <path d=\"M 43.78125 239.758125 \r\nL 43.78125 22.318125 \r\n\" style=\"fill:none;stroke:#000000;stroke-linecap:square;stroke-linejoin:miter;stroke-width:0.8;\"/>\r\n   </g>\r\n   <g id=\"patch_4\">\r\n    <path d=\"M 378.58125 239.758125 \r\nL 378.58125 22.318125 \r\n\" style=\"fill:none;stroke:#000000;stroke-linecap:square;stroke-linejoin:miter;stroke-width:0.8;\"/>\r\n   </g>\r\n   <g id=\"patch_5\">\r\n    <path d=\"M 43.78125 239.758125 \r\nL 378.58125 239.758125 \r\n\" style=\"fill:none;stroke:#000000;stroke-linecap:square;stroke-linejoin:miter;stroke-width:0.8;\"/>\r\n   </g>\r\n   <g id=\"patch_6\">\r\n    <path d=\"M 43.78125 22.318125 \r\nL 378.58125 22.318125 \r\n\" style=\"fill:none;stroke:#000000;stroke-linecap:square;stroke-linejoin:miter;stroke-width:0.8;\"/>\r\n   </g>\r\n   <g id=\"text_15\">\r\n    <!-- Receiver operating characteristic example -->\r\n    <g transform=\"translate(83.886563 16.318125)scale(0.12 -0.12)\">\r\n     <defs>\r\n      <path d=\"M 48.78125 52.59375 \r\nL 48.78125 44.1875 \r\nQ 44.96875 46.296875 41.140625 47.34375 \r\nQ 37.3125 48.390625 33.40625 48.390625 \r\nQ 24.65625 48.390625 19.8125 42.84375 \r\nQ 14.984375 37.3125 14.984375 27.296875 \r\nQ 14.984375 17.28125 19.8125 11.734375 \r\nQ 24.65625 6.203125 33.40625 6.203125 \r\nQ 37.3125 6.203125 41.140625 7.25 \r\nQ 44.96875 8.296875 48.78125 10.40625 \r\nL 48.78125 2.09375 \r\nQ 45.015625 0.34375 40.984375 -0.53125 \r\nQ 36.96875 -1.421875 32.421875 -1.421875 \r\nQ 20.0625 -1.421875 12.78125 6.34375 \r\nQ 5.515625 14.109375 5.515625 27.296875 \r\nQ 5.515625 40.671875 12.859375 48.328125 \r\nQ 20.21875 56 33.015625 56 \r\nQ 37.15625 56 41.109375 55.140625 \r\nQ 45.0625 54.296875 48.78125 52.59375 \r\nz\r\n\" id=\"DejaVuSans-99\"/>\r\n      <path d=\"M 18.109375 8.203125 \r\nL 18.109375 -20.796875 \r\nL 9.078125 -20.796875 \r\nL 9.078125 54.6875 \r\nL 18.109375 54.6875 \r\nL 18.109375 46.390625 \r\nQ 20.953125 51.265625 25.265625 53.625 \r\nQ 29.59375 56 35.59375 56 \r\nQ 45.5625 56 51.78125 48.09375 \r\nQ 58.015625 40.1875 58.015625 27.296875 \r\nQ 58.015625 14.40625 51.78125 6.484375 \r\nQ 45.5625 -1.421875 35.59375 -1.421875 \r\nQ 29.59375 -1.421875 25.265625 0.953125 \r\nQ 20.953125 3.328125 18.109375 8.203125 \r\nz\r\nM 48.6875 27.296875 \r\nQ 48.6875 37.203125 44.609375 42.84375 \r\nQ 40.53125 48.484375 33.40625 48.484375 \r\nQ 26.265625 48.484375 22.1875 42.84375 \r\nQ 18.109375 37.203125 18.109375 27.296875 \r\nQ 18.109375 17.390625 22.1875 11.75 \r\nQ 26.265625 6.109375 33.40625 6.109375 \r\nQ 40.53125 6.109375 44.609375 11.75 \r\nQ 48.6875 17.390625 48.6875 27.296875 \r\nz\r\n\" id=\"DejaVuSans-112\"/>\r\n      <path d=\"M 54.890625 33.015625 \r\nL 54.890625 0 \r\nL 45.90625 0 \r\nL 45.90625 32.71875 \r\nQ 45.90625 40.484375 42.875 44.328125 \r\nQ 39.84375 48.1875 33.796875 48.1875 \r\nQ 26.515625 48.1875 22.3125 43.546875 \r\nQ 18.109375 38.921875 18.109375 30.90625 \r\nL 18.109375 0 \r\nL 9.078125 0 \r\nL 9.078125 54.6875 \r\nL 18.109375 54.6875 \r\nL 18.109375 46.1875 \r\nQ 21.34375 51.125 25.703125 53.5625 \r\nQ 30.078125 56 35.796875 56 \r\nQ 45.21875 56 50.046875 50.171875 \r\nQ 54.890625 44.34375 54.890625 33.015625 \r\nz\r\n\" id=\"DejaVuSans-110\"/>\r\n      <path d=\"M 45.40625 27.984375 \r\nQ 45.40625 37.75 41.375 43.109375 \r\nQ 37.359375 48.484375 30.078125 48.484375 \r\nQ 22.859375 48.484375 18.828125 43.109375 \r\nQ 14.796875 37.75 14.796875 27.984375 \r\nQ 14.796875 18.265625 18.828125 12.890625 \r\nQ 22.859375 7.515625 30.078125 7.515625 \r\nQ 37.359375 7.515625 41.375 12.890625 \r\nQ 45.40625 18.265625 45.40625 27.984375 \r\nz\r\nM 54.390625 6.78125 \r\nQ 54.390625 -7.171875 48.1875 -13.984375 \r\nQ 42 -20.796875 29.203125 -20.796875 \r\nQ 24.46875 -20.796875 20.265625 -20.09375 \r\nQ 16.0625 -19.390625 12.109375 -17.921875 \r\nL 12.109375 -9.1875 \r\nQ 16.0625 -11.328125 19.921875 -12.34375 \r\nQ 23.78125 -13.375 27.78125 -13.375 \r\nQ 36.625 -13.375 41.015625 -8.765625 \r\nQ 45.40625 -4.15625 45.40625 5.171875 \r\nL 45.40625 9.625 \r\nQ 42.625 4.78125 38.28125 2.390625 \r\nQ 33.9375 0 27.875 0 \r\nQ 17.828125 0 11.671875 7.65625 \r\nQ 5.515625 15.328125 5.515625 27.984375 \r\nQ 5.515625 40.671875 11.671875 48.328125 \r\nQ 17.828125 56 27.875 56 \r\nQ 33.9375 56 38.28125 53.609375 \r\nQ 42.625 51.21875 45.40625 46.390625 \r\nL 45.40625 54.6875 \r\nL 54.390625 54.6875 \r\nz\r\n\" id=\"DejaVuSans-103\"/>\r\n      <path d=\"M 54.890625 33.015625 \r\nL 54.890625 0 \r\nL 45.90625 0 \r\nL 45.90625 32.71875 \r\nQ 45.90625 40.484375 42.875 44.328125 \r\nQ 39.84375 48.1875 33.796875 48.1875 \r\nQ 26.515625 48.1875 22.3125 43.546875 \r\nQ 18.109375 38.921875 18.109375 30.90625 \r\nL 18.109375 0 \r\nL 9.078125 0 \r\nL 9.078125 75.984375 \r\nL 18.109375 75.984375 \r\nL 18.109375 46.1875 \r\nQ 21.34375 51.125 25.703125 53.5625 \r\nQ 30.078125 56 35.796875 56 \r\nQ 45.21875 56 50.046875 50.171875 \r\nQ 54.890625 44.34375 54.890625 33.015625 \r\nz\r\n\" id=\"DejaVuSans-104\"/>\r\n      <path d=\"M 54.890625 54.6875 \r\nL 35.109375 28.078125 \r\nL 55.90625 0 \r\nL 45.3125 0 \r\nL 29.390625 21.484375 \r\nL 13.484375 0 \r\nL 2.875 0 \r\nL 24.125 28.609375 \r\nL 4.6875 54.6875 \r\nL 15.28125 54.6875 \r\nL 29.78125 35.203125 \r\nL 44.28125 54.6875 \r\nz\r\n\" id=\"DejaVuSans-120\"/>\r\n      <path d=\"M 52 44.1875 \r\nQ 55.375 50.25 60.0625 53.125 \r\nQ 64.75 56 71.09375 56 \r\nQ 79.640625 56 84.28125 50.015625 \r\nQ 88.921875 44.046875 88.921875 33.015625 \r\nL 88.921875 0 \r\nL 79.890625 0 \r\nL 79.890625 32.71875 \r\nQ 79.890625 40.578125 77.09375 44.375 \r\nQ 74.3125 48.1875 68.609375 48.1875 \r\nQ 61.625 48.1875 57.5625 43.546875 \r\nQ 53.515625 38.921875 53.515625 30.90625 \r\nL 53.515625 0 \r\nL 44.484375 0 \r\nL 44.484375 32.71875 \r\nQ 44.484375 40.625 41.703125 44.40625 \r\nQ 38.921875 48.1875 33.109375 48.1875 \r\nQ 26.21875 48.1875 22.15625 43.53125 \r\nQ 18.109375 38.875 18.109375 30.90625 \r\nL 18.109375 0 \r\nL 9.078125 0 \r\nL 9.078125 54.6875 \r\nL 18.109375 54.6875 \r\nL 18.109375 46.1875 \r\nQ 21.1875 51.21875 25.484375 53.609375 \r\nQ 29.78125 56 35.6875 56 \r\nQ 41.65625 56 45.828125 52.96875 \r\nQ 50 49.953125 52 44.1875 \r\nz\r\n\" id=\"DejaVuSans-109\"/>\r\n     </defs>\r\n     <use xlink:href=\"#DejaVuSans-82\"/>\r\n     <use x=\"64.982422\" xlink:href=\"#DejaVuSans-101\"/>\r\n     <use x=\"126.505859\" xlink:href=\"#DejaVuSans-99\"/>\r\n     <use x=\"181.486328\" xlink:href=\"#DejaVuSans-101\"/>\r\n     <use x=\"243.009766\" xlink:href=\"#DejaVuSans-105\"/>\r\n     <use x=\"270.792969\" xlink:href=\"#DejaVuSans-118\"/>\r\n     <use x=\"329.972656\" xlink:href=\"#DejaVuSans-101\"/>\r\n     <use x=\"391.496094\" xlink:href=\"#DejaVuSans-114\"/>\r\n     <use x=\"432.609375\" xlink:href=\"#DejaVuSans-32\"/>\r\n     <use x=\"464.396484\" xlink:href=\"#DejaVuSans-111\"/>\r\n     <use x=\"525.578125\" xlink:href=\"#DejaVuSans-112\"/>\r\n     <use x=\"589.054688\" xlink:href=\"#DejaVuSans-101\"/>\r\n     <use x=\"650.578125\" xlink:href=\"#DejaVuSans-114\"/>\r\n     <use x=\"691.691406\" xlink:href=\"#DejaVuSans-97\"/>\r\n     <use x=\"752.970703\" xlink:href=\"#DejaVuSans-116\"/>\r\n     <use x=\"792.179688\" xlink:href=\"#DejaVuSans-105\"/>\r\n     <use x=\"819.962891\" xlink:href=\"#DejaVuSans-110\"/>\r\n     <use x=\"883.341797\" xlink:href=\"#DejaVuSans-103\"/>\r\n     <use x=\"946.818359\" xlink:href=\"#DejaVuSans-32\"/>\r\n     <use x=\"978.605469\" xlink:href=\"#DejaVuSans-99\"/>\r\n     <use x=\"1033.585938\" xlink:href=\"#DejaVuSans-104\"/>\r\n     <use x=\"1096.964844\" xlink:href=\"#DejaVuSans-97\"/>\r\n     <use x=\"1158.244141\" xlink:href=\"#DejaVuSans-114\"/>\r\n     <use x=\"1199.357422\" xlink:href=\"#DejaVuSans-97\"/>\r\n     <use x=\"1260.636719\" xlink:href=\"#DejaVuSans-99\"/>\r\n     <use x=\"1315.617188\" xlink:href=\"#DejaVuSans-116\"/>\r\n     <use x=\"1354.826172\" xlink:href=\"#DejaVuSans-101\"/>\r\n     <use x=\"1416.349609\" xlink:href=\"#DejaVuSans-114\"/>\r\n     <use x=\"1457.462891\" xlink:href=\"#DejaVuSans-105\"/>\r\n     <use x=\"1485.246094\" xlink:href=\"#DejaVuSans-115\"/>\r\n     <use x=\"1537.345703\" xlink:href=\"#DejaVuSans-116\"/>\r\n     <use x=\"1576.554688\" xlink:href=\"#DejaVuSans-105\"/>\r\n     <use x=\"1604.337891\" xlink:href=\"#DejaVuSans-99\"/>\r\n     <use x=\"1659.318359\" xlink:href=\"#DejaVuSans-32\"/>\r\n     <use x=\"1691.105469\" xlink:href=\"#DejaVuSans-101\"/>\r\n     <use x=\"1750.878906\" xlink:href=\"#DejaVuSans-120\"/>\r\n     <use x=\"1810.058594\" xlink:href=\"#DejaVuSans-97\"/>\r\n     <use x=\"1871.337891\" xlink:href=\"#DejaVuSans-109\"/>\r\n     <use x=\"1968.75\" xlink:href=\"#DejaVuSans-112\"/>\r\n     <use x=\"2032.226562\" xlink:href=\"#DejaVuSans-108\"/>\r\n     <use x=\"2060.009766\" xlink:href=\"#DejaVuSans-101\"/>\r\n    </g>\r\n   </g>\r\n   <g id=\"legend_1\">\r\n    <g id=\"patch_7\">\r\n     <path d=\"M 216.303125 234.758125 \r\nL 371.58125 234.758125 \r\nQ 373.58125 234.758125 373.58125 232.758125 \r\nL 373.58125 219.08 \r\nQ 373.58125 217.08 371.58125 217.08 \r\nL 216.303125 217.08 \r\nQ 214.303125 217.08 214.303125 219.08 \r\nL 214.303125 232.758125 \r\nQ 214.303125 234.758125 216.303125 234.758125 \r\nz\r\n\" style=\"fill:#ffffff;opacity:0.8;stroke:#cccccc;stroke-linejoin:miter;\"/>\r\n    </g>\r\n    <g id=\"line2d_15\">\r\n     <path d=\"M 218.303125 225.178437 \r\nL 238.303125 225.178437 \r\n\" style=\"fill:none;stroke:#ff8c00;stroke-linecap:square;stroke-width:2;\"/>\r\n    </g>\r\n    <g id=\"line2d_16\"/>\r\n    <g id=\"text_16\">\r\n     <!-- ROC curve (area = 0.76) -->\r\n     <g transform=\"translate(246.303125 228.678437)scale(0.1 -0.1)\">\r\n      <defs>\r\n       <path d=\"M 39.40625 66.21875 \r\nQ 28.65625 66.21875 22.328125 58.203125 \r\nQ 16.015625 50.203125 16.015625 36.375 \r\nQ 16.015625 22.609375 22.328125 14.59375 \r\nQ 28.65625 6.59375 39.40625 6.59375 \r\nQ 50.140625 6.59375 56.421875 14.59375 \r\nQ 62.703125 22.609375 62.703125 36.375 \r\nQ 62.703125 50.203125 56.421875 58.203125 \r\nQ 50.140625 66.21875 39.40625 66.21875 \r\nz\r\nM 39.40625 74.21875 \r\nQ 54.734375 74.21875 63.90625 63.9375 \r\nQ 73.09375 53.65625 73.09375 36.375 \r\nQ 73.09375 19.140625 63.90625 8.859375 \r\nQ 54.734375 -1.421875 39.40625 -1.421875 \r\nQ 24.03125 -1.421875 14.8125 8.828125 \r\nQ 5.609375 19.09375 5.609375 36.375 \r\nQ 5.609375 53.65625 14.8125 63.9375 \r\nQ 24.03125 74.21875 39.40625 74.21875 \r\nz\r\n\" id=\"DejaVuSans-79\"/>\r\n       <path d=\"M 64.40625 67.28125 \r\nL 64.40625 56.890625 \r\nQ 59.421875 61.53125 53.78125 63.8125 \r\nQ 48.140625 66.109375 41.796875 66.109375 \r\nQ 29.296875 66.109375 22.65625 58.46875 \r\nQ 16.015625 50.828125 16.015625 36.375 \r\nQ 16.015625 21.96875 22.65625 14.328125 \r\nQ 29.296875 6.6875 41.796875 6.6875 \r\nQ 48.140625 6.6875 53.78125 8.984375 \r\nQ 59.421875 11.28125 64.40625 15.921875 \r\nL 64.40625 5.609375 \r\nQ 59.234375 2.09375 53.4375 0.328125 \r\nQ 47.65625 -1.421875 41.21875 -1.421875 \r\nQ 24.65625 -1.421875 15.125 8.703125 \r\nQ 5.609375 18.84375 5.609375 36.375 \r\nQ 5.609375 53.953125 15.125 64.078125 \r\nQ 24.65625 74.21875 41.21875 74.21875 \r\nQ 47.75 74.21875 53.53125 72.484375 \r\nQ 59.328125 70.75 64.40625 67.28125 \r\nz\r\n\" id=\"DejaVuSans-67\"/>\r\n       <path d=\"M 31 75.875 \r\nQ 24.46875 64.65625 21.28125 53.65625 \r\nQ 18.109375 42.671875 18.109375 31.390625 \r\nQ 18.109375 20.125 21.3125 9.0625 \r\nQ 24.515625 -2 31 -13.1875 \r\nL 23.1875 -13.1875 \r\nQ 15.875 -1.703125 12.234375 9.375 \r\nQ 8.59375 20.453125 8.59375 31.390625 \r\nQ 8.59375 42.28125 12.203125 53.3125 \r\nQ 15.828125 64.359375 23.1875 75.875 \r\nz\r\n\" id=\"DejaVuSans-40\"/>\r\n       <path d=\"M 10.59375 45.40625 \r\nL 73.1875 45.40625 \r\nL 73.1875 37.203125 \r\nL 10.59375 37.203125 \r\nz\r\nM 10.59375 25.484375 \r\nL 73.1875 25.484375 \r\nL 73.1875 17.1875 \r\nL 10.59375 17.1875 \r\nz\r\n\" id=\"DejaVuSans-61\"/>\r\n       <path d=\"M 8.203125 72.90625 \r\nL 55.078125 72.90625 \r\nL 55.078125 68.703125 \r\nL 28.609375 0 \r\nL 18.3125 0 \r\nL 43.21875 64.59375 \r\nL 8.203125 64.59375 \r\nz\r\n\" id=\"DejaVuSans-55\"/>\r\n       <path d=\"M 8.015625 75.875 \r\nL 15.828125 75.875 \r\nQ 23.140625 64.359375 26.78125 53.3125 \r\nQ 30.421875 42.28125 30.421875 31.390625 \r\nQ 30.421875 20.453125 26.78125 9.375 \r\nQ 23.140625 -1.703125 15.828125 -13.1875 \r\nL 8.015625 -13.1875 \r\nQ 14.5 -2 17.703125 9.0625 \r\nQ 20.90625 20.125 20.90625 31.390625 \r\nQ 20.90625 42.671875 17.703125 53.65625 \r\nQ 14.5 64.65625 8.015625 75.875 \r\nz\r\n\" id=\"DejaVuSans-41\"/>\r\n      </defs>\r\n      <use xlink:href=\"#DejaVuSans-82\"/>\r\n      <use x=\"69.482422\" xlink:href=\"#DejaVuSans-79\"/>\r\n      <use x=\"148.193359\" xlink:href=\"#DejaVuSans-67\"/>\r\n      <use x=\"218.017578\" xlink:href=\"#DejaVuSans-32\"/>\r\n      <use x=\"249.804688\" xlink:href=\"#DejaVuSans-99\"/>\r\n      <use x=\"304.785156\" xlink:href=\"#DejaVuSans-117\"/>\r\n      <use x=\"368.164062\" xlink:href=\"#DejaVuSans-114\"/>\r\n      <use x=\"409.277344\" xlink:href=\"#DejaVuSans-118\"/>\r\n      <use x=\"468.457031\" xlink:href=\"#DejaVuSans-101\"/>\r\n      <use x=\"529.980469\" xlink:href=\"#DejaVuSans-32\"/>\r\n      <use x=\"561.767578\" xlink:href=\"#DejaVuSans-40\"/>\r\n      <use x=\"600.78125\" xlink:href=\"#DejaVuSans-97\"/>\r\n      <use x=\"662.060547\" xlink:href=\"#DejaVuSans-114\"/>\r\n      <use x=\"700.923828\" xlink:href=\"#DejaVuSans-101\"/>\r\n      <use x=\"762.447266\" xlink:href=\"#DejaVuSans-97\"/>\r\n      <use x=\"823.726562\" xlink:href=\"#DejaVuSans-32\"/>\r\n      <use x=\"855.513672\" xlink:href=\"#DejaVuSans-61\"/>\r\n      <use x=\"939.302734\" xlink:href=\"#DejaVuSans-32\"/>\r\n      <use x=\"971.089844\" xlink:href=\"#DejaVuSans-48\"/>\r\n      <use x=\"1034.712891\" xlink:href=\"#DejaVuSans-46\"/>\r\n      <use x=\"1066.5\" xlink:href=\"#DejaVuSans-55\"/>\r\n      <use x=\"1130.123047\" xlink:href=\"#DejaVuSans-54\"/>\r\n      <use x=\"1193.746094\" xlink:href=\"#DejaVuSans-41\"/>\r\n     </g>\r\n    </g>\r\n   </g>\r\n  </g>\r\n </g>\r\n <defs>\r\n  <clipPath id=\"p34b0b63aab\">\r\n   <rect height=\"217.44\" width=\"334.8\" x=\"43.78125\" y=\"22.318125\"/>\r\n  </clipPath>\r\n </defs>\r\n</svg>\r\n",
      "image/png": "[encoded data removed]"
     },
     "metadata": {
      "needs_background": "light"
     }
    }
   ],
   "source": [
    "# Compute ROC curve and ROC area for each class\n",
    "n_classes=2\n",
    "\n",
    "fpr, tpr, _ = roc_curve(y_test, y_score)\n",
    "roc_auc = auc(fpr, tpr)\n",
    "\n",
    "plt.figure()\n",
    "lw = 2\n",
    "plt.plot(fpr, tpr, color='darkorange', lw=lw, label=f'ROC curve (area = {roc_auc:0.2f})')\n",
    "plt.plot([0, 1], [0, 1], color='navy', lw=lw, linestyle='--')\n",
    "plt.xlim([0.0, 1.0])\n",
    "plt.ylim([0.0, 1.05])\n",
    "plt.xlabel('False Positive Rate')\n",
    "plt.ylabel('True Positive Rate')\n",
    "plt.title('Receiver operating characteristic example')\n",
    "plt.legend(loc=\"lower right\")\n",
    "plt.show()"
   ]
  },
  {
   "source": [
    "### Decision Tree"
   ],
   "cell_type": "markdown",
   "metadata": {}
  },
  {
   "cell_type": "code",
   "execution_count": 53,
   "metadata": {},
   "outputs": [],
   "source": [
    "from sklearn.tree import DecisionTreeClassifier"
   ]
  },
  {
   "cell_type": "code",
   "execution_count": 54,
   "metadata": {},
   "outputs": [],
   "source": [
    "w = .65\n",
    "class_weight = dict({0:1-w, 1: w})\n",
    "# class_weight = 'balanced'\n",
    "\n",
    "modelo = DecisionTreeClassifier(random_state=SEED, class_weight=class_weight,\n",
    "                                criterion='entropy', splitter='best', \n",
    "                                max_depth=4, min_samples_split=2, min_samples_leaf=1, min_weight_fraction_leaf=0.0, max_leaf_nodes=None, \n",
    "                                max_features=None, min_impurity_decrease=0.0, min_impurity_split=None,  ccp_alpha=0.0)"
   ]
  },
  {
   "cell_type": "code",
   "execution_count": 55,
   "metadata": {},
   "outputs": [
    {
     "output_type": "stream",
     "name": "stdout",
     "text": [
      "              precision    recall  f1-score   support\n\n           0       0.80      0.70      0.75        76\n           1       0.47      0.61      0.53        33\n\n    accuracy                           0.67       109\n   macro avg       0.63      0.65      0.64       109\nweighted avg       0.70      0.67      0.68       109\n\n[[53 23]\n [13 20]]\n"
     ]
    },
    {
     "output_type": "execute_result",
     "data": {
      "text/plain": [
       "<sklearn.metrics._plot.confusion_matrix.ConfusionMatrixDisplay at 0x1b62d6e5988>"
      ]
     },
     "metadata": {},
     "execution_count": 55
    },
    {
     "output_type": "display_data",
     "data": {
      "text/plain": "<Figure size 432x288 with 2 Axes>",
      "image/svg+xml": "<?xml version=\"1.0\" encoding=\"utf-8\" standalone=\"no\"?>\r\n<!DOCTYPE svg PUBLIC \"-//W3C//DTD SVG 1.1//EN\"\r\n  \"http://www.w3.org/Graphics/SVG/1.1/DTD/svg11.dtd\">\r\n<!-- Created with matplotlib (https://matplotlib.org/) -->\r\n<svg height=\"262.19625pt\" version=\"1.1\" viewBox=\"0 0 315.75825 262.19625\" width=\"315.75825pt\" xmlns=\"http://www.w3.org/2000/svg\" xmlns:xlink=\"http://www.w3.org/1999/xlink\">\r\n <metadata>\r\n  <rdf:RDF xmlns:cc=\"http://creativecommons.org/ns#\" xmlns:dc=\"http://purl.org/dc/elements/1.1/\" xmlns:rdf=\"http://www.w3.org/1999/02/22-rdf-syntax-ns#\">\r\n   <cc:Work>\r\n    <dc:type rdf:resource=\"http://purl.org/dc/dcmitype/StillImage\"/>\r\n    <dc:date>2021-02-08T13:50:51.803907</dc:date>\r\n    <dc:format>image/svg+xml</dc:format>\r\n    <dc:creator>\r\n     <cc:Agent>\r\n      <dc:title>Matplotlib v3.3.2, https://matplotlib.org/</dc:title>\r\n     </cc:Agent>\r\n    </dc:creator>\r\n   </cc:Work>\r\n  </rdf:RDF>\r\n </metadata>\r\n <defs>\r\n  <style type=\"text/css\">*{stroke-linecap:butt;stroke-linejoin:round;}</style>\r\n </defs>\r\n <g id=\"figure_1\">\r\n  <g id=\"patch_1\">\r\n   <path d=\"M 0 262.19625 \r\nL 315.75825 262.19625 \r\nL 315.75825 0 \r\nL 0 0 \r\nz\r\n\" style=\"fill:none;\"/>\r\n  </g>\r\n  <g id=\"axes_1\">\r\n   <g id=\"patch_2\">\r\n    <path d=\"M 34.240625 224.64 \r\nL 251.680625 224.64 \r\nL 251.680625 7.2 \r\nL 34.240625 7.2 \r\nz\r\n\" style=\"fill:#ffffff;\"/>\r\n   </g>\r\n   <g clip-path=\"url(#p1dfdb22775)\">\r\n    <image height=\"218\" id=\"image2c710799fd\" transform=\"scale(1 -1)translate(0 -218)\" width=\"218\" x=\"34.240625\" xlink:href=\"data:image/png;base64,\r\niVBORw0KGgoAAAANSUhEUgAAANoAAADaCAYAAADAHVzbAAACm0lEQVR4nO3VsQ3CQAAEQUwZxERENOCYxEWRUh9FUAWya/hkX4iZCi5Z3bJur/3ET7k937MnMOg8ewD8A6FBQGgQEBoEhAYBoUFAaBAQGgSEBgGhQUBoEBAaBIQGAaFBQGgQEBoEhAYBoUFAaBAQGgSEBgGhQUBoEBAaBIQGAaFBQGgQEBoEhAYBoUFAaBAQGgSEBgGhQUBoEBAaBIQGAaFBQGgQEBoEhAYBoUFAaBAQGgSEBgGhQUBoEBAaBIQGAaFBQGgQEBoEhAYBoUFAaBAQGgSEBgGhQUBoEBAaBIQGAaFBQGgQEBoEhAYBoUFAaBAQGgSEBgGhQUBoEBAaBIQGAaFBQGgQEBoEhAYBoUFAaBAQGgSEBgGhQUBoEBAaBIQGAaFBQGgQEBoEhAYBoUFAaBAQGgSEBgGhQUBoEBAaBIQGAaFBQGgQEBoEhAYBoUFAaBAQGgSEBgGhQUBoEBAaBJbv57rPHsGYx+U+ewKDPBoEhAYBoUFAaBAQGgSEBgGhQUBoEBAaBIQGAaFBQGgQEBoEhAYBoUFAaBAQGgSEBgGhQUBoEBAaBIQGAaFBQGgQEBoEhAYBoUFAaBAQGgSEBgGhQUBoEBAaBIQGAaFBQGgQEBoEhAYBoUFAaBAQGgSEBgGhQUBoEBAaBIQGAaFBQGgQEBoEhAYBoUFAaBAQGgSEBgGhQUBoEBAaBIQGAaFBQGgQEBoEhAYBoUFAaBAQGgSEBgGhQUBoEBAaBIQGAaFBQGgQEBoEhAYBoUFAaBAQGgSEBgGhQUBoEBAaBIQGAaFBQGgQEBoEhAYBoUFAaBAQGgSEBgGhQUBoEBAaBIQGAaFBQGgQEBoEhAYBoUFAaBAQGgSEBgGhQUBoEBAaBIQGAaFBQGgQOABtNgjZIAwY7gAAAABJRU5ErkJggg==\" y=\"-6.64\"/>\r\n   </g>\r\n   <g id=\"matplotlib.axis_1\">\r\n    <g id=\"xtick_1\">\r\n     <g id=\"line2d_1\">\r\n      <defs>\r\n       <path d=\"M 0 0 \r\nL 0 3.5 \r\n\" id=\"me0ff533431\" style=\"stroke:#000000;stroke-width:0.8;\"/>\r\n      </defs>\r\n      <g>\r\n       <use style=\"stroke:#000000;stroke-width:0.8;\" x=\"88.600625\" xlink:href=\"#me0ff533431\" y=\"224.64\"/>\r\n      </g>\r\n     </g>\r\n     <g id=\"text_1\">\r\n      <!-- 0 -->\r\n      <g transform=\"translate(85.419375 239.238437)scale(0.1 -0.1)\">\r\n       <defs>\r\n        <path d=\"M 31.78125 66.40625 \r\nQ 24.171875 66.40625 20.328125 58.90625 \r\nQ 16.5 51.421875 16.5 36.375 \r\nQ 16.5 21.390625 20.328125 13.890625 \r\nQ 24.171875 6.390625 31.78125 6.390625 \r\nQ 39.453125 6.390625 43.28125 13.890625 \r\nQ 47.125 21.390625 47.125 36.375 \r\nQ 47.125 51.421875 43.28125 58.90625 \r\nQ 39.453125 66.40625 31.78125 66.40625 \r\nz\r\nM 31.78125 74.21875 \r\nQ 44.046875 74.21875 50.515625 64.515625 \r\nQ 56.984375 54.828125 56.984375 36.375 \r\nQ 56.984375 17.96875 50.515625 8.265625 \r\nQ 44.046875 -1.421875 31.78125 -1.421875 \r\nQ 19.53125 -1.421875 13.0625 8.265625 \r\nQ 6.59375 17.96875 6.59375 36.375 \r\nQ 6.59375 54.828125 13.0625 64.515625 \r\nQ 19.53125 74.21875 31.78125 74.21875 \r\nz\r\n\" id=\"DejaVuSans-48\"/>\r\n       </defs>\r\n       <use xlink:href=\"#DejaVuSans-48\"/>\r\n      </g>\r\n     </g>\r\n    </g>\r\n    <g id=\"xtick_2\">\r\n     <g id=\"line2d_2\">\r\n      <g>\r\n       <use style=\"stroke:#000000;stroke-width:0.8;\" x=\"197.320625\" xlink:href=\"#me0ff533431\" y=\"224.64\"/>\r\n      </g>\r\n     </g>\r\n     <g id=\"text_2\">\r\n      <!-- 1 -->\r\n      <g transform=\"translate(194.139375 239.238437)scale(0.1 -0.1)\">\r\n       <defs>\r\n        <path d=\"M 12.40625 8.296875 \r\nL 28.515625 8.296875 \r\nL 28.515625 63.921875 \r\nL 10.984375 60.40625 \r\nL 10.984375 69.390625 \r\nL 28.421875 72.90625 \r\nL 38.28125 72.90625 \r\nL 38.28125 8.296875 \r\nL 54.390625 8.296875 \r\nL 54.390625 0 \r\nL 12.40625 0 \r\nz\r\n\" id=\"DejaVuSans-49\"/>\r\n       </defs>\r\n       <use xlink:href=\"#DejaVuSans-49\"/>\r\n      </g>\r\n     </g>\r\n    </g>\r\n    <g id=\"text_3\">\r\n     <!-- Predicted label -->\r\n     <g transform=\"translate(105.808281 252.916562)scale(0.1 -0.1)\">\r\n      <defs>\r\n       <path d=\"M 19.671875 64.796875 \r\nL 19.671875 37.40625 \r\nL 32.078125 37.40625 \r\nQ 38.96875 37.40625 42.71875 40.96875 \r\nQ 46.484375 44.53125 46.484375 51.125 \r\nQ 46.484375 57.671875 42.71875 61.234375 \r\nQ 38.96875 64.796875 32.078125 64.796875 \r\nz\r\nM 9.8125 72.90625 \r\nL 32.078125 72.90625 \r\nQ 44.34375 72.90625 50.609375 67.359375 \r\nQ 56.890625 61.8125 56.890625 51.125 \r\nQ 56.890625 40.328125 50.609375 34.8125 \r\nQ 44.34375 29.296875 32.078125 29.296875 \r\nL 19.671875 29.296875 \r\nL 19.671875 0 \r\nL 9.8125 0 \r\nz\r\n\" id=\"DejaVuSans-80\"/>\r\n       <path d=\"M 41.109375 46.296875 \r\nQ 39.59375 47.171875 37.8125 47.578125 \r\nQ 36.03125 48 33.890625 48 \r\nQ 26.265625 48 22.1875 43.046875 \r\nQ 18.109375 38.09375 18.109375 28.8125 \r\nL 18.109375 0 \r\nL 9.078125 0 \r\nL 9.078125 54.6875 \r\nL 18.109375 54.6875 \r\nL 18.109375 46.1875 \r\nQ 20.953125 51.171875 25.484375 53.578125 \r\nQ 30.03125 56 36.53125 56 \r\nQ 37.453125 56 38.578125 55.875 \r\nQ 39.703125 55.765625 41.0625 55.515625 \r\nz\r\n\" id=\"DejaVuSans-114\"/>\r\n       <path d=\"M 56.203125 29.59375 \r\nL 56.203125 25.203125 \r\nL 14.890625 25.203125 \r\nQ 15.484375 15.921875 20.484375 11.0625 \r\nQ 25.484375 6.203125 34.421875 6.203125 \r\nQ 39.59375 6.203125 44.453125 7.46875 \r\nQ 49.3125 8.734375 54.109375 11.28125 \r\nL 54.109375 2.78125 \r\nQ 49.265625 0.734375 44.1875 -0.34375 \r\nQ 39.109375 -1.421875 33.890625 -1.421875 \r\nQ 20.796875 -1.421875 13.15625 6.1875 \r\nQ 5.515625 13.8125 5.515625 26.8125 \r\nQ 5.515625 40.234375 12.765625 48.109375 \r\nQ 20.015625 56 32.328125 56 \r\nQ 43.359375 56 49.78125 48.890625 \r\nQ 56.203125 41.796875 56.203125 29.59375 \r\nz\r\nM 47.21875 32.234375 \r\nQ 47.125 39.59375 43.09375 43.984375 \r\nQ 39.0625 48.390625 32.421875 48.390625 \r\nQ 24.90625 48.390625 20.390625 44.140625 \r\nQ 15.875 39.890625 15.1875 32.171875 \r\nz\r\n\" id=\"DejaVuSans-101\"/>\r\n       <path d=\"M 45.40625 46.390625 \r\nL 45.40625 75.984375 \r\nL 54.390625 75.984375 \r\nL 54.390625 0 \r\nL 45.40625 0 \r\nL 45.40625 8.203125 \r\nQ 42.578125 3.328125 38.25 0.953125 \r\nQ 33.9375 -1.421875 27.875 -1.421875 \r\nQ 17.96875 -1.421875 11.734375 6.484375 \r\nQ 5.515625 14.40625 5.515625 27.296875 \r\nQ 5.515625 40.1875 11.734375 48.09375 \r\nQ 17.96875 56 27.875 56 \r\nQ 33.9375 56 38.25 53.625 \r\nQ 42.578125 51.265625 45.40625 46.390625 \r\nz\r\nM 14.796875 27.296875 \r\nQ 14.796875 17.390625 18.875 11.75 \r\nQ 22.953125 6.109375 30.078125 6.109375 \r\nQ 37.203125 6.109375 41.296875 11.75 \r\nQ 45.40625 17.390625 45.40625 27.296875 \r\nQ 45.40625 37.203125 41.296875 42.84375 \r\nQ 37.203125 48.484375 30.078125 48.484375 \r\nQ 22.953125 48.484375 18.875 42.84375 \r\nQ 14.796875 37.203125 14.796875 27.296875 \r\nz\r\n\" id=\"DejaVuSans-100\"/>\r\n       <path d=\"M 9.421875 54.6875 \r\nL 18.40625 54.6875 \r\nL 18.40625 0 \r\nL 9.421875 0 \r\nz\r\nM 9.421875 75.984375 \r\nL 18.40625 75.984375 \r\nL 18.40625 64.59375 \r\nL 9.421875 64.59375 \r\nz\r\n\" id=\"DejaVuSans-105\"/>\r\n       <path d=\"M 48.78125 52.59375 \r\nL 48.78125 44.1875 \r\nQ 44.96875 46.296875 41.140625 47.34375 \r\nQ 37.3125 48.390625 33.40625 48.390625 \r\nQ 24.65625 48.390625 19.8125 42.84375 \r\nQ 14.984375 37.3125 14.984375 27.296875 \r\nQ 14.984375 17.28125 19.8125 11.734375 \r\nQ 24.65625 6.203125 33.40625 6.203125 \r\nQ 37.3125 6.203125 41.140625 7.25 \r\nQ 44.96875 8.296875 48.78125 10.40625 \r\nL 48.78125 2.09375 \r\nQ 45.015625 0.34375 40.984375 -0.53125 \r\nQ 36.96875 -1.421875 32.421875 -1.421875 \r\nQ 20.0625 -1.421875 12.78125 6.34375 \r\nQ 5.515625 14.109375 5.515625 27.296875 \r\nQ 5.515625 40.671875 12.859375 48.328125 \r\nQ 20.21875 56 33.015625 56 \r\nQ 37.15625 56 41.109375 55.140625 \r\nQ 45.0625 54.296875 48.78125 52.59375 \r\nz\r\n\" id=\"DejaVuSans-99\"/>\r\n       <path d=\"M 18.3125 70.21875 \r\nL 18.3125 54.6875 \r\nL 36.8125 54.6875 \r\nL 36.8125 47.703125 \r\nL 18.3125 47.703125 \r\nL 18.3125 18.015625 \r\nQ 18.3125 11.328125 20.140625 9.421875 \r\nQ 21.96875 7.515625 27.59375 7.515625 \r\nL 36.8125 7.515625 \r\nL 36.8125 0 \r\nL 27.59375 0 \r\nQ 17.1875 0 13.234375 3.875 \r\nQ 9.28125 7.765625 9.28125 18.015625 \r\nL 9.28125 47.703125 \r\nL 2.6875 47.703125 \r\nL 2.6875 54.6875 \r\nL 9.28125 54.6875 \r\nL 9.28125 70.21875 \r\nz\r\n\" id=\"DejaVuSans-116\"/>\r\n       <path id=\"DejaVuSans-32\"/>\r\n       <path d=\"M 9.421875 75.984375 \r\nL 18.40625 75.984375 \r\nL 18.40625 0 \r\nL 9.421875 0 \r\nz\r\n\" id=\"DejaVuSans-108\"/>\r\n       <path d=\"M 34.28125 27.484375 \r\nQ 23.390625 27.484375 19.1875 25 \r\nQ 14.984375 22.515625 14.984375 16.5 \r\nQ 14.984375 11.71875 18.140625 8.90625 \r\nQ 21.296875 6.109375 26.703125 6.109375 \r\nQ 34.1875 6.109375 38.703125 11.40625 \r\nQ 43.21875 16.703125 43.21875 25.484375 \r\nL 43.21875 27.484375 \r\nz\r\nM 52.203125 31.203125 \r\nL 52.203125 0 \r\nL 43.21875 0 \r\nL 43.21875 8.296875 \r\nQ 40.140625 3.328125 35.546875 0.953125 \r\nQ 30.953125 -1.421875 24.3125 -1.421875 \r\nQ 15.921875 -1.421875 10.953125 3.296875 \r\nQ 6 8.015625 6 15.921875 \r\nQ 6 25.140625 12.171875 29.828125 \r\nQ 18.359375 34.515625 30.609375 34.515625 \r\nL 43.21875 34.515625 \r\nL 43.21875 35.40625 \r\nQ 43.21875 41.609375 39.140625 45 \r\nQ 35.0625 48.390625 27.6875 48.390625 \r\nQ 23 48.390625 18.546875 47.265625 \r\nQ 14.109375 46.140625 10.015625 43.890625 \r\nL 10.015625 52.203125 \r\nQ 14.9375 54.109375 19.578125 55.046875 \r\nQ 24.21875 56 28.609375 56 \r\nQ 40.484375 56 46.34375 49.84375 \r\nQ 52.203125 43.703125 52.203125 31.203125 \r\nz\r\n\" id=\"DejaVuSans-97\"/>\r\n       <path d=\"M 48.6875 27.296875 \r\nQ 48.6875 37.203125 44.609375 42.84375 \r\nQ 40.53125 48.484375 33.40625 48.484375 \r\nQ 26.265625 48.484375 22.1875 42.84375 \r\nQ 18.109375 37.203125 18.109375 27.296875 \r\nQ 18.109375 17.390625 22.1875 11.75 \r\nQ 26.265625 6.109375 33.40625 6.109375 \r\nQ 40.53125 6.109375 44.609375 11.75 \r\nQ 48.6875 17.390625 48.6875 27.296875 \r\nz\r\nM 18.109375 46.390625 \r\nQ 20.953125 51.265625 25.265625 53.625 \r\nQ 29.59375 56 35.59375 56 \r\nQ 45.5625 56 51.78125 48.09375 \r\nQ 58.015625 40.1875 58.015625 27.296875 \r\nQ 58.015625 14.40625 51.78125 6.484375 \r\nQ 45.5625 -1.421875 35.59375 -1.421875 \r\nQ 29.59375 -1.421875 25.265625 0.953125 \r\nQ 20.953125 3.328125 18.109375 8.203125 \r\nL 18.109375 0 \r\nL 9.078125 0 \r\nL 9.078125 75.984375 \r\nL 18.109375 75.984375 \r\nz\r\n\" id=\"DejaVuSans-98\"/>\r\n      </defs>\r\n      <use xlink:href=\"#DejaVuSans-80\"/>\r\n      <use x=\"58.552734\" xlink:href=\"#DejaVuSans-114\"/>\r\n      <use x=\"97.416016\" xlink:href=\"#DejaVuSans-101\"/>\r\n      <use x=\"158.939453\" xlink:href=\"#DejaVuSans-100\"/>\r\n      <use x=\"222.416016\" xlink:href=\"#DejaVuSans-105\"/>\r\n      <use x=\"250.199219\" xlink:href=\"#DejaVuSans-99\"/>\r\n      <use x=\"305.179688\" xlink:href=\"#DejaVuSans-116\"/>\r\n      <use x=\"344.388672\" xlink:href=\"#DejaVuSans-101\"/>\r\n      <use x=\"405.912109\" xlink:href=\"#DejaVuSans-100\"/>\r\n      <use x=\"469.388672\" xlink:href=\"#DejaVuSans-32\"/>\r\n      <use x=\"501.175781\" xlink:href=\"#DejaVuSans-108\"/>\r\n      <use x=\"528.958984\" xlink:href=\"#DejaVuSans-97\"/>\r\n      <use x=\"590.238281\" xlink:href=\"#DejaVuSans-98\"/>\r\n      <use x=\"653.714844\" xlink:href=\"#DejaVuSans-101\"/>\r\n      <use x=\"715.238281\" xlink:href=\"#DejaVuSans-108\"/>\r\n     </g>\r\n    </g>\r\n   </g>\r\n   <g id=\"matplotlib.axis_2\">\r\n    <g id=\"ytick_1\">\r\n     <g id=\"line2d_3\">\r\n      <defs>\r\n       <path d=\"M 0 0 \r\nL -3.5 0 \r\n\" id=\"m82e8972929\" style=\"stroke:#000000;stroke-width:0.8;\"/>\r\n      </defs>\r\n      <g>\r\n       <use style=\"stroke:#000000;stroke-width:0.8;\" x=\"34.240625\" xlink:href=\"#m82e8972929\" y=\"61.56\"/>\r\n      </g>\r\n     </g>\r\n     <g id=\"text_4\">\r\n      <!-- 0 -->\r\n      <g transform=\"translate(20.878125 65.359219)scale(0.1 -0.1)\">\r\n       <use xlink:href=\"#DejaVuSans-48\"/>\r\n      </g>\r\n     </g>\r\n    </g>\r\n    <g id=\"ytick_2\">\r\n     <g id=\"line2d_4\">\r\n      <g>\r\n       <use style=\"stroke:#000000;stroke-width:0.8;\" x=\"34.240625\" xlink:href=\"#m82e8972929\" y=\"170.28\"/>\r\n      </g>\r\n     </g>\r\n     <g id=\"text_5\">\r\n      <!-- 1 -->\r\n      <g transform=\"translate(20.878125 174.079219)scale(0.1 -0.1)\">\r\n       <use xlink:href=\"#DejaVuSans-49\"/>\r\n      </g>\r\n     </g>\r\n    </g>\r\n    <g id=\"text_6\">\r\n     <!-- True label -->\r\n     <g transform=\"translate(14.798437 140.219219)rotate(-90)scale(0.1 -0.1)\">\r\n      <defs>\r\n       <path d=\"M -0.296875 72.90625 \r\nL 61.375 72.90625 \r\nL 61.375 64.59375 \r\nL 35.5 64.59375 \r\nL 35.5 0 \r\nL 25.59375 0 \r\nL 25.59375 64.59375 \r\nL -0.296875 64.59375 \r\nz\r\n\" id=\"DejaVuSans-84\"/>\r\n       <path d=\"M 8.5 21.578125 \r\nL 8.5 54.6875 \r\nL 17.484375 54.6875 \r\nL 17.484375 21.921875 \r\nQ 17.484375 14.15625 20.5 10.265625 \r\nQ 23.53125 6.390625 29.59375 6.390625 \r\nQ 36.859375 6.390625 41.078125 11.03125 \r\nQ 45.3125 15.671875 45.3125 23.6875 \r\nL 45.3125 54.6875 \r\nL 54.296875 54.6875 \r\nL 54.296875 0 \r\nL 45.3125 0 \r\nL 45.3125 8.40625 \r\nQ 42.046875 3.421875 37.71875 1 \r\nQ 33.40625 -1.421875 27.6875 -1.421875 \r\nQ 18.265625 -1.421875 13.375 4.4375 \r\nQ 8.5 10.296875 8.5 21.578125 \r\nz\r\nM 31.109375 56 \r\nz\r\n\" id=\"DejaVuSans-117\"/>\r\n      </defs>\r\n      <use xlink:href=\"#DejaVuSans-84\"/>\r\n      <use x=\"46.333984\" xlink:href=\"#DejaVuSans-114\"/>\r\n      <use x=\"87.447266\" xlink:href=\"#DejaVuSans-117\"/>\r\n      <use x=\"150.826172\" xlink:href=\"#DejaVuSans-101\"/>\r\n      <use x=\"212.349609\" xlink:href=\"#DejaVuSans-32\"/>\r\n      <use x=\"244.136719\" xlink:href=\"#DejaVuSans-108\"/>\r\n      <use x=\"271.919922\" xlink:href=\"#DejaVuSans-97\"/>\r\n      <use x=\"333.199219\" xlink:href=\"#DejaVuSans-98\"/>\r\n      <use x=\"396.675781\" xlink:href=\"#DejaVuSans-101\"/>\r\n      <use x=\"458.199219\" xlink:href=\"#DejaVuSans-108\"/>\r\n     </g>\r\n    </g>\r\n   </g>\r\n   <g id=\"patch_3\">\r\n    <path d=\"M 34.240625 224.64 \r\nL 34.240625 7.2 \r\n\" style=\"fill:none;stroke:#000000;stroke-linecap:square;stroke-linejoin:miter;stroke-width:0.8;\"/>\r\n   </g>\r\n   <g id=\"patch_4\">\r\n    <path d=\"M 251.680625 224.64 \r\nL 251.680625 7.2 \r\n\" style=\"fill:none;stroke:#000000;stroke-linecap:square;stroke-linejoin:miter;stroke-width:0.8;\"/>\r\n   </g>\r\n   <g id=\"patch_5\">\r\n    <path d=\"M 34.240625 224.64 \r\nL 251.680625 224.64 \r\n\" style=\"fill:none;stroke:#000000;stroke-linecap:square;stroke-linejoin:miter;stroke-width:0.8;\"/>\r\n   </g>\r\n   <g id=\"patch_6\">\r\n    <path d=\"M 34.240625 7.2 \r\nL 251.680625 7.2 \r\n\" style=\"fill:none;stroke:#000000;stroke-linecap:square;stroke-linejoin:miter;stroke-width:0.8;\"/>\r\n   </g>\r\n   <g id=\"text_7\">\r\n    <!-- 0.7 -->\r\n    <g style=\"fill:#440154;\" transform=\"translate(80.649062 64.319375)scale(0.1 -0.1)\">\r\n     <defs>\r\n      <path d=\"M 10.6875 12.40625 \r\nL 21 12.40625 \r\nL 21 0 \r\nL 10.6875 0 \r\nz\r\n\" id=\"DejaVuSans-46\"/>\r\n      <path d=\"M 8.203125 72.90625 \r\nL 55.078125 72.90625 \r\nL 55.078125 68.703125 \r\nL 28.609375 0 \r\nL 18.3125 0 \r\nL 43.21875 64.59375 \r\nL 8.203125 64.59375 \r\nz\r\n\" id=\"DejaVuSans-55\"/>\r\n     </defs>\r\n     <use xlink:href=\"#DejaVuSans-48\"/>\r\n     <use x=\"63.623047\" xlink:href=\"#DejaVuSans-46\"/>\r\n     <use x=\"95.410156\" xlink:href=\"#DejaVuSans-55\"/>\r\n    </g>\r\n   </g>\r\n   <g id=\"text_8\">\r\n    <!-- 0.3 -->\r\n    <g style=\"fill:#fde725;\" transform=\"translate(189.369062 64.319375)scale(0.1 -0.1)\">\r\n     <defs>\r\n      <path d=\"M 40.578125 39.3125 \r\nQ 47.65625 37.796875 51.625 33 \r\nQ 55.609375 28.21875 55.609375 21.1875 \r\nQ 55.609375 10.40625 48.1875 4.484375 \r\nQ 40.765625 -1.421875 27.09375 -1.421875 \r\nQ 22.515625 -1.421875 17.65625 -0.515625 \r\nQ 12.796875 0.390625 7.625 2.203125 \r\nL 7.625 11.71875 \r\nQ 11.71875 9.328125 16.59375 8.109375 \r\nQ 21.484375 6.890625 26.8125 6.890625 \r\nQ 36.078125 6.890625 40.9375 10.546875 \r\nQ 45.796875 14.203125 45.796875 21.1875 \r\nQ 45.796875 27.640625 41.28125 31.265625 \r\nQ 36.765625 34.90625 28.71875 34.90625 \r\nL 20.21875 34.90625 \r\nL 20.21875 43.015625 \r\nL 29.109375 43.015625 \r\nQ 36.375 43.015625 40.234375 45.921875 \r\nQ 44.09375 48.828125 44.09375 54.296875 \r\nQ 44.09375 59.90625 40.109375 62.90625 \r\nQ 36.140625 65.921875 28.71875 65.921875 \r\nQ 24.65625 65.921875 20.015625 65.03125 \r\nQ 15.375 64.15625 9.8125 62.3125 \r\nL 9.8125 71.09375 \r\nQ 15.4375 72.65625 20.34375 73.4375 \r\nQ 25.25 74.21875 29.59375 74.21875 \r\nQ 40.828125 74.21875 47.359375 69.109375 \r\nQ 53.90625 64.015625 53.90625 55.328125 \r\nQ 53.90625 49.265625 50.4375 45.09375 \r\nQ 46.96875 40.921875 40.578125 39.3125 \r\nz\r\n\" id=\"DejaVuSans-51\"/>\r\n     </defs>\r\n     <use xlink:href=\"#DejaVuSans-48\"/>\r\n     <use x=\"63.623047\" xlink:href=\"#DejaVuSans-46\"/>\r\n     <use x=\"95.410156\" xlink:href=\"#DejaVuSans-51\"/>\r\n    </g>\r\n   </g>\r\n   <g id=\"text_9\">\r\n    <!-- 0.39 -->\r\n    <g style=\"fill:#fde725;\" transform=\"translate(77.467812 173.039375)scale(0.1 -0.1)\">\r\n     <defs>\r\n      <path d=\"M 10.984375 1.515625 \r\nL 10.984375 10.5 \r\nQ 14.703125 8.734375 18.5 7.8125 \r\nQ 22.3125 6.890625 25.984375 6.890625 \r\nQ 35.75 6.890625 40.890625 13.453125 \r\nQ 46.046875 20.015625 46.78125 33.40625 \r\nQ 43.953125 29.203125 39.59375 26.953125 \r\nQ 35.25 24.703125 29.984375 24.703125 \r\nQ 19.046875 24.703125 12.671875 31.3125 \r\nQ 6.296875 37.9375 6.296875 49.421875 \r\nQ 6.296875 60.640625 12.9375 67.421875 \r\nQ 19.578125 74.21875 30.609375 74.21875 \r\nQ 43.265625 74.21875 49.921875 64.515625 \r\nQ 56.59375 54.828125 56.59375 36.375 \r\nQ 56.59375 19.140625 48.40625 8.859375 \r\nQ 40.234375 -1.421875 26.421875 -1.421875 \r\nQ 22.703125 -1.421875 18.890625 -0.6875 \r\nQ 15.09375 0.046875 10.984375 1.515625 \r\nz\r\nM 30.609375 32.421875 \r\nQ 37.25 32.421875 41.125 36.953125 \r\nQ 45.015625 41.5 45.015625 49.421875 \r\nQ 45.015625 57.28125 41.125 61.84375 \r\nQ 37.25 66.40625 30.609375 66.40625 \r\nQ 23.96875 66.40625 20.09375 61.84375 \r\nQ 16.21875 57.28125 16.21875 49.421875 \r\nQ 16.21875 41.5 20.09375 36.953125 \r\nQ 23.96875 32.421875 30.609375 32.421875 \r\nz\r\n\" id=\"DejaVuSans-57\"/>\r\n     </defs>\r\n     <use xlink:href=\"#DejaVuSans-48\"/>\r\n     <use x=\"63.623047\" xlink:href=\"#DejaVuSans-46\"/>\r\n     <use x=\"95.410156\" xlink:href=\"#DejaVuSans-51\"/>\r\n     <use x=\"159.033203\" xlink:href=\"#DejaVuSans-57\"/>\r\n    </g>\r\n   </g>\r\n   <g id=\"text_10\">\r\n    <!-- 0.61 -->\r\n    <g style=\"fill:#440154;\" transform=\"translate(186.187812 173.039375)scale(0.1 -0.1)\">\r\n     <defs>\r\n      <path d=\"M 33.015625 40.375 \r\nQ 26.375 40.375 22.484375 35.828125 \r\nQ 18.609375 31.296875 18.609375 23.390625 \r\nQ 18.609375 15.53125 22.484375 10.953125 \r\nQ 26.375 6.390625 33.015625 6.390625 \r\nQ 39.65625 6.390625 43.53125 10.953125 \r\nQ 47.40625 15.53125 47.40625 23.390625 \r\nQ 47.40625 31.296875 43.53125 35.828125 \r\nQ 39.65625 40.375 33.015625 40.375 \r\nz\r\nM 52.59375 71.296875 \r\nL 52.59375 62.3125 \r\nQ 48.875 64.0625 45.09375 64.984375 \r\nQ 41.3125 65.921875 37.59375 65.921875 \r\nQ 27.828125 65.921875 22.671875 59.328125 \r\nQ 17.53125 52.734375 16.796875 39.40625 \r\nQ 19.671875 43.65625 24.015625 45.921875 \r\nQ 28.375 48.1875 33.59375 48.1875 \r\nQ 44.578125 48.1875 50.953125 41.515625 \r\nQ 57.328125 34.859375 57.328125 23.390625 \r\nQ 57.328125 12.15625 50.6875 5.359375 \r\nQ 44.046875 -1.421875 33.015625 -1.421875 \r\nQ 20.359375 -1.421875 13.671875 8.265625 \r\nQ 6.984375 17.96875 6.984375 36.375 \r\nQ 6.984375 53.65625 15.1875 63.9375 \r\nQ 23.390625 74.21875 37.203125 74.21875 \r\nQ 40.921875 74.21875 44.703125 73.484375 \r\nQ 48.484375 72.75 52.59375 71.296875 \r\nz\r\n\" id=\"DejaVuSans-54\"/>\r\n     </defs>\r\n     <use xlink:href=\"#DejaVuSans-48\"/>\r\n     <use x=\"63.623047\" xlink:href=\"#DejaVuSans-46\"/>\r\n     <use x=\"95.410156\" xlink:href=\"#DejaVuSans-54\"/>\r\n     <use x=\"159.033203\" xlink:href=\"#DejaVuSans-49\"/>\r\n    </g>\r\n   </g>\r\n  </g>\r\n  <g id=\"axes_2\">\r\n   <g id=\"patch_7\">\r\n    <path clip-path=\"url(#p1a706bce58)\" d=\"M 268.420625 224.64 \r\nL 268.420625 223.790625 \r\nL 268.420625 8.049375 \r\nL 268.420625 7.2 \r\nL 279.292625 7.2 \r\nL 279.292625 8.049375 \r\nL 279.292625 223.790625 \r\nL 279.292625 224.64 \r\nz\r\n\" style=\"fill:#ffffff;stroke:#ffffff;stroke-linejoin:miter;stroke-width:0.01;\"/>\r\n   </g>\r\n   <image height=\"217\" id=\"image187a6e2e27\" transform=\"scale(1 -1)translate(0 -217)\" width=\"11\" x=\"268\" xlink:href=\"data:image/png;base64,\r\niVBORw0KGgoAAAANSUhEUgAAAAsAAADZCAYAAAD2WsoCAAABYUlEQVR4nO3aQW7DMBBDUWkk52Q9Q+9/kLbptkA2egsC4yJZE8QnZ2Q7TuZHfT7H4WfPmqfaseda5+IxC8SCMaYwl2CI86A2qOce1VlAcs6J3238FcfaeK4eAYnZxt0D4/xKkMUQ5yBzynmIMy2/9UwYsTZsgrQbxgziJm0EMXLVUcAupxvE5IwBUxjoHLvI3LKNmPMd2zjX4vPGHSf4/8dNzi3GDRDv0/0iPj/fd9yNNm0Exw3MweoqhdGkDXhESrYxRi4gOM9YQOuZmE0MGNSGYZxTcMBUG6t+OmBUrI0l4hxGE+c1Ydzk3ES87xhQbhPWRn13wCgZih1YYaY2lrWR2jpqY08KmGMWZ+mZnC9pw1Y0thu5oTzmFzjHhlISkJb/koDUM16RyDm1G7T8ts/BgKkb0GPQpUCWn06KBTzWjn3ZgQXnBV8It7zd20t+yCjBuOB9lmKAMzEv+SOQYPwCBCyBaHjgE4oAAAAASUVORK5CYII=\" y=\"-7\"/>\r\n   <g id=\"matplotlib.axis_3\"/>\r\n   <g id=\"matplotlib.axis_4\">\r\n    <g id=\"ytick_3\">\r\n     <g id=\"line2d_5\">\r\n      <defs>\r\n       <path d=\"M 0 0 \r\nL 3.5 0 \r\n\" id=\"mf44c518595\" style=\"stroke:#000000;stroke-width:0.8;\"/>\r\n      </defs>\r\n      <g>\r\n       <use style=\"stroke:#000000;stroke-width:0.8;\" x=\"279.292625\" xlink:href=\"#mf44c518595\" y=\"198.5472\"/>\r\n      </g>\r\n     </g>\r\n     <g id=\"text_11\">\r\n      <!-- 0.35 -->\r\n      <g transform=\"translate(286.292625 202.346419)scale(0.1 -0.1)\">\r\n       <defs>\r\n        <path d=\"M 10.796875 72.90625 \r\nL 49.515625 72.90625 \r\nL 49.515625 64.59375 \r\nL 19.828125 64.59375 \r\nL 19.828125 46.734375 \r\nQ 21.96875 47.46875 24.109375 47.828125 \r\nQ 26.265625 48.1875 28.421875 48.1875 \r\nQ 40.625 48.1875 47.75 41.5 \r\nQ 54.890625 34.8125 54.890625 23.390625 \r\nQ 54.890625 11.625 47.5625 5.09375 \r\nQ 40.234375 -1.421875 26.90625 -1.421875 \r\nQ 22.3125 -1.421875 17.546875 -0.640625 \r\nQ 12.796875 0.140625 7.71875 1.703125 \r\nL 7.71875 11.625 \r\nQ 12.109375 9.234375 16.796875 8.0625 \r\nQ 21.484375 6.890625 26.703125 6.890625 \r\nQ 35.15625 6.890625 40.078125 11.328125 \r\nQ 45.015625 15.765625 45.015625 23.390625 \r\nQ 45.015625 31 40.078125 35.4375 \r\nQ 35.15625 39.890625 26.703125 39.890625 \r\nQ 22.75 39.890625 18.8125 39.015625 \r\nQ 14.890625 38.140625 10.796875 36.28125 \r\nz\r\n\" id=\"DejaVuSans-53\"/>\r\n       </defs>\r\n       <use xlink:href=\"#DejaVuSans-48\"/>\r\n       <use x=\"63.623047\" xlink:href=\"#DejaVuSans-46\"/>\r\n       <use x=\"95.410156\" xlink:href=\"#DejaVuSans-51\"/>\r\n       <use x=\"159.033203\" xlink:href=\"#DejaVuSans-53\"/>\r\n      </g>\r\n     </g>\r\n    </g>\r\n    <g id=\"ytick_4\">\r\n     <g id=\"line2d_6\">\r\n      <g>\r\n       <use style=\"stroke:#000000;stroke-width:0.8;\" x=\"279.292625\" xlink:href=\"#mf44c518595\" y=\"171.0048\"/>\r\n      </g>\r\n     </g>\r\n     <g id=\"text_12\">\r\n      <!-- 0.40 -->\r\n      <g transform=\"translate(286.292625 174.804019)scale(0.1 -0.1)\">\r\n       <defs>\r\n        <path d=\"M 37.796875 64.3125 \r\nL 12.890625 25.390625 \r\nL 37.796875 25.390625 \r\nz\r\nM 35.203125 72.90625 \r\nL 47.609375 72.90625 \r\nL 47.609375 25.390625 \r\nL 58.015625 25.390625 \r\nL 58.015625 17.1875 \r\nL 47.609375 17.1875 \r\nL 47.609375 0 \r\nL 37.796875 0 \r\nL 37.796875 17.1875 \r\nL 4.890625 17.1875 \r\nL 4.890625 26.703125 \r\nz\r\n\" id=\"DejaVuSans-52\"/>\r\n       </defs>\r\n       <use xlink:href=\"#DejaVuSans-48\"/>\r\n       <use x=\"63.623047\" xlink:href=\"#DejaVuSans-46\"/>\r\n       <use x=\"95.410156\" xlink:href=\"#DejaVuSans-52\"/>\r\n       <use x=\"159.033203\" xlink:href=\"#DejaVuSans-48\"/>\r\n      </g>\r\n     </g>\r\n    </g>\r\n    <g id=\"ytick_5\">\r\n     <g id=\"line2d_7\">\r\n      <g>\r\n       <use style=\"stroke:#000000;stroke-width:0.8;\" x=\"279.292625\" xlink:href=\"#mf44c518595\" y=\"143.4624\"/>\r\n      </g>\r\n     </g>\r\n     <g id=\"text_13\">\r\n      <!-- 0.45 -->\r\n      <g transform=\"translate(286.292625 147.261619)scale(0.1 -0.1)\">\r\n       <use xlink:href=\"#DejaVuSans-48\"/>\r\n       <use x=\"63.623047\" xlink:href=\"#DejaVuSans-46\"/>\r\n       <use x=\"95.410156\" xlink:href=\"#DejaVuSans-52\"/>\r\n       <use x=\"159.033203\" xlink:href=\"#DejaVuSans-53\"/>\r\n      </g>\r\n     </g>\r\n    </g>\r\n    <g id=\"ytick_6\">\r\n     <g id=\"line2d_8\">\r\n      <g>\r\n       <use style=\"stroke:#000000;stroke-width:0.8;\" x=\"279.292625\" xlink:href=\"#mf44c518595\" y=\"115.92\"/>\r\n      </g>\r\n     </g>\r\n     <g id=\"text_14\">\r\n      <!-- 0.50 -->\r\n      <g transform=\"translate(286.292625 119.719219)scale(0.1 -0.1)\">\r\n       <use xlink:href=\"#DejaVuSans-48\"/>\r\n       <use x=\"63.623047\" xlink:href=\"#DejaVuSans-46\"/>\r\n       <use x=\"95.410156\" xlink:href=\"#DejaVuSans-53\"/>\r\n       <use x=\"159.033203\" xlink:href=\"#DejaVuSans-48\"/>\r\n      </g>\r\n     </g>\r\n    </g>\r\n    <g id=\"ytick_7\">\r\n     <g id=\"line2d_9\">\r\n      <g>\r\n       <use style=\"stroke:#000000;stroke-width:0.8;\" x=\"279.292625\" xlink:href=\"#mf44c518595\" y=\"88.3776\"/>\r\n      </g>\r\n     </g>\r\n     <g id=\"text_15\">\r\n      <!-- 0.55 -->\r\n      <g transform=\"translate(286.292625 92.176819)scale(0.1 -0.1)\">\r\n       <use xlink:href=\"#DejaVuSans-48\"/>\r\n       <use x=\"63.623047\" xlink:href=\"#DejaVuSans-46\"/>\r\n       <use x=\"95.410156\" xlink:href=\"#DejaVuSans-53\"/>\r\n       <use x=\"159.033203\" xlink:href=\"#DejaVuSans-53\"/>\r\n      </g>\r\n     </g>\r\n    </g>\r\n    <g id=\"ytick_8\">\r\n     <g id=\"line2d_10\">\r\n      <g>\r\n       <use style=\"stroke:#000000;stroke-width:0.8;\" x=\"279.292625\" xlink:href=\"#mf44c518595\" y=\"60.8352\"/>\r\n      </g>\r\n     </g>\r\n     <g id=\"text_16\">\r\n      <!-- 0.60 -->\r\n      <g transform=\"translate(286.292625 64.634419)scale(0.1 -0.1)\">\r\n       <use xlink:href=\"#DejaVuSans-48\"/>\r\n       <use x=\"63.623047\" xlink:href=\"#DejaVuSans-46\"/>\r\n       <use x=\"95.410156\" xlink:href=\"#DejaVuSans-54\"/>\r\n       <use x=\"159.033203\" xlink:href=\"#DejaVuSans-48\"/>\r\n      </g>\r\n     </g>\r\n    </g>\r\n    <g id=\"ytick_9\">\r\n     <g id=\"line2d_11\">\r\n      <g>\r\n       <use style=\"stroke:#000000;stroke-width:0.8;\" x=\"279.292625\" xlink:href=\"#mf44c518595\" y=\"33.2928\"/>\r\n      </g>\r\n     </g>\r\n     <g id=\"text_17\">\r\n      <!-- 0.65 -->\r\n      <g transform=\"translate(286.292625 37.092019)scale(0.1 -0.1)\">\r\n       <use xlink:href=\"#DejaVuSans-48\"/>\r\n       <use x=\"63.623047\" xlink:href=\"#DejaVuSans-46\"/>\r\n       <use x=\"95.410156\" xlink:href=\"#DejaVuSans-54\"/>\r\n       <use x=\"159.033203\" xlink:href=\"#DejaVuSans-53\"/>\r\n      </g>\r\n     </g>\r\n    </g>\r\n   </g>\r\n   <g id=\"patch_8\">\r\n    <path d=\"M 268.420625 224.64 \r\nL 268.420625 223.790625 \r\nL 268.420625 8.049375 \r\nL 268.420625 7.2 \r\nL 279.292625 7.2 \r\nL 279.292625 8.049375 \r\nL 279.292625 223.790625 \r\nL 279.292625 224.64 \r\nz\r\n\" style=\"fill:none;stroke:#000000;stroke-linejoin:miter;stroke-width:0.8;\"/>\r\n   </g>\r\n  </g>\r\n </g>\r\n <defs>\r\n  <clipPath id=\"p1dfdb22775\">\r\n   <rect height=\"217.44\" width=\"217.44\" x=\"34.240625\" y=\"7.2\"/>\r\n  </clipPath>\r\n  <clipPath id=\"p1a706bce58\">\r\n   <rect height=\"217.44\" width=\"10.872\" x=\"268.420625\" y=\"7.2\"/>\r\n  </clipPath>\r\n </defs>\r\n</svg>\r\n",
      "image/png": "[encoded data removed]"
     },
     "metadata": {
      "needs_background": "light"
     }
    }
   ],
   "source": [
    "modelo = modelo.fit(X_train, y_train)\n",
    "y_pred = modelo.predict(X_test)\n",
    "modelo.score(X_test, y_test)\n",
    "\n",
    "\n",
    "print(classification_report(y_test, y_pred))\n",
    "print(confusion_matrix(y_test, y_pred))\n",
    "plot_confusion_matrix(modelo, X_test, y_test, normalize='true')  "
   ]
  },
  {
   "cell_type": "code",
   "execution_count": 56,
   "metadata": {},
   "outputs": [
    {
     "output_type": "execute_result",
     "data": {
      "text/plain": [
       "Text(0.5, 1.0, '2-class Precision-Recall curve: \\n AP=0.62')"
      ]
     },
     "metadata": {},
     "execution_count": 56
    },
    {
     "output_type": "display_data",
     "data": {
      "text/plain": "<Figure size 432x288 with 1 Axes>",
      "image/svg+xml": "<?xml version=\"1.0\" encoding=\"utf-8\" standalone=\"no\"?>\r\n<!DOCTYPE svg PUBLIC \"-//W3C//DTD SVG 1.1//EN\"\r\n  \"http://www.w3.org/Graphics/SVG/1.1/DTD/svg11.dtd\">\r\n<!-- Created with matplotlib (https://matplotlib.org/) -->\r\n<svg height=\"290.75175pt\" version=\"1.1\" viewBox=\"0 0 385.78125 290.75175\" width=\"385.78125pt\" xmlns=\"http://www.w3.org/2000/svg\" xmlns:xlink=\"http://www.w3.org/1999/xlink\">\r\n <metadata>\r\n  <rdf:RDF xmlns:cc=\"http://creativecommons.org/ns#\" xmlns:dc=\"http://purl.org/dc/elements/1.1/\" xmlns:rdf=\"http://www.w3.org/1999/02/22-rdf-syntax-ns#\">\r\n   <cc:Work>\r\n    <dc:type rdf:resource=\"http://purl.org/dc/dcmitype/StillImage\"/>\r\n    <dc:date>2021-02-08T13:50:52.016264</dc:date>\r\n    <dc:format>image/svg+xml</dc:format>\r\n    <dc:creator>\r\n     <cc:Agent>\r\n      <dc:title>Matplotlib v3.3.2, https://matplotlib.org/</dc:title>\r\n     </cc:Agent>\r\n    </dc:creator>\r\n   </cc:Work>\r\n  </rdf:RDF>\r\n </metadata>\r\n <defs>\r\n  <style type=\"text/css\">*{stroke-linecap:butt;stroke-linejoin:round;}</style>\r\n </defs>\r\n <g id=\"figure_1\">\r\n  <g id=\"patch_1\">\r\n   <path d=\"M 0 290.75175 \r\nL 385.78125 290.75175 \r\nL 385.78125 0 \r\nL 0 0 \r\nz\r\n\" style=\"fill:none;\"/>\r\n  </g>\r\n  <g id=\"axes_1\">\r\n   <g id=\"patch_2\">\r\n    <path d=\"M 43.78125 253.1955 \r\nL 378.58125 253.1955 \r\nL 378.58125 35.7555 \r\nL 43.78125 35.7555 \r\nz\r\n\" style=\"fill:#ffffff;\"/>\r\n   </g>\r\n   <g id=\"matplotlib.axis_1\">\r\n    <g id=\"xtick_1\">\r\n     <g id=\"line2d_1\">\r\n      <defs>\r\n       <path d=\"M 0 0 \r\nL 0 3.5 \r\n\" id=\"mfa2a95b65c\" style=\"stroke:#000000;stroke-width:0.8;\"/>\r\n      </defs>\r\n      <g>\r\n       <use style=\"stroke:#000000;stroke-width:0.8;\" x=\"58.999432\" xlink:href=\"#mfa2a95b65c\" y=\"253.1955\"/>\r\n      </g>\r\n     </g>\r\n     <g id=\"text_1\">\r\n      <!-- 0.0 -->\r\n      <g transform=\"translate(51.047869 267.793937)scale(0.1 -0.1)\">\r\n       <defs>\r\n        <path d=\"M 31.78125 66.40625 \r\nQ 24.171875 66.40625 20.328125 58.90625 \r\nQ 16.5 51.421875 16.5 36.375 \r\nQ 16.5 21.390625 20.328125 13.890625 \r\nQ 24.171875 6.390625 31.78125 6.390625 \r\nQ 39.453125 6.390625 43.28125 13.890625 \r\nQ 47.125 21.390625 47.125 36.375 \r\nQ 47.125 51.421875 43.28125 58.90625 \r\nQ 39.453125 66.40625 31.78125 66.40625 \r\nz\r\nM 31.78125 74.21875 \r\nQ 44.046875 74.21875 50.515625 64.515625 \r\nQ 56.984375 54.828125 56.984375 36.375 \r\nQ 56.984375 17.96875 50.515625 8.265625 \r\nQ 44.046875 -1.421875 31.78125 -1.421875 \r\nQ 19.53125 -1.421875 13.0625 8.265625 \r\nQ 6.59375 17.96875 6.59375 36.375 \r\nQ 6.59375 54.828125 13.0625 64.515625 \r\nQ 19.53125 74.21875 31.78125 74.21875 \r\nz\r\n\" id=\"DejaVuSans-48\"/>\r\n        <path d=\"M 10.6875 12.40625 \r\nL 21 12.40625 \r\nL 21 0 \r\nL 10.6875 0 \r\nz\r\n\" id=\"DejaVuSans-46\"/>\r\n       </defs>\r\n       <use xlink:href=\"#DejaVuSans-48\"/>\r\n       <use x=\"63.623047\" xlink:href=\"#DejaVuSans-46\"/>\r\n       <use x=\"95.410156\" xlink:href=\"#DejaVuSans-48\"/>\r\n      </g>\r\n     </g>\r\n    </g>\r\n    <g id=\"xtick_2\">\r\n     <g id=\"line2d_2\">\r\n      <g>\r\n       <use style=\"stroke:#000000;stroke-width:0.8;\" x=\"119.872159\" xlink:href=\"#mfa2a95b65c\" y=\"253.1955\"/>\r\n      </g>\r\n     </g>\r\n     <g id=\"text_2\">\r\n      <!-- 0.2 -->\r\n      <g transform=\"translate(111.920597 267.793937)scale(0.1 -0.1)\">\r\n       <defs>\r\n        <path d=\"M 19.1875 8.296875 \r\nL 53.609375 8.296875 \r\nL 53.609375 0 \r\nL 7.328125 0 \r\nL 7.328125 8.296875 \r\nQ 12.9375 14.109375 22.625 23.890625 \r\nQ 32.328125 33.6875 34.8125 36.53125 \r\nQ 39.546875 41.84375 41.421875 45.53125 \r\nQ 43.3125 49.21875 43.3125 52.78125 \r\nQ 43.3125 58.59375 39.234375 62.25 \r\nQ 35.15625 65.921875 28.609375 65.921875 \r\nQ 23.96875 65.921875 18.8125 64.3125 \r\nQ 13.671875 62.703125 7.8125 59.421875 \r\nL 7.8125 69.390625 \r\nQ 13.765625 71.78125 18.9375 73 \r\nQ 24.125 74.21875 28.421875 74.21875 \r\nQ 39.75 74.21875 46.484375 68.546875 \r\nQ 53.21875 62.890625 53.21875 53.421875 \r\nQ 53.21875 48.921875 51.53125 44.890625 \r\nQ 49.859375 40.875 45.40625 35.40625 \r\nQ 44.1875 33.984375 37.640625 27.21875 \r\nQ 31.109375 20.453125 19.1875 8.296875 \r\nz\r\n\" id=\"DejaVuSans-50\"/>\r\n       </defs>\r\n       <use xlink:href=\"#DejaVuSans-48\"/>\r\n       <use x=\"63.623047\" xlink:href=\"#DejaVuSans-46\"/>\r\n       <use x=\"95.410156\" xlink:href=\"#DejaVuSans-50\"/>\r\n      </g>\r\n     </g>\r\n    </g>\r\n    <g id=\"xtick_3\">\r\n     <g id=\"line2d_3\">\r\n      <g>\r\n       <use style=\"stroke:#000000;stroke-width:0.8;\" x=\"180.744886\" xlink:href=\"#mfa2a95b65c\" y=\"253.1955\"/>\r\n      </g>\r\n     </g>\r\n     <g id=\"text_3\">\r\n      <!-- 0.4 -->\r\n      <g transform=\"translate(172.793324 267.793937)scale(0.1 -0.1)\">\r\n       <defs>\r\n        <path d=\"M 37.796875 64.3125 \r\nL 12.890625 25.390625 \r\nL 37.796875 25.390625 \r\nz\r\nM 35.203125 72.90625 \r\nL 47.609375 72.90625 \r\nL 47.609375 25.390625 \r\nL 58.015625 25.390625 \r\nL 58.015625 17.1875 \r\nL 47.609375 17.1875 \r\nL 47.609375 0 \r\nL 37.796875 0 \r\nL 37.796875 17.1875 \r\nL 4.890625 17.1875 \r\nL 4.890625 26.703125 \r\nz\r\n\" id=\"DejaVuSans-52\"/>\r\n       </defs>\r\n       <use xlink:href=\"#DejaVuSans-48\"/>\r\n       <use x=\"63.623047\" xlink:href=\"#DejaVuSans-46\"/>\r\n       <use x=\"95.410156\" xlink:href=\"#DejaVuSans-52\"/>\r\n      </g>\r\n     </g>\r\n    </g>\r\n    <g id=\"xtick_4\">\r\n     <g id=\"line2d_4\">\r\n      <g>\r\n       <use style=\"stroke:#000000;stroke-width:0.8;\" x=\"241.617614\" xlink:href=\"#mfa2a95b65c\" y=\"253.1955\"/>\r\n      </g>\r\n     </g>\r\n     <g id=\"text_4\">\r\n      <!-- 0.6 -->\r\n      <g transform=\"translate(233.666051 267.793937)scale(0.1 -0.1)\">\r\n       <defs>\r\n        <path d=\"M 33.015625 40.375 \r\nQ 26.375 40.375 22.484375 35.828125 \r\nQ 18.609375 31.296875 18.609375 23.390625 \r\nQ 18.609375 15.53125 22.484375 10.953125 \r\nQ 26.375 6.390625 33.015625 6.390625 \r\nQ 39.65625 6.390625 43.53125 10.953125 \r\nQ 47.40625 15.53125 47.40625 23.390625 \r\nQ 47.40625 31.296875 43.53125 35.828125 \r\nQ 39.65625 40.375 33.015625 40.375 \r\nz\r\nM 52.59375 71.296875 \r\nL 52.59375 62.3125 \r\nQ 48.875 64.0625 45.09375 64.984375 \r\nQ 41.3125 65.921875 37.59375 65.921875 \r\nQ 27.828125 65.921875 22.671875 59.328125 \r\nQ 17.53125 52.734375 16.796875 39.40625 \r\nQ 19.671875 43.65625 24.015625 45.921875 \r\nQ 28.375 48.1875 33.59375 48.1875 \r\nQ 44.578125 48.1875 50.953125 41.515625 \r\nQ 57.328125 34.859375 57.328125 23.390625 \r\nQ 57.328125 12.15625 50.6875 5.359375 \r\nQ 44.046875 -1.421875 33.015625 -1.421875 \r\nQ 20.359375 -1.421875 13.671875 8.265625 \r\nQ 6.984375 17.96875 6.984375 36.375 \r\nQ 6.984375 53.65625 15.1875 63.9375 \r\nQ 23.390625 74.21875 37.203125 74.21875 \r\nQ 40.921875 74.21875 44.703125 73.484375 \r\nQ 48.484375 72.75 52.59375 71.296875 \r\nz\r\n\" id=\"DejaVuSans-54\"/>\r\n       </defs>\r\n       <use xlink:href=\"#DejaVuSans-48\"/>\r\n       <use x=\"63.623047\" xlink:href=\"#DejaVuSans-46\"/>\r\n       <use x=\"95.410156\" xlink:href=\"#DejaVuSans-54\"/>\r\n      </g>\r\n     </g>\r\n    </g>\r\n    <g id=\"xtick_5\">\r\n     <g id=\"line2d_5\">\r\n      <g>\r\n       <use style=\"stroke:#000000;stroke-width:0.8;\" x=\"302.490341\" xlink:href=\"#mfa2a95b65c\" y=\"253.1955\"/>\r\n      </g>\r\n     </g>\r\n     <g id=\"text_5\">\r\n      <!-- 0.8 -->\r\n      <g transform=\"translate(294.538778 267.793937)scale(0.1 -0.1)\">\r\n       <defs>\r\n        <path d=\"M 31.78125 34.625 \r\nQ 24.75 34.625 20.71875 30.859375 \r\nQ 16.703125 27.09375 16.703125 20.515625 \r\nQ 16.703125 13.921875 20.71875 10.15625 \r\nQ 24.75 6.390625 31.78125 6.390625 \r\nQ 38.8125 6.390625 42.859375 10.171875 \r\nQ 46.921875 13.96875 46.921875 20.515625 \r\nQ 46.921875 27.09375 42.890625 30.859375 \r\nQ 38.875 34.625 31.78125 34.625 \r\nz\r\nM 21.921875 38.8125 \r\nQ 15.578125 40.375 12.03125 44.71875 \r\nQ 8.5 49.078125 8.5 55.328125 \r\nQ 8.5 64.0625 14.71875 69.140625 \r\nQ 20.953125 74.21875 31.78125 74.21875 \r\nQ 42.671875 74.21875 48.875 69.140625 \r\nQ 55.078125 64.0625 55.078125 55.328125 \r\nQ 55.078125 49.078125 51.53125 44.71875 \r\nQ 48 40.375 41.703125 38.8125 \r\nQ 48.828125 37.15625 52.796875 32.3125 \r\nQ 56.78125 27.484375 56.78125 20.515625 \r\nQ 56.78125 9.90625 50.3125 4.234375 \r\nQ 43.84375 -1.421875 31.78125 -1.421875 \r\nQ 19.734375 -1.421875 13.25 4.234375 \r\nQ 6.78125 9.90625 6.78125 20.515625 \r\nQ 6.78125 27.484375 10.78125 32.3125 \r\nQ 14.796875 37.15625 21.921875 38.8125 \r\nz\r\nM 18.3125 54.390625 \r\nQ 18.3125 48.734375 21.84375 45.5625 \r\nQ 25.390625 42.390625 31.78125 42.390625 \r\nQ 38.140625 42.390625 41.71875 45.5625 \r\nQ 45.3125 48.734375 45.3125 54.390625 \r\nQ 45.3125 60.0625 41.71875 63.234375 \r\nQ 38.140625 66.40625 31.78125 66.40625 \r\nQ 25.390625 66.40625 21.84375 63.234375 \r\nQ 18.3125 60.0625 18.3125 54.390625 \r\nz\r\n\" id=\"DejaVuSans-56\"/>\r\n       </defs>\r\n       <use xlink:href=\"#DejaVuSans-48\"/>\r\n       <use x=\"63.623047\" xlink:href=\"#DejaVuSans-46\"/>\r\n       <use x=\"95.410156\" xlink:href=\"#DejaVuSans-56\"/>\r\n      </g>\r\n     </g>\r\n    </g>\r\n    <g id=\"xtick_6\">\r\n     <g id=\"line2d_6\">\r\n      <g>\r\n       <use style=\"stroke:#000000;stroke-width:0.8;\" x=\"363.363068\" xlink:href=\"#mfa2a95b65c\" y=\"253.1955\"/>\r\n      </g>\r\n     </g>\r\n     <g id=\"text_6\">\r\n      <!-- 1.0 -->\r\n      <g transform=\"translate(355.411506 267.793937)scale(0.1 -0.1)\">\r\n       <defs>\r\n        <path d=\"M 12.40625 8.296875 \r\nL 28.515625 8.296875 \r\nL 28.515625 63.921875 \r\nL 10.984375 60.40625 \r\nL 10.984375 69.390625 \r\nL 28.421875 72.90625 \r\nL 38.28125 72.90625 \r\nL 38.28125 8.296875 \r\nL 54.390625 8.296875 \r\nL 54.390625 0 \r\nL 12.40625 0 \r\nz\r\n\" id=\"DejaVuSans-49\"/>\r\n       </defs>\r\n       <use xlink:href=\"#DejaVuSans-49\"/>\r\n       <use x=\"63.623047\" xlink:href=\"#DejaVuSans-46\"/>\r\n       <use x=\"95.410156\" xlink:href=\"#DejaVuSans-48\"/>\r\n      </g>\r\n     </g>\r\n    </g>\r\n    <g id=\"text_7\">\r\n     <!-- Recall -->\r\n     <g transform=\"translate(196.264062 281.472062)scale(0.1 -0.1)\">\r\n      <defs>\r\n       <path d=\"M 44.390625 34.1875 \r\nQ 47.5625 33.109375 50.5625 29.59375 \r\nQ 53.5625 26.078125 56.59375 19.921875 \r\nL 66.609375 0 \r\nL 56 0 \r\nL 46.6875 18.703125 \r\nQ 43.0625 26.03125 39.671875 28.421875 \r\nQ 36.28125 30.8125 30.421875 30.8125 \r\nL 19.671875 30.8125 \r\nL 19.671875 0 \r\nL 9.8125 0 \r\nL 9.8125 72.90625 \r\nL 32.078125 72.90625 \r\nQ 44.578125 72.90625 50.734375 67.671875 \r\nQ 56.890625 62.453125 56.890625 51.90625 \r\nQ 56.890625 45.015625 53.6875 40.46875 \r\nQ 50.484375 35.9375 44.390625 34.1875 \r\nz\r\nM 19.671875 64.796875 \r\nL 19.671875 38.921875 \r\nL 32.078125 38.921875 \r\nQ 39.203125 38.921875 42.84375 42.21875 \r\nQ 46.484375 45.515625 46.484375 51.90625 \r\nQ 46.484375 58.296875 42.84375 61.546875 \r\nQ 39.203125 64.796875 32.078125 64.796875 \r\nz\r\n\" id=\"DejaVuSans-82\"/>\r\n       <path d=\"M 56.203125 29.59375 \r\nL 56.203125 25.203125 \r\nL 14.890625 25.203125 \r\nQ 15.484375 15.921875 20.484375 11.0625 \r\nQ 25.484375 6.203125 34.421875 6.203125 \r\nQ 39.59375 6.203125 44.453125 7.46875 \r\nQ 49.3125 8.734375 54.109375 11.28125 \r\nL 54.109375 2.78125 \r\nQ 49.265625 0.734375 44.1875 -0.34375 \r\nQ 39.109375 -1.421875 33.890625 -1.421875 \r\nQ 20.796875 -1.421875 13.15625 6.1875 \r\nQ 5.515625 13.8125 5.515625 26.8125 \r\nQ 5.515625 40.234375 12.765625 48.109375 \r\nQ 20.015625 56 32.328125 56 \r\nQ 43.359375 56 49.78125 48.890625 \r\nQ 56.203125 41.796875 56.203125 29.59375 \r\nz\r\nM 47.21875 32.234375 \r\nQ 47.125 39.59375 43.09375 43.984375 \r\nQ 39.0625 48.390625 32.421875 48.390625 \r\nQ 24.90625 48.390625 20.390625 44.140625 \r\nQ 15.875 39.890625 15.1875 32.171875 \r\nz\r\n\" id=\"DejaVuSans-101\"/>\r\n       <path d=\"M 48.78125 52.59375 \r\nL 48.78125 44.1875 \r\nQ 44.96875 46.296875 41.140625 47.34375 \r\nQ 37.3125 48.390625 33.40625 48.390625 \r\nQ 24.65625 48.390625 19.8125 42.84375 \r\nQ 14.984375 37.3125 14.984375 27.296875 \r\nQ 14.984375 17.28125 19.8125 11.734375 \r\nQ 24.65625 6.203125 33.40625 6.203125 \r\nQ 37.3125 6.203125 41.140625 7.25 \r\nQ 44.96875 8.296875 48.78125 10.40625 \r\nL 48.78125 2.09375 \r\nQ 45.015625 0.34375 40.984375 -0.53125 \r\nQ 36.96875 -1.421875 32.421875 -1.421875 \r\nQ 20.0625 -1.421875 12.78125 6.34375 \r\nQ 5.515625 14.109375 5.515625 27.296875 \r\nQ 5.515625 40.671875 12.859375 48.328125 \r\nQ 20.21875 56 33.015625 56 \r\nQ 37.15625 56 41.109375 55.140625 \r\nQ 45.0625 54.296875 48.78125 52.59375 \r\nz\r\n\" id=\"DejaVuSans-99\"/>\r\n       <path d=\"M 34.28125 27.484375 \r\nQ 23.390625 27.484375 19.1875 25 \r\nQ 14.984375 22.515625 14.984375 16.5 \r\nQ 14.984375 11.71875 18.140625 8.90625 \r\nQ 21.296875 6.109375 26.703125 6.109375 \r\nQ 34.1875 6.109375 38.703125 11.40625 \r\nQ 43.21875 16.703125 43.21875 25.484375 \r\nL 43.21875 27.484375 \r\nz\r\nM 52.203125 31.203125 \r\nL 52.203125 0 \r\nL 43.21875 0 \r\nL 43.21875 8.296875 \r\nQ 40.140625 3.328125 35.546875 0.953125 \r\nQ 30.953125 -1.421875 24.3125 -1.421875 \r\nQ 15.921875 -1.421875 10.953125 3.296875 \r\nQ 6 8.015625 6 15.921875 \r\nQ 6 25.140625 12.171875 29.828125 \r\nQ 18.359375 34.515625 30.609375 34.515625 \r\nL 43.21875 34.515625 \r\nL 43.21875 35.40625 \r\nQ 43.21875 41.609375 39.140625 45 \r\nQ 35.0625 48.390625 27.6875 48.390625 \r\nQ 23 48.390625 18.546875 47.265625 \r\nQ 14.109375 46.140625 10.015625 43.890625 \r\nL 10.015625 52.203125 \r\nQ 14.9375 54.109375 19.578125 55.046875 \r\nQ 24.21875 56 28.609375 56 \r\nQ 40.484375 56 46.34375 49.84375 \r\nQ 52.203125 43.703125 52.203125 31.203125 \r\nz\r\n\" id=\"DejaVuSans-97\"/>\r\n       <path d=\"M 9.421875 75.984375 \r\nL 18.40625 75.984375 \r\nL 18.40625 0 \r\nL 9.421875 0 \r\nz\r\n\" id=\"DejaVuSans-108\"/>\r\n      </defs>\r\n      <use xlink:href=\"#DejaVuSans-82\"/>\r\n      <use x=\"64.982422\" xlink:href=\"#DejaVuSans-101\"/>\r\n      <use x=\"126.505859\" xlink:href=\"#DejaVuSans-99\"/>\r\n      <use x=\"181.486328\" xlink:href=\"#DejaVuSans-97\"/>\r\n      <use x=\"242.765625\" xlink:href=\"#DejaVuSans-108\"/>\r\n      <use x=\"270.548828\" xlink:href=\"#DejaVuSans-108\"/>\r\n     </g>\r\n    </g>\r\n   </g>\r\n   <g id=\"matplotlib.axis_2\">\r\n    <g id=\"ytick_1\">\r\n     <g id=\"line2d_7\">\r\n      <defs>\r\n       <path d=\"M 0 0 \r\nL -3.5 0 \r\n\" id=\"mb60ac9b204\" style=\"stroke:#000000;stroke-width:0.8;\"/>\r\n      </defs>\r\n      <g>\r\n       <use style=\"stroke:#000000;stroke-width:0.8;\" x=\"43.78125\" xlink:href=\"#mb60ac9b204\" y=\"244.893245\"/>\r\n      </g>\r\n     </g>\r\n     <g id=\"text_8\">\r\n      <!-- 0.3 -->\r\n      <g transform=\"translate(20.878125 248.692464)scale(0.1 -0.1)\">\r\n       <defs>\r\n        <path d=\"M 40.578125 39.3125 \r\nQ 47.65625 37.796875 51.625 33 \r\nQ 55.609375 28.21875 55.609375 21.1875 \r\nQ 55.609375 10.40625 48.1875 4.484375 \r\nQ 40.765625 -1.421875 27.09375 -1.421875 \r\nQ 22.515625 -1.421875 17.65625 -0.515625 \r\nQ 12.796875 0.390625 7.625 2.203125 \r\nL 7.625 11.71875 \r\nQ 11.71875 9.328125 16.59375 8.109375 \r\nQ 21.484375 6.890625 26.8125 6.890625 \r\nQ 36.078125 6.890625 40.9375 10.546875 \r\nQ 45.796875 14.203125 45.796875 21.1875 \r\nQ 45.796875 27.640625 41.28125 31.265625 \r\nQ 36.765625 34.90625 28.71875 34.90625 \r\nL 20.21875 34.90625 \r\nL 20.21875 43.015625 \r\nL 29.109375 43.015625 \r\nQ 36.375 43.015625 40.234375 45.921875 \r\nQ 44.09375 48.828125 44.09375 54.296875 \r\nQ 44.09375 59.90625 40.109375 62.90625 \r\nQ 36.140625 65.921875 28.71875 65.921875 \r\nQ 24.65625 65.921875 20.015625 65.03125 \r\nQ 15.375 64.15625 9.8125 62.3125 \r\nL 9.8125 71.09375 \r\nQ 15.4375 72.65625 20.34375 73.4375 \r\nQ 25.25 74.21875 29.59375 74.21875 \r\nQ 40.828125 74.21875 47.359375 69.109375 \r\nQ 53.90625 64.015625 53.90625 55.328125 \r\nQ 53.90625 49.265625 50.4375 45.09375 \r\nQ 46.96875 40.921875 40.578125 39.3125 \r\nz\r\n\" id=\"DejaVuSans-51\"/>\r\n       </defs>\r\n       <use xlink:href=\"#DejaVuSans-48\"/>\r\n       <use x=\"63.623047\" xlink:href=\"#DejaVuSans-46\"/>\r\n       <use x=\"95.410156\" xlink:href=\"#DejaVuSans-51\"/>\r\n      </g>\r\n     </g>\r\n    </g>\r\n    <g id=\"ytick_2\">\r\n     <g id=\"line2d_8\">\r\n      <g>\r\n       <use style=\"stroke:#000000;stroke-width:0.8;\" x=\"43.78125\" xlink:href=\"#mb60ac9b204\" y=\"216.428373\"/>\r\n      </g>\r\n     </g>\r\n     <g id=\"text_9\">\r\n      <!-- 0.4 -->\r\n      <g transform=\"translate(20.878125 220.227591)scale(0.1 -0.1)\">\r\n       <use xlink:href=\"#DejaVuSans-48\"/>\r\n       <use x=\"63.623047\" xlink:href=\"#DejaVuSans-46\"/>\r\n       <use x=\"95.410156\" xlink:href=\"#DejaVuSans-52\"/>\r\n      </g>\r\n     </g>\r\n    </g>\r\n    <g id=\"ytick_3\">\r\n     <g id=\"line2d_9\">\r\n      <g>\r\n       <use style=\"stroke:#000000;stroke-width:0.8;\" x=\"43.78125\" xlink:href=\"#mb60ac9b204\" y=\"187.9635\"/>\r\n      </g>\r\n     </g>\r\n     <g id=\"text_10\">\r\n      <!-- 0.5 -->\r\n      <g transform=\"translate(20.878125 191.762719)scale(0.1 -0.1)\">\r\n       <defs>\r\n        <path d=\"M 10.796875 72.90625 \r\nL 49.515625 72.90625 \r\nL 49.515625 64.59375 \r\nL 19.828125 64.59375 \r\nL 19.828125 46.734375 \r\nQ 21.96875 47.46875 24.109375 47.828125 \r\nQ 26.265625 48.1875 28.421875 48.1875 \r\nQ 40.625 48.1875 47.75 41.5 \r\nQ 54.890625 34.8125 54.890625 23.390625 \r\nQ 54.890625 11.625 47.5625 5.09375 \r\nQ 40.234375 -1.421875 26.90625 -1.421875 \r\nQ 22.3125 -1.421875 17.546875 -0.640625 \r\nQ 12.796875 0.140625 7.71875 1.703125 \r\nL 7.71875 11.625 \r\nQ 12.109375 9.234375 16.796875 8.0625 \r\nQ 21.484375 6.890625 26.703125 6.890625 \r\nQ 35.15625 6.890625 40.078125 11.328125 \r\nQ 45.015625 15.765625 45.015625 23.390625 \r\nQ 45.015625 31 40.078125 35.4375 \r\nQ 35.15625 39.890625 26.703125 39.890625 \r\nQ 22.75 39.890625 18.8125 39.015625 \r\nQ 14.890625 38.140625 10.796875 36.28125 \r\nz\r\n\" id=\"DejaVuSans-53\"/>\r\n       </defs>\r\n       <use xlink:href=\"#DejaVuSans-48\"/>\r\n       <use x=\"63.623047\" xlink:href=\"#DejaVuSans-46\"/>\r\n       <use x=\"95.410156\" xlink:href=\"#DejaVuSans-53\"/>\r\n      </g>\r\n     </g>\r\n    </g>\r\n    <g id=\"ytick_4\">\r\n     <g id=\"line2d_10\">\r\n      <g>\r\n       <use style=\"stroke:#000000;stroke-width:0.8;\" x=\"43.78125\" xlink:href=\"#mb60ac9b204\" y=\"159.498627\"/>\r\n      </g>\r\n     </g>\r\n     <g id=\"text_11\">\r\n      <!-- 0.6 -->\r\n      <g transform=\"translate(20.878125 163.297846)scale(0.1 -0.1)\">\r\n       <use xlink:href=\"#DejaVuSans-48\"/>\r\n       <use x=\"63.623047\" xlink:href=\"#DejaVuSans-46\"/>\r\n       <use x=\"95.410156\" xlink:href=\"#DejaVuSans-54\"/>\r\n      </g>\r\n     </g>\r\n    </g>\r\n    <g id=\"ytick_5\">\r\n     <g id=\"line2d_11\">\r\n      <g>\r\n       <use style=\"stroke:#000000;stroke-width:0.8;\" x=\"43.78125\" xlink:href=\"#mb60ac9b204\" y=\"131.033755\"/>\r\n      </g>\r\n     </g>\r\n     <g id=\"text_12\">\r\n      <!-- 0.7 -->\r\n      <g transform=\"translate(20.878125 134.832973)scale(0.1 -0.1)\">\r\n       <defs>\r\n        <path d=\"M 8.203125 72.90625 \r\nL 55.078125 72.90625 \r\nL 55.078125 68.703125 \r\nL 28.609375 0 \r\nL 18.3125 0 \r\nL 43.21875 64.59375 \r\nL 8.203125 64.59375 \r\nz\r\n\" id=\"DejaVuSans-55\"/>\r\n       </defs>\r\n       <use xlink:href=\"#DejaVuSans-48\"/>\r\n       <use x=\"63.623047\" xlink:href=\"#DejaVuSans-46\"/>\r\n       <use x=\"95.410156\" xlink:href=\"#DejaVuSans-55\"/>\r\n      </g>\r\n     </g>\r\n    </g>\r\n    <g id=\"ytick_6\">\r\n     <g id=\"line2d_12\">\r\n      <g>\r\n       <use style=\"stroke:#000000;stroke-width:0.8;\" x=\"43.78125\" xlink:href=\"#mb60ac9b204\" y=\"102.568882\"/>\r\n      </g>\r\n     </g>\r\n     <g id=\"text_13\">\r\n      <!-- 0.8 -->\r\n      <g transform=\"translate(20.878125 106.368101)scale(0.1 -0.1)\">\r\n       <use xlink:href=\"#DejaVuSans-48\"/>\r\n       <use x=\"63.623047\" xlink:href=\"#DejaVuSans-46\"/>\r\n       <use x=\"95.410156\" xlink:href=\"#DejaVuSans-56\"/>\r\n      </g>\r\n     </g>\r\n    </g>\r\n    <g id=\"ytick_7\">\r\n     <g id=\"line2d_13\">\r\n      <g>\r\n       <use style=\"stroke:#000000;stroke-width:0.8;\" x=\"43.78125\" xlink:href=\"#mb60ac9b204\" y=\"74.104009\"/>\r\n      </g>\r\n     </g>\r\n     <g id=\"text_14\">\r\n      <!-- 0.9 -->\r\n      <g transform=\"translate(20.878125 77.903228)scale(0.1 -0.1)\">\r\n       <defs>\r\n        <path d=\"M 10.984375 1.515625 \r\nL 10.984375 10.5 \r\nQ 14.703125 8.734375 18.5 7.8125 \r\nQ 22.3125 6.890625 25.984375 6.890625 \r\nQ 35.75 6.890625 40.890625 13.453125 \r\nQ 46.046875 20.015625 46.78125 33.40625 \r\nQ 43.953125 29.203125 39.59375 26.953125 \r\nQ 35.25 24.703125 29.984375 24.703125 \r\nQ 19.046875 24.703125 12.671875 31.3125 \r\nQ 6.296875 37.9375 6.296875 49.421875 \r\nQ 6.296875 60.640625 12.9375 67.421875 \r\nQ 19.578125 74.21875 30.609375 74.21875 \r\nQ 43.265625 74.21875 49.921875 64.515625 \r\nQ 56.59375 54.828125 56.59375 36.375 \r\nQ 56.59375 19.140625 48.40625 8.859375 \r\nQ 40.234375 -1.421875 26.421875 -1.421875 \r\nQ 22.703125 -1.421875 18.890625 -0.6875 \r\nQ 15.09375 0.046875 10.984375 1.515625 \r\nz\r\nM 30.609375 32.421875 \r\nQ 37.25 32.421875 41.125 36.953125 \r\nQ 45.015625 41.5 45.015625 49.421875 \r\nQ 45.015625 57.28125 41.125 61.84375 \r\nQ 37.25 66.40625 30.609375 66.40625 \r\nQ 23.96875 66.40625 20.09375 61.84375 \r\nQ 16.21875 57.28125 16.21875 49.421875 \r\nQ 16.21875 41.5 20.09375 36.953125 \r\nQ 23.96875 32.421875 30.609375 32.421875 \r\nz\r\n\" id=\"DejaVuSans-57\"/>\r\n       </defs>\r\n       <use xlink:href=\"#DejaVuSans-48\"/>\r\n       <use x=\"63.623047\" xlink:href=\"#DejaVuSans-46\"/>\r\n       <use x=\"95.410156\" xlink:href=\"#DejaVuSans-57\"/>\r\n      </g>\r\n     </g>\r\n    </g>\r\n    <g id=\"ytick_8\">\r\n     <g id=\"line2d_14\">\r\n      <g>\r\n       <use style=\"stroke:#000000;stroke-width:0.8;\" x=\"43.78125\" xlink:href=\"#mb60ac9b204\" y=\"45.639136\"/>\r\n      </g>\r\n     </g>\r\n     <g id=\"text_15\">\r\n      <!-- 1.0 -->\r\n      <g transform=\"translate(20.878125 49.438355)scale(0.1 -0.1)\">\r\n       <use xlink:href=\"#DejaVuSans-49\"/>\r\n       <use x=\"63.623047\" xlink:href=\"#DejaVuSans-46\"/>\r\n       <use x=\"95.410156\" xlink:href=\"#DejaVuSans-48\"/>\r\n      </g>\r\n     </g>\r\n    </g>\r\n    <g id=\"text_16\">\r\n     <!-- Precision -->\r\n     <g transform=\"translate(14.798438 166.782531)rotate(-90)scale(0.1 -0.1)\">\r\n      <defs>\r\n       <path d=\"M 19.671875 64.796875 \r\nL 19.671875 37.40625 \r\nL 32.078125 37.40625 \r\nQ 38.96875 37.40625 42.71875 40.96875 \r\nQ 46.484375 44.53125 46.484375 51.125 \r\nQ 46.484375 57.671875 42.71875 61.234375 \r\nQ 38.96875 64.796875 32.078125 64.796875 \r\nz\r\nM 9.8125 72.90625 \r\nL 32.078125 72.90625 \r\nQ 44.34375 72.90625 50.609375 67.359375 \r\nQ 56.890625 61.8125 56.890625 51.125 \r\nQ 56.890625 40.328125 50.609375 34.8125 \r\nQ 44.34375 29.296875 32.078125 29.296875 \r\nL 19.671875 29.296875 \r\nL 19.671875 0 \r\nL 9.8125 0 \r\nz\r\n\" id=\"DejaVuSans-80\"/>\r\n       <path d=\"M 41.109375 46.296875 \r\nQ 39.59375 47.171875 37.8125 47.578125 \r\nQ 36.03125 48 33.890625 48 \r\nQ 26.265625 48 22.1875 43.046875 \r\nQ 18.109375 38.09375 18.109375 28.8125 \r\nL 18.109375 0 \r\nL 9.078125 0 \r\nL 9.078125 54.6875 \r\nL 18.109375 54.6875 \r\nL 18.109375 46.1875 \r\nQ 20.953125 51.171875 25.484375 53.578125 \r\nQ 30.03125 56 36.53125 56 \r\nQ 37.453125 56 38.578125 55.875 \r\nQ 39.703125 55.765625 41.0625 55.515625 \r\nz\r\n\" id=\"DejaVuSans-114\"/>\r\n       <path d=\"M 9.421875 54.6875 \r\nL 18.40625 54.6875 \r\nL 18.40625 0 \r\nL 9.421875 0 \r\nz\r\nM 9.421875 75.984375 \r\nL 18.40625 75.984375 \r\nL 18.40625 64.59375 \r\nL 9.421875 64.59375 \r\nz\r\n\" id=\"DejaVuSans-105\"/>\r\n       <path d=\"M 44.28125 53.078125 \r\nL 44.28125 44.578125 \r\nQ 40.484375 46.53125 36.375 47.5 \r\nQ 32.28125 48.484375 27.875 48.484375 \r\nQ 21.1875 48.484375 17.84375 46.4375 \r\nQ 14.5 44.390625 14.5 40.28125 \r\nQ 14.5 37.15625 16.890625 35.375 \r\nQ 19.28125 33.59375 26.515625 31.984375 \r\nL 29.59375 31.296875 \r\nQ 39.15625 29.25 43.1875 25.515625 \r\nQ 47.21875 21.78125 47.21875 15.09375 \r\nQ 47.21875 7.46875 41.1875 3.015625 \r\nQ 35.15625 -1.421875 24.609375 -1.421875 \r\nQ 20.21875 -1.421875 15.453125 -0.5625 \r\nQ 10.6875 0.296875 5.421875 2 \r\nL 5.421875 11.28125 \r\nQ 10.40625 8.6875 15.234375 7.390625 \r\nQ 20.0625 6.109375 24.8125 6.109375 \r\nQ 31.15625 6.109375 34.5625 8.28125 \r\nQ 37.984375 10.453125 37.984375 14.40625 \r\nQ 37.984375 18.0625 35.515625 20.015625 \r\nQ 33.0625 21.96875 24.703125 23.78125 \r\nL 21.578125 24.515625 \r\nQ 13.234375 26.265625 9.515625 29.90625 \r\nQ 5.8125 33.546875 5.8125 39.890625 \r\nQ 5.8125 47.609375 11.28125 51.796875 \r\nQ 16.75 56 26.8125 56 \r\nQ 31.78125 56 36.171875 55.265625 \r\nQ 40.578125 54.546875 44.28125 53.078125 \r\nz\r\n\" id=\"DejaVuSans-115\"/>\r\n       <path d=\"M 30.609375 48.390625 \r\nQ 23.390625 48.390625 19.1875 42.75 \r\nQ 14.984375 37.109375 14.984375 27.296875 \r\nQ 14.984375 17.484375 19.15625 11.84375 \r\nQ 23.34375 6.203125 30.609375 6.203125 \r\nQ 37.796875 6.203125 41.984375 11.859375 \r\nQ 46.1875 17.53125 46.1875 27.296875 \r\nQ 46.1875 37.015625 41.984375 42.703125 \r\nQ 37.796875 48.390625 30.609375 48.390625 \r\nz\r\nM 30.609375 56 \r\nQ 42.328125 56 49.015625 48.375 \r\nQ 55.71875 40.765625 55.71875 27.296875 \r\nQ 55.71875 13.875 49.015625 6.21875 \r\nQ 42.328125 -1.421875 30.609375 -1.421875 \r\nQ 18.84375 -1.421875 12.171875 6.21875 \r\nQ 5.515625 13.875 5.515625 27.296875 \r\nQ 5.515625 40.765625 12.171875 48.375 \r\nQ 18.84375 56 30.609375 56 \r\nz\r\n\" id=\"DejaVuSans-111\"/>\r\n       <path d=\"M 54.890625 33.015625 \r\nL 54.890625 0 \r\nL 45.90625 0 \r\nL 45.90625 32.71875 \r\nQ 45.90625 40.484375 42.875 44.328125 \r\nQ 39.84375 48.1875 33.796875 48.1875 \r\nQ 26.515625 48.1875 22.3125 43.546875 \r\nQ 18.109375 38.921875 18.109375 30.90625 \r\nL 18.109375 0 \r\nL 9.078125 0 \r\nL 9.078125 54.6875 \r\nL 18.109375 54.6875 \r\nL 18.109375 46.1875 \r\nQ 21.34375 51.125 25.703125 53.5625 \r\nQ 30.078125 56 35.796875 56 \r\nQ 45.21875 56 50.046875 50.171875 \r\nQ 54.890625 44.34375 54.890625 33.015625 \r\nz\r\n\" id=\"DejaVuSans-110\"/>\r\n      </defs>\r\n      <use xlink:href=\"#DejaVuSans-80\"/>\r\n      <use x=\"58.552734\" xlink:href=\"#DejaVuSans-114\"/>\r\n      <use x=\"97.416016\" xlink:href=\"#DejaVuSans-101\"/>\r\n      <use x=\"158.939453\" xlink:href=\"#DejaVuSans-99\"/>\r\n      <use x=\"213.919922\" xlink:href=\"#DejaVuSans-105\"/>\r\n      <use x=\"241.703125\" xlink:href=\"#DejaVuSans-115\"/>\r\n      <use x=\"293.802734\" xlink:href=\"#DejaVuSans-105\"/>\r\n      <use x=\"321.585938\" xlink:href=\"#DejaVuSans-111\"/>\r\n      <use x=\"382.767578\" xlink:href=\"#DejaVuSans-110\"/>\r\n     </g>\r\n    </g>\r\n   </g>\r\n   <g id=\"line2d_15\">\r\n    <path clip-path=\"url(#p4d896fba37)\" d=\"M 363.363068 243.311864 \r\nL 243.462242 243.311864 \r\nL 243.462242 197.893107 \r\nL 215.79282 197.893107 \r\nL 215.79282 187.9635 \r\nL 160.453977 187.9635 \r\nL 160.453977 205.042424 \r\nL 105.115134 205.042424 \r\nL 105.115134 152.382409 \r\nL 105.115134 152.382409 \r\nL 105.115134 45.639136 \r\nL 58.999432 45.639136 \r\nL 58.999432 45.639136 \r\n\" style=\"fill:none;stroke:#1f77b4;stroke-linecap:square;stroke-width:1.5;\"/>\r\n   </g>\r\n   <g id=\"patch_3\">\r\n    <path d=\"M 43.78125 253.1955 \r\nL 43.78125 35.7555 \r\n\" style=\"fill:none;stroke:#000000;stroke-linecap:square;stroke-linejoin:miter;stroke-width:0.8;\"/>\r\n   </g>\r\n   <g id=\"patch_4\">\r\n    <path d=\"M 378.58125 253.1955 \r\nL 378.58125 35.7555 \r\n\" style=\"fill:none;stroke:#000000;stroke-linecap:square;stroke-linejoin:miter;stroke-width:0.8;\"/>\r\n   </g>\r\n   <g id=\"patch_5\">\r\n    <path d=\"M 43.78125 253.1955 \r\nL 378.58125 253.1955 \r\n\" style=\"fill:none;stroke:#000000;stroke-linecap:square;stroke-linejoin:miter;stroke-width:0.8;\"/>\r\n   </g>\r\n   <g id=\"patch_6\">\r\n    <path d=\"M 43.78125 35.7555 \r\nL 378.58125 35.7555 \r\n\" style=\"fill:none;stroke:#000000;stroke-linecap:square;stroke-linejoin:miter;stroke-width:0.8;\"/>\r\n   </g>\r\n   <g id=\"text_17\">\r\n    <!-- 2-class Precision-Recall curve:  -->\r\n    <g transform=\"translate(118.918125 16.318125)scale(0.12 -0.12)\">\r\n     <defs>\r\n      <path d=\"M 4.890625 31.390625 \r\nL 31.203125 31.390625 \r\nL 31.203125 23.390625 \r\nL 4.890625 23.390625 \r\nz\r\n\" id=\"DejaVuSans-45\"/>\r\n      <path id=\"DejaVuSans-32\"/>\r\n      <path d=\"M 8.5 21.578125 \r\nL 8.5 54.6875 \r\nL 17.484375 54.6875 \r\nL 17.484375 21.921875 \r\nQ 17.484375 14.15625 20.5 10.265625 \r\nQ 23.53125 6.390625 29.59375 6.390625 \r\nQ 36.859375 6.390625 41.078125 11.03125 \r\nQ 45.3125 15.671875 45.3125 23.6875 \r\nL 45.3125 54.6875 \r\nL 54.296875 54.6875 \r\nL 54.296875 0 \r\nL 45.3125 0 \r\nL 45.3125 8.40625 \r\nQ 42.046875 3.421875 37.71875 1 \r\nQ 33.40625 -1.421875 27.6875 -1.421875 \r\nQ 18.265625 -1.421875 13.375 4.4375 \r\nQ 8.5 10.296875 8.5 21.578125 \r\nz\r\nM 31.109375 56 \r\nz\r\n\" id=\"DejaVuSans-117\"/>\r\n      <path d=\"M 2.984375 54.6875 \r\nL 12.5 54.6875 \r\nL 29.59375 8.796875 \r\nL 46.6875 54.6875 \r\nL 56.203125 54.6875 \r\nL 35.6875 0 \r\nL 23.484375 0 \r\nz\r\n\" id=\"DejaVuSans-118\"/>\r\n      <path d=\"M 11.71875 12.40625 \r\nL 22.015625 12.40625 \r\nL 22.015625 0 \r\nL 11.71875 0 \r\nz\r\nM 11.71875 51.703125 \r\nL 22.015625 51.703125 \r\nL 22.015625 39.3125 \r\nL 11.71875 39.3125 \r\nz\r\n\" id=\"DejaVuSans-58\"/>\r\n     </defs>\r\n     <use xlink:href=\"#DejaVuSans-50\"/>\r\n     <use x=\"63.623047\" xlink:href=\"#DejaVuSans-45\"/>\r\n     <use x=\"99.707031\" xlink:href=\"#DejaVuSans-99\"/>\r\n     <use x=\"154.6875\" xlink:href=\"#DejaVuSans-108\"/>\r\n     <use x=\"182.470703\" xlink:href=\"#DejaVuSans-97\"/>\r\n     <use x=\"243.75\" xlink:href=\"#DejaVuSans-115\"/>\r\n     <use x=\"295.849609\" xlink:href=\"#DejaVuSans-115\"/>\r\n     <use x=\"347.949219\" xlink:href=\"#DejaVuSans-32\"/>\r\n     <use x=\"379.736328\" xlink:href=\"#DejaVuSans-80\"/>\r\n     <use x=\"438.289062\" xlink:href=\"#DejaVuSans-114\"/>\r\n     <use x=\"477.152344\" xlink:href=\"#DejaVuSans-101\"/>\r\n     <use x=\"538.675781\" xlink:href=\"#DejaVuSans-99\"/>\r\n     <use x=\"593.65625\" xlink:href=\"#DejaVuSans-105\"/>\r\n     <use x=\"621.439453\" xlink:href=\"#DejaVuSans-115\"/>\r\n     <use x=\"673.539062\" xlink:href=\"#DejaVuSans-105\"/>\r\n     <use x=\"701.322266\" xlink:href=\"#DejaVuSans-111\"/>\r\n     <use x=\"762.503906\" xlink:href=\"#DejaVuSans-110\"/>\r\n     <use x=\"825.882812\" xlink:href=\"#DejaVuSans-45\"/>\r\n     <use x=\"861.966797\" xlink:href=\"#DejaVuSans-82\"/>\r\n     <use x=\"926.949219\" xlink:href=\"#DejaVuSans-101\"/>\r\n     <use x=\"988.472656\" xlink:href=\"#DejaVuSans-99\"/>\r\n     <use x=\"1043.453125\" xlink:href=\"#DejaVuSans-97\"/>\r\n     <use x=\"1104.732422\" xlink:href=\"#DejaVuSans-108\"/>\r\n     <use x=\"1132.515625\" xlink:href=\"#DejaVuSans-108\"/>\r\n     <use x=\"1160.298828\" xlink:href=\"#DejaVuSans-32\"/>\r\n     <use x=\"1192.085938\" xlink:href=\"#DejaVuSans-99\"/>\r\n     <use x=\"1247.066406\" xlink:href=\"#DejaVuSans-117\"/>\r\n     <use x=\"1310.445312\" xlink:href=\"#DejaVuSans-114\"/>\r\n     <use x=\"1351.558594\" xlink:href=\"#DejaVuSans-118\"/>\r\n     <use x=\"1410.738281\" xlink:href=\"#DejaVuSans-101\"/>\r\n     <use x=\"1472.261719\" xlink:href=\"#DejaVuSans-58\"/>\r\n     <use x=\"1505.953125\" xlink:href=\"#DejaVuSans-32\"/>\r\n    </g>\r\n    <!--  AP=0.62 -->\r\n    <g transform=\"translate(183.165 29.7555)scale(0.12 -0.12)\">\r\n     <defs>\r\n      <path d=\"M 34.1875 63.1875 \r\nL 20.796875 26.90625 \r\nL 47.609375 26.90625 \r\nz\r\nM 28.609375 72.90625 \r\nL 39.796875 72.90625 \r\nL 67.578125 0 \r\nL 57.328125 0 \r\nL 50.6875 18.703125 \r\nL 17.828125 18.703125 \r\nL 11.1875 0 \r\nL 0.78125 0 \r\nz\r\n\" id=\"DejaVuSans-65\"/>\r\n      <path d=\"M 10.59375 45.40625 \r\nL 73.1875 45.40625 \r\nL 73.1875 37.203125 \r\nL 10.59375 37.203125 \r\nz\r\nM 10.59375 25.484375 \r\nL 73.1875 25.484375 \r\nL 73.1875 17.1875 \r\nL 10.59375 17.1875 \r\nz\r\n\" id=\"DejaVuSans-61\"/>\r\n     </defs>\r\n     <use xlink:href=\"#DejaVuSans-32\"/>\r\n     <use x=\"31.787109\" xlink:href=\"#DejaVuSans-65\"/>\r\n     <use x=\"100.195312\" xlink:href=\"#DejaVuSans-80\"/>\r\n     <use x=\"160.498047\" xlink:href=\"#DejaVuSans-61\"/>\r\n     <use x=\"244.287109\" xlink:href=\"#DejaVuSans-48\"/>\r\n     <use x=\"307.910156\" xlink:href=\"#DejaVuSans-46\"/>\r\n     <use x=\"339.697266\" xlink:href=\"#DejaVuSans-54\"/>\r\n     <use x=\"403.320312\" xlink:href=\"#DejaVuSans-50\"/>\r\n    </g>\r\n   </g>\r\n   <g id=\"legend_1\">\r\n    <g id=\"patch_7\">\r\n     <path d=\"M 50.78125 248.1955 \r\nL 252.68125 248.1955 \r\nQ 254.68125 248.1955 254.68125 246.1955 \r\nL 254.68125 232.517375 \r\nQ 254.68125 230.517375 252.68125 230.517375 \r\nL 50.78125 230.517375 \r\nQ 48.78125 230.517375 48.78125 232.517375 \r\nL 48.78125 246.1955 \r\nQ 48.78125 248.1955 50.78125 248.1955 \r\nz\r\n\" style=\"fill:#ffffff;opacity:0.8;stroke:#cccccc;stroke-linejoin:miter;\"/>\r\n    </g>\r\n    <g id=\"line2d_16\">\r\n     <path d=\"M 52.78125 238.615812 \r\nL 72.78125 238.615812 \r\n\" style=\"fill:none;stroke:#1f77b4;stroke-linecap:square;stroke-width:1.5;\"/>\r\n    </g>\r\n    <g id=\"line2d_17\"/>\r\n    <g id=\"text_18\">\r\n     <!-- DecisionTreeClassifier (AP = 0.49) -->\r\n     <g transform=\"translate(80.78125 242.115812)scale(0.1 -0.1)\">\r\n      <defs>\r\n       <path d=\"M 19.671875 64.796875 \r\nL 19.671875 8.109375 \r\nL 31.59375 8.109375 \r\nQ 46.6875 8.109375 53.6875 14.9375 \r\nQ 60.6875 21.78125 60.6875 36.53125 \r\nQ 60.6875 51.171875 53.6875 57.984375 \r\nQ 46.6875 64.796875 31.59375 64.796875 \r\nz\r\nM 9.8125 72.90625 \r\nL 30.078125 72.90625 \r\nQ 51.265625 72.90625 61.171875 64.09375 \r\nQ 71.09375 55.28125 71.09375 36.53125 \r\nQ 71.09375 17.671875 61.125 8.828125 \r\nQ 51.171875 0 30.078125 0 \r\nL 9.8125 0 \r\nz\r\n\" id=\"DejaVuSans-68\"/>\r\n       <path d=\"M -0.296875 72.90625 \r\nL 61.375 72.90625 \r\nL 61.375 64.59375 \r\nL 35.5 64.59375 \r\nL 35.5 0 \r\nL 25.59375 0 \r\nL 25.59375 64.59375 \r\nL -0.296875 64.59375 \r\nz\r\n\" id=\"DejaVuSans-84\"/>\r\n       <path d=\"M 64.40625 67.28125 \r\nL 64.40625 56.890625 \r\nQ 59.421875 61.53125 53.78125 63.8125 \r\nQ 48.140625 66.109375 41.796875 66.109375 \r\nQ 29.296875 66.109375 22.65625 58.46875 \r\nQ 16.015625 50.828125 16.015625 36.375 \r\nQ 16.015625 21.96875 22.65625 14.328125 \r\nQ 29.296875 6.6875 41.796875 6.6875 \r\nQ 48.140625 6.6875 53.78125 8.984375 \r\nQ 59.421875 11.28125 64.40625 15.921875 \r\nL 64.40625 5.609375 \r\nQ 59.234375 2.09375 53.4375 0.328125 \r\nQ 47.65625 -1.421875 41.21875 -1.421875 \r\nQ 24.65625 -1.421875 15.125 8.703125 \r\nQ 5.609375 18.84375 5.609375 36.375 \r\nQ 5.609375 53.953125 15.125 64.078125 \r\nQ 24.65625 74.21875 41.21875 74.21875 \r\nQ 47.75 74.21875 53.53125 72.484375 \r\nQ 59.328125 70.75 64.40625 67.28125 \r\nz\r\n\" id=\"DejaVuSans-67\"/>\r\n       <path d=\"M 37.109375 75.984375 \r\nL 37.109375 68.5 \r\nL 28.515625 68.5 \r\nQ 23.6875 68.5 21.796875 66.546875 \r\nQ 19.921875 64.59375 19.921875 59.515625 \r\nL 19.921875 54.6875 \r\nL 34.71875 54.6875 \r\nL 34.71875 47.703125 \r\nL 19.921875 47.703125 \r\nL 19.921875 0 \r\nL 10.890625 0 \r\nL 10.890625 47.703125 \r\nL 2.296875 47.703125 \r\nL 2.296875 54.6875 \r\nL 10.890625 54.6875 \r\nL 10.890625 58.5 \r\nQ 10.890625 67.625 15.140625 71.796875 \r\nQ 19.390625 75.984375 28.609375 75.984375 \r\nz\r\n\" id=\"DejaVuSans-102\"/>\r\n       <path d=\"M 31 75.875 \r\nQ 24.46875 64.65625 21.28125 53.65625 \r\nQ 18.109375 42.671875 18.109375 31.390625 \r\nQ 18.109375 20.125 21.3125 9.0625 \r\nQ 24.515625 -2 31 -13.1875 \r\nL 23.1875 -13.1875 \r\nQ 15.875 -1.703125 12.234375 9.375 \r\nQ 8.59375 20.453125 8.59375 31.390625 \r\nQ 8.59375 42.28125 12.203125 53.3125 \r\nQ 15.828125 64.359375 23.1875 75.875 \r\nz\r\n\" id=\"DejaVuSans-40\"/>\r\n       <path d=\"M 8.015625 75.875 \r\nL 15.828125 75.875 \r\nQ 23.140625 64.359375 26.78125 53.3125 \r\nQ 30.421875 42.28125 30.421875 31.390625 \r\nQ 30.421875 20.453125 26.78125 9.375 \r\nQ 23.140625 -1.703125 15.828125 -13.1875 \r\nL 8.015625 -13.1875 \r\nQ 14.5 -2 17.703125 9.0625 \r\nQ 20.90625 20.125 20.90625 31.390625 \r\nQ 20.90625 42.671875 17.703125 53.65625 \r\nQ 14.5 64.65625 8.015625 75.875 \r\nz\r\n\" id=\"DejaVuSans-41\"/>\r\n      </defs>\r\n      <use xlink:href=\"#DejaVuSans-68\"/>\r\n      <use x=\"77.001953\" xlink:href=\"#DejaVuSans-101\"/>\r\n      <use x=\"138.525391\" xlink:href=\"#DejaVuSans-99\"/>\r\n      <use x=\"193.505859\" xlink:href=\"#DejaVuSans-105\"/>\r\n      <use x=\"221.289062\" xlink:href=\"#DejaVuSans-115\"/>\r\n      <use x=\"273.388672\" xlink:href=\"#DejaVuSans-105\"/>\r\n      <use x=\"301.171875\" xlink:href=\"#DejaVuSans-111\"/>\r\n      <use x=\"362.353516\" xlink:href=\"#DejaVuSans-110\"/>\r\n      <use x=\"425.732422\" xlink:href=\"#DejaVuSans-84\"/>\r\n      <use x=\"472.066406\" xlink:href=\"#DejaVuSans-114\"/>\r\n      <use x=\"510.929688\" xlink:href=\"#DejaVuSans-101\"/>\r\n      <use x=\"572.453125\" xlink:href=\"#DejaVuSans-101\"/>\r\n      <use x=\"633.976562\" xlink:href=\"#DejaVuSans-67\"/>\r\n      <use x=\"703.800781\" xlink:href=\"#DejaVuSans-108\"/>\r\n      <use x=\"731.583984\" xlink:href=\"#DejaVuSans-97\"/>\r\n      <use x=\"792.863281\" xlink:href=\"#DejaVuSans-115\"/>\r\n      <use x=\"844.962891\" xlink:href=\"#DejaVuSans-115\"/>\r\n      <use x=\"897.0625\" xlink:href=\"#DejaVuSans-105\"/>\r\n      <use x=\"924.845703\" xlink:href=\"#DejaVuSans-102\"/>\r\n      <use x=\"960.050781\" xlink:href=\"#DejaVuSans-105\"/>\r\n      <use x=\"987.833984\" xlink:href=\"#DejaVuSans-101\"/>\r\n      <use x=\"1049.357422\" xlink:href=\"#DejaVuSans-114\"/>\r\n      <use x=\"1090.470703\" xlink:href=\"#DejaVuSans-32\"/>\r\n      <use x=\"1122.257812\" xlink:href=\"#DejaVuSans-40\"/>\r\n      <use x=\"1161.271484\" xlink:href=\"#DejaVuSans-65\"/>\r\n      <use x=\"1229.679688\" xlink:href=\"#DejaVuSans-80\"/>\r\n      <use x=\"1289.982422\" xlink:href=\"#DejaVuSans-32\"/>\r\n      <use x=\"1321.769531\" xlink:href=\"#DejaVuSans-61\"/>\r\n      <use x=\"1405.558594\" xlink:href=\"#DejaVuSans-32\"/>\r\n      <use x=\"1437.345703\" xlink:href=\"#DejaVuSans-48\"/>\r\n      <use x=\"1500.96875\" xlink:href=\"#DejaVuSans-46\"/>\r\n      <use x=\"1532.755859\" xlink:href=\"#DejaVuSans-52\"/>\r\n      <use x=\"1596.378906\" xlink:href=\"#DejaVuSans-57\"/>\r\n      <use x=\"1660.001953\" xlink:href=\"#DejaVuSans-41\"/>\r\n     </g>\r\n    </g>\r\n   </g>\r\n  </g>\r\n </g>\r\n <defs>\r\n  <clipPath id=\"p4d896fba37\">\r\n   <rect height=\"217.44\" width=\"334.8\" x=\"43.78125\" y=\"35.7555\"/>\r\n  </clipPath>\r\n </defs>\r\n</svg>\r\n",
      "image/png": "[encoded data removed]"
     },
     "metadata": {
      "needs_background": "light"
     }
    }
   ],
   "source": [
    "disp = plot_precision_recall_curve(modelo, X_test, y_test)\n",
    "disp.ax_.set_title(f'2-class Precision-Recall curve: \\n AP={average_precision:0.2f}')"
   ]
  },
  {
   "cell_type": "code",
   "execution_count": 57,
   "metadata": {},
   "outputs": [],
   "source": [
    "# revisar montagem do dataset multi-index (eliminar ICU do multi-índice de coluna? como guardar ICU? manter como coluna extra? combinar ICU com WINDOW?)\n",
    "# feature-engineering nas variaveis continuas: eliminar menos influentes na reg. logística? acrescentar x**2 das que sobraram? x*y?\n",
    "# usar dummies das variáveis categóricas"
   ]
  },
  {
   "cell_type": "code",
   "execution_count": null,
   "metadata": {},
   "outputs": [],
   "source": []
  },
  {
   "cell_type": "code",
   "execution_count": null,
   "metadata": {},
   "outputs": [],
   "source": []
  },
  {
   "cell_type": "code",
   "execution_count": null,
   "metadata": {},
   "outputs": [],
   "source": []
  },
  {
   "cell_type": "code",
   "execution_count": null,
   "metadata": {},
   "outputs": [],
   "source": []
  },
  {
   "cell_type": "code",
   "execution_count": null,
   "metadata": {},
   "outputs": [],
   "source": []
  }
 ]
}